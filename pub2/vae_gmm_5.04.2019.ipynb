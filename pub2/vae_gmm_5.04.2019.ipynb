{
 "cells": [
  {
   "cell_type": "code",
   "execution_count": 395,
   "metadata": {},
   "outputs": [],
   "source": [
    "from __future__ import division, print_function\n",
    "\n",
    "import numpy as np\n",
    "import tensorflow as tf\n",
    "from sklearn.preprocessing import OneHotEncoder\n",
    "from sklearn.model_selection import train_test_split\n",
    "import datetime\n",
    "import matplotlib.pyplot as plt\n",
    "import pandas as pd\n",
    "from sklearn import svm"
   ]
  },
  {
   "cell_type": "code",
   "execution_count": 2,
   "metadata": {},
   "outputs": [],
   "source": [
    "Normal = tf.distributions.Normal\n",
    "Bernoulli = tf.distributions.Bernoulli"
   ]
  },
  {
   "cell_type": "markdown",
   "metadata": {},
   "source": [
    "### Utility functions"
   ]
  },
  {
   "cell_type": "code",
   "execution_count": 3,
   "metadata": {},
   "outputs": [],
   "source": [
    "def permute(X, y=None):\n",
    "    n_all_cases = X.shape[0]\n",
    "    perm = np.arange(n_all_cases)\n",
    "    np.random.shuffle(perm)\n",
    "    if y is not None:\n",
    "        return X[perm], y[perm]\n",
    "    else:\n",
    "        return X[perm], None"
   ]
  },
  {
   "cell_type": "code",
   "execution_count": 4,
   "metadata": {},
   "outputs": [],
   "source": [
    "def plot_latent_space(model, onehot_encoder, X, y):\n",
    "    m, sd = model.encode2(X)\n",
    "    m_flat = m.reshape(-1)\n",
    "    sd_flat = sd.reshape(-1)\n",
    "    y_decoded = onehot_encoder.inverse_transform(y).reshape(-1)\n",
    "    plt.figure(figsize=(10, 10))\n",
    "    plt.scatter(m_flat, sd_flat, c=y_decoded, cmap='brg')\n",
    "    plt.colorbar()\n",
    "    plt.show()"
   ]
  },
  {
   "cell_type": "code",
   "execution_count": 234,
   "metadata": {},
   "outputs": [],
   "source": [
    "def plot_2d_latent_space(model, onehot_encoder, X, y):\n",
    "    m, sd = model_supervised.encode2(X_test)\n",
    "    y_decoded = onehot_encoder.inverse_transform(y_test).reshape(-1)\n",
    "    fig = plt.figure(figsize=(20, 20))\n",
    "\n",
    "\n",
    "    plt.subplot(2, 2, 1)\n",
    "    plt.scatter(m[:,0], m[:,1], c=y_decoded, cmap='brg')\n",
    "    plt.colorbar()\n",
    "\n",
    "    plt.subplot(2, 2, 2)\n",
    "    plt.scatter(sd[:,0], sd[:,1], c=y_decoded, cmap='brg')\n",
    "    plt.colorbar()\n",
    "\n",
    "    plt.subplot(2, 2, 3)\n",
    "    plt.scatter(m[:,0], sd[:,0], c=y_decoded, cmap='brg')\n",
    "    plt.colorbar()\n",
    "\n",
    "    Z = np.random.normal(m,sd)\n",
    "    plt.subplot(2, 2, 4)\n",
    "    plt.scatter(Z[:,0], Z[:,1], c=y_decoded, cmap='brg')\n",
    "    plt.colorbar()\n",
    "\n",
    "    plt.show()"
   ]
  },
  {
   "cell_type": "code",
   "execution_count": null,
   "metadata": {},
   "outputs": [],
   "source": [
    "def analyse_model_wrt_2d_plot(alpha, beta, gamma, epochs=10):\n",
    "    log_folder = get_log_folder()\n",
    "    print('Starting autoencoder. Log folder={}'.format(log_folder))\n",
    "    X_train, X_test, y_train, y_test\n",
    "    model_supervised = VClassifier(\n",
    "        x_dim=X_train.shape[1], \n",
    "        y_dim=y_train.shape[1], \n",
    "        hidden_dims=[512, 256, 128, 2], \n",
    "        log_folder=log_folder,\n",
    "        alpha=alpha,\n",
    "        beta=beta,\n",
    "        gamma=gamma,\n",
    "        omega=0.0005\n",
    "    )\n",
    "    model_supervised.fit(X_train, y_train, epochs=epochs)\n",
    "\n",
    "    test_acc = model_supervised.calculate_accuracy(X=X_test, y=y_test)\n",
    "    print(\"Test accuracy {}\".format(test_acc))\n",
    "    plot_2d_latent_space(model_supervised, onehot_encoder, X_test, y_test)\n",
    "    plot_2d_latent_space(model_supervised, onehot_encoder, X_train, y_train)"
   ]
  },
  {
   "cell_type": "markdown",
   "metadata": {
    "collapsed": true
   },
   "source": [
    "### Import MNIST"
   ]
  },
  {
   "cell_type": "code",
   "execution_count": 6,
   "metadata": {},
   "outputs": [],
   "source": [
    "mnist = tf.keras.datasets.mnist"
   ]
  },
  {
   "cell_type": "markdown",
   "metadata": {},
   "source": [
    "### Load data"
   ]
  },
  {
   "cell_type": "code",
   "execution_count": 7,
   "metadata": {},
   "outputs": [],
   "source": [
    "(X_train, y_train), (X_test, y_test) = mnist.load_data()"
   ]
  },
  {
   "cell_type": "code",
   "execution_count": 8,
   "metadata": {},
   "outputs": [
    {
     "data": {
      "text/plain": [
       "(60000,)"
      ]
     },
     "execution_count": 8,
     "metadata": {},
     "output_type": "execute_result"
    }
   ],
   "source": [
    "y_train.shape"
   ]
  },
  {
   "cell_type": "code",
   "execution_count": 9,
   "metadata": {},
   "outputs": [],
   "source": [
    "X = np.concatenate((X_train, X_test), axis=0)"
   ]
  },
  {
   "cell_type": "code",
   "execution_count": 10,
   "metadata": {},
   "outputs": [],
   "source": [
    "n_all_cases = X.shape[0]\n",
    "input_dim = X.shape[1]"
   ]
  },
  {
   "cell_type": "code",
   "execution_count": 11,
   "metadata": {},
   "outputs": [],
   "source": [
    "X = np.reshape(X, (n_all_cases, -1))\n",
    "y = np.concatenate((y_train, y_test)).astype('float32')"
   ]
  },
  {
   "cell_type": "code",
   "execution_count": 12,
   "metadata": {},
   "outputs": [],
   "source": [
    "label_reshaped = y.reshape(len(y), 1)\n",
    "onehot_encoder = OneHotEncoder(sparse=False, categories='auto')\n",
    "onehot_encoded = onehot_encoder.fit_transform(label_reshaped)"
   ]
  },
  {
   "cell_type": "code",
   "execution_count": 13,
   "metadata": {},
   "outputs": [],
   "source": [
    "n_classes = onehot_encoded.shape[1]"
   ]
  },
  {
   "cell_type": "code",
   "execution_count": 14,
   "metadata": {},
   "outputs": [],
   "source": [
    "X = (X > 0.5).astype(np.float32)"
   ]
  },
  {
   "cell_type": "code",
   "execution_count": null,
   "metadata": {},
   "outputs": [],
   "source": []
  },
  {
   "cell_type": "code",
   "execution_count": 15,
   "metadata": {},
   "outputs": [],
   "source": [
    "X_perm, onehot_encoded_perm = permute(X,onehot_encoded)"
   ]
  },
  {
   "cell_type": "code",
   "execution_count": 16,
   "metadata": {},
   "outputs": [],
   "source": [
    "X_train, X_test, y_train, y_test = train_test_split(X_perm, onehot_encoded_perm, test_size=0.1, random_state=40)"
   ]
  },
  {
   "cell_type": "code",
   "execution_count": 17,
   "metadata": {},
   "outputs": [
    {
     "data": {
      "text/plain": [
       "array([[0., 0., 0., ..., 0., 0., 0.],\n",
       "       [0., 0., 0., ..., 0., 0., 0.],\n",
       "       [0., 0., 0., ..., 0., 0., 0.],\n",
       "       ...,\n",
       "       [0., 0., 0., ..., 0., 0., 0.],\n",
       "       [0., 0., 0., ..., 0., 0., 0.],\n",
       "       [0., 0., 0., ..., 0., 0., 0.]], dtype=float32)"
      ]
     },
     "execution_count": 17,
     "metadata": {},
     "output_type": "execute_result"
    }
   ],
   "source": [
    "X_train"
   ]
  },
  {
   "cell_type": "code",
   "execution_count": 18,
   "metadata": {},
   "outputs": [
    {
     "data": {
      "text/plain": [
       "(7000, 10)"
      ]
     },
     "execution_count": 18,
     "metadata": {},
     "output_type": "execute_result"
    }
   ],
   "source": [
    "y_test.shape"
   ]
  },
  {
   "cell_type": "markdown",
   "metadata": {},
   "source": [
    "### Utility functions"
   ]
  },
  {
   "cell_type": "code",
   "execution_count": 19,
   "metadata": {},
   "outputs": [],
   "source": [
    "def get_log_folder():\n",
    "    now = datetime.datetime.now()\n",
    "    day_of_the_year=now.strftime(\"%d_%m_%Y\")\n",
    "    suff = now.strftime(\"%Y%m%d%H%M%S\")\n",
    "    #print(now.strftime(\"%Y%m%d%H%M%S\"))\n",
    "    log_folder = \"/tmp/class_vae/deep/{}/{}\".format(day_of_the_year,suff)\n",
    "    return log_folder"
   ]
  },
  {
   "cell_type": "code",
   "execution_count": 20,
   "metadata": {},
   "outputs": [],
   "source": [
    "def calculate_accuracy_np(y_pred, y_true):\n",
    "    predicted_class = np.argmax(y_pred, axis=1)\n",
    "    true_class = np.argmax(y_true, axis=1)\n",
    "    cond_correct = predicted_class == true_class\n",
    "    return np.mean(cond_correct.astype(int))"
   ]
  },
  {
   "cell_type": "code",
   "execution_count": 21,
   "metadata": {},
   "outputs": [],
   "source": [
    "def accuracy_for_score(y_pred, y_true, score, threshold):\n",
    "    cond = score > threshold\n",
    "    accuracy = calculate_accuracy_np(y_pred[cond], y_true[cond])\n",
    "    return accuracy"
   ]
  },
  {
   "cell_type": "code",
   "execution_count": 22,
   "metadata": {},
   "outputs": [],
   "source": [
    "def classification_ratio(score, threshold):\n",
    "    cond = score > threshold\n",
    "    above_threshold = np.mean((score > threshold).astype(int))\n",
    "    return above_threshold"
   ]
  },
  {
   "cell_type": "markdown",
   "metadata": {},
   "source": [
    "### Build neural network"
   ]
  },
  {
   "cell_type": "code",
   "execution_count": 23,
   "metadata": {},
   "outputs": [],
   "source": [
    "class DenseLayer:\n",
    "\n",
    "    def __init__(self, in_dim, out_dim, f=tf.nn.relu, name=\"dense\"):\n",
    "        self.name = name\n",
    "        with tf.name_scope(self.name):\n",
    "            self.f = f\n",
    "            initializer = tf.contrib.layers.xavier_initializer()\n",
    "            self.W = tf.Variable(initializer((in_dim, out_dim)), name=\"W\")\n",
    "            self.b = tf.Variable(tf.constant(0.1, shape=[out_dim]), name=\"bias\")\n",
    "            tf.summary.histogram(\"weights\", self.W)\n",
    "            tf.summary.histogram(\"bias\", self.b)\n",
    "\n",
    "    def forward(self, X):\n",
    "        with tf.name_scope(self.name):\n",
    "            act = self.f(tf.matmul(X, self.W) + self.b)\n",
    "            tf.summary.histogram(\"activation\", act)\n",
    "            return act"
   ]
  },
  {
   "cell_type": "code",
   "execution_count": 24,
   "metadata": {},
   "outputs": [
    {
     "name": "stdout",
     "output_type": "stream",
     "text": [
      "\n",
      "WARNING: The TensorFlow contrib module will not be included in TensorFlow 2.0.\n",
      "For more information, please see:\n",
      "  * https://github.com/tensorflow/community/blob/master/rfcs/20180907-contrib-sunset.md\n",
      "  * https://github.com/tensorflow/addons\n",
      "If you depend on functionality not listed there, please file an issue.\n",
      "\n",
      "WARNING:tensorflow:From <ipython-input-24-72c1d348bd6e>:10: MultivariateNormalDiag.__init__ (from tensorflow.contrib.distributions.python.ops.mvn_diag) is deprecated and will be removed after 2018-10-01.\n",
      "Instructions for updating:\n",
      "The TensorFlow Distributions library has moved to TensorFlow Probability (https://github.com/tensorflow/probability). You should update all references to use `tfp.distributions` instead of `tf.contrib.distributions`.\n",
      "WARNING:tensorflow:From /anaconda3/envs/cost-prediction-env/lib/python3.6/site-packages/tensorflow/contrib/distributions/python/ops/mvn_diag.py:224: MultivariateNormalLinearOperator.__init__ (from tensorflow.contrib.distributions.python.ops.mvn_linear_operator) is deprecated and will be removed after 2018-10-01.\n",
      "Instructions for updating:\n",
      "The TensorFlow Distributions library has moved to TensorFlow Probability (https://github.com/tensorflow/probability). You should update all references to use `tfp.distributions` instead of `tf.contrib.distributions`.\n",
      "WARNING:tensorflow:From /anaconda3/envs/cost-prediction-env/lib/python3.6/site-packages/tensorflow/contrib/distributions/python/ops/mvn_linear_operator.py:199: Normal.__init__ (from tensorflow.python.ops.distributions.normal) is deprecated and will be removed after 2019-01-01.\n",
      "Instructions for updating:\n",
      "The TensorFlow Distributions library has moved to TensorFlow Probability (https://github.com/tensorflow/probability). You should update all references to use `tfp.distributions` instead of `tf.distributions`.\n",
      "WARNING:tensorflow:From /anaconda3/envs/cost-prediction-env/lib/python3.6/site-packages/tensorflow/python/ops/distributions/normal.py:160: Distribution.__init__ (from tensorflow.python.ops.distributions.distribution) is deprecated and will be removed after 2019-01-01.\n",
      "Instructions for updating:\n",
      "The TensorFlow Distributions library has moved to TensorFlow Probability (https://github.com/tensorflow/probability). You should update all references to use `tfp.distributions` instead of `tf.distributions`.\n",
      "WARNING:tensorflow:From /anaconda3/envs/cost-prediction-env/lib/python3.6/site-packages/tensorflow/contrib/distributions/python/ops/mvn_linear_operator.py:201: AffineLinearOperator.__init__ (from tensorflow.contrib.distributions.python.ops.bijectors.affine_linear_operator) is deprecated and will be removed after 2018-10-01.\n",
      "Instructions for updating:\n",
      "The TensorFlow Distributions library has moved to TensorFlow Probability (https://github.com/tensorflow/probability). You should update all references to use `tfp.distributions` instead of `tf.contrib.distributions`.\n",
      "WARNING:tensorflow:From /anaconda3/envs/cost-prediction-env/lib/python3.6/site-packages/tensorflow/contrib/distributions/python/ops/bijectors/affine_linear_operator.py:158: _DistributionShape.__init__ (from tensorflow.contrib.distributions.python.ops.shape) is deprecated and will be removed after 2018-10-01.\n",
      "Instructions for updating:\n",
      "The TensorFlow Distributions library has moved to TensorFlow Probability (https://github.com/tensorflow/probability). You should update all references to use `tfp.distributions` instead of `tf.contrib.distributions`.\n",
      "WARNING:tensorflow:From /anaconda3/envs/cost-prediction-env/lib/python3.6/site-packages/tensorflow/contrib/distributions/python/ops/mvn_linear_operator.py:205: TransformedDistribution.__init__ (from tensorflow.python.ops.distributions.transformed_distribution) is deprecated and will be removed after 2019-01-01.\n",
      "Instructions for updating:\n",
      "The TensorFlow Distributions library has moved to TensorFlow Probability (https://github.com/tensorflow/probability). You should update all references to use `tfp.distributions` instead of `tf.distributions`.\n"
     ]
    }
   ],
   "source": [
    "\n"
   ]
  },
  {
   "cell_type": "code",
   "execution_count": 100,
   "metadata": {},
   "outputs": [],
   "source": [
    "# @tf.custom_gradient\n",
    "# def log1pexp(x):\n",
    "#     e = tf.reduce_sum(tf.exp(x))\n",
    "#     def grad(dy):\n",
    "#         return dy * (1 - 1 / (1 + e))\n",
    "#     return tf.log(1 + e), grad"
   ]
  },
  {
   "cell_type": "code",
   "execution_count": 204,
   "metadata": {},
   "outputs": [],
   "source": [
    "class NormDistDiag():\n",
    "    \n",
    "    def __init__(self, mean, stdev, beta):\n",
    "        self.mean = mean\n",
    "        self.stdev = stdev\n",
    "        self.beta = beta\n",
    "        self.tf_mean, self.tf_stdev = tf.constant(self.mean), tf.constant(self.stdev)\n",
    "        self.tf_dist = tf.contrib.distributions.MultivariateNormalDiag(loc=self.tf_mean, scale_diag=self.tf_stdev)\n",
    "        self.dim = len(mean)\n",
    "        \n",
    "    def tf_dist(self):\n",
    "        return self.tf_dist\n",
    "\n",
    "    def prob(self, z):\n",
    "        return self.tf_dist.prob(z)\n",
    "        \n",
    "    def stdev_inv(self):\n",
    "        return tf.diag(tf.ones(self.dim)/self.stdev)\n",
    "        \n",
    "    def grad_component(self, z):\n",
    "        return self.beta * tf.reshape(self.prob(z), (-1, 1)) * tf.matmul((z - self.tf_mean), self.stdev_inv())"
   ]
  },
  {
   "cell_type": "code",
   "execution_count": 253,
   "metadata": {},
   "outputs": [],
   "source": [
    "class NormDist():\n",
    "    \n",
    "    def __init__(self, mean, stdev, beta):\n",
    "        self.mean = mean\n",
    "        self.stdev = stdev\n",
    "        self.beta = beta\n",
    "        self.tf_mean, self.tf_stdev = tf.constant(self.mean), tf.constant(self.stdev)\n",
    "        self.tf_dist = tf.contrib.distributions.MultivariateNormalFullCovariance(loc=self.tf_mean, covariance_matrix=self.tf_stdev)\n",
    "        self.dim = len(mean)\n",
    "        \n",
    "    def tf_dist(self):\n",
    "        return self.tf_dist\n",
    "\n",
    "    def prob(self, z):\n",
    "        return tf.cast(self.tf_dist.prob(tf.cast(z, tf.float64)), tf.float32)\n",
    "        "
   ]
  },
  {
   "cell_type": "code",
   "execution_count": 254,
   "metadata": {},
   "outputs": [],
   "source": [
    "mean=10.0\n",
    "mean_of_oblique=np.sqrt((mean*mean) / 2)\n",
    "\n",
    "# var=0.05\n",
    "# var_of_oblique=var/np.sqrt(2)\n",
    "\n",
    "mean1, cov1 = [0,mean], [0.7,7.0]\n",
    "\n",
    "mean2, cov2 = np.array([mean_of_oblique,mean_of_oblique],dtype=\"float64\"), np.array([\n",
    "    [5.0,4.0],\n",
    "    [4.0,5.0]\n",
    "],dtype=\"float64\")\n",
    "\n",
    "mean3, cov3 = [mean,0], [7.0,0.7]\n",
    "\n",
    "mean4, cov4 = np.array([mean_of_oblique,-mean_of_oblique],dtype=\"float64\"), np.array([\n",
    "    [5.0,-4.0],\n",
    "    [-4.0,5.0]\n",
    "])\n",
    "\n",
    "mean5, cov5 = [0,-mean], [0.7,7.0]\n",
    "\n",
    "mean6, cov6 = np.array([-mean_of_oblique,-mean_of_oblique],dtype=\"float64\"), np.array([\n",
    "    [5.0,4.0],\n",
    "    [4.0,5.0]\n",
    "])\n",
    "\n",
    "mean7, cov7 = [-mean,0], [7.0,0.7]\n",
    "\n",
    "mean8, cov8 = np.array([-mean_of_oblique,mean_of_oblique],dtype=\"float64\"), np.array([\n",
    "    [5.0,-4.0],\n",
    "    [-4.0,5.0]\n",
    "])"
   ]
  },
  {
   "cell_type": "code",
   "execution_count": 255,
   "metadata": {},
   "outputs": [
    {
     "data": {
      "text/plain": [
       "7.0710678118654755"
      ]
     },
     "execution_count": 255,
     "metadata": {},
     "output_type": "execute_result"
    }
   ],
   "source": [
    "mean_of_oblique"
   ]
  },
  {
   "cell_type": "code",
   "execution_count": 256,
   "metadata": {},
   "outputs": [],
   "source": [
    "dist1 = NormDistDiag(mean1, cov1, 0.5)\n",
    "dist3 = NormDistDiag(mean3, cov3, 0.5)\n",
    "dist5 = NormDistDiag(mean5, cov5, 0.5)\n",
    "dist7 = NormDistDiag(mean7, cov7, 0.5)\n",
    "dist2 = NormDist(mean2, cov2, 0.5)\n",
    "dist4 = NormDist(mean4, cov4, 0.5)\n",
    "dist6 = NormDist(mean6, cov6, 0.5)\n",
    "dist8 = NormDist(mean8, cov8, 0.5)"
   ]
  },
  {
   "cell_type": "code",
   "execution_count": 217,
   "metadata": {},
   "outputs": [],
   "source": [
    "#@tf.custom_gradient\n",
    "# def penalty_term_with_gd(z, dists):\n",
    "#     probs = tf.stack([dist.prob(z) for dist in dists])\n",
    "#     betas = tf.constant([dist.beta for dist in dists], shape=(len(dists),1))\n",
    "#     denom = tf.reduce_sum(betas * probs, axis=0)\n",
    "#     denom = tf.reshape(denom, (-1, 1))\n",
    "#     y=-tf.reduce_sum(tf.log(1e-30 + denom))\n",
    "        \n",
    "#     def grad(dz): \n",
    "#         grad_components = tf.stack([dist.grad_component(z) for dist in dists])\n",
    "#         num=tf.reduce_sum(grad_components, axis=[0])\n",
    "        \n",
    "#         gradient = num/denom\n",
    "#         return dz * gradient\n",
    "#     return y,grad"
   ]
  },
  {
   "cell_type": "code",
   "execution_count": 486,
   "metadata": {},
   "outputs": [],
   "source": [
    "class MixtureOfNormalsOnCircle():\n",
    "    \n",
    "    def __init__(self, n, init_cov, r=10):\n",
    "        self.n = n\n",
    "        self.r = r\n",
    "        self.init_cov=init_cov\n",
    "        self.dists = self.__generate_distributions(n)\n",
    "        self.betas = tf.constant([dist.beta for dist in self.dists], shape=(len(self.dists),1))\n",
    "        \n",
    "    def __dist_rotated(self, mean, theta):\n",
    "#         init_cov = np.array([\n",
    "#             [7.0,0.0],\n",
    "#             [0.0,0.2]\n",
    "#         ], dtype=\"float64\")\n",
    "\n",
    "        u = np.array([\n",
    "            [np.cos(theta),-np.sin(theta)],\n",
    "            [np.sin(theta),np.cos(theta)]\n",
    "        ], dtype=\"float64\")\n",
    "        cov_rotated = np.matmul(np.matmul(u,self.init_cov),u.T)\n",
    "        dist = NormDist(mean, cov_rotated, 0.5)\n",
    "        return dist\n",
    "\n",
    "    def __generate_distributions(self, n, cx=0,cy=0):\n",
    "        distributions = []\n",
    "\n",
    "        for i in range(n):\n",
    "            #angle = ((360/n) * i) * (np.pi/180)\n",
    "            angle = (2*i*np.pi)/n\n",
    "            mean_1 = cx + self.r * np.cos(angle)\n",
    "            mean_2 = cx + self.r * np.sin(angle)\n",
    "\n",
    "            dist = self.__dist_rotated(np.array([mean_1, mean_2], dtype=\"float64\"), angle)\n",
    "            distributions.append(dist)\n",
    "\n",
    "        return distributions\n",
    "    \n",
    "    def generate_samples(self, n):\n",
    "        #samples = [np.random.multivariate_normal(dist.mean, dist.stdev, n) for dist in self.dists]\n",
    "        samples = [np.c_[np.random.multivariate_normal(dist.mean, dist.stdev, n), i*np.ones(n)] for i, dist in enumerate(self.dists)]\n",
    "\n",
    "        return np.array(samples).reshape((-1,3))\n",
    "    \n",
    "    def generate_and_plot(self, n):\n",
    "        samples = self.generate_samples(n)\n",
    "        plt.scatter(samples[:,0], samples[:,1], c=samples[:,2], cmap='brg')\n",
    "        plt.colorbar()\n",
    "        #plt.plot(samples[:,0], samples[:,1], 'ro')\n",
    "        plt.axis('equal')\n",
    "        plt.show()\n",
    "        \n",
    "    def penalty_term_with_gd(self, z):\n",
    "        probs = tf.stack([dist.prob(z) for dist in self.dists])\n",
    "        \n",
    "        denom = tf.reduce_sum(self.betas * probs, axis=0)\n",
    "        denom = tf.reshape(denom, (-1, 1))\n",
    "        y=-tf.reduce_sum(tf.log(1e-30 + denom))\n",
    "\n",
    "        def grad(dz): \n",
    "            grad_components = tf.stack([dist.grad_component(z) for dist in dists])\n",
    "            num=tf.reduce_sum(grad_components, axis=[0])\n",
    "\n",
    "            gradient = num/denom\n",
    "            return dz * gradient\n",
    "        return y,grad\n",
    "    \n",
    "    def get_tf_dists(self):\n",
    "        return [dist.tf_dist for dist in self.dists]\n",
    "    \n",
    "    def get_dists(self):\n",
    "        return self.dists\n",
    "    \n",
    "    def responsibilities(self, z):\n",
    "        probs = tf.stack([dist.prob(z) for dist in self.dists])\n",
    "        \n",
    "        denom = tf.reduce_sum(self.betas * probs, axis=0)\n",
    "        resp = (probs/denom)*self.betas\n",
    "        return tf.transpose(resp)"
   ]
  },
  {
   "cell_type": "code",
   "execution_count": 487,
   "metadata": {},
   "outputs": [],
   "source": [
    "class VClassifier:\n",
    "\n",
    "    def encode(self, X, middle_layer_dim):\n",
    "        current_value = X\n",
    "        for layer in self.encoder_layers:\n",
    "            current_value = layer.forward(current_value)\n",
    "\n",
    "        means = current_value[:, :middle_layer_dim]\n",
    "        tmp = current_value[:, middle_layer_dim:]\n",
    "#         stdevs = tf.sqrt(tf.exp(tmp))\n",
    "        stdevs = tf.nn.softplus(tmp) + 1e-6\n",
    "        \n",
    "        \n",
    "        return means, stdevs\n",
    "    \n",
    "    def create_encoder(self, X, input_dim, hidden_dims):\n",
    "        \n",
    "        in_dim = input_dim\n",
    "        for h_dim in hidden_dims[:-1]:\n",
    "            h = DenseLayer(in_dim, h_dim)\n",
    "            self.encoder_layers.append(h)\n",
    "            in_dim = h_dim\n",
    "\n",
    "        middle_layer_dim = hidden_dims[-1]\n",
    "        self.encoder_layers.append(DenseLayer(in_dim, 2 * middle_layer_dim, f=lambda x: x))\n",
    "\n",
    "        return self.encode(X, middle_layer_dim)\n",
    "    \n",
    "    def decode(self, Z, output_dim, hidden_dims):\n",
    "        decoder_layers = []\n",
    "\n",
    "        in_dim = hidden_dims[-1]\n",
    "        for hidden_dim in reversed(hidden_dims[:-1]):\n",
    "            h = DenseLayer(in_dim, hidden_dim)\n",
    "            decoder_layers.append(h)\n",
    "            in_dim = hidden_dim\n",
    "\n",
    "        decoder_layers.append(DenseLayer(in_dim, output_dim, f=lambda x: x))\n",
    "\n",
    "        current_value = Z\n",
    "        for decoder_layer in decoder_layers:\n",
    "            current_value = decoder_layer.forward(current_value)\n",
    "\n",
    "        return current_value\n",
    "    \n",
    "    def calculateKL(self, mean, std):\n",
    "        inner = 1 + tf.math.log(1e-8 + std ** 2) - mean ** 2 - std ** 2\n",
    "        kls = 0.5 * tf.math.reduce_sum(inner, axis=1)\n",
    "        return tf.math.reduce_mean(kls)\n",
    "    \n",
    "    def create_accuracy_node(self, y_true, y_pred):\n",
    "        correct_mask_node = tf.equal(tf.argmax(y_pred, 1), tf.argmax(y_true, 1))\n",
    "        accuracy_node = tf.reduce_mean(tf.cast(correct_mask_node, tf.float32))\n",
    "        return accuracy_node\n",
    "\n",
    "    def __init__(self, x_dim, y_dim, hidden_dims, log_folder, alpha, beta, gamma, omega, r, init_cov):\n",
    "        self.encoder_layers = []\n",
    "        self.x_dim = x_dim\n",
    "        self.y_dim = y_dim\n",
    "        self.layer = 1\n",
    "        \n",
    "        tf.reset_default_graph()\n",
    "        self.X = tf.placeholder(tf.float32, shape=(None, x_dim), name=\"x\")\n",
    "        self.y = tf.placeholder(tf.float32, shape=(None, y_dim), name=\"y\")\n",
    "        \n",
    "        self.mix = MixtureOfNormalsOnCircle(10, init_cov=init_cov, r=r)\n",
    "\n",
    "        #encoder\n",
    "        self.means, self.stdevs = self.create_encoder(self.X, x_dim, hidden_dims)\n",
    "\n",
    "        n = Normal(\n",
    "          loc=self.means,\n",
    "          scale=self.stdevs,\n",
    "        )\n",
    "        self.Z = n.sample()\n",
    "        \n",
    "        self.resp = self.mix.responsibilities(self.means)\n",
    "        \n",
    "        \n",
    "#         n_z = hidden_dims[-1]\n",
    "#         eps = tf.random_normal(shape=tf.shape(self.means), mean=0, stddev=1, \n",
    "#                                dtype=tf.float32)\n",
    "#         # z = mu + sigma*epsilon\n",
    "#         Z = tf.add(self.means, self.stdevs * eps)\n",
    "        \n",
    "        print(\"Hidden shape: {}\".format(self.Z.shape))\n",
    "\n",
    "        #decoder\n",
    "        self.logits = self.decode(self.Z, (x_dim+y_dim), hidden_dims)\n",
    "\n",
    "        self.XY_hat_distribution = Bernoulli(logits=self.logits)\n",
    "        #self.posterior_predictive = self.Y_hat_distribution.sample()\n",
    "\n",
    "        #with tf.name_scope('sample_output_reshaped'):\n",
    "        #    posterior_predictive_reshaped = tf.reshape(self.posterior_predictive, [-1, 28, 28, 1])\n",
    "        #    tf.summary.image('sample_output', tf.cast(posterior_predictive_reshaped, tf.float32), 10)\n",
    "\n",
    "        self.posterior_predictive_probs = tf.nn.sigmoid(self.logits)\n",
    "        self.score = tf.norm(self.means, axis=1)\n",
    "        \n",
    "        if y_dim > 0:\n",
    "            self.posterior_predictive_probs_y = self.posterior_predictive_probs[:,x_dim:(x_dim+y_dim)]\n",
    "            print(\"self.posterior_predictive_probs_y.shape {}\".format(self.posterior_predictive_probs_y.get_shape().as_list()))\n",
    "            print(\"self.y.shape {}\".format(self.y.get_shape().as_list()))\n",
    "            self.accuracy_node = self.create_accuracy_node(self.y, self.posterior_predictive_probs_y)\n",
    "            tf.summary.scalar(\"accuracy\", self.accuracy_node)\n",
    "\n",
    "        # with tf.name_scope('probs_output_reshaped'):\n",
    "        #     posterior_predictive_probs_reshaped = tf.reshape(self.posterior_predictive_probs[:,0:x_dim], [-1, 28, 28, 1])\n",
    "        #     tf.summary.image('probs_output', posterior_predictive_probs_reshaped, 10)\n",
    "\n",
    "        with tf.name_scope('COST'):\n",
    "            \n",
    "            if y_dim > 0:\n",
    "                xy = tf.concat([self.X, self.y], axis=1)\n",
    "            else:\n",
    "                xy = self.X\n",
    "            print(\"xy.shape {}\".format(xy.get_shape().as_list()))\n",
    "#             expected_log_likelihood = tf.reduce_sum(\n",
    "#                 self.XY_hat_distribution.log_prob(xy),\n",
    "#                 axis=1\n",
    "#             )\n",
    "            \n",
    "            #tf.exp(tf.reduce_sum(y_true*tf.log(1e-10+y_pred) + (1-y_true)*tf.log(1e-10+1-y_pred)))\n",
    "            expected_log_likelihood_2 = -tf.reduce_sum(\n",
    "                tf.nn.sigmoid_cross_entropy_with_logits(labels=self.X, logits=self.logits[:,0:x_dim]), \n",
    "                axis=1\n",
    "            )\n",
    "            \n",
    "#             expected_log_likelihood_2 = tf.reduce_sum(\n",
    "#                 cross_entropy,\n",
    "#                 axis=1\n",
    "#             )\n",
    "            \n",
    "            #tf.summary.scalar(\"Expected log-likelihood\", tf.reduce_sum(expected_log_likelihood))\n",
    "\n",
    "            kl = self.calculateKL(self.means, self.stdevs)\n",
    "            tf.summary.scalar(\"KL\", kl)\n",
    "\n",
    "            gmm_cost = self.mix.penalty_term_with_gd(self.Z)[0]\n",
    "            tf.summary.scalar(\"gmm_cost\", gmm_cost)\n",
    "            \n",
    "            exp_loglik_2 = tf.reduce_mean(expected_log_likelihood_2)\n",
    "            tf.summary.scalar(\"loglik_2\", exp_loglik_2)\n",
    "            \n",
    "            if y_dim > 0:\n",
    "                cross_entropy_classifier = tf.nn.softmax_cross_entropy_with_logits_v2(labels=self.y, logits=self.logits[:,x_dim:(x_dim+y_dim)])\n",
    "                avg_cross_entropy_classifier = -tf.reduce_mean(cross_entropy_classifier)\n",
    "                tf.summary.scalar(\"softmax_cross_entropy\", avg_cross_entropy_classifier)\n",
    "                elbo = alpha * exp_loglik_2 + beta * kl + gamma * avg_cross_entropy_classifier - omega*gmm_cost\n",
    "            else:\n",
    "                elbo = alpha * exp_loglik_2 + beta * kl\n",
    "                \n",
    "            tf.summary.scalar(\"ELBO\", elbo)\n",
    "            \n",
    "        \n",
    "        self.train_op = tf.train.AdamOptimizer(learning_rate=1e-3).minimize(-elbo)\n",
    "        #self.train_op = tf.train.RMSPropOptimizer(learning_rate=0.001).minimize(-elbo)\n",
    "\n",
    "        self.init_op = tf.global_variables_initializer()\n",
    "            \n",
    "        #InteractiveSession.close()\n",
    "        self.sess = tf.InteractiveSession()\n",
    "        self.sess.run(self.init_op)\n",
    "\n",
    "        self.merged_summary = tf.summary.merge_all()\n",
    "\n",
    "        self.writer_train = tf.summary.FileWriter(log_folder)\n",
    "        self.writer_train.add_graph(self.sess.graph)\n",
    "\n",
    "    def fit(self, X_train, y_train, epochs=30, batch_sz=64):\n",
    "        #costs=[]\n",
    "        n_batches = len(X_train) // batch_sz\n",
    "        print(\"n_batches:\", n_batches)\n",
    "\n",
    "        iter = 1\n",
    "        for i in range(epochs):\n",
    "            print(\"epoch: %d\" % i)\n",
    "            #np.random.shuffle(X_train)\n",
    "            X_train, y_train = permute(X_train, y_train)\n",
    "            for j in range(n_batches):\n",
    "                batch_x = X_train[j * batch_sz:(j + 1) * batch_sz]\n",
    "                \n",
    "                if self.y_dim > 0:\n",
    "                    batch_y = y_train[j * batch_sz:(j + 1) * batch_sz]\n",
    "                    self.sess.run(self.train_op, feed_dict={self.X: batch_x, self.y: batch_y})\n",
    "                    if j % 100 == 0:\n",
    "                        s = self.sess.run(self.merged_summary, feed_dict={self.X: batch_x, self.y: batch_y})\n",
    "                        self.writer_train.add_summary(s, iter)\n",
    "                else:\n",
    "                    self.sess.run(self.train_op, feed_dict={self.X: batch_x})\n",
    "                    if j % 100 == 0:\n",
    "                        s = self.sess.run(self.merged_summary, feed_dict={self.X: batch_x})\n",
    "                        self.writer_train.add_summary(s, iter)\n",
    "                    \n",
    "                iter += 1\n",
    "            \n",
    "            if self.y_dim > 0:\n",
    "                train_accuracy = self.calculate_accuracy(X_train, y_train)\n",
    "                print(\"Train accuracy {}\".format(train_accuracy))\n",
    "\n",
    "        # plt.plot(costs)\n",
    "        # plt.show()\n",
    "        \n",
    "    def calculate_accuracy(self, X, y):\n",
    "        accuracy = self.sess.run(self.accuracy_node, feed_dict={self.X: X, self.y: y})\n",
    "        return accuracy\n",
    "        \n",
    "    def predict(self, X):\n",
    "        y_pred = self.sess.run([self.posterior_predictive_probs_y, self.score], feed_dict={self.X: X})\n",
    "        return y_pred\n",
    "\n",
    "#     def predict_probs(self, X):\n",
    "#         return self.sess.run(self.posterior_predictive_probs, feed_dict={self.X: X})\n",
    "    \n",
    "    def encode2(self, X):\n",
    "        means, stdevs = self.sess.run([self.means, self.stdevs], feed_dict={self.X: X})\n",
    "        return means, stdevs\n",
    "    \n",
    "    def encode_to_discrete(self, X):\n",
    "        responsibilities = self.sess.run(self.resp, feed_dict={self.X: X})\n",
    "        return responsibilities\n",
    "    \n",
    "    def sampleLatent(self, X):\n",
    "        Z = self.sess.run(self.Z, feed_dict={self.X: X})\n",
    "        return Z"
   ]
  },
  {
   "cell_type": "markdown",
   "metadata": {},
   "source": [
    "### Supervised VAE"
   ]
  },
  {
   "cell_type": "code",
   "execution_count": 492,
   "metadata": {},
   "outputs": [
    {
     "name": "stdout",
     "output_type": "stream",
     "text": [
      "Starting autoencoder. Log folder=/tmp/class_vae/deep/12_04_2019/20190412113225\n",
      "Hidden shape: (?, 2)\n",
      "self.posterior_predictive_probs_y.shape [None, 10]\n",
      "self.y.shape [None, 10]\n",
      "xy.shape [None, 794]\n"
     ]
    },
    {
     "name": "stderr",
     "output_type": "stream",
     "text": [
      "/anaconda3/envs/cost-prediction-env/lib/python3.6/site-packages/tensorflow/python/client/session.py:1702: UserWarning: An interactive session is already active. This can cause out-of-memory errors in some cases. You must explicitly call `InteractiveSession.close()` to release resources held by the other session(s).\n",
      "  warnings.warn('An interactive session is already active. This can '\n"
     ]
    },
    {
     "name": "stdout",
     "output_type": "stream",
     "text": [
      "n_batches: 984\n",
      "epoch: 0\n",
      "Train accuracy 0.7851904630661011\n",
      "epoch: 1\n",
      "Train accuracy 0.9340317249298096\n",
      "epoch: 2\n",
      "Train accuracy 0.9408254027366638\n",
      "Test accuracy 0.9272857308387756\n"
     ]
    }
   ],
   "source": [
    "log_folder = get_log_folder()\n",
    "print('Starting autoencoder. Log folder={}'.format(log_folder))\n",
    "init_cov = np.array([\n",
    "    [0.07,0.0],\n",
    "    [0.0,0.007]\n",
    "], dtype=\"float64\")\n",
    "model_supervised = VClassifier(\n",
    "    x_dim=X_train.shape[1], \n",
    "    y_dim=y_train.shape[1], \n",
    "    hidden_dims=[512, 256, 128, 2], \n",
    "    log_folder=log_folder,\n",
    "    alpha=0,\n",
    "    beta=0,\n",
    "    gamma=1,\n",
    "    omega=0.01,\n",
    "    r=1,\n",
    "    init_cov=init_cov\n",
    ")\n",
    "model_supervised.fit(X_train, y_train, epochs=3)\n",
    "\n",
    "test_acc = model_supervised.calculate_accuracy(X=X_test, y=y_test)\n",
    "print(\"Test accuracy {}\".format(test_acc))\n"
   ]
  },
  {
   "cell_type": "code",
   "execution_count": 493,
   "metadata": {
    "scrolled": false
   },
   "outputs": [
    {
     "data": {
      "image/png": "[encoded data removed]",
      "text/plain": [
       "<Figure size 1440x1440 with 8 Axes>"
      ]
     },
     "metadata": {
      "needs_background": "light"
     },
     "output_type": "display_data"
    }
   ],
   "source": [
    "plot_2d_latent_space(model_supervised, onehot_encoder, X_test, y_test)"
   ]
  },
  {
   "cell_type": "code",
   "execution_count": null,
   "metadata": {},
   "outputs": [],
   "source": []
  },
  {
   "cell_type": "code",
   "execution_count": null,
   "metadata": {},
   "outputs": [],
   "source": []
  },
  {
   "cell_type": "code",
   "execution_count": null,
   "metadata": {},
   "outputs": [],
   "source": []
  },
  {
   "cell_type": "code",
   "execution_count": null,
   "metadata": {},
   "outputs": [],
   "source": []
  },
  {
   "cell_type": "code",
   "execution_count": null,
   "metadata": {},
   "outputs": [],
   "source": []
  },
  {
   "cell_type": "code",
   "execution_count": 340,
   "metadata": {},
   "outputs": [],
   "source": [
    "resp_train = model_supervised.encode_to_discrete(X_train)\n",
    "resp_test = model_supervised.encode_to_discrete(X_test)"
   ]
  },
  {
   "cell_type": "code",
   "execution_count": 372,
   "metadata": {},
   "outputs": [
    {
     "data": {
      "text/plain": [
       "((63000, 10), (7000, 10), (63000, 784))"
      ]
     },
     "execution_count": 372,
     "metadata": {},
     "output_type": "execute_result"
    }
   ],
   "source": [
    "resp_train.shape, resp_test.shape, X_train.shape"
   ]
  },
  {
   "cell_type": "code",
   "execution_count": 459,
   "metadata": {},
   "outputs": [],
   "source": [
    "latent_train = model_supervised.sampleLatent(X_train)\n",
    "latent_test = model_supervised.sampleLatent(X_test)"
   ]
  },
  {
   "cell_type": "code",
   "execution_count": 460,
   "metadata": {},
   "outputs": [
    {
     "data": {
      "text/plain": [
       "(63000, 2)"
      ]
     },
     "execution_count": 460,
     "metadata": {},
     "output_type": "execute_result"
    }
   ],
   "source": [
    "latent_train.shape"
   ]
  },
  {
   "cell_type": "code",
   "execution_count": 461,
   "metadata": {},
   "outputs": [],
   "source": [
    "class SimpleNN:\n",
    "    \n",
    "    def __init__(self, dims):\n",
    "        self.dims = dims\n",
    "        self.batch_size = 64\n",
    "        \n",
    "        self.x = tf.placeholder(tf.float32, [None, dims[0]])\n",
    "        self.y_true = tf.placeholder(tf.float32, [None, 10])\n",
    "\n",
    "#         l1 = DenseLayer(dims[0], dims[1])\n",
    "#         l2 = DenseLayer(dims[1], 10, f=lambda x: x)\n",
    "#         tmp = l1.forward(self.x)\n",
    "#         y_pred = l2.forward(tmp)\n",
    "        \n",
    "        layers = []\n",
    "\n",
    "        in_dim = dims.pop(0)\n",
    "        for h_dim in dims:\n",
    "            h = DenseLayer(in_dim, h_dim)\n",
    "            layers.append(h)\n",
    "            in_dim = h_dim\n",
    "\n",
    "        current_value = self.x\n",
    "        for layer in layers:\n",
    "            current_value = layer.forward(current_value)\n",
    "        \n",
    "        y_pred = current_value\n",
    "\n",
    "        cross_entropy = tf.reduce_mean(tf.nn.softmax_cross_entropy_with_logits_v2(logits=y_pred, labels=self.y_true))\n",
    "#         self.gd_step = tf.train.GradientDescentOptimizer(0.05).minimize(cross_entropy)\n",
    "        self.gd_step = tf.train.AdamOptimizer(learning_rate=1e-3).minimize(cross_entropy)\n",
    "        \n",
    "        correct_mask = tf.equal(tf.argmax(y_pred, 1), tf.argmax(self.y_true, 1))\n",
    "        self.accuracy = tf.reduce_mean(tf.cast(correct_mask, tf.float32))\n",
    "    \n",
    "    def fit(self, train_input, train_output, test_input, test_output, epochs=10):\n",
    "        \n",
    "        n_batches = len(train_input) // self.batch_size\n",
    "        with tf.Session() as sess:\n",
    "            sess.run(tf.global_variables_initializer())\n",
    "\n",
    "            for i in range(epochs):\n",
    "                for j in range(n_batches):\n",
    "                    batch_x = train_input[j * self.batch_size:(j + 1) * self.batch_size]\n",
    "                    batch_y = train_output[j * self.batch_size:(j + 1) * self.batch_size]\n",
    "                    sess.run(self.gd_step, feed_dict={self.x: batch_x, self.y_true: batch_y})\n",
    "\n",
    "            train_accuracy = sess.run(self.accuracy, feed_dict={self.x: train_input, self.y_true: train_output})\n",
    "            test_accuracy = sess.run(self.accuracy, feed_dict={self.x: test_input, self.y_true: test_output})\n",
    "            print(\"Train accuracy: {:.4}%\".format(train_accuracy*100))\n",
    "            print(\"Test accuracy: {:.4}%\".format(test_accuracy*100))"
   ]
  },
  {
   "cell_type": "code",
   "execution_count": 462,
   "metadata": {},
   "outputs": [],
   "source": [
    "# simple_nn = SimpleNN([784,512,10])\n",
    "# simple_nn.fit(X_train, y_train, X_test, y_test)"
   ]
  },
  {
   "cell_type": "code",
   "execution_count": 468,
   "metadata": {},
   "outputs": [
    {
     "name": "stdout",
     "output_type": "stream",
     "text": [
      "Train accuracy: 86.57%\n",
      "Test accuracy: 85.49%\n"
     ]
    }
   ],
   "source": [
    "simple_nn = SimpleNN([10,512, 256, 128, 10])\n",
    "simple_nn.fit(resp_train, y_train, resp_test, y_test, epochs=10)"
   ]
  },
  {
   "cell_type": "code",
   "execution_count": 466,
   "metadata": {},
   "outputs": [
    {
     "name": "stdout",
     "output_type": "stream",
     "text": [
      "Train accuracy: 66.89%\n",
      "Test accuracy: 66.24%\n"
     ]
    }
   ],
   "source": [
    "simple_nn = SimpleNN([2,512, 256, 128, 10])\n",
    "simple_nn.fit(latent_train, y_train, latent_test, y_test, epochs=10)"
   ]
  },
  {
   "cell_type": "code",
   "execution_count": null,
   "metadata": {},
   "outputs": [],
   "source": []
  },
  {
   "cell_type": "code",
   "execution_count": null,
   "metadata": {},
   "outputs": [],
   "source": []
  },
  {
   "cell_type": "code",
   "execution_count": 405,
   "metadata": {},
   "outputs": [
    {
     "data": {
      "text/plain": [
       "(63000, 10)"
      ]
     },
     "execution_count": 405,
     "metadata": {},
     "output_type": "execute_result"
    }
   ],
   "source": [
    "resp_train.shape"
   ]
  },
  {
   "cell_type": "code",
   "execution_count": 403,
   "metadata": {},
   "outputs": [
    {
     "data": {
      "text/plain": [
       "array([0, 0, 0, ..., 0, 0, 0])"
      ]
     },
     "execution_count": 403,
     "metadata": {},
     "output_type": "execute_result"
    }
   ],
   "source": [
    "np.isnan(resp_train).sum(axis=1)"
   ]
  },
  {
   "cell_type": "code",
   "execution_count": 410,
   "metadata": {},
   "outputs": [
    {
     "data": {
      "text/plain": [
       "array([], shape=(0, 2), dtype=int64)"
      ]
     },
     "execution_count": 410,
     "metadata": {},
     "output_type": "execute_result"
    }
   ],
   "source": [
    "np.argwhere(np.isnan(resp_train))"
   ]
  },
  {
   "cell_type": "code",
   "execution_count": 409,
   "metadata": {},
   "outputs": [],
   "source": [
    "resp_train[34097,:] = np.zeros(10)\n",
    "resp_train[40214,:] = np.zeros(10)"
   ]
  },
  {
   "cell_type": "code",
   "execution_count": 414,
   "metadata": {},
   "outputs": [
    {
     "data": {
      "text/plain": [
       "RandomForestClassifier(bootstrap=True, class_weight=None, criterion='gini',\n",
       "            max_depth=5, max_features='auto', max_leaf_nodes=None,\n",
       "            min_impurity_decrease=0.0, min_impurity_split=None,\n",
       "            min_samples_leaf=1, min_samples_split=2,\n",
       "            min_weight_fraction_leaf=0.0, n_estimators=100, n_jobs=None,\n",
       "            oob_score=False, random_state=0, verbose=0, warm_start=False)"
      ]
     },
     "execution_count": 414,
     "metadata": {},
     "output_type": "execute_result"
    }
   ],
   "source": [
    "from sklearn.ensemble import RandomForestClassifier\n",
    "clf = RandomForestClassifier(n_estimators=100, max_depth=5, random_state=0)\n",
    "clf.fit(resp_train, y_train)"
   ]
  },
  {
   "cell_type": "code",
   "execution_count": 417,
   "metadata": {},
   "outputs": [],
   "source": [
    "rf_predict = clf.predict(resp_test)"
   ]
  },
  {
   "cell_type": "code",
   "execution_count": 418,
   "metadata": {},
   "outputs": [
    {
     "data": {
      "text/plain": [
       "0.6604285714285715"
      ]
     },
     "execution_count": 418,
     "metadata": {},
     "output_type": "execute_result"
    }
   ],
   "source": [
    "calculate_accuracy_np(y_pred=rf_predict, y_true=y_test)"
   ]
  },
  {
   "cell_type": "code",
   "execution_count": null,
   "metadata": {},
   "outputs": [],
   "source": []
  },
  {
   "cell_type": "code",
   "execution_count": null,
   "metadata": {},
   "outputs": [],
   "source": [
    "np.argmax(resp_train, axis=1)"
   ]
  },
  {
   "cell_type": "code",
   "execution_count": 352,
   "metadata": {},
   "outputs": [
    {
     "data": {
      "text/plain": [
       "array([9, 1, 3, ..., 3, 1, 2])"
      ]
     },
     "execution_count": 352,
     "metadata": {},
     "output_type": "execute_result"
    }
   ],
   "source": [
    "np.argmax(y_train, axis=1)"
   ]
  },
  {
   "cell_type": "code",
   "execution_count": 354,
   "metadata": {},
   "outputs": [],
   "source": [
    "reduced_data = pd.DataFrame({\n",
    "    'in': np.argmax(resp_train, axis=1),\n",
    "    'out': np.argmax(y_train, axis=1)\n",
    "})"
   ]
  },
  {
   "cell_type": "code",
   "execution_count": 368,
   "metadata": {},
   "outputs": [],
   "source": [
    "aaa = reduced_data[reduced_data['in']==6]"
   ]
  },
  {
   "cell_type": "code",
   "execution_count": 369,
   "metadata": {},
   "outputs": [
    {
     "data": {
      "text/html": [
       "<div>\n",
       "<style scoped>\n",
       "    .dataframe tbody tr th:only-of-type {\n",
       "        vertical-align: middle;\n",
       "    }\n",
       "\n",
       "    .dataframe tbody tr th {\n",
       "        vertical-align: top;\n",
       "    }\n",
       "\n",
       "    .dataframe thead th {\n",
       "        text-align: right;\n",
       "    }\n",
       "</style>\n",
       "<table border=\"1\" class=\"dataframe\">\n",
       "  <thead>\n",
       "    <tr style=\"text-align: right;\">\n",
       "      <th></th>\n",
       "      <th>in</th>\n",
       "    </tr>\n",
       "    <tr>\n",
       "      <th>out</th>\n",
       "      <th></th>\n",
       "    </tr>\n",
       "  </thead>\n",
       "  <tbody>\n",
       "    <tr>\n",
       "      <th>1</th>\n",
       "      <td>1</td>\n",
       "    </tr>\n",
       "    <tr>\n",
       "      <th>2</th>\n",
       "      <td>3</td>\n",
       "    </tr>\n",
       "    <tr>\n",
       "      <th>3</th>\n",
       "      <td>13</td>\n",
       "    </tr>\n",
       "    <tr>\n",
       "      <th>4</th>\n",
       "      <td>468</td>\n",
       "    </tr>\n",
       "    <tr>\n",
       "      <th>5</th>\n",
       "      <td>12</td>\n",
       "    </tr>\n",
       "    <tr>\n",
       "      <th>6</th>\n",
       "      <td>6</td>\n",
       "    </tr>\n",
       "    <tr>\n",
       "      <th>7</th>\n",
       "      <td>50</td>\n",
       "    </tr>\n",
       "    <tr>\n",
       "      <th>8</th>\n",
       "      <td>22</td>\n",
       "    </tr>\n",
       "    <tr>\n",
       "      <th>9</th>\n",
       "      <td>5912</td>\n",
       "    </tr>\n",
       "  </tbody>\n",
       "</table>\n",
       "</div>"
      ],
      "text/plain": [
       "       in\n",
       "out      \n",
       "1       1\n",
       "2       3\n",
       "3      13\n",
       "4     468\n",
       "5      12\n",
       "6       6\n",
       "7      50\n",
       "8      22\n",
       "9    5912"
      ]
     },
     "execution_count": 369,
     "metadata": {},
     "output_type": "execute_result"
    }
   ],
   "source": [
    "aaa.groupby(['out']).count()"
   ]
  },
  {
   "cell_type": "code",
   "execution_count": 419,
   "metadata": {},
   "outputs": [],
   "source": [
    "a = np.array([1,2,3,4])"
   ]
  },
  {
   "cell_type": "code",
   "execution_count": 420,
   "metadata": {},
   "outputs": [
    {
     "data": {
      "text/plain": [
       "4"
      ]
     },
     "execution_count": 420,
     "metadata": {},
     "output_type": "execute_result"
    }
   ],
   "source": [
    "a[]"
   ]
  },
  {
   "cell_type": "code",
   "execution_count": null,
   "metadata": {},
   "outputs": [],
   "source": []
  },
  {
   "cell_type": "code",
   "execution_count": null,
   "metadata": {},
   "outputs": [],
   "source": []
  }
 ],
 "metadata": {
  "kernelspec": {
   "display_name": "Python 3",
   "language": "python",
   "name": "python3"
  },
  "language_info": {
   "codemirror_mode": {
    "name": "ipython",
    "version": 3
   },
   "file_extension": ".py",
   "mimetype": "text/x-python",
   "name": "python",
   "nbconvert_exporter": "python",
   "pygments_lexer": "ipython3",
   "version": "3.6.7"
  }
 },
 "nbformat": 4,
 "nbformat_minor": 1
}
