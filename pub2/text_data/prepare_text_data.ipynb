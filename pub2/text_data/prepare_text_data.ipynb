{
 "cells": [
  {
   "cell_type": "code",
   "execution_count": 2,
   "metadata": {},
   "outputs": [],
   "source": [
    "from vae_lib.preprocessing import preprocess as ps\n",
    "import nltk\n",
    "import numpy as np\n",
    "import pandas as pd"
   ]
  },
  {
   "cell_type": "code",
   "execution_count": 3,
   "metadata": {},
   "outputs": [
    {
     "name": "stdout",
     "output_type": "stream",
     "text": [
      "[nltk_data] Downloading package punkt to\n",
      "[nltk_data]     /Users/mjankowski/nltk_data...\n",
      "[nltk_data]   Package punkt is already up-to-date!\n",
      "[nltk_data] Downloading package stopwords to\n",
      "[nltk_data]     /Users/mjankowski/nltk_data...\n",
      "[nltk_data]   Package stopwords is already up-to-date!\n"
     ]
    },
    {
     "data": {
      "text/plain": [
       "True"
      ]
     },
     "execution_count": 3,
     "metadata": {},
     "output_type": "execute_result"
    }
   ],
   "source": [
    "nltk.download('punkt')\n",
    "nltk.download('stopwords')"
   ]
  },
  {
   "cell_type": "code",
   "execution_count": 4,
   "metadata": {},
   "outputs": [],
   "source": [
    "path_train='/Users/mjankowski/doc/workspace/tidy-text-mining/data/20news-bydate/20news-bydate-train'"
   ]
  },
  {
   "cell_type": "code",
   "execution_count": 5,
   "metadata": {},
   "outputs": [],
   "source": [
    "path_test='/Users/mjankowski/doc/workspace/tidy-text-mining/data/20news-bydate/20news-bydate-test'"
   ]
  },
  {
   "cell_type": "code",
   "execution_count": 6,
   "metadata": {},
   "outputs": [
    {
     "name": "stdout",
     "output_type": "stream",
     "text": [
      "---------------Start Reading Data and Perprocessing It---------------\n",
      "++++++++++++++++Finished Perprocessing++++++++++++++++++++\n"
     ]
    }
   ],
   "source": [
    "text, train_label = ps.data_perprocess(path_train)"
   ]
  },
  {
   "cell_type": "code",
   "execution_count": 9,
   "metadata": {},
   "outputs": [
    {
     "name": "stdout",
     "output_type": "stream",
     "text": [
      "---------------Start Choosing The Most K Frequent Tokens ---------------\n",
      "++++++++++++++++Got the most K Frequent Tokens++++++++++++++++++++\n"
     ]
    }
   ],
   "source": [
    "top_k=2000\n",
    "text_high=ps.frequent_part(text,top_k)"
   ]
  },
  {
   "cell_type": "code",
   "execution_count": 10,
   "metadata": {},
   "outputs": [],
   "source": [
    "def word_document(corpus, token_id):\n",
    "    '''\n",
    "        calculate the document-word matrix, according to the dictionary\n",
    "    '''\n",
    "    # create the sparse matrix of word-document\n",
    "    datamatrix = np.zeros((len(corpus), len(token_id)))\n",
    "    for i in range(len(corpus)):\n",
    "        for obj in corpus[i]:\n",
    "            datamatrix[i][obj[0]] = obj[1]\n",
    "\n",
    "    print(\"++++++++++++++++Document-Word Matrix Made++++++++++++++++++++\")\n",
    "    return datamatrix"
   ]
  },
  {
   "cell_type": "code",
   "execution_count": 11,
   "metadata": {},
   "outputs": [
    {
     "name": "stderr",
     "output_type": "stream",
     "text": [
      "2019-05-07 16:47:52,048:INFO:adding document #0 to Dictionary(0 unique tokens: [])\n"
     ]
    },
    {
     "name": "stdout",
     "output_type": "stream",
     "text": [
      "---------------Start Counting for the Dictionary ---------------\n"
     ]
    },
    {
     "name": "stderr",
     "output_type": "stream",
     "text": [
      "2019-05-07 16:47:53,122:INFO:adding document #10000 to Dictionary(1999 unique tokens: [\"'\", \"'ll\", \"'s\", '-', '...']...)\n",
      "2019-05-07 16:47:53,319:INFO:built Dictionary(2000 unique tokens: [\"'\", \"'ll\", \"'s\", '-', '...']...) from 11314 documents (total 1520761 corpus positions)\n"
     ]
    },
    {
     "name": "stdout",
     "output_type": "stream",
     "text": [
      "++++++++++++++++Got Dictionary++++++++++++++++++++\n",
      "++++++++++++++++Calculated Bag of Words++++++++++++++++++++\n",
      "++++++++++++++++Document-Word Matrix Made++++++++++++++++++++\n"
     ]
    }
   ],
   "source": [
    "#get the frequent part of the data\n",
    "\n",
    "dictionary,token_id=ps.dictionary_count(text_high)\n",
    "corpus=ps.corpus(dictionary,text)\n",
    "train=word_document(corpus,token_id)"
   ]
  },
  {
   "cell_type": "code",
   "execution_count": 16,
   "metadata": {},
   "outputs": [
    {
     "data": {
      "text/plain": [
       "(11314, 2000)"
      ]
     },
     "execution_count": 16,
     "metadata": {},
     "output_type": "execute_result"
    }
   ],
   "source": [
    "train.shape"
   ]
  },
  {
   "cell_type": "code",
   "execution_count": 17,
   "metadata": {},
   "outputs": [],
   "source": [
    "train_int = train.astype(int)\n",
    "train_pd = pd.DataFrame(train_int)"
   ]
  },
  {
   "cell_type": "code",
   "execution_count": 18,
   "metadata": {},
   "outputs": [
    {
     "data": {
      "text/plain": [
       "(11314,)"
      ]
     },
     "execution_count": 18,
     "metadata": {},
     "output_type": "execute_result"
    }
   ],
   "source": [
    "train_label.shape"
   ]
  },
  {
   "cell_type": "code",
   "execution_count": 22,
   "metadata": {},
   "outputs": [],
   "source": [
    "train_label_int = train_label.astype(int)\n",
    "train_label_pd = pd.DataFrame(train_label_int)"
   ]
  },
  {
   "cell_type": "code",
   "execution_count": 33,
   "metadata": {},
   "outputs": [],
   "source": [
    "reuters_path = '/Users/mjankowski/doc/data/reuters/for_python/'\n"
   ]
  },
  {
   "cell_type": "code",
   "execution_count": 34,
   "metadata": {},
   "outputs": [],
   "source": [
    "import pickle\n",
    "f = open(reuters_path+\"dictionary.pkl\",\"wb\")\n",
    "pickle.dump(token_id,f)\n",
    "f.close()\n",
    "\n",
    "# for key, value in token_id.items() :\n",
    "#     print (key, value)"
   ]
  },
  {
   "cell_type": "code",
   "execution_count": 38,
   "metadata": {},
   "outputs": [],
   "source": [
    "train_pd.to_csv(reuters_path+\"reuters.data.train.csv\", index=False)"
   ]
  },
  {
   "cell_type": "code",
   "execution_count": 40,
   "metadata": {},
   "outputs": [],
   "source": [
    "train_label_pd.to_csv(reuters_path+\"reuters.labels.train.csv\", index=False)"
   ]
  },
  {
   "cell_type": "code",
   "execution_count": 42,
   "metadata": {},
   "outputs": [
    {
     "name": "stdout",
     "output_type": "stream",
     "text": [
      "---------------Start Reading Data and Perprocessing It---------------\n",
      "++++++++++++++++Finished Perprocessing++++++++++++++++++++\n"
     ]
    }
   ],
   "source": [
    "text_test, test_label = ps.data_perprocess(path_test)"
   ]
  },
  {
   "cell_type": "code",
   "execution_count": 44,
   "metadata": {},
   "outputs": [
    {
     "name": "stdout",
     "output_type": "stream",
     "text": [
      "++++++++++++++++Calculated Bag of Words++++++++++++++++++++\n",
      "++++++++++++++++Document-Word Matrix Made++++++++++++++++++++\n"
     ]
    }
   ],
   "source": [
    "\n",
    "#get test word-document matrix \n",
    "corpus_test=ps.corpus(dictionary,text_test)\n",
    "test=word_document(corpus_test,token_id)"
   ]
  },
  {
   "cell_type": "code",
   "execution_count": 45,
   "metadata": {},
   "outputs": [],
   "source": [
    "test_int = test.astype(int)\n",
    "test_pd = pd.DataFrame(test_int)"
   ]
  },
  {
   "cell_type": "code",
   "execution_count": 46,
   "metadata": {},
   "outputs": [],
   "source": [
    "test_label_int = test_label.astype(int)\n",
    "test_label_pd = pd.DataFrame(test_label_int)"
   ]
  },
  {
   "cell_type": "code",
   "execution_count": 47,
   "metadata": {},
   "outputs": [],
   "source": [
    "test_pd.to_csv(reuters_path+\"reuters.data.test.csv\", index=False)\n",
    "test_label_pd.to_csv(reuters_path+\"reuters.labels.test.csv\", index=False)"
   ]
  },
  {
   "cell_type": "code",
   "execution_count": 48,
   "metadata": {},
   "outputs": [
    {
     "data": {
      "text/plain": [
       "(7532, 2000)"
      ]
     },
     "execution_count": 48,
     "metadata": {},
     "output_type": "execute_result"
    }
   ],
   "source": [
    "test_pd.shape"
   ]
  },
  {
   "cell_type": "code",
   "execution_count": 1,
   "metadata": {},
   "outputs": [
    {
     "ename": "NameError",
     "evalue": "name 'text_test' is not defined",
     "output_type": "error",
     "traceback": [
      "\u001b[0;31m---------------------------------------------------------------------------\u001b[0m",
      "\u001b[0;31mNameError\u001b[0m                                 Traceback (most recent call last)",
      "\u001b[0;32m<ipython-input-1-1c4028dfef27>\u001b[0m in \u001b[0;36m<module>\u001b[0;34m()\u001b[0m\n\u001b[0;32m----> 1\u001b[0;31m \u001b[0mtext_test\u001b[0m\u001b[0;34m\u001b[0m\u001b[0m\n\u001b[0m",
      "\u001b[0;31mNameError\u001b[0m: name 'text_test' is not defined"
     ]
    }
   ],
   "source": [
    "text_test"
   ]
  },
  {
   "cell_type": "code",
   "execution_count": 35,
   "metadata": {},
   "outputs": [],
   "source": [
    "dims = [1,2,3,4,5,6,7,8]"
   ]
  },
  {
   "cell_type": "code",
   "execution_count": 38,
   "metadata": {},
   "outputs": [
    {
     "data": {
      "text/plain": [
       "[1, 2, 3, 4, 5, 6, 7]"
      ]
     },
     "execution_count": 38,
     "metadata": {},
     "output_type": "execute_result"
    }
   ],
   "source": [
    "dims[:-1]"
   ]
  },
  {
   "cell_type": "code",
   "execution_count": null,
   "metadata": {},
   "outputs": [],
   "source": []
  }
 ],
 "metadata": {
  "kernelspec": {
   "display_name": "Python 3",
   "language": "python",
   "name": "python3"
  },
  "language_info": {
   "codemirror_mode": {
    "name": "ipython",
    "version": 3
   },
   "file_extension": ".py",
   "mimetype": "text/x-python",
   "name": "python",
   "nbconvert_exporter": "python",
   "pygments_lexer": "ipython3",
   "version": "3.6.6"
  }
 },
 "nbformat": 4,
 "nbformat_minor": 2
}
