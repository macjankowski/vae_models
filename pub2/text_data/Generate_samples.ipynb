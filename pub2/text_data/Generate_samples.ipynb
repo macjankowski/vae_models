{
 "cells": [
  {
   "cell_type": "markdown",
   "metadata": {},
   "source": [
    "## Sample generation"
   ]
  },
  {
   "cell_type": "code",
   "execution_count": 58,
   "metadata": {},
   "outputs": [],
   "source": [
    "import collections\n",
    "import pandas as pd\n",
    "import tensorflow as tf\n",
    "import numpy as np\n",
    "import matplotlib.pyplot as plt\n",
    "import pickle\n",
    "\n",
    "\n",
    "from sklearn.preprocessing import OneHotEncoder\n",
    "from sklearn.ensemble import RandomForestClassifier\n",
    "from sklearn.metrics import accuracy_score\n",
    "from sklearn.model_selection import cross_val_score\n",
    "from sklearn.tree import DecisionTreeClassifier\n",
    "from sklearn.naive_bayes import BernoulliNB\n",
    "from sklearn.naive_bayes import GaussianNB\n",
    "\n",
    "import vae_lib.utils.nn_logger as log\n",
    "from vae_lib.nn.simple_nn import SimpleNN\n",
    "from vae_lib.nn.stochastic_nn_with_gmm import StochasticNNWithGmm\n",
    "from vae_lib.graphics.plot_utils import plot_2d_latent_space\n",
    "from vae_lib.graphics.plot_utils import plot_many_images\n",
    "from vae_lib.preprocessing.data_permutation import permute\n",
    "from vae_lib.utils.static_gmm_on_circle import StaticGmmOnCircle\n",
    "from vae_lib.preprocessing.load_reuters import load_reuters\n",
    "from vae_lib.preprocessing.load_poliblog import load_poliblog\n",
    "from vae_lib.preprocessing.load_smsspam import load_smsspam\n",
    "\n",
    "from vae_lib.preprocessing.load_mnist import load_mnist\n",
    "from vae_lib.nn.dense_layer import DenseLayer\n",
    "from vae_lib.utils.dynamic_gmm_on_circle import DynamicGmmOnCircle\n",
    "from vae_lib.utils.mixture_assignments import create_mixture_assignments\n",
    "from vae_lib.utils.measures import accuracy_for_score\n",
    "from vae_lib.utils.measures import classification_ratio\n",
    "from vae_lib.utils.measures import calculate_accuracy_np\n",
    "from vae_lib.nn.vae_svae_standard import StandardVaeSvae\n",
    "\n",
    "\n",
    "Normal = tf.distributions.Normal\n",
    "Bernoulli = tf.distributions.Bernoulli"
   ]
  },
  {
   "cell_type": "code",
   "execution_count": 59,
   "metadata": {},
   "outputs": [],
   "source": [
    "mnist_train_perm, mnist_test, mnist_labels_train_perm, mnist_labels_test, mnist_onehot_encoder = load_mnist()"
   ]
  },
  {
   "cell_type": "code",
   "execution_count": 60,
   "metadata": {},
   "outputs": [],
   "source": [
    "reuters_base_path = \"/Users/mjankowski/doc/data/reuters/for_python/\"\n",
    "reuters_dictionary = pickle.load( open(reuters_base_path+\"dictionary.pkl\", \"rb\" ))\n"
   ]
  },
  {
   "cell_type": "code",
   "execution_count": 61,
   "metadata": {},
   "outputs": [],
   "source": [
    "# list(reuters_dictionary.keys())"
   ]
  },
  {
   "cell_type": "code",
   "execution_count": 62,
   "metadata": {},
   "outputs": [
    {
     "data": {
      "text/plain": [
       "((1064, 2000), (708, 2000), (1064, 2), (708, 2))"
      ]
     },
     "execution_count": 62,
     "metadata": {},
     "output_type": "execute_result"
    }
   ],
   "source": [
    "\n",
    "\n",
    "reuters2_data_train_perm, reuters2_data_test, reuters2_labels_train_one_hot_perm, reuters2_labels_test_one_hot, reuters2_onehot_encoder = load_reuters(base_path=reuters_base_path, n_classes=2)\n",
    "reuters2_data_train_perm.shape, reuters2_data_test.shape, reuters2_labels_train_one_hot_perm.shape, reuters2_labels_test_one_hot.shape\n"
   ]
  },
  {
   "cell_type": "code",
   "execution_count": 63,
   "metadata": {},
   "outputs": [
    {
     "data": {
      "text/plain": [
       "((1655, 2000), (1102, 2000), (1655, 3), (1102, 3))"
      ]
     },
     "execution_count": 63,
     "metadata": {},
     "output_type": "execute_result"
    }
   ],
   "source": [
    "reuters3_data_train_perm, reuters3_data_test, reuters3_labels_train_one_hot_perm, reuters3_labels_test_one_hot, reuters3_onehot_encoder = load_reuters(base_path=reuters_base_path, n_classes=3)\n",
    "reuters3_data_train_perm.shape, reuters3_data_test.shape, reuters3_labels_train_one_hot_perm.shape, reuters3_labels_test_one_hot.shape\n"
   ]
  },
  {
   "cell_type": "code",
   "execution_count": 64,
   "metadata": {},
   "outputs": [
    {
     "data": {
      "text/plain": [
       "((2823, 2000), (1879, 2000), (2823, 5), (1879, 5))"
      ]
     },
     "execution_count": 64,
     "metadata": {},
     "output_type": "execute_result"
    }
   ],
   "source": [
    "reuters_base_path = \"/Users/mjankowski/doc/data/reuters/for_python/\"\n",
    "reuters5_data_train_perm, reuters5_data_test, reuters5_labels_train_one_hot_perm, reuters5_labels_test_one_hot, reuters5_onehot_encoder = load_reuters(base_path=reuters_base_path, n_classes=5)\n",
    "reuters5_data_train_perm.shape, reuters5_data_test.shape, reuters5_labels_train_one_hot_perm.shape, reuters5_labels_test_one_hot.shape\n"
   ]
  },
  {
   "cell_type": "code",
   "execution_count": 65,
   "metadata": {},
   "outputs": [
    {
     "data": {
      "text/plain": [
       "((573, 1290), (200, 1290), (573, 2), (200, 2))"
      ]
     },
     "execution_count": 65,
     "metadata": {},
     "output_type": "execute_result"
    }
   ],
   "source": [
    "poliblog_base_path = '/Users/mjankowski/doc/data/poliblog/for_python/'\n",
    "poliblog_data_train_perm, poliblog_data_test, poliblog_ratings_train_one_hot_perm, poliblog_ratings_test_one_hot, poliblog_onehot_encoder = load_poliblog(base_path=poliblog_base_path)\n",
    "poliblog_data_train_perm.shape, poliblog_data_test.shape, poliblog_ratings_train_one_hot_perm.shape, poliblog_ratings_test_one_hot.shape\n"
   ]
  },
  {
   "cell_type": "code",
   "execution_count": 66,
   "metadata": {},
   "outputs": [
    {
     "data": {
      "text/plain": [
       "((742, 16), (200, 16), (742, 2), (200, 2))"
      ]
     },
     "execution_count": 66,
     "metadata": {},
     "output_type": "execute_result"
    }
   ],
   "source": [
    "base_path = \"/Users/mjankowski/doc/data/smsSpam/for_python/\"\n",
    "smsSpam_data_train_perm, smsSpam_data_test, smsSpam_labels_train_one_hot_perm, smsSpam_labels_test_one_hot, smsSpam_onehot_encoder = load_smsspam(base_path=base_path)\n",
    "smsSpam_data_train_perm.shape, smsSpam_data_test.shape, smsSpam_labels_train_one_hot_perm.shape, smsSpam_labels_test_one_hot.shape\n"
   ]
  },
  {
   "cell_type": "code",
   "execution_count": null,
   "metadata": {},
   "outputs": [],
   "source": []
  },
  {
   "cell_type": "code",
   "execution_count": 67,
   "metadata": {},
   "outputs": [],
   "source": [
    "def train_dslgmm_model(\n",
    "                train_data, \n",
    "                train_labels, \n",
    "                test_data, \n",
    "                test_labels, \n",
    "                hidden_dims, \n",
    "                epochs, \n",
    "                omega,\n",
    "                mixture_assignments_train,\n",
    "                mixture_assignments_test,\n",
    "                one_hot_encoder\n",
    "                ):\n",
    "    \n",
    "    #tf.reset_default_graph()\n",
    "    log_folder = log.get_log_folder()\n",
    "    print('Starting autoencoder. Log folder={}'.format(log_folder))\n",
    "    K=train_labels.shape[1]\n",
    "    init_cov = np.array([\n",
    "        [0.07,0.0],\n",
    "        [0.0,0.007]\n",
    "    ], dtype=\"float64\")\n",
    "\n",
    "    betas = np.ones(K)/K\n",
    "\n",
    "\n",
    "    model = StochasticNNWithGmm(\n",
    "        x_dim=train_data.shape[1],\n",
    "        y_dim=train_labels.shape[1],\n",
    "        hidden_dims=[512, 256, 128, 2],\n",
    "        log_folder=log_folder,\n",
    "        alpha=1,\n",
    "        beta=0,\n",
    "        gamma=0,\n",
    "        omega=omega,\n",
    "        r=1.0,\n",
    "        K=K,\n",
    "        init_cov=init_cov,\n",
    "        is_latent_supervised=True,\n",
    "        mixture_weights=betas\n",
    "    )\n",
    "    model.fit(\n",
    "        X_train=train_data, \n",
    "        y_train=train_labels, \n",
    "        X_test=test_data,\n",
    "        y_test=test_labels,\n",
    "        mixture_assignments_train=mixture_assignments_train,\n",
    "        mixture_assignments_test=mixture_assignments_test,\n",
    "        epochs=epochs,\n",
    "        log_interval=100\n",
    "    )\n",
    "        \n",
    "#     train_encoded = model.sampleLatent(train_data)\n",
    "#     test_encoded = model.sampleLatent(test_data)\n",
    "#     test_decoded_labels = one_hot_encoder.inverse_transform(test_labels).reshape(-1)\n",
    "#     train_decoded_labels = one_hot_encoder.inverse_transform(train_labels).reshape(-1)\n",
    "    \n",
    "    return model"
   ]
  },
  {
   "cell_type": "code",
   "execution_count": 33,
   "metadata": {},
   "outputs": [
    {
     "name": "stdout",
     "output_type": "stream",
     "text": [
      "Hidden shape: (?, 10)\n",
      "self.posterior_predictive_probs_y.shape [None, 10]\n",
      "self.y.shape [None, 10]\n",
      "xy.shape [None, 794]\n"
     ]
    },
    {
     "name": "stderr",
     "output_type": "stream",
     "text": [
      "/anaconda3/envs/vae_tests/lib/python3.6/site-packages/tensorflow/python/client/session.py:1702: UserWarning: An interactive session is already active. This can cause out-of-memory errors in some cases. You must explicitly call `InteractiveSession.close()` to release resources held by the other session(s).\n",
      "  warnings.warn('An interactive session is already active. This can '\n"
     ]
    },
    {
     "name": "stdout",
     "output_type": "stream",
     "text": [
      "n_batches: 984\n",
      "epoch: 0\n",
      "Train accuracy 0.07309523969888687\n",
      "epoch: 1\n",
      "Train accuracy 0.07687301933765411\n",
      "epoch: 2\n",
      "Train accuracy 0.07268253713846207\n",
      "epoch: 3\n",
      "Train accuracy 0.07684127241373062\n",
      "epoch: 4\n",
      "Train accuracy 0.081142857670784\n"
     ]
    }
   ],
   "source": [
    "log_folder = log.get_log_folder()\n",
    "model_unsupervised = StandardVaeSvae(\n",
    "    x_dim=mnist_train_perm.shape[1],\n",
    "    y_dim=mnist_labels_train_perm.shape[1],\n",
    "    hidden_dims=[256,128,10],\n",
    "    log_folder=log_folder,\n",
    "    alpha=1,\n",
    "    beta=1,\n",
    "    gamma=0\n",
    ")\n",
    "\n",
    "model_unsupervised.fit(\n",
    "    mnist_train_perm, \n",
    "    mnist_labels_train_perm, \n",
    "    epochs=5)"
   ]
  },
  {
   "cell_type": "code",
   "execution_count": 34,
   "metadata": {},
   "outputs": [],
   "source": [
    "prediction = model_unsupervised.predict_x(mnist_train_perm)"
   ]
  },
  {
   "cell_type": "code",
   "execution_count": 35,
   "metadata": {},
   "outputs": [
    {
     "data": {
      "image/png": "[encoded data removed]",
      "text/plain": [
       "<Figure size 1440x1440 with 50 Axes>"
      ]
     },
     "metadata": {
      "needs_background": "light"
     },
     "output_type": "display_data"
    }
   ],
   "source": [
    "plt.figure(figsize=(20,20))\n",
    "plot_many_images(prediction, mnist_labels_train_perm, rows=10,columns=5)"
   ]
  },
  {
   "cell_type": "code",
   "execution_count": null,
   "metadata": {},
   "outputs": [],
   "source": []
  },
  {
   "cell_type": "code",
   "execution_count": null,
   "metadata": {},
   "outputs": [],
   "source": []
  },
  {
   "cell_type": "markdown",
   "metadata": {},
   "source": [
    "## Sample from DSLGMM"
   ]
  },
  {
   "cell_type": "code",
   "execution_count": 107,
   "metadata": {},
   "outputs": [
    {
     "name": "stdout",
     "output_type": "stream",
     "text": [
      "Starting autoencoder. Log folder=/tmp/class_vae/deep/16_05_2019/20190516121226\n",
      "Hidden shape: (?, 2)\n",
      "self.posterior_predictive_probs_y.shape [None, 10]\n",
      "self.y.shape [None, 10]\n",
      "xy.shape [None, 794]\n"
     ]
    },
    {
     "name": "stderr",
     "output_type": "stream",
     "text": [
      "/anaconda3/envs/vae_tests/lib/python3.6/site-packages/tensorflow/python/client/session.py:1702: UserWarning: An interactive session is already active. This can cause out-of-memory errors in some cases. You must explicitly call `InteractiveSession.close()` to release resources held by the other session(s).\n",
      "  warnings.warn('An interactive session is already active. This can '\n"
     ]
    },
    {
     "name": "stdout",
     "output_type": "stream",
     "text": [
      "n_batches: 984\n",
      "epoch: 0\n",
      "Train accuracy 0.09758730232715607\n",
      "Test accuracy 0.09728571772575378\n",
      "epoch: 1\n",
      "Train accuracy 0.0652380958199501\n",
      "Test accuracy 0.06671428680419922\n",
      "epoch: 2\n",
      "Train accuracy 0.08395238220691681\n",
      "Test accuracy 0.08642856776714325\n",
      "epoch: 3\n",
      "Train accuracy 0.04580952227115631\n",
      "Test accuracy 0.04899999871850014\n",
      "epoch: 4\n",
      "Train accuracy 0.06715872883796692\n",
      "Test accuracy 0.06857142597436905\n"
     ]
    }
   ],
   "source": [
    "label_mapping = {\n",
    "    0: 0,\n",
    "    1: 7,\n",
    "    2: 4,\n",
    "    3: 8,\n",
    "    4: 9,\n",
    "    5: 3,\n",
    "    6: 5,\n",
    "    7: 1,\n",
    "    8: 6,\n",
    "    9: 2\n",
    "}\n",
    "\n",
    "mixture_assignments_train = create_mixture_assignments(\n",
    "    label_mapping=label_mapping, \n",
    "    onehot_encoder=mnist_onehot_encoder, \n",
    "    y_train=mnist_labels_train_perm)\n",
    "\n",
    "mixture_assignments_test = create_mixture_assignments(\n",
    "    label_mapping=label_mapping, \n",
    "    onehot_encoder=mnist_onehot_encoder, \n",
    "    y_train=mnist_labels_test)\n",
    "\n",
    "mnist_dslgmm = train_dslgmm_model(\n",
    "                train_data=mnist_train_perm, \n",
    "                train_labels=mnist_labels_train_perm, \n",
    "                test_data=mnist_test, \n",
    "                test_labels=mnist_labels_test, \n",
    "                hidden_dims=[512,256,128], \n",
    "                epochs=5, \n",
    "                omega=0.6,\n",
    "                mixture_assignments_train=mixture_assignments_train,\n",
    "                mixture_assignments_test=mixture_assignments_test,\n",
    "                one_hot_encoder=mnist_onehot_encoder\n",
    ")\n",
    "\n"
   ]
  },
  {
   "cell_type": "code",
   "execution_count": 129,
   "metadata": {},
   "outputs": [],
   "source": [
    "def show_many_images(images, digit, columns=3):\n",
    "\n",
    "    base_index=digit*columns\n",
    "    for i in range(columns):\n",
    "        image = images[i].reshape(28, 28)   # not necessary to reshape if ndim is set to 2\n",
    "        plt.subplot(10, columns, base_index+i+1)          # subplot with size (width 3, height 5)\n",
    "        plt.imshow(image, cmap='gray')  # cmap='gray' is for black and white picture.\n",
    "        # train[i][1] is i-th digit label\n",
    "        plt.title('label = {}'.format(digit),fontsize=21)\n",
    "        plt.axis('off')  # do not show axis value\n",
    "    plt.tight_layout()   # automatic padding between subplots"
   ]
  },
  {
   "cell_type": "code",
   "execution_count": 81,
   "metadata": {},
   "outputs": [],
   "source": [
    "def plot_many_images(images, labels, rows=4, columns=3):\n",
    "\n",
    "    ROW = rows\n",
    "    COLUMN = columns\n",
    "    for i in range(ROW * COLUMN):\n",
    "        # train[i][0] is i-th image data with size 28x28\n",
    "        image = images[i].reshape(28, 28)   # not necessary to reshape if ndim is set to 2\n",
    "        plt.subplot(ROW, COLUMN, i+1)          # subplot with size (width 3, height 5)\n",
    "        plt.imshow(image, cmap='gray')  # cmap='gray' is for black and white picture.\n",
    "        # train[i][1] is i-th digit label\n",
    "        plt.title('label = {}'.format(labels[i]),fontsize=21)\n",
    "        plt.axis('off')  # do not show axis value\n",
    "    plt.tight_layout()   # automatic padding between subplots\n",
    "    #plt.savefig('images/mnist_plot.png')\n",
    "    plt.show()"
   ]
  },
  {
   "cell_type": "code",
   "execution_count": 82,
   "metadata": {},
   "outputs": [],
   "source": [
    "\n",
    "def simulate_and_plot(digit):\n",
    "    gauss_index = label_mapping[digit]\n",
    "    plt.figure(figsize=(20,20))\n",
    "    simulated = mnist_dslgmm.simulate_from_single_gaussian(gauss_index=gauss_index, n=7)\n",
    "    plot_many_images(simulated, np.repeat(digit,10), rows=1, columns=7)\n",
    "    return simulated"
   ]
  },
  {
   "cell_type": "code",
   "execution_count": 108,
   "metadata": {},
   "outputs": [
    {
     "data": {
      "image/png": "[encoded data removed]",
      "text/plain": [
       "<Figure size 1440x1440 with 7 Axes>"
      ]
     },
     "metadata": {
      "needs_background": "light"
     },
     "output_type": "display_data"
    }
   ],
   "source": [
    "simulated_zeros = simulate_and_plot(0)"
   ]
  },
  {
   "cell_type": "code",
   "execution_count": 109,
   "metadata": {},
   "outputs": [
    {
     "data": {
      "image/png": "[encoded data removed]",
      "text/plain": [
       "<Figure size 1440x1440 with 7 Axes>"
      ]
     },
     "metadata": {
      "needs_background": "light"
     },
     "output_type": "display_data"
    }
   ],
   "source": [
    "simulated_ones = simulate_and_plot(1)"
   ]
  },
  {
   "cell_type": "code",
   "execution_count": 110,
   "metadata": {},
   "outputs": [
    {
     "data": {
      "image/png": "[encoded data removed]",
      "text/plain": [
       "<Figure size 1440x1440 with 7 Axes>"
      ]
     },
     "metadata": {
      "needs_background": "light"
     },
     "output_type": "display_data"
    }
   ],
   "source": [
    "simulated_twos = simulate_and_plot(2)"
   ]
  },
  {
   "cell_type": "code",
   "execution_count": 111,
   "metadata": {},
   "outputs": [
    {
     "data": {
      "image/png": "[encoded data removed]",
      "text/plain": [
       "<Figure size 1440x1440 with 7 Axes>"
      ]
     },
     "metadata": {
      "needs_background": "light"
     },
     "output_type": "display_data"
    }
   ],
   "source": [
    "simulated_threes = simulate_and_plot(3)"
   ]
  },
  {
   "cell_type": "code",
   "execution_count": 120,
   "metadata": {},
   "outputs": [
    {
     "data": {
      "image/png": "[encoded data removed]",
      "text/plain": [
       "<Figure size 1440x1440 with 7 Axes>"
      ]
     },
     "metadata": {
      "needs_background": "light"
     },
     "output_type": "display_data"
    }
   ],
   "source": [
    "simulated_fours = simulate_and_plot(4)"
   ]
  },
  {
   "cell_type": "code",
   "execution_count": 116,
   "metadata": {},
   "outputs": [
    {
     "data": {
      "image/png": "[encoded data removed]",
      "text/plain": [
       "<Figure size 1440x1440 with 7 Axes>"
      ]
     },
     "metadata": {
      "needs_background": "light"
     },
     "output_type": "display_data"
    }
   ],
   "source": [
    "simulated_fives = simulate_and_plot(5)"
   ]
  },
  {
   "cell_type": "code",
   "execution_count": 91,
   "metadata": {},
   "outputs": [
    {
     "data": {
      "image/png": "[encoded data removed]",
      "text/plain": [
       "<Figure size 1440x1440 with 7 Axes>"
      ]
     },
     "metadata": {
      "needs_background": "light"
     },
     "output_type": "display_data"
    }
   ],
   "source": [
    "simulated_six = simulate_and_plot(6)"
   ]
  },
  {
   "cell_type": "code",
   "execution_count": 121,
   "metadata": {},
   "outputs": [
    {
     "data": {
      "image/png": "[encoded data removed]",
      "text/plain": [
       "<Figure size 1440x1440 with 7 Axes>"
      ]
     },
     "metadata": {
      "needs_background": "light"
     },
     "output_type": "display_data"
    }
   ],
   "source": [
    "simulated_sevens = simulate_and_plot(7)"
   ]
  },
  {
   "cell_type": "code",
   "execution_count": 123,
   "metadata": {},
   "outputs": [
    {
     "data": {
      "image/png": "[encoded data removed]",
      "text/plain": [
       "<Figure size 1440x1440 with 7 Axes>"
      ]
     },
     "metadata": {
      "needs_background": "light"
     },
     "output_type": "display_data"
    }
   ],
   "source": [
    "simulated_eights = simulate_and_plot(8)"
   ]
  },
  {
   "cell_type": "code",
   "execution_count": 125,
   "metadata": {},
   "outputs": [
    {
     "data": {
      "image/png": "[encoded data removed]",
      "text/plain": [
       "<Figure size 1440x1440 with 7 Axes>"
      ]
     },
     "metadata": {
      "needs_background": "light"
     },
     "output_type": "display_data"
    }
   ],
   "source": [
    "simulated_nines = simulate_and_plot(9)"
   ]
  },
  {
   "cell_type": "code",
   "execution_count": 131,
   "metadata": {},
   "outputs": [
    {
     "data": {
      "image/png": "[encoded data removed]",
      "text/plain": [
       "<Figure size 1440x1440 with 70 Axes>"
      ]
     },
     "metadata": {
      "needs_background": "light"
     },
     "output_type": "display_data"
    }
   ],
   "source": [
    "plt.figure(figsize=(20,20))\n",
    "show_many_images(simulated_zeros, digit=0, columns=7)\n",
    "show_many_images(simulated_ones, digit=1, columns=7)\n",
    "show_many_images(simulated_twos, digit=2, columns=7)\n",
    "show_many_images(simulated_threes, digit=3, columns=7)\n",
    "show_many_images(simulated_fours, digit=4, columns=7)\n",
    "show_many_images(simulated_fives, digit=5, columns=7)\n",
    "show_many_images(simulated_six, digit=6, columns=7)\n",
    "show_many_images(simulated_sevens, digit=7, columns=7)\n",
    "show_many_images(simulated_eights, digit=8, columns=7)\n",
    "show_many_images(simulated_nines, digit=9, columns=7)\n",
    "plt.savefig('/Users/mjankowski/Desktop/generate_mnist.png', bbox_inches='tight')\n",
    "\n",
    "plt.show()"
   ]
  },
  {
   "cell_type": "code",
   "execution_count": 21,
   "metadata": {},
   "outputs": [
    {
     "data": {
      "text/plain": [
       "'/Users/mjankowski/doc/data/smsSpam/for_python/smsSpam.data.train.csv'"
      ]
     },
     "execution_count": 21,
     "metadata": {},
     "output_type": "execute_result"
    }
   ],
   "source": []
  },
  {
   "cell_type": "code",
   "execution_count": 24,
   "metadata": {},
   "outputs": [
    {
     "data": {
      "text/plain": [
       "Index(['call', 'can', 'claim', 'free', 'get', 'just', 'mobile', 'new', 'now',\n",
       "       'prize', 'reply', 'send', 'stop', 'text', 'txt', 'will'],\n",
       "      dtype='object')"
      ]
     },
     "execution_count": 24,
     "metadata": {},
     "output_type": "execute_result"
    }
   ],
   "source": [
    "smsSpam_data_raw.columns"
   ]
  },
  {
   "cell_type": "code",
   "execution_count": 13,
   "metadata": {},
   "outputs": [],
   "source": []
  },
  {
   "cell_type": "code",
   "execution_count": 80,
   "metadata": {},
   "outputs": [],
   "source": [
    "base_path + 'smsSpam.data.train.csv'\n",
    "smsSpam_data_raw = pd.read_csv(base_path + 'smsSpam.data.train.csv')\n",
    "smsSpam_labels_raw = pd.read_csv(base_path + 'smsSpam.labels.train.csv', header=None).values\n",
    "first_class_cond = (smsSpam_labels_raw==0)\n",
    "second_class_cond = (smsSpam_labels_raw==1)"
   ]
  },
  {
   "cell_type": "code",
   "execution_count": 81,
   "metadata": {},
   "outputs": [
    {
     "data": {
      "text/html": [
       "<div>\n",
       "<style scoped>\n",
       "    .dataframe tbody tr th:only-of-type {\n",
       "        vertical-align: middle;\n",
       "    }\n",
       "\n",
       "    .dataframe tbody tr th {\n",
       "        vertical-align: top;\n",
       "    }\n",
       "\n",
       "    .dataframe thead th {\n",
       "        text-align: right;\n",
       "    }\n",
       "</style>\n",
       "<table border=\"1\" class=\"dataframe\">\n",
       "  <thead>\n",
       "    <tr style=\"text-align: right;\">\n",
       "      <th></th>\n",
       "      <th>count</th>\n",
       "    </tr>\n",
       "  </thead>\n",
       "  <tbody>\n",
       "    <tr>\n",
       "      <th>can</th>\n",
       "      <td>55</td>\n",
       "    </tr>\n",
       "    <tr>\n",
       "      <th>now</th>\n",
       "      <td>44</td>\n",
       "    </tr>\n",
       "    <tr>\n",
       "      <th>will</th>\n",
       "      <td>40</td>\n",
       "    </tr>\n",
       "    <tr>\n",
       "      <th>just</th>\n",
       "      <td>38</td>\n",
       "    </tr>\n",
       "    <tr>\n",
       "      <th>call</th>\n",
       "      <td>32</td>\n",
       "    </tr>\n",
       "    <tr>\n",
       "      <th>get</th>\n",
       "      <td>29</td>\n",
       "    </tr>\n",
       "    <tr>\n",
       "      <th>send</th>\n",
       "      <td>22</td>\n",
       "    </tr>\n",
       "    <tr>\n",
       "      <th>new</th>\n",
       "      <td>8</td>\n",
       "    </tr>\n",
       "    <tr>\n",
       "      <th>free</th>\n",
       "      <td>6</td>\n",
       "    </tr>\n",
       "    <tr>\n",
       "      <th>text</th>\n",
       "      <td>6</td>\n",
       "    </tr>\n",
       "    <tr>\n",
       "      <th>stop</th>\n",
       "      <td>5</td>\n",
       "    </tr>\n",
       "    <tr>\n",
       "      <th>reply</th>\n",
       "      <td>4</td>\n",
       "    </tr>\n",
       "    <tr>\n",
       "      <th>mobile</th>\n",
       "      <td>2</td>\n",
       "    </tr>\n",
       "    <tr>\n",
       "      <th>txt</th>\n",
       "      <td>2</td>\n",
       "    </tr>\n",
       "    <tr>\n",
       "      <th>claim</th>\n",
       "      <td>0</td>\n",
       "    </tr>\n",
       "    <tr>\n",
       "      <th>prize</th>\n",
       "      <td>0</td>\n",
       "    </tr>\n",
       "  </tbody>\n",
       "</table>\n",
       "</div>"
      ],
      "text/plain": [
       "        count\n",
       "can        55\n",
       "now        44\n",
       "will       40\n",
       "just       38\n",
       "call       32\n",
       "get        29\n",
       "send       22\n",
       "new         8\n",
       "free        6\n",
       "text        6\n",
       "stop        5\n",
       "reply       4\n",
       "mobile      2\n",
       "txt         2\n",
       "claim       0\n",
       "prize       0"
      ]
     },
     "execution_count": 81,
     "metadata": {},
     "output_type": "execute_result"
    }
   ],
   "source": [
    "stats_0 = pd.DataFrame(smsSpam_data_raw[first_class_cond].sum(axis=0), columns=['count'])\n",
    "stats_0.sort_values(by='count', ascending=False)"
   ]
  },
  {
   "cell_type": "code",
   "execution_count": 13,
   "metadata": {},
   "outputs": [],
   "source": [
    "stats_1 =  pd.DataFrame(smsSpam_data_raw[second_class_cond].sum(axis=0), columns=['count'])\n",
    "stats_1.sort_values(by='count', ascending=False)"
   ]
  },
  {
   "cell_type": "code",
   "execution_count": null,
   "metadata": {},
   "outputs": [],
   "source": []
  },
  {
   "cell_type": "code",
   "execution_count": null,
   "metadata": {},
   "outputs": [],
   "source": []
  },
  {
   "cell_type": "code",
   "execution_count": 9,
   "metadata": {},
   "outputs": [
    {
     "name": "stdout",
     "output_type": "stream",
     "text": [
      "Starting autoencoder. Log folder=/tmp/class_vae/deep/07_05_2019/20190507143629\n",
      "WARNING:tensorflow:From /anaconda3/envs/vae_tests/lib/python3.6/site-packages/vae_lib-0.0.1-py3.6.egg/vae_lib/utils/static_gmm_on_circle.py:30: MultivariateNormalFullCovariance.__init__ (from tensorflow.contrib.distributions.python.ops.mvn_full_covariance) is deprecated and will be removed after 2018-10-01.\n",
      "Instructions for updating:\n",
      "The TensorFlow Distributions library has moved to TensorFlow Probability (https://github.com/tensorflow/probability). You should update all references to use `tfp.distributions` instead of `tf.contrib.distributions`.\n",
      "WARNING:tensorflow:From /anaconda3/envs/vae_tests/lib/python3.6/site-packages/tensorflow/contrib/distributions/python/ops/mvn_full_covariance.py:195: MultivariateNormalTriL.__init__ (from tensorflow.contrib.distributions.python.ops.mvn_tril) is deprecated and will be removed after 2018-10-01.\n",
      "Instructions for updating:\n",
      "The TensorFlow Distributions library has moved to TensorFlow Probability (https://github.com/tensorflow/probability). You should update all references to use `tfp.distributions` instead of `tf.contrib.distributions`.\n",
      "WARNING:tensorflow:From /anaconda3/envs/vae_tests/lib/python3.6/site-packages/tensorflow/contrib/distributions/python/ops/mvn_tril.py:222: MultivariateNormalLinearOperator.__init__ (from tensorflow.contrib.distributions.python.ops.mvn_linear_operator) is deprecated and will be removed after 2018-10-01.\n",
      "Instructions for updating:\n",
      "The TensorFlow Distributions library has moved to TensorFlow Probability (https://github.com/tensorflow/probability). You should update all references to use `tfp.distributions` instead of `tf.contrib.distributions`.\n",
      "WARNING:tensorflow:From /anaconda3/envs/vae_tests/lib/python3.6/site-packages/tensorflow/contrib/distributions/python/ops/mvn_linear_operator.py:201: AffineLinearOperator.__init__ (from tensorflow.contrib.distributions.python.ops.bijectors.affine_linear_operator) is deprecated and will be removed after 2018-10-01.\n",
      "Instructions for updating:\n",
      "The TensorFlow Distributions library has moved to TensorFlow Probability (https://github.com/tensorflow/probability). You should update all references to use `tfp.distributions` instead of `tf.contrib.distributions`.\n",
      "WARNING:tensorflow:From /anaconda3/envs/vae_tests/lib/python3.6/site-packages/tensorflow/contrib/distributions/python/ops/bijectors/affine_linear_operator.py:158: _DistributionShape.__init__ (from tensorflow.contrib.distributions.python.ops.shape) is deprecated and will be removed after 2018-10-01.\n",
      "Instructions for updating:\n",
      "The TensorFlow Distributions library has moved to TensorFlow Probability (https://github.com/tensorflow/probability). You should update all references to use `tfp.distributions` instead of `tf.contrib.distributions`.\n",
      "Hidden shape: (?, 2)\n",
      "self.posterior_predictive_probs_y.shape [None, 2]\n",
      "self.y.shape [None, 2]\n",
      "xy.shape [None, 18]\n",
      "n_batches: 11\n",
      "epoch: 0\n",
      "Train accuracy 0.7237196564674377\n",
      "Test accuracy 0.7099999785423279\n",
      "epoch: 1\n",
      "Train accuracy 0.7237196564674377\n",
      "Test accuracy 0.7099999785423279\n",
      "epoch: 2\n",
      "Train accuracy 0.7237196564674377\n",
      "Test accuracy 0.7099999785423279\n",
      "epoch: 3\n",
      "Train accuracy 0.7237196564674377\n",
      "Test accuracy 0.7099999785423279\n",
      "epoch: 4\n",
      "Train accuracy 0.7237196564674377\n",
      "Test accuracy 0.7099999785423279\n"
     ]
    }
   ],
   "source": [
    "smsSpam_dslgmm = train_dslgmm_model(\n",
    "                train_data=smsSpam_data_train_perm, \n",
    "                train_labels=smsSpam_labels_train_one_hot_perm, \n",
    "                test_data=smsSpam_data_test, \n",
    "                test_labels=smsSpam_labels_test_one_hot, \n",
    "                hidden_dims=[512,256,128], \n",
    "                epochs=5, \n",
    "                omega=0.5,\n",
    "                mixture_assignments_train=smsSpam_labels_train_one_hot_perm,\n",
    "                mixture_assignments_test=smsSpam_labels_test_one_hot,\n",
    "                one_hot_encoder=smsSpam_onehot_encoder\n",
    ")"
   ]
  },
  {
   "cell_type": "code",
   "execution_count": 25,
   "metadata": {},
   "outputs": [],
   "source": [
    "smsSpam_dslgmm,smsSpam_data_raw.columns"
   ]
  },
  {
   "cell_type": "code",
   "execution_count": 12,
   "metadata": {},
   "outputs": [],
   "source": [
    "def top_words(model, class_index, n, columns):\n",
    "    simulated_0 = model.simulate_from_single_gaussian_discrete(gauss_index=class_index, n=n)\n",
    "    simulated_0_pd = pd.DataFrame(simulated_0, columns=columns)\n",
    "    simulated_stats_0 = pd.DataFrame(simulated_0_pd.sum(axis=0), columns=['count'])\n",
    "    return simulated_stats_0.sort_values(by='count', ascending=False)\n",
    "     "
   ]
  },
  {
   "cell_type": "code",
   "execution_count": 92,
   "metadata": {},
   "outputs": [
    {
     "data": {
      "text/html": [
       "<div>\n",
       "<style scoped>\n",
       "    .dataframe tbody tr th:only-of-type {\n",
       "        vertical-align: middle;\n",
       "    }\n",
       "\n",
       "    .dataframe tbody tr th {\n",
       "        vertical-align: top;\n",
       "    }\n",
       "\n",
       "    .dataframe thead th {\n",
       "        text-align: right;\n",
       "    }\n",
       "</style>\n",
       "<table border=\"1\" class=\"dataframe\">\n",
       "  <thead>\n",
       "    <tr style=\"text-align: right;\">\n",
       "      <th></th>\n",
       "      <th>count</th>\n",
       "    </tr>\n",
       "  </thead>\n",
       "  <tbody>\n",
       "    <tr>\n",
       "      <th>will</th>\n",
       "      <td>293</td>\n",
       "    </tr>\n",
       "    <tr>\n",
       "      <th>just</th>\n",
       "      <td>275</td>\n",
       "    </tr>\n",
       "    <tr>\n",
       "      <th>can</th>\n",
       "      <td>271</td>\n",
       "    </tr>\n",
       "    <tr>\n",
       "      <th>now</th>\n",
       "      <td>211</td>\n",
       "    </tr>\n",
       "    <tr>\n",
       "      <th>call</th>\n",
       "      <td>157</td>\n",
       "    </tr>\n",
       "    <tr>\n",
       "      <th>get</th>\n",
       "      <td>152</td>\n",
       "    </tr>\n",
       "    <tr>\n",
       "      <th>send</th>\n",
       "      <td>82</td>\n",
       "    </tr>\n",
       "    <tr>\n",
       "      <th>stop</th>\n",
       "      <td>38</td>\n",
       "    </tr>\n",
       "    <tr>\n",
       "      <th>new</th>\n",
       "      <td>37</td>\n",
       "    </tr>\n",
       "    <tr>\n",
       "      <th>free</th>\n",
       "      <td>36</td>\n",
       "    </tr>\n",
       "    <tr>\n",
       "      <th>txt</th>\n",
       "      <td>29</td>\n",
       "    </tr>\n",
       "    <tr>\n",
       "      <th>prize</th>\n",
       "      <td>26</td>\n",
       "    </tr>\n",
       "    <tr>\n",
       "      <th>reply</th>\n",
       "      <td>21</td>\n",
       "    </tr>\n",
       "    <tr>\n",
       "      <th>text</th>\n",
       "      <td>20</td>\n",
       "    </tr>\n",
       "    <tr>\n",
       "      <th>mobile</th>\n",
       "      <td>18</td>\n",
       "    </tr>\n",
       "    <tr>\n",
       "      <th>claim</th>\n",
       "      <td>16</td>\n",
       "    </tr>\n",
       "  </tbody>\n",
       "</table>\n",
       "</div>"
      ],
      "text/plain": [
       "        count\n",
       "will      293\n",
       "just      275\n",
       "can       271\n",
       "now       211\n",
       "call      157\n",
       "get       152\n",
       "send       82\n",
       "stop       38\n",
       "new        37\n",
       "free       36\n",
       "txt        29\n",
       "prize      26\n",
       "reply      21\n",
       "text       20\n",
       "mobile     18\n",
       "claim      16"
      ]
     },
     "execution_count": 92,
     "metadata": {},
     "output_type": "execute_result"
    }
   ],
   "source": [
    "top_words(smsSpam_dslgmm, 0, 1000, smsSpam_data_raw.columns)"
   ]
  },
  {
   "cell_type": "code",
   "execution_count": 84,
   "metadata": {},
   "outputs": [
    {
     "data": {
      "text/html": [
       "<div>\n",
       "<style scoped>\n",
       "    .dataframe tbody tr th:only-of-type {\n",
       "        vertical-align: middle;\n",
       "    }\n",
       "\n",
       "    .dataframe tbody tr th {\n",
       "        vertical-align: top;\n",
       "    }\n",
       "\n",
       "    .dataframe thead th {\n",
       "        text-align: right;\n",
       "    }\n",
       "</style>\n",
       "<table border=\"1\" class=\"dataframe\">\n",
       "  <thead>\n",
       "    <tr style=\"text-align: right;\">\n",
       "      <th></th>\n",
       "      <th>count</th>\n",
       "    </tr>\n",
       "  </thead>\n",
       "  <tbody>\n",
       "    <tr>\n",
       "      <th>will</th>\n",
       "      <td>286</td>\n",
       "    </tr>\n",
       "    <tr>\n",
       "      <th>just</th>\n",
       "      <td>285</td>\n",
       "    </tr>\n",
       "    <tr>\n",
       "      <th>can</th>\n",
       "      <td>283</td>\n",
       "    </tr>\n",
       "    <tr>\n",
       "      <th>now</th>\n",
       "      <td>189</td>\n",
       "    </tr>\n",
       "    <tr>\n",
       "      <th>call</th>\n",
       "      <td>183</td>\n",
       "    </tr>\n",
       "    <tr>\n",
       "      <th>get</th>\n",
       "      <td>144</td>\n",
       "    </tr>\n",
       "    <tr>\n",
       "      <th>send</th>\n",
       "      <td>56</td>\n",
       "    </tr>\n",
       "    <tr>\n",
       "      <th>free</th>\n",
       "      <td>51</td>\n",
       "    </tr>\n",
       "    <tr>\n",
       "      <th>new</th>\n",
       "      <td>30</td>\n",
       "    </tr>\n",
       "    <tr>\n",
       "      <th>txt</th>\n",
       "      <td>25</td>\n",
       "    </tr>\n",
       "    <tr>\n",
       "      <th>reply</th>\n",
       "      <td>23</td>\n",
       "    </tr>\n",
       "    <tr>\n",
       "      <th>stop</th>\n",
       "      <td>23</td>\n",
       "    </tr>\n",
       "    <tr>\n",
       "      <th>text</th>\n",
       "      <td>18</td>\n",
       "    </tr>\n",
       "    <tr>\n",
       "      <th>claim</th>\n",
       "      <td>17</td>\n",
       "    </tr>\n",
       "    <tr>\n",
       "      <th>mobile</th>\n",
       "      <td>16</td>\n",
       "    </tr>\n",
       "    <tr>\n",
       "      <th>prize</th>\n",
       "      <td>10</td>\n",
       "    </tr>\n",
       "  </tbody>\n",
       "</table>\n",
       "</div>"
      ],
      "text/plain": [
       "        count\n",
       "will      286\n",
       "just      285\n",
       "can       283\n",
       "now       189\n",
       "call      183\n",
       "get       144\n",
       "send       56\n",
       "free       51\n",
       "new        30\n",
       "txt        25\n",
       "reply      23\n",
       "stop       23\n",
       "text       18\n",
       "claim      17\n",
       "mobile     16\n",
       "prize      10"
      ]
     },
     "execution_count": 84,
     "metadata": {},
     "output_type": "execute_result"
    }
   ],
   "source": [
    "top_words(smsSpam_dslgmm, 0, 1000, smsSpam_data_raw.columns)"
   ]
  },
  {
   "cell_type": "code",
   "execution_count": 78,
   "metadata": {},
   "outputs": [
    {
     "data": {
      "text/html": [
       "<div>\n",
       "<style scoped>\n",
       "    .dataframe tbody tr th:only-of-type {\n",
       "        vertical-align: middle;\n",
       "    }\n",
       "\n",
       "    .dataframe tbody tr th {\n",
       "        vertical-align: top;\n",
       "    }\n",
       "\n",
       "    .dataframe thead th {\n",
       "        text-align: right;\n",
       "    }\n",
       "</style>\n",
       "<table border=\"1\" class=\"dataframe\">\n",
       "  <thead>\n",
       "    <tr style=\"text-align: right;\">\n",
       "      <th></th>\n",
       "      <th>count</th>\n",
       "    </tr>\n",
       "  </thead>\n",
       "  <tbody>\n",
       "    <tr>\n",
       "      <th>call</th>\n",
       "      <td>633</td>\n",
       "    </tr>\n",
       "    <tr>\n",
       "      <th>free</th>\n",
       "      <td>423</td>\n",
       "    </tr>\n",
       "    <tr>\n",
       "      <th>now</th>\n",
       "      <td>332</td>\n",
       "    </tr>\n",
       "    <tr>\n",
       "      <th>txt</th>\n",
       "      <td>303</td>\n",
       "    </tr>\n",
       "    <tr>\n",
       "      <th>text</th>\n",
       "      <td>262</td>\n",
       "    </tr>\n",
       "    <tr>\n",
       "      <th>mobile</th>\n",
       "      <td>245</td>\n",
       "    </tr>\n",
       "    <tr>\n",
       "      <th>prize</th>\n",
       "      <td>213</td>\n",
       "    </tr>\n",
       "    <tr>\n",
       "      <th>stop</th>\n",
       "      <td>212</td>\n",
       "    </tr>\n",
       "    <tr>\n",
       "      <th>claim</th>\n",
       "      <td>207</td>\n",
       "    </tr>\n",
       "    <tr>\n",
       "      <th>reply</th>\n",
       "      <td>175</td>\n",
       "    </tr>\n",
       "    <tr>\n",
       "      <th>get</th>\n",
       "      <td>166</td>\n",
       "    </tr>\n",
       "    <tr>\n",
       "      <th>just</th>\n",
       "      <td>138</td>\n",
       "    </tr>\n",
       "    <tr>\n",
       "      <th>new</th>\n",
       "      <td>138</td>\n",
       "    </tr>\n",
       "    <tr>\n",
       "      <th>send</th>\n",
       "      <td>130</td>\n",
       "    </tr>\n",
       "    <tr>\n",
       "      <th>will</th>\n",
       "      <td>84</td>\n",
       "    </tr>\n",
       "    <tr>\n",
       "      <th>can</th>\n",
       "      <td>47</td>\n",
       "    </tr>\n",
       "  </tbody>\n",
       "</table>\n",
       "</div>"
      ],
      "text/plain": [
       "        count\n",
       "call      633\n",
       "free      423\n",
       "now       332\n",
       "txt       303\n",
       "text      262\n",
       "mobile    245\n",
       "prize     213\n",
       "stop      212\n",
       "claim     207\n",
       "reply     175\n",
       "get       166\n",
       "just      138\n",
       "new       138\n",
       "send      130\n",
       "will       84\n",
       "can        47"
      ]
     },
     "execution_count": 78,
     "metadata": {},
     "output_type": "execute_result"
    }
   ],
   "source": [
    "top_words(smsSpam_dslgmm, 1, 1000, smsSpam_data_raw.columns)"
   ]
  },
  {
   "cell_type": "code",
   "execution_count": 42,
   "metadata": {},
   "outputs": [
    {
     "data": {
      "text/html": [
       "<div>\n",
       "<style scoped>\n",
       "    .dataframe tbody tr th:only-of-type {\n",
       "        vertical-align: middle;\n",
       "    }\n",
       "\n",
       "    .dataframe tbody tr th {\n",
       "        vertical-align: top;\n",
       "    }\n",
       "\n",
       "    .dataframe thead th {\n",
       "        text-align: right;\n",
       "    }\n",
       "</style>\n",
       "<table border=\"1\" class=\"dataframe\">\n",
       "  <thead>\n",
       "    <tr style=\"text-align: right;\">\n",
       "      <th></th>\n",
       "      <th>count</th>\n",
       "    </tr>\n",
       "  </thead>\n",
       "  <tbody>\n",
       "    <tr>\n",
       "      <th>call</th>\n",
       "      <td>626</td>\n",
       "    </tr>\n",
       "    <tr>\n",
       "      <th>free</th>\n",
       "      <td>423</td>\n",
       "    </tr>\n",
       "    <tr>\n",
       "      <th>now</th>\n",
       "      <td>320</td>\n",
       "    </tr>\n",
       "    <tr>\n",
       "      <th>txt</th>\n",
       "      <td>302</td>\n",
       "    </tr>\n",
       "    <tr>\n",
       "      <th>mobile</th>\n",
       "      <td>285</td>\n",
       "    </tr>\n",
       "    <tr>\n",
       "      <th>claim</th>\n",
       "      <td>232</td>\n",
       "    </tr>\n",
       "    <tr>\n",
       "      <th>text</th>\n",
       "      <td>232</td>\n",
       "    </tr>\n",
       "    <tr>\n",
       "      <th>stop</th>\n",
       "      <td>217</td>\n",
       "    </tr>\n",
       "    <tr>\n",
       "      <th>prize</th>\n",
       "      <td>202</td>\n",
       "    </tr>\n",
       "    <tr>\n",
       "      <th>reply</th>\n",
       "      <td>170</td>\n",
       "    </tr>\n",
       "    <tr>\n",
       "      <th>just</th>\n",
       "      <td>150</td>\n",
       "    </tr>\n",
       "    <tr>\n",
       "      <th>new</th>\n",
       "      <td>149</td>\n",
       "    </tr>\n",
       "    <tr>\n",
       "      <th>get</th>\n",
       "      <td>140</td>\n",
       "    </tr>\n",
       "    <tr>\n",
       "      <th>will</th>\n",
       "      <td>109</td>\n",
       "    </tr>\n",
       "    <tr>\n",
       "      <th>send</th>\n",
       "      <td>108</td>\n",
       "    </tr>\n",
       "    <tr>\n",
       "      <th>can</th>\n",
       "      <td>56</td>\n",
       "    </tr>\n",
       "  </tbody>\n",
       "</table>\n",
       "</div>"
      ],
      "text/plain": [
       "        count\n",
       "call      626\n",
       "free      423\n",
       "now       320\n",
       "txt       302\n",
       "mobile    285\n",
       "claim     232\n",
       "text      232\n",
       "stop      217\n",
       "prize     202\n",
       "reply     170\n",
       "just      150\n",
       "new       149\n",
       "get       140\n",
       "will      109\n",
       "send      108\n",
       "can        56"
      ]
     },
     "execution_count": 42,
     "metadata": {},
     "output_type": "execute_result"
    }
   ],
   "source": [
    "simulated_1 = smsSpam_dslgmm.simulate_from_single_gaussian_discrete(gauss_index=1, n=1000)\n",
    "simulated_1_pd = pd.DataFrame(simulated_1, columns=smsSpam_data_raw.columns)\n",
    "simulated_stats_0 = pd.DataFrame(simulated_1_pd.sum(axis=0), columns=['count'])\n",
    "simulated_stats_0.sort_values(by='count', ascending=False)"
   ]
  },
  {
   "cell_type": "code",
   "execution_count": 13,
   "metadata": {},
   "outputs": [],
   "source": [
    "poliblog_base_path='/Users/mjankowski/doc/data/poliblog/for_python/'\n",
    "poliblog_data_raw = pd.read_csv(poliblog_base_path + 'poliblog.data.train.csv')\n",
    "poliblog_labels_raw = pd.read_csv(poliblog_base_path + 'poliblog.ratings.train.csv', header=None).values\n",
    "poliblog_first_class_cond = (poliblog_labels_raw==0)\n",
    "poliblog_second_class_cond = (poliblog_labels_raw==1)\n",
    "\n",
    "poliblog_data_raw = (poliblog_data_raw >= 1.0).astype(np.float32)\n"
   ]
  },
  {
   "cell_type": "code",
   "execution_count": 14,
   "metadata": {},
   "outputs": [
    {
     "data": {
      "text/html": [
       "<div>\n",
       "<style scoped>\n",
       "    .dataframe tbody tr th:only-of-type {\n",
       "        vertical-align: middle;\n",
       "    }\n",
       "\n",
       "    .dataframe tbody tr th {\n",
       "        vertical-align: top;\n",
       "    }\n",
       "\n",
       "    .dataframe thead th {\n",
       "        text-align: right;\n",
       "    }\n",
       "</style>\n",
       "<table border=\"1\" class=\"dataframe\">\n",
       "  <thead>\n",
       "    <tr style=\"text-align: right;\">\n",
       "      <th></th>\n",
       "      <th>count</th>\n",
       "    </tr>\n",
       "  </thead>\n",
       "  <tbody>\n",
       "    <tr>\n",
       "      <th>just</th>\n",
       "      <td>168.0</td>\n",
       "    </tr>\n",
       "    <tr>\n",
       "      <th>obama</th>\n",
       "      <td>157.0</td>\n",
       "    </tr>\n",
       "    <tr>\n",
       "      <th>clinton</th>\n",
       "      <td>149.0</td>\n",
       "    </tr>\n",
       "    <tr>\n",
       "      <th>said</th>\n",
       "      <td>142.0</td>\n",
       "    </tr>\n",
       "    <tr>\n",
       "      <th>like</th>\n",
       "      <td>139.0</td>\n",
       "    </tr>\n",
       "    <tr>\n",
       "      <th>new</th>\n",
       "      <td>134.0</td>\n",
       "    </tr>\n",
       "    <tr>\n",
       "      <th>people</th>\n",
       "      <td>129.0</td>\n",
       "    </tr>\n",
       "    <tr>\n",
       "      <th>campaign</th>\n",
       "      <td>127.0</td>\n",
       "    </tr>\n",
       "    <tr>\n",
       "      <th>time</th>\n",
       "      <td>126.0</td>\n",
       "    </tr>\n",
       "    <tr>\n",
       "      <th>democratic</th>\n",
       "      <td>124.0</td>\n",
       "    </tr>\n",
       "    <tr>\n",
       "      <th>thats</th>\n",
       "      <td>111.0</td>\n",
       "    </tr>\n",
       "    <tr>\n",
       "      <th>get</th>\n",
       "      <td>111.0</td>\n",
       "    </tr>\n",
       "    <tr>\n",
       "      <th>state</th>\n",
       "      <td>109.0</td>\n",
       "    </tr>\n",
       "    <tr>\n",
       "      <th>think</th>\n",
       "      <td>109.0</td>\n",
       "    </tr>\n",
       "    <tr>\n",
       "      <th>last</th>\n",
       "      <td>108.0</td>\n",
       "    </tr>\n",
       "    <tr>\n",
       "      <th>years</th>\n",
       "      <td>107.0</td>\n",
       "    </tr>\n",
       "    <tr>\n",
       "      <th>two</th>\n",
       "      <td>106.0</td>\n",
       "    </tr>\n",
       "    <tr>\n",
       "      <th>mccain</th>\n",
       "      <td>104.0</td>\n",
       "    </tr>\n",
       "    <tr>\n",
       "      <th>john</th>\n",
       "      <td>103.0</td>\n",
       "    </tr>\n",
       "    <tr>\n",
       "      <th>say</th>\n",
       "      <td>102.0</td>\n",
       "    </tr>\n",
       "  </tbody>\n",
       "</table>\n",
       "</div>"
      ],
      "text/plain": [
       "            count\n",
       "just        168.0\n",
       "obama       157.0\n",
       "clinton     149.0\n",
       "said        142.0\n",
       "like        139.0\n",
       "new         134.0\n",
       "people      129.0\n",
       "campaign    127.0\n",
       "time        126.0\n",
       "democratic  124.0\n",
       "thats       111.0\n",
       "get         111.0\n",
       "state       109.0\n",
       "think       109.0\n",
       "last        108.0\n",
       "years       107.0\n",
       "two         106.0\n",
       "mccain      104.0\n",
       "john        103.0\n",
       "say         102.0"
      ]
     },
     "execution_count": 14,
     "metadata": {},
     "output_type": "execute_result"
    }
   ],
   "source": [
    "poliblog_stats_0 = pd.DataFrame(poliblog_data_raw[poliblog_first_class_cond].sum(axis=0), columns=['count'])\n",
    "poliblog_stats_0.sort_values(by='count', ascending=False).head(20)"
   ]
  },
  {
   "cell_type": "code",
   "execution_count": 15,
   "metadata": {},
   "outputs": [
    {
     "data": {
      "text/html": [
       "<div>\n",
       "<style scoped>\n",
       "    .dataframe tbody tr th:only-of-type {\n",
       "        vertical-align: middle;\n",
       "    }\n",
       "\n",
       "    .dataframe tbody tr th {\n",
       "        vertical-align: top;\n",
       "    }\n",
       "\n",
       "    .dataframe thead th {\n",
       "        text-align: right;\n",
       "    }\n",
       "</style>\n",
       "<table border=\"1\" class=\"dataframe\">\n",
       "  <thead>\n",
       "    <tr style=\"text-align: right;\">\n",
       "      <th></th>\n",
       "      <th>count</th>\n",
       "    </tr>\n",
       "  </thead>\n",
       "  <tbody>\n",
       "    <tr>\n",
       "      <th>obama</th>\n",
       "      <td>137.0</td>\n",
       "    </tr>\n",
       "    <tr>\n",
       "      <th>just</th>\n",
       "      <td>128.0</td>\n",
       "    </tr>\n",
       "    <tr>\n",
       "      <th>people</th>\n",
       "      <td>125.0</td>\n",
       "    </tr>\n",
       "    <tr>\n",
       "      <th>like</th>\n",
       "      <td>124.0</td>\n",
       "    </tr>\n",
       "    <tr>\n",
       "      <th>said</th>\n",
       "      <td>110.0</td>\n",
       "    </tr>\n",
       "    <tr>\n",
       "      <th>get</th>\n",
       "      <td>99.0</td>\n",
       "    </tr>\n",
       "    <tr>\n",
       "      <th>barack</th>\n",
       "      <td>98.0</td>\n",
       "    </tr>\n",
       "    <tr>\n",
       "      <th>read</th>\n",
       "      <td>93.0</td>\n",
       "    </tr>\n",
       "    <tr>\n",
       "      <th>dont</th>\n",
       "      <td>91.0</td>\n",
       "    </tr>\n",
       "    <tr>\n",
       "      <th>make</th>\n",
       "      <td>90.0</td>\n",
       "    </tr>\n",
       "    <tr>\n",
       "      <th>know</th>\n",
       "      <td>90.0</td>\n",
       "    </tr>\n",
       "    <tr>\n",
       "      <th>new</th>\n",
       "      <td>88.0</td>\n",
       "    </tr>\n",
       "    <tr>\n",
       "      <th>time</th>\n",
       "      <td>86.0</td>\n",
       "    </tr>\n",
       "    <tr>\n",
       "      <th>two</th>\n",
       "      <td>85.0</td>\n",
       "    </tr>\n",
       "    <tr>\n",
       "      <th>democratic</th>\n",
       "      <td>83.0</td>\n",
       "    </tr>\n",
       "    <tr>\n",
       "      <th>first</th>\n",
       "      <td>83.0</td>\n",
       "    </tr>\n",
       "    <tr>\n",
       "      <th>campaign</th>\n",
       "      <td>81.0</td>\n",
       "    </tr>\n",
       "    <tr>\n",
       "      <th>last</th>\n",
       "      <td>81.0</td>\n",
       "    </tr>\n",
       "    <tr>\n",
       "      <th>see</th>\n",
       "      <td>80.0</td>\n",
       "    </tr>\n",
       "    <tr>\n",
       "      <th>mccain</th>\n",
       "      <td>79.0</td>\n",
       "    </tr>\n",
       "  </tbody>\n",
       "</table>\n",
       "</div>"
      ],
      "text/plain": [
       "            count\n",
       "obama       137.0\n",
       "just        128.0\n",
       "people      125.0\n",
       "like        124.0\n",
       "said        110.0\n",
       "get          99.0\n",
       "barack       98.0\n",
       "read         93.0\n",
       "dont         91.0\n",
       "make         90.0\n",
       "know         90.0\n",
       "new          88.0\n",
       "time         86.0\n",
       "two          85.0\n",
       "democratic   83.0\n",
       "first        83.0\n",
       "campaign     81.0\n",
       "last         81.0\n",
       "see          80.0\n",
       "mccain       79.0"
      ]
     },
     "execution_count": 15,
     "metadata": {},
     "output_type": "execute_result"
    }
   ],
   "source": [
    "poliblog_stats_1 = pd.DataFrame(poliblog_data_raw[poliblog_second_class_cond].sum(axis=0), columns=['count'])\n",
    "poliblog_stats_1.sort_values(by='count', ascending=False).head(20)"
   ]
  },
  {
   "cell_type": "code",
   "execution_count": 26,
   "metadata": {},
   "outputs": [
    {
     "name": "stdout",
     "output_type": "stream",
     "text": [
      "Starting autoencoder. Log folder=/tmp/class_vae/deep/13_05_2019/20190513151040\n",
      "Hidden shape: (?, 2)\n",
      "self.posterior_predictive_probs_y.shape [None, 2]\n",
      "self.y.shape [None, 2]\n",
      "xy.shape [None, 1292]\n"
     ]
    },
    {
     "name": "stderr",
     "output_type": "stream",
     "text": [
      "/anaconda3/envs/vae_tests/lib/python3.6/site-packages/tensorflow/python/client/session.py:1702: UserWarning: An interactive session is already active. This can cause out-of-memory errors in some cases. You must explicitly call `InteractiveSession.close()` to release resources held by the other session(s).\n",
      "  warnings.warn('An interactive session is already active. This can '\n"
     ]
    },
    {
     "name": "stdout",
     "output_type": "stream",
     "text": [
      "n_batches: 8\n",
      "epoch: 0\n",
      "Train accuracy 0.4851658046245575\n",
      "Test accuracy 0.5\n",
      "epoch: 1\n",
      "Train accuracy 0.47643980383872986\n",
      "Test accuracy 0.47999998927116394\n",
      "epoch: 2\n",
      "Train accuracy 0.4991273880004883\n",
      "Test accuracy 0.4399999976158142\n",
      "epoch: 3\n",
      "Train accuracy 0.511343777179718\n",
      "Test accuracy 0.4399999976158142\n",
      "epoch: 4\n",
      "Train accuracy 0.5165793895721436\n",
      "Test accuracy 0.49000000953674316\n",
      "epoch: 5\n",
      "Train accuracy 0.46945899724960327\n",
      "Test accuracy 0.4449999928474426\n",
      "epoch: 6\n",
      "Train accuracy 0.4554973840713501\n",
      "Test accuracy 0.5\n",
      "epoch: 7\n",
      "Train accuracy 0.4851658046245575\n",
      "Test accuracy 0.48500001430511475\n",
      "epoch: 8\n",
      "Train accuracy 0.5078533887863159\n",
      "Test accuracy 0.48500001430511475\n",
      "epoch: 9\n",
      "Train accuracy 0.5095986127853394\n",
      "Test accuracy 0.4699999988079071\n"
     ]
    }
   ],
   "source": [
    "poliblog_dslgmm = train_dslgmm_model(\n",
    "                train_data=poliblog_data_train_perm, \n",
    "                train_labels=poliblog_ratings_train_one_hot_perm, \n",
    "                test_data=poliblog_data_test, \n",
    "                test_labels=poliblog_ratings_test_one_hot, \n",
    "                hidden_dims=[512,256,128], \n",
    "                epochs=10, \n",
    "                omega=1.0,\n",
    "                mixture_assignments_train=poliblog_ratings_train_one_hot_perm,\n",
    "                mixture_assignments_test=poliblog_ratings_test_one_hot,\n",
    "                one_hot_encoder=poliblog_onehot_encoder\n",
    ")"
   ]
  },
  {
   "cell_type": "code",
   "execution_count": 49,
   "metadata": {},
   "outputs": [],
   "source": [
    "poliblog_simulated_0 = poliblog_dslgmm.simulate_from_single_gaussian_discrete(gauss_index=0, n=1000)\n",
    "poliblog_simulated_1 = poliblog_dslgmm.simulate_from_single_gaussian_discrete(gauss_index=1, n=1000)\n",
    "simulated_poliblog = np.concatenate([poliblog_simulated_0, poliblog_simulated_1],axis=0)\n",
    "\n",
    "poliblog_simulated_0_labels = poliblog_onehot_encoder.transform(np.zeros(1000).reshape((-1,1)))\n",
    "poliblog_simulated_1_labels = poliblog_onehot_encoder.transform(np.ones(1000).reshape((-1,1)))\n",
    "simulated_poliblog_labels = np.concatenate([poliblog_simulated_0_labels, poliblog_simulated_1_labels],axis=0)\n",
    "simulated_poliblog_labels_integer = poliblog_onehot_encoder.inverse_transform(simulated_poliblog_labels)"
   ]
  },
  {
   "cell_type": "code",
   "execution_count": 44,
   "metadata": {},
   "outputs": [],
   "source": [
    "simulated_poliblog, simulated_poliblog_labels = permute(simulated_poliblog, simulated_poliblog_labels)"
   ]
  },
  {
   "cell_type": "code",
   "execution_count": 50,
   "metadata": {},
   "outputs": [
    {
     "data": {
      "text/plain": [
       "((2000, 1290), (2000, 2), (2000, 1))"
      ]
     },
     "execution_count": 50,
     "metadata": {},
     "output_type": "execute_result"
    }
   ],
   "source": [
    "simulated_poliblog.shape, simulated_poliblog_labels.shape, simulated_poliblog_labels_integer.shape"
   ]
  },
  {
   "cell_type": "code",
   "execution_count": 48,
   "metadata": {},
   "outputs": [],
   "source": [
    "def analyse_for_dataset(\n",
    "    train_dataset, \n",
    "    test_dataset, \n",
    "    train_labels, \n",
    "    train_labels_integer, \n",
    "    test_labels,\n",
    "    test_labels_integer):\n",
    "    \n",
    "    model = RandomForestClassifier(n_estimators=100, max_depth=5, random_state=0)\n",
    "    model.fit(train_dataset, train_labels_integer)\n",
    "    \n",
    "    test_prediction = model.predict(test_dataset)\n",
    "    rf_acc = accuracy_score(y_pred=test_prediction, y_true=test_labels_integer)\n",
    "    print(\"RF {}\".format(rf_acc))\n",
    "\n",
    "    dt_model = DecisionTreeClassifier(random_state=0)\n",
    "    dt_model.fit(train_dataset, train_labels_integer)\n",
    "    dt_prediction = dt_model.predict(test_dataset)\n",
    "    \n",
    "    dt_acc = accuracy_score(y_pred=dt_prediction, y_true=test_labels_integer)\n",
    "    print(\"RF {}\".format(dt_acc))\n",
    "\n",
    "    nb_model = BernoulliNB()\n",
    "    nb_model.fit(train_dataset, train_labels_integer)\n",
    "    \n",
    "    nb_test_prediction = nb_model.predict(test_dataset)\n",
    "    acc_naive_bayes = accuracy_score(y_pred=nb_test_prediction, y_true=test_labels_integer)\n",
    "    print(\"NB {}\".format(acc_naive_bayes))\n",
    "    \n",
    "    "
   ]
  },
  {
   "cell_type": "code",
   "execution_count": 54,
   "metadata": {},
   "outputs": [
    {
     "name": "stderr",
     "output_type": "stream",
     "text": [
      "/anaconda3/envs/vae_tests/lib/python3.6/site-packages/ipykernel_launcher.py:10: DataConversionWarning: A column-vector y was passed when a 1d array was expected. Please change the shape of y to (n_samples,), for example using ravel().\n",
      "  # Remove the CWD from sys.path while we load stuff.\n"
     ]
    },
    {
     "name": "stdout",
     "output_type": "stream",
     "text": [
      "RF 0.705\n",
      "RF 0.545\n",
      "NB 0.66\n"
     ]
    },
    {
     "name": "stderr",
     "output_type": "stream",
     "text": [
      "/anaconda3/envs/vae_tests/lib/python3.6/site-packages/sklearn/utils/validation.py:752: DataConversionWarning: A column-vector y was passed when a 1d array was expected. Please change the shape of y to (n_samples, ), for example using ravel().\n",
      "  y = column_or_1d(y, warn=True)\n"
     ]
    }
   ],
   "source": [
    "poliblog_test_labels_integers = poliblog_onehot_encoder.inverse_transform(poliblog_ratings_test_one_hot)\n",
    "analyse_for_dataset(\n",
    "    train_dataset=simulated_poliblog, \n",
    "    test_dataset=poliblog_data_test, \n",
    "    train_labels=simulated_poliblog_labels, \n",
    "    train_labels_integer=simulated_poliblog_labels_integer, \n",
    "    test_labels=poliblog_ratings_test_one_hot,\n",
    "    test_labels_integer=poliblog_test_labels_integers\n",
    ")"
   ]
  },
  {
   "cell_type": "code",
   "execution_count": 56,
   "metadata": {},
   "outputs": [
    {
     "name": "stdout",
     "output_type": "stream",
     "text": [
      "/tmp/class_vae/deep/13_05_2019/20190513154406\n"
     ]
    },
    {
     "name": "stderr",
     "output_type": "stream",
     "text": [
      "/anaconda3/envs/vae_tests/lib/python3.6/site-packages/tensorflow/python/client/session.py:1702: UserWarning: An interactive session is already active. This can cause out-of-memory errors in some cases. You must explicitly call `InteractiveSession.close()` to release resources held by the other session(s).\n",
      "  warnings.warn('An interactive session is already active. This can '\n"
     ]
    },
    {
     "name": "stdout",
     "output_type": "stream",
     "text": [
      "n_batches = 31\n",
      "Train accuracy: 65.15%\n",
      "Test accuracy: 65.0%\n",
      "Train accuracy: 98.05%\n",
      "Test accuracy: 65.0%\n",
      "Train accuracy: 99.8%\n",
      "Test accuracy: 66.0%\n",
      "Train accuracy: 100.0%\n",
      "Test accuracy: 64.5%\n",
      "Train accuracy: 100.0%\n",
      "Test accuracy: 66.5%\n",
      "Train accuracy: 100.0%\n",
      "Test accuracy: 65.5%\n",
      "Train accuracy: 100.0%\n",
      "Test accuracy: 65.0%\n",
      "Train accuracy: 100.0%\n",
      "Test accuracy: 65.5%\n",
      "Train accuracy: 100.0%\n",
      "Test accuracy: 65.5%\n",
      "Train accuracy: 100.0%\n",
      "Test accuracy: 65.5%\n",
      "Train accuracy: 100.0%\n",
      "Test accuracy: 65.5%\n",
      "Train accuracy: 100.0%\n",
      "Test accuracy: 65.5%\n",
      "Train accuracy: 100.0%\n",
      "Test accuracy: 65.5%\n",
      "Train accuracy: 100.0%\n",
      "Test accuracy: 65.5%\n",
      "Train accuracy: 100.0%\n",
      "Test accuracy: 65.5%\n",
      "Train accuracy: 100.0%\n",
      "Test accuracy: 65.5%\n",
      "Train accuracy: 100.0%\n",
      "Test accuracy: 65.5%\n",
      "Train accuracy: 100.0%\n",
      "Test accuracy: 65.5%\n",
      "Train accuracy: 100.0%\n",
      "Test accuracy: 65.5%\n",
      "Train accuracy: 100.0%\n",
      "Test accuracy: 65.5%\n"
     ]
    }
   ],
   "source": [
    "log_folder=log.get_log_folder()\n",
    "print(log_folder)\n",
    "\n",
    "tf.reset_default_graph()\n",
    "simple_nn = SimpleNN(\n",
    "    dims=[1290, 512,256,128, 2],\n",
    "    learning_rate=1e-3, \n",
    "    log_folder=log.get_log_folder())\n",
    "\n",
    "simple_nn.fit(\n",
    "    train_input=simulated_poliblog, \n",
    "    train_output=simulated_poliblog_labels, \n",
    "    test_input=poliblog_data_test, \n",
    "    test_output=poliblog_ratings_test_one_hot,\n",
    "    epochs=20)"
   ]
  },
  {
   "cell_type": "code",
   "execution_count": null,
   "metadata": {},
   "outputs": [],
   "source": []
  },
  {
   "cell_type": "code",
   "execution_count": 22,
   "metadata": {},
   "outputs": [
    {
     "data": {
      "text/html": [
       "<div>\n",
       "<style scoped>\n",
       "    .dataframe tbody tr th:only-of-type {\n",
       "        vertical-align: middle;\n",
       "    }\n",
       "\n",
       "    .dataframe tbody tr th {\n",
       "        vertical-align: top;\n",
       "    }\n",
       "\n",
       "    .dataframe thead th {\n",
       "        text-align: right;\n",
       "    }\n",
       "</style>\n",
       "<table border=\"1\" class=\"dataframe\">\n",
       "  <thead>\n",
       "    <tr style=\"text-align: right;\">\n",
       "      <th></th>\n",
       "      <th>count</th>\n",
       "    </tr>\n",
       "  </thead>\n",
       "  <tbody>\n",
       "    <tr>\n",
       "      <th>obama</th>\n",
       "      <td>515</td>\n",
       "    </tr>\n",
       "    <tr>\n",
       "      <th>just</th>\n",
       "      <td>485</td>\n",
       "    </tr>\n",
       "    <tr>\n",
       "      <th>said</th>\n",
       "      <td>461</td>\n",
       "    </tr>\n",
       "    <tr>\n",
       "      <th>people</th>\n",
       "      <td>437</td>\n",
       "    </tr>\n",
       "    <tr>\n",
       "      <th>clinton</th>\n",
       "      <td>420</td>\n",
       "    </tr>\n",
       "    <tr>\n",
       "      <th>like</th>\n",
       "      <td>403</td>\n",
       "    </tr>\n",
       "    <tr>\n",
       "      <th>new</th>\n",
       "      <td>363</td>\n",
       "    </tr>\n",
       "    <tr>\n",
       "      <th>get</th>\n",
       "      <td>362</td>\n",
       "    </tr>\n",
       "    <tr>\n",
       "      <th>time</th>\n",
       "      <td>358</td>\n",
       "    </tr>\n",
       "    <tr>\n",
       "      <th>thats</th>\n",
       "      <td>353</td>\n",
       "    </tr>\n",
       "    <tr>\n",
       "      <th>democratic</th>\n",
       "      <td>345</td>\n",
       "    </tr>\n",
       "    <tr>\n",
       "      <th>mccain</th>\n",
       "      <td>340</td>\n",
       "    </tr>\n",
       "    <tr>\n",
       "      <th>barack</th>\n",
       "      <td>335</td>\n",
       "    </tr>\n",
       "    <tr>\n",
       "      <th>dont</th>\n",
       "      <td>331</td>\n",
       "    </tr>\n",
       "    <tr>\n",
       "      <th>two</th>\n",
       "      <td>327</td>\n",
       "    </tr>\n",
       "    <tr>\n",
       "      <th>first</th>\n",
       "      <td>321</td>\n",
       "    </tr>\n",
       "    <tr>\n",
       "      <th>know</th>\n",
       "      <td>319</td>\n",
       "    </tr>\n",
       "    <tr>\n",
       "      <th>john</th>\n",
       "      <td>317</td>\n",
       "    </tr>\n",
       "    <tr>\n",
       "      <th>say</th>\n",
       "      <td>315</td>\n",
       "    </tr>\n",
       "    <tr>\n",
       "      <th>democrats</th>\n",
       "      <td>313</td>\n",
       "    </tr>\n",
       "  </tbody>\n",
       "</table>\n",
       "</div>"
      ],
      "text/plain": [
       "            count\n",
       "obama         515\n",
       "just          485\n",
       "said          461\n",
       "people        437\n",
       "clinton       420\n",
       "like          403\n",
       "new           363\n",
       "get           362\n",
       "time          358\n",
       "thats         353\n",
       "democratic    345\n",
       "mccain        340\n",
       "barack        335\n",
       "dont          331\n",
       "two           327\n",
       "first         321\n",
       "know          319\n",
       "john          317\n",
       "say           315\n",
       "democrats     313"
      ]
     },
     "execution_count": 22,
     "metadata": {},
     "output_type": "execute_result"
    }
   ],
   "source": [
    "top_words(poliblog_dslgmm, 0, 1000, poliblog_data_raw.columns).head(20)"
   ]
  },
  {
   "cell_type": "code",
   "execution_count": 23,
   "metadata": {},
   "outputs": [
    {
     "data": {
      "text/html": [
       "<div>\n",
       "<style scoped>\n",
       "    .dataframe tbody tr th:only-of-type {\n",
       "        vertical-align: middle;\n",
       "    }\n",
       "\n",
       "    .dataframe tbody tr th {\n",
       "        vertical-align: top;\n",
       "    }\n",
       "\n",
       "    .dataframe thead th {\n",
       "        text-align: right;\n",
       "    }\n",
       "</style>\n",
       "<table border=\"1\" class=\"dataframe\">\n",
       "  <thead>\n",
       "    <tr style=\"text-align: right;\">\n",
       "      <th></th>\n",
       "      <th>count</th>\n",
       "    </tr>\n",
       "  </thead>\n",
       "  <tbody>\n",
       "    <tr>\n",
       "      <th>obama</th>\n",
       "      <td>569</td>\n",
       "    </tr>\n",
       "    <tr>\n",
       "      <th>just</th>\n",
       "      <td>529</td>\n",
       "    </tr>\n",
       "    <tr>\n",
       "      <th>people</th>\n",
       "      <td>485</td>\n",
       "    </tr>\n",
       "    <tr>\n",
       "      <th>said</th>\n",
       "      <td>464</td>\n",
       "    </tr>\n",
       "    <tr>\n",
       "      <th>like</th>\n",
       "      <td>437</td>\n",
       "    </tr>\n",
       "    <tr>\n",
       "      <th>get</th>\n",
       "      <td>394</td>\n",
       "    </tr>\n",
       "    <tr>\n",
       "      <th>new</th>\n",
       "      <td>392</td>\n",
       "    </tr>\n",
       "    <tr>\n",
       "      <th>clinton</th>\n",
       "      <td>383</td>\n",
       "    </tr>\n",
       "    <tr>\n",
       "      <th>barack</th>\n",
       "      <td>357</td>\n",
       "    </tr>\n",
       "    <tr>\n",
       "      <th>see</th>\n",
       "      <td>355</td>\n",
       "    </tr>\n",
       "    <tr>\n",
       "      <th>dont</th>\n",
       "      <td>355</td>\n",
       "    </tr>\n",
       "    <tr>\n",
       "      <th>make</th>\n",
       "      <td>352</td>\n",
       "    </tr>\n",
       "    <tr>\n",
       "      <th>know</th>\n",
       "      <td>350</td>\n",
       "    </tr>\n",
       "    <tr>\n",
       "      <th>campaign</th>\n",
       "      <td>349</td>\n",
       "    </tr>\n",
       "    <tr>\n",
       "      <th>democratic</th>\n",
       "      <td>335</td>\n",
       "    </tr>\n",
       "    <tr>\n",
       "      <th>last</th>\n",
       "      <td>331</td>\n",
       "    </tr>\n",
       "    <tr>\n",
       "      <th>say</th>\n",
       "      <td>324</td>\n",
       "    </tr>\n",
       "    <tr>\n",
       "      <th>time</th>\n",
       "      <td>320</td>\n",
       "    </tr>\n",
       "    <tr>\n",
       "      <th>good</th>\n",
       "      <td>312</td>\n",
       "    </tr>\n",
       "    <tr>\n",
       "      <th>first</th>\n",
       "      <td>311</td>\n",
       "    </tr>\n",
       "  </tbody>\n",
       "</table>\n",
       "</div>"
      ],
      "text/plain": [
       "            count\n",
       "obama         569\n",
       "just          529\n",
       "people        485\n",
       "said          464\n",
       "like          437\n",
       "get           394\n",
       "new           392\n",
       "clinton       383\n",
       "barack        357\n",
       "see           355\n",
       "dont          355\n",
       "make          352\n",
       "know          350\n",
       "campaign      349\n",
       "democratic    335\n",
       "last          331\n",
       "say           324\n",
       "time          320\n",
       "good          312\n",
       "first         311"
      ]
     },
     "execution_count": 23,
     "metadata": {},
     "output_type": "execute_result"
    }
   ],
   "source": [
    "top_words(poliblog_dslgmm, 1, 1000, poliblog_data_raw.columns).head(20)"
   ]
  },
  {
   "cell_type": "code",
   "execution_count": 126,
   "metadata": {},
   "outputs": [],
   "source": [
    "## reuters 2"
   ]
  },
  {
   "cell_type": "code",
   "execution_count": 131,
   "metadata": {},
   "outputs": [],
   "source": [
    "reuters2_data_raw = pd.DataFrame(reuters2_data_train_perm, columns=list(reuters_dictionary.keys()))"
   ]
  },
  {
   "cell_type": "code",
   "execution_count": 133,
   "metadata": {},
   "outputs": [],
   "source": [
    "reuters2_train_labels_integers = reuters2_onehot_encoder.inverse_transform(reuters2_labels_train_one_hot_perm).reshape(-1)\n"
   ]
  },
  {
   "cell_type": "code",
   "execution_count": 136,
   "metadata": {},
   "outputs": [],
   "source": [
    "reuters2_train_labels_integers_0_1 = reuters2_train_labels_integers-1"
   ]
  },
  {
   "cell_type": "code",
   "execution_count": 137,
   "metadata": {},
   "outputs": [],
   "source": [
    "reuters2_first_class_cond = (reuters2_train_labels_integers_0_1==0)\n",
    "reuters2_second_class_cond = (reuters2_train_labels_integers_0_1==1)"
   ]
  },
  {
   "cell_type": "code",
   "execution_count": 138,
   "metadata": {},
   "outputs": [
    {
     "data": {
      "text/html": [
       "<div>\n",
       "<style scoped>\n",
       "    .dataframe tbody tr th:only-of-type {\n",
       "        vertical-align: middle;\n",
       "    }\n",
       "\n",
       "    .dataframe tbody tr th {\n",
       "        vertical-align: top;\n",
       "    }\n",
       "\n",
       "    .dataframe thead th {\n",
       "        text-align: right;\n",
       "    }\n",
       "</style>\n",
       "<table border=\"1\" class=\"dataframe\">\n",
       "  <thead>\n",
       "    <tr style=\"text-align: right;\">\n",
       "      <th></th>\n",
       "      <th>count</th>\n",
       "    </tr>\n",
       "  </thead>\n",
       "  <tbody>\n",
       "    <tr>\n",
       "      <th>lin</th>\n",
       "      <td>480.0</td>\n",
       "    </tr>\n",
       "    <tr>\n",
       "      <th>subject</th>\n",
       "      <td>480.0</td>\n",
       "    </tr>\n",
       "    <tr>\n",
       "      <th>org</th>\n",
       "      <td>454.0</td>\n",
       "    </tr>\n",
       "    <tr>\n",
       "      <th>writ</th>\n",
       "      <td>404.0</td>\n",
       "    </tr>\n",
       "    <tr>\n",
       "      <th>n't</th>\n",
       "      <td>333.0</td>\n",
       "    </tr>\n",
       "    <tr>\n",
       "      <th>artic</th>\n",
       "      <td>297.0</td>\n",
       "    </tr>\n",
       "    <tr>\n",
       "      <th>'s</th>\n",
       "      <td>268.0</td>\n",
       "    </tr>\n",
       "    <tr>\n",
       "      <th>on</th>\n",
       "      <td>257.0</td>\n",
       "    </tr>\n",
       "    <tr>\n",
       "      <th>nntp-posting-host</th>\n",
       "      <td>232.0</td>\n",
       "    </tr>\n",
       "    <tr>\n",
       "      <th>say</th>\n",
       "      <td>227.0</td>\n",
       "    </tr>\n",
       "    <tr>\n",
       "      <th>would</th>\n",
       "      <td>218.0</td>\n",
       "    </tr>\n",
       "    <tr>\n",
       "      <th>us</th>\n",
       "      <td>206.0</td>\n",
       "    </tr>\n",
       "    <tr>\n",
       "      <th>ath</th>\n",
       "      <td>201.0</td>\n",
       "    </tr>\n",
       "    <tr>\n",
       "      <th>peopl</th>\n",
       "      <td>197.0</td>\n",
       "    </tr>\n",
       "    <tr>\n",
       "      <th>think</th>\n",
       "      <td>188.0</td>\n",
       "    </tr>\n",
       "    <tr>\n",
       "      <th>...</th>\n",
       "      <td>184.0</td>\n",
       "    </tr>\n",
       "    <tr>\n",
       "      <th>univers</th>\n",
       "      <td>177.0</td>\n",
       "    </tr>\n",
       "    <tr>\n",
       "      <th>god</th>\n",
       "      <td>176.0</td>\n",
       "    </tr>\n",
       "    <tr>\n",
       "      <th>ev</th>\n",
       "      <td>175.0</td>\n",
       "    </tr>\n",
       "    <tr>\n",
       "      <th>lik</th>\n",
       "      <td>173.0</td>\n",
       "    </tr>\n",
       "  </tbody>\n",
       "</table>\n",
       "</div>"
      ],
      "text/plain": [
       "                   count\n",
       "lin                480.0\n",
       "subject            480.0\n",
       "org                454.0\n",
       "writ               404.0\n",
       "n't                333.0\n",
       "artic              297.0\n",
       "'s                 268.0\n",
       "on                 257.0\n",
       "nntp-posting-host  232.0\n",
       "say                227.0\n",
       "would              218.0\n",
       "us                 206.0\n",
       "ath                201.0\n",
       "peopl              197.0\n",
       "think              188.0\n",
       "...                184.0\n",
       "univers            177.0\n",
       "god                176.0\n",
       "ev                 175.0\n",
       "lik                173.0"
      ]
     },
     "execution_count": 138,
     "metadata": {},
     "output_type": "execute_result"
    }
   ],
   "source": [
    "reuters2_stats_0 = pd.DataFrame(reuters2_data_raw[reuters2_first_class_cond].sum(axis=0), columns=['count'])\n",
    "reuters2_stats_0.sort_values(by='count', ascending=False).head(20)"
   ]
  },
  {
   "cell_type": "code",
   "execution_count": 139,
   "metadata": {},
   "outputs": [
    {
     "data": {
      "text/html": [
       "<div>\n",
       "<style scoped>\n",
       "    .dataframe tbody tr th:only-of-type {\n",
       "        vertical-align: middle;\n",
       "    }\n",
       "\n",
       "    .dataframe tbody tr th {\n",
       "        vertical-align: top;\n",
       "    }\n",
       "\n",
       "    .dataframe thead th {\n",
       "        text-align: right;\n",
       "    }\n",
       "</style>\n",
       "<table border=\"1\" class=\"dataframe\">\n",
       "  <thead>\n",
       "    <tr style=\"text-align: right;\">\n",
       "      <th></th>\n",
       "      <th>count</th>\n",
       "    </tr>\n",
       "  </thead>\n",
       "  <tbody>\n",
       "    <tr>\n",
       "      <th>subject</th>\n",
       "      <td>584.0</td>\n",
       "    </tr>\n",
       "    <tr>\n",
       "      <th>lin</th>\n",
       "      <td>584.0</td>\n",
       "    </tr>\n",
       "    <tr>\n",
       "      <th>org</th>\n",
       "      <td>560.0</td>\n",
       "    </tr>\n",
       "    <tr>\n",
       "      <th>us</th>\n",
       "      <td>272.0</td>\n",
       "    </tr>\n",
       "    <tr>\n",
       "      <th>nntp-posting-host</th>\n",
       "      <td>272.0</td>\n",
       "    </tr>\n",
       "    <tr>\n",
       "      <th>univers</th>\n",
       "      <td>270.0</td>\n",
       "    </tr>\n",
       "    <tr>\n",
       "      <th>writ</th>\n",
       "      <td>244.0</td>\n",
       "    </tr>\n",
       "    <tr>\n",
       "      <th>-</th>\n",
       "      <td>222.0</td>\n",
       "    </tr>\n",
       "    <tr>\n",
       "      <th>'s</th>\n",
       "      <td>213.0</td>\n",
       "    </tr>\n",
       "    <tr>\n",
       "      <th>thank</th>\n",
       "      <td>211.0</td>\n",
       "    </tr>\n",
       "    <tr>\n",
       "      <th>n't</th>\n",
       "      <td>201.0</td>\n",
       "    </tr>\n",
       "    <tr>\n",
       "      <th>would</th>\n",
       "      <td>199.0</td>\n",
       "    </tr>\n",
       "    <tr>\n",
       "      <th>graph</th>\n",
       "      <td>197.0</td>\n",
       "    </tr>\n",
       "    <tr>\n",
       "      <th>know</th>\n",
       "      <td>188.0</td>\n",
       "    </tr>\n",
       "    <tr>\n",
       "      <th>...</th>\n",
       "      <td>183.0</td>\n",
       "    </tr>\n",
       "    <tr>\n",
       "      <th>look</th>\n",
       "      <td>172.0</td>\n",
       "    </tr>\n",
       "    <tr>\n",
       "      <th>fil</th>\n",
       "      <td>168.0</td>\n",
       "    </tr>\n",
       "    <tr>\n",
       "      <th>artic</th>\n",
       "      <td>165.0</td>\n",
       "    </tr>\n",
       "    <tr>\n",
       "      <th>nee</th>\n",
       "      <td>163.0</td>\n",
       "    </tr>\n",
       "    <tr>\n",
       "      <th>lik</th>\n",
       "      <td>160.0</td>\n",
       "    </tr>\n",
       "  </tbody>\n",
       "</table>\n",
       "</div>"
      ],
      "text/plain": [
       "                   count\n",
       "subject            584.0\n",
       "lin                584.0\n",
       "org                560.0\n",
       "us                 272.0\n",
       "nntp-posting-host  272.0\n",
       "univers            270.0\n",
       "writ               244.0\n",
       "-                  222.0\n",
       "'s                 213.0\n",
       "thank              211.0\n",
       "n't                201.0\n",
       "would              199.0\n",
       "graph              197.0\n",
       "know               188.0\n",
       "...                183.0\n",
       "look               172.0\n",
       "fil                168.0\n",
       "artic              165.0\n",
       "nee                163.0\n",
       "lik                160.0"
      ]
     },
     "execution_count": 139,
     "metadata": {},
     "output_type": "execute_result"
    }
   ],
   "source": [
    "reuters2_stats_1 = pd.DataFrame(reuters2_data_raw[reuters2_second_class_cond].sum(axis=0), columns=['count'])\n",
    "reuters2_stats_1.sort_values(by='count', ascending=False).head(20)"
   ]
  },
  {
   "cell_type": "code",
   "execution_count": null,
   "metadata": {},
   "outputs": [],
   "source": []
  }
 ],
 "metadata": {
  "kernelspec": {
   "display_name": "Python 3",
   "language": "python",
   "name": "python3"
  },
  "language_info": {
   "codemirror_mode": {
    "name": "ipython",
    "version": 3
   },
   "file_extension": ".py",
   "mimetype": "text/x-python",
   "name": "python",
   "nbconvert_exporter": "python",
   "pygments_lexer": "ipython3",
   "version": "3.6.6"
  }
 },
 "nbformat": 4,
 "nbformat_minor": 2
}
