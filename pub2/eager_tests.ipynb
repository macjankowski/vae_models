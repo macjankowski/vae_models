{
 "cells": [
  {
   "cell_type": "code",
   "execution_count": 1,
   "metadata": {},
   "outputs": [],
   "source": [
    "import tensorflow as tf\n",
    "import numpy as np\n",
    "import scipy.stats\n",
    "from vae_lib.utils.gmm_on_circle import MixtureOfNormalsOnCircle\n",
    "from tensorflow.contrib.distributions import Mixture\n",
    "from tensorflow.contrib.distributions import Categorical"
   ]
  },
  {
   "cell_type": "code",
   "execution_count": 2,
   "metadata": {},
   "outputs": [
    {
     "name": "stdout",
     "output_type": "stream",
     "text": [
      "Setting Eager mode...\n"
     ]
    }
   ],
   "source": [
    "# Set Eager API\n",
    "print(\"Setting Eager mode...\")\n",
    "tf.enable_eager_execution()\n",
    "tfe = tf.contrib.eager"
   ]
  },
  {
   "cell_type": "code",
   "execution_count": 4,
   "metadata": {},
   "outputs": [
    {
     "data": {
      "text/plain": [
       "<tf.Tensor: id=0, shape=(6,), dtype=float32, numpy=array([1., 2., 3., 4., 5., 6.], dtype=float32)>"
      ]
     },
     "execution_count": 4,
     "metadata": {},
     "output_type": "execute_result"
    }
   ],
   "source": [
    "a = tf.constant([1., 2., 3., 4., 5., 6.], dtype=tf.float32)\n",
    "a"
   ]
  },
  {
   "cell_type": "code",
   "execution_count": 5,
   "metadata": {},
   "outputs": [],
   "source": [
    "b = tf.constant([2., 3., 4., 5., 6., 7.], dtype=tf.float32)"
   ]
  },
  {
   "cell_type": "code",
   "execution_count": 6,
   "metadata": {},
   "outputs": [],
   "source": [
    "sigma = tf.constant([2., 3., 4., 5., 6., 7.], dtype=tf.float32)"
   ]
  },
  {
   "cell_type": "code",
   "execution_count": 7,
   "metadata": {},
   "outputs": [],
   "source": [
    "mu = tf.constant([1., 2., 3., 4., 5., 6.], dtype=tf.float32)"
   ]
  },
  {
   "cell_type": "code",
   "execution_count": 8,
   "metadata": {},
   "outputs": [
    {
     "data": {
      "text/plain": [
       "<tf.Tensor: id=7, shape=(), dtype=float32, numpy=91.0>"
      ]
     },
     "execution_count": 8,
     "metadata": {},
     "output_type": "execute_result"
    }
   ],
   "source": [
    "tf.math.reduce_sum(tf.math.square(a))"
   ]
  },
  {
   "cell_type": "code",
   "execution_count": 9,
   "metadata": {},
   "outputs": [
    {
     "data": {
      "text/plain": [
       "<tf.Tensor: id=11, shape=(), dtype=float32, numpy=112.0>"
      ]
     },
     "execution_count": 9,
     "metadata": {},
     "output_type": "execute_result"
    }
   ],
   "source": [
    "tf.reduce_sum(a*b)"
   ]
  },
  {
   "cell_type": "code",
   "execution_count": 10,
   "metadata": {},
   "outputs": [
    {
     "data": {
      "text/plain": [
       "<tf.Tensor: id=14, shape=(), dtype=float32, numpy=720.0>"
      ]
     },
     "execution_count": 10,
     "metadata": {},
     "output_type": "execute_result"
    }
   ],
   "source": [
    "tf.math.reduce_prod(a)"
   ]
  },
  {
   "cell_type": "code",
   "execution_count": 11,
   "metadata": {},
   "outputs": [
    {
     "data": {
      "text/plain": [
       "<tf.Tensor: id=18, shape=(), dtype=float32, numpy=6.5792513>"
      ]
     },
     "execution_count": 11,
     "metadata": {},
     "output_type": "execute_result"
    }
   ],
   "source": [
    "tf.math.reduce_sum(tf.math.log(a))"
   ]
  },
  {
   "cell_type": "code",
   "execution_count": 12,
   "metadata": {},
   "outputs": [],
   "source": [
    "n=6"
   ]
  },
  {
   "cell_type": "code",
   "execution_count": 13,
   "metadata": {},
   "outputs": [
    {
     "data": {
      "text/plain": [
       "<tf.Tensor: id=34, shape=(), dtype=float32, numpy=51.73742>"
      ]
     },
     "execution_count": 13,
     "metadata": {},
     "output_type": "execute_result"
    }
   ],
   "source": [
    "0.5*(- tf.math.reduce_sum(tf.math.log(sigma)) - n + tf.math.reduce_sum(sigma) + tf.math.reduce_sum(tf.math.square(mu)))"
   ]
  },
  {
   "cell_type": "code",
   "execution_count": 14,
   "metadata": {},
   "outputs": [
    {
     "data": {
      "text/plain": [
       "<tf.Tensor: id=37, shape=(12,), dtype=float32, numpy=array([1., 2., 3., 4., 5., 6., 2., 3., 4., 5., 6., 7.], dtype=float32)>"
      ]
     },
     "execution_count": 14,
     "metadata": {},
     "output_type": "execute_result"
    }
   ],
   "source": [
    "tf.concat([a,b], 0)"
   ]
  },
  {
   "cell_type": "code",
   "execution_count": 15,
   "metadata": {},
   "outputs": [
    {
     "name": "stdout",
     "output_type": "stream",
     "text": [
      "WARNING:tensorflow:From <ipython-input-15-19174c3ea191>:1: Print (from tensorflow.python.ops.logging_ops) is deprecated and will be removed after 2018-08-20.\n",
      "Instructions for updating:\n",
      "Use tf.print instead of tf.Print. Note that tf.print returns a no-output operator that directly prints the output. Outside of defuns or eager mode, this operator will not be executed unless it is directly specified in session.run or used as a control dependency for other operators. This is only a concern in graph mode. Below is an example of how to ensure tf.print executes in graph mode:\n",
      "```python\n",
      "    sess = tf.Session()\n",
      "    with sess.as_default():\n",
      "        tensor = tf.range(10)\n",
      "        print_op = tf.print(tensor)\n",
      "        with tf.control_dependencies([print_op]):\n",
      "          out = tf.add(tensor, tensor)\n",
      "        sess.run(out)\n",
      "    ```\n",
      "Additionally, to use tf.print in python 2.7, users must make sure to import\n",
      "the following:\n",
      "\n",
      "  `from __future__ import print_function`\n",
      "\n",
      "tf.Tensor([1. 2. 3. 4. 5. 6.], shape=(6,), dtype=float32)\n"
     ]
    }
   ],
   "source": [
    "print(tf.Print(a,[a],\"a=\"))"
   ]
  },
  {
   "cell_type": "code",
   "execution_count": 16,
   "metadata": {},
   "outputs": [
    {
     "data": {
      "text/plain": [
       "<tf.Tensor: id=0, shape=(6,), dtype=float32, numpy=array([1., 2., 3., 4., 5., 6.], dtype=float32)>"
      ]
     },
     "execution_count": 16,
     "metadata": {},
     "output_type": "execute_result"
    }
   ],
   "source": [
    "a"
   ]
  },
  {
   "cell_type": "code",
   "execution_count": 17,
   "metadata": {},
   "outputs": [
    {
     "data": {
      "text/plain": [
       "<tf.Tensor: id=42, shape=(3, 2), dtype=float32, numpy=\n",
       "array([[1., 2.],\n",
       "       [1., 2.],\n",
       "       [1., 2.]], dtype=float32)>"
      ]
     },
     "execution_count": 17,
     "metadata": {},
     "output_type": "execute_result"
    }
   ],
   "source": [
    "t1 = tf.constant([[1.,2.],[1.,2.],[1.,2.]], dtype=tf.float32)\n",
    "t1.shape\n",
    "t1"
   ]
  },
  {
   "cell_type": "code",
   "execution_count": 18,
   "metadata": {},
   "outputs": [
    {
     "data": {
      "text/plain": [
       "TensorShape([Dimension(3), Dimension(4)])"
      ]
     },
     "execution_count": 18,
     "metadata": {},
     "output_type": "execute_result"
    }
   ],
   "source": [
    "t2 = tf.constant([[3.,4.,5.,6.],[3.,4.,5.,6.],[3.,4.,5.,6.]], dtype=tf.float32)\n",
    "t2.shape"
   ]
  },
  {
   "cell_type": "code",
   "execution_count": 19,
   "metadata": {},
   "outputs": [
    {
     "data": {
      "text/plain": [
       "TensorShape([Dimension(3), Dimension(6)])"
      ]
     },
     "execution_count": 19,
     "metadata": {},
     "output_type": "execute_result"
    }
   ],
   "source": [
    "tf.concat([t1,t2], 1).shape"
   ]
  },
  {
   "cell_type": "code",
   "execution_count": 20,
   "metadata": {},
   "outputs": [
    {
     "data": {
      "text/plain": [
       "<tf.Tensor: id=49, shape=(3, 2), dtype=float32, numpy=\n",
       "array([[ 6.,  8.],\n",
       "       [ 8., 10.],\n",
       "       [10., 12.]], dtype=float32)>"
      ]
     },
     "execution_count": 20,
     "metadata": {},
     "output_type": "execute_result"
    }
   ],
   "source": [
    "aa = tf.constant([[1.,2.],[1.,2.],[1.,2.]], dtype=tf.float32)\n",
    "bb = tf.constant([[5.,6.],[7.,8.],[9.,10.]], dtype=tf.float32)\n",
    "aa + bb"
   ]
  },
  {
   "cell_type": "code",
   "execution_count": 21,
   "metadata": {},
   "outputs": [
    {
     "data": {
      "text/plain": [
       "<tf.Tensor: id=57, shape=(10, 3), dtype=float32, numpy=\n",
       "array([[1., 0., 0.],\n",
       "       [0., 1., 0.],\n",
       "       [0., 0., 1.],\n",
       "       [0., 0., 0.],\n",
       "       [0., 0., 0.],\n",
       "       [0., 0., 0.],\n",
       "       [0., 0., 0.],\n",
       "       [0., 0., 0.],\n",
       "       [0., 0., 0.],\n",
       "       [0., 0., 0.]], dtype=float32)>"
      ]
     },
     "execution_count": 21,
     "metadata": {},
     "output_type": "execute_result"
    }
   ],
   "source": [
    "tf.eye(10, num_columns=3)"
   ]
  },
  {
   "cell_type": "code",
   "execution_count": 22,
   "metadata": {},
   "outputs": [],
   "source": [
    "num_rows = 128\n",
    "inferred_input_dim = 200\n",
    "\n",
    "x_new_predictors_inferred = tf.ones([num_rows, inferred_input_dim], tf.float32)\n",
    "x_given = tf.random.normal(\n",
    "    shape=(num_rows, 3),\n",
    "    mean=0.0,\n",
    "    stddev=1.0,\n",
    "    dtype=tf.float32,\n",
    "    seed=None,\n",
    "    name=None\n",
    ")\n"
   ]
  },
  {
   "cell_type": "code",
   "execution_count": 23,
   "metadata": {},
   "outputs": [],
   "source": [
    "x_all = tf.concat([x_given,x_new_predictors_inferred], 1)"
   ]
  },
  {
   "cell_type": "code",
   "execution_count": 24,
   "metadata": {},
   "outputs": [
    {
     "data": {
      "text/plain": [
       "128"
      ]
     },
     "execution_count": 24,
     "metadata": {},
     "output_type": "execute_result"
    }
   ],
   "source": [
    "x_all.shape[0].value\n",
    "\n",
    "\n"
   ]
  },
  {
   "cell_type": "code",
   "execution_count": 25,
   "metadata": {},
   "outputs": [
    {
     "data": {
      "text/plain": [
       "<tf.Tensor: id=0, shape=(6,), dtype=float32, numpy=array([1., 2., 3., 4., 5., 6.], dtype=float32)>"
      ]
     },
     "execution_count": 25,
     "metadata": {},
     "output_type": "execute_result"
    }
   ],
   "source": [
    "a"
   ]
  },
  {
   "cell_type": "code",
   "execution_count": 26,
   "metadata": {},
   "outputs": [],
   "source": [
    "e = tf.eye(6)"
   ]
  },
  {
   "cell_type": "code",
   "execution_count": 27,
   "metadata": {},
   "outputs": [
    {
     "data": {
      "text/plain": [
       "<tf.Tensor: id=75, shape=(6, 6), dtype=float32, numpy=\n",
       "array([[1., 0., 0., 0., 0., 0.],\n",
       "       [0., 2., 0., 0., 0., 0.],\n",
       "       [0., 0., 3., 0., 0., 0.],\n",
       "       [0., 0., 0., 4., 0., 0.],\n",
       "       [0., 0., 0., 0., 5., 0.],\n",
       "       [0., 0., 0., 0., 0., 6.]], dtype=float32)>"
      ]
     },
     "execution_count": 27,
     "metadata": {},
     "output_type": "execute_result"
    }
   ],
   "source": [
    "a*e"
   ]
  },
  {
   "cell_type": "code",
   "execution_count": 28,
   "metadata": {},
   "outputs": [
    {
     "data": {
      "text/plain": [
       "<tf.Tensor: id=2, shape=(6,), dtype=float32, numpy=array([2., 3., 4., 5., 6., 7.], dtype=float32)>"
      ]
     },
     "execution_count": 28,
     "metadata": {},
     "output_type": "execute_result"
    }
   ],
   "source": [
    "b"
   ]
  },
  {
   "cell_type": "code",
   "execution_count": 29,
   "metadata": {},
   "outputs": [
    {
     "data": {
      "text/plain": [
       "<tf.Tensor: id=78, shape=(6,), dtype=float32, numpy=array([ 2.,  6., 12., 20., 30., 42.], dtype=float32)>"
      ]
     },
     "execution_count": 29,
     "metadata": {},
     "output_type": "execute_result"
    }
   ],
   "source": [
    "tf.math.multiply(a,b)"
   ]
  },
  {
   "cell_type": "code",
   "execution_count": 30,
   "metadata": {},
   "outputs": [
    {
     "data": {
      "text/plain": [
       "<tf.Tensor: id=80, shape=(6,), dtype=float32, numpy=array([ 2.,  6., 12., 20., 30., 42.], dtype=float32)>"
      ]
     },
     "execution_count": 30,
     "metadata": {},
     "output_type": "execute_result"
    }
   ],
   "source": [
    "a*b"
   ]
  },
  {
   "cell_type": "code",
   "execution_count": 31,
   "metadata": {},
   "outputs": [],
   "source": [
    "f = tf.ones(6, tf.float32)"
   ]
  },
  {
   "cell_type": "code",
   "execution_count": 32,
   "metadata": {},
   "outputs": [
    {
     "data": {
      "text/plain": [
       "<tf.Tensor: id=84, shape=(6,), dtype=float32, numpy=array([1., 1., 1., 1., 1., 1.], dtype=float32)>"
      ]
     },
     "execution_count": 32,
     "metadata": {},
     "output_type": "execute_result"
    }
   ],
   "source": [
    "f"
   ]
  },
  {
   "cell_type": "code",
   "execution_count": 33,
   "metadata": {},
   "outputs": [
    {
     "data": {
      "text/plain": [
       "<tf.Tensor: id=86, shape=(6,), dtype=float32, numpy=array([1., 2., 3., 4., 5., 6.], dtype=float32)>"
      ]
     },
     "execution_count": 33,
     "metadata": {},
     "output_type": "execute_result"
    }
   ],
   "source": [
    "a*f"
   ]
  },
  {
   "cell_type": "code",
   "execution_count": 34,
   "metadata": {},
   "outputs": [
    {
     "data": {
      "text/plain": [
       "TensorShape([Dimension(3), Dimension(6)])"
      ]
     },
     "execution_count": 34,
     "metadata": {},
     "output_type": "execute_result"
    }
   ],
   "source": [
    "x = tf.constant([[1.,1.,1.,1.,1.,1.],[2.,2.,2.,2.,2.,2.],[3.,3.,3.,3.,3.,3.]], dtype=tf.float32)\n",
    "x.shape"
   ]
  },
  {
   "cell_type": "code",
   "execution_count": 35,
   "metadata": {},
   "outputs": [
    {
     "data": {
      "text/plain": [
       "TensorShape([Dimension(3), Dimension(3)])"
      ]
     },
     "execution_count": 35,
     "metadata": {},
     "output_type": "execute_result"
    }
   ],
   "source": [
    "y = tf.constant([[1.,1.,1.],[2.,2.,2.],[3.,3.,3.]], dtype=tf.float32)\n",
    "y.shape"
   ]
  },
  {
   "cell_type": "code",
   "execution_count": 36,
   "metadata": {},
   "outputs": [],
   "source": [
    "a1 = tf.constant([1., 2., 3., 4., 5., 6.], dtype=tf.float32)\n",
    "a2 = tf.constant([1., 2., 3.], dtype=tf.float32)"
   ]
  },
  {
   "cell_type": "code",
   "execution_count": 37,
   "metadata": {},
   "outputs": [],
   "source": [
    "r1 = x*a1"
   ]
  },
  {
   "cell_type": "code",
   "execution_count": 38,
   "metadata": {},
   "outputs": [],
   "source": [
    "r2 = y*a2"
   ]
  },
  {
   "cell_type": "code",
   "execution_count": 39,
   "metadata": {},
   "outputs": [
    {
     "data": {
      "text/plain": [
       "<tf.Tensor: id=95, shape=(3, 9), dtype=float32, numpy=\n",
       "array([[ 1.,  2.,  3.,  4.,  5.,  6.,  1.,  2.,  3.],\n",
       "       [ 2.,  4.,  6.,  8., 10., 12.,  2.,  4.,  6.],\n",
       "       [ 3.,  6.,  9., 12., 15., 18.,  3.,  6.,  9.]], dtype=float32)>"
      ]
     },
     "execution_count": 39,
     "metadata": {},
     "output_type": "execute_result"
    }
   ],
   "source": [
    "tf.concat([r1,r2], axis=1)"
   ]
  },
  {
   "cell_type": "code",
   "execution_count": 40,
   "metadata": {},
   "outputs": [
    {
     "data": {
      "text/plain": [
       "TensorShape([Dimension(1), Dimension(6)])"
      ]
     },
     "execution_count": 40,
     "metadata": {},
     "output_type": "execute_result"
    }
   ],
   "source": [
    "x_small = tf.constant([[1.,1.,1.,1.,1.,1.]], dtype=tf.float32)\n",
    "x_small.shape"
   ]
  },
  {
   "cell_type": "code",
   "execution_count": 41,
   "metadata": {},
   "outputs": [
    {
     "data": {
      "text/plain": [
       "TensorShape([Dimension(1), Dimension(3)])"
      ]
     },
     "execution_count": 41,
     "metadata": {},
     "output_type": "execute_result"
    }
   ],
   "source": [
    "y_small = tf.constant([[1.,1.,1.]], dtype=tf.float32)\n",
    "y_small.shape"
   ]
  },
  {
   "cell_type": "code",
   "execution_count": 42,
   "metadata": {},
   "outputs": [],
   "source": [
    "r1_small = x_small*a1"
   ]
  },
  {
   "cell_type": "code",
   "execution_count": 43,
   "metadata": {},
   "outputs": [],
   "source": [
    "r2_small = y_small*a2"
   ]
  },
  {
   "cell_type": "code",
   "execution_count": 44,
   "metadata": {},
   "outputs": [
    {
     "data": {
      "text/plain": [
       "(<tf.Tensor: id=99, shape=(1, 6), dtype=float32, numpy=array([[1., 2., 3., 4., 5., 6.]], dtype=float32)>,\n",
       " <tf.Tensor: id=100, shape=(1, 3), dtype=float32, numpy=array([[1., 2., 3.]], dtype=float32)>)"
      ]
     },
     "execution_count": 44,
     "metadata": {},
     "output_type": "execute_result"
    }
   ],
   "source": [
    "r1_small,r2_small"
   ]
  },
  {
   "cell_type": "code",
   "execution_count": 45,
   "metadata": {},
   "outputs": [
    {
     "data": {
      "text/plain": [
       "<tf.Tensor: id=104, shape=(1, 9), dtype=float32, numpy=array([[1., 2., 3., 4., 5., 6., 1., 2., 3.]], dtype=float32)>"
      ]
     },
     "execution_count": 45,
     "metadata": {},
     "output_type": "execute_result"
    }
   ],
   "source": [
    "tf.concat([r1_small,r2_small], axis=1)"
   ]
  },
  {
   "cell_type": "code",
   "execution_count": 46,
   "metadata": {},
   "outputs": [
    {
     "data": {
      "text/plain": [
       "<tf.Tensor: id=0, shape=(6,), dtype=float32, numpy=array([1., 2., 3., 4., 5., 6.], dtype=float32)>"
      ]
     },
     "execution_count": 46,
     "metadata": {},
     "output_type": "execute_result"
    }
   ],
   "source": [
    "a\n"
   ]
  },
  {
   "cell_type": "code",
   "execution_count": 47,
   "metadata": {},
   "outputs": [
    {
     "data": {
      "text/plain": [
       "6"
      ]
     },
     "execution_count": 47,
     "metadata": {},
     "output_type": "execute_result"
    }
   ],
   "source": [
    "a.shape[0].value"
   ]
  },
  {
   "cell_type": "code",
   "execution_count": 48,
   "metadata": {},
   "outputs": [],
   "source": [
    "mean = tf.constant([[1., 2., 3., 4., 5., 6.],\n",
    "                    [2., 2., 3., 4., 3., 2.],\n",
    "                    [0., 0., 0., 0., 0., 0.],\n",
    "                    [1., 2., 1., 1., 2., 1.],\n",
    "                    [0., 0., 0., 0., 0., 0.]\n",
    "                   ]\n",
    "                    , dtype=tf.float32)\n",
    "std = tf.constant([[6., 2., 8., 4., 1., 6.],\n",
    "                   [1., 4., 8., 5., 1., 3.],\n",
    "                   [3., 2., 1., 4., 7., 2.]\n",
    "                  ]\n",
    "                  , dtype=tf.float32)"
   ]
  },
  {
   "cell_type": "code",
   "execution_count": 49,
   "metadata": {},
   "outputs": [],
   "source": [
    "var = tf.square(std)"
   ]
  },
  {
   "cell_type": "code",
   "execution_count": 50,
   "metadata": {},
   "outputs": [
    {
     "data": {
      "text/plain": [
       "<tf.Tensor: id=114, shape=(5,), dtype=float32, numpy=\n",
       "array([9.539392 , 6.78233  , 0.       , 3.4641016, 0.       ],\n",
       "      dtype=float32)>"
      ]
     },
     "execution_count": 50,
     "metadata": {},
     "output_type": "execute_result"
    }
   ],
   "source": [
    "means_norm = tf.norm(mean, ord='euclidean', axis=1)\n",
    "means_norm"
   ]
  },
  {
   "cell_type": "code",
   "execution_count": 51,
   "metadata": {},
   "outputs": [
    {
     "data": {
      "text/plain": [
       "<tf.Tensor: id=119, shape=(5,), dtype=float32, numpy=array([0., 0., 1., 0., 1.], dtype=float32)>"
      ]
     },
     "execution_count": 51,
     "metadata": {},
     "output_type": "execute_result"
    }
   ],
   "source": [
    "means_penalty_relu = tf.nn.relu(-means_norm+1)            \n",
    "means_penalty_relu"
   ]
  },
  {
   "cell_type": "code",
   "execution_count": 52,
   "metadata": {},
   "outputs": [
    {
     "data": {
      "text/plain": [
       "<tf.Tensor: id=122, shape=(), dtype=float32, numpy=2.0>"
      ]
     },
     "execution_count": 52,
     "metadata": {},
     "output_type": "execute_result"
    }
   ],
   "source": [
    "means_penalty = tf.reduce_sum(means_penalty_relu)\n",
    "means_penalty"
   ]
  },
  {
   "cell_type": "code",
   "execution_count": null,
   "metadata": {},
   "outputs": [],
   "source": []
  },
  {
   "cell_type": "code",
   "execution_count": 53,
   "metadata": {},
   "outputs": [
    {
     "data": {
      "text/plain": [
       "<tf.Tensor: id=124, shape=(3, 6), dtype=float32, numpy=\n",
       "array([[3.583519 , 1.3862944, 4.158883 , 2.7725887, 0.       , 3.583519 ],\n",
       "       [0.       , 2.7725887, 4.158883 , 3.218876 , 0.       , 2.1972246],\n",
       "       [2.1972246, 1.3862944, 0.       , 2.7725887, 3.8918202, 1.3862944]],\n",
       "      dtype=float32)>"
      ]
     },
     "execution_count": 53,
     "metadata": {},
     "output_type": "execute_result"
    }
   ],
   "source": [
    "tf.math.log(var)"
   ]
  },
  {
   "cell_type": "code",
   "execution_count": 54,
   "metadata": {},
   "outputs": [
    {
     "data": {
      "text/plain": [
       "<tf.Tensor: id=126, shape=(5, 6), dtype=float32, numpy=\n",
       "array([[ 1.,  4.,  9., 16., 25., 36.],\n",
       "       [ 4.,  4.,  9., 16.,  9.,  4.],\n",
       "       [ 0.,  0.,  0.,  0.,  0.,  0.],\n",
       "       [ 1.,  4.,  1.,  1.,  4.,  1.],\n",
       "       [ 0.,  0.,  0.,  0.,  0.,  0.]], dtype=float32)>"
      ]
     },
     "execution_count": 54,
     "metadata": {},
     "output_type": "execute_result"
    }
   ],
   "source": [
    "tf.math.square(mean)"
   ]
  },
  {
   "cell_type": "code",
   "execution_count": 55,
   "metadata": {},
   "outputs": [
    {
     "data": {
      "text/plain": [
       "<tf.Tensor: id=129, shape=(5, 6), dtype=float32, numpy=\n",
       "array([[ 1.,  4.,  9., 16., 25., 36.],\n",
       "       [ 4.,  4.,  9., 16.,  9.,  4.],\n",
       "       [ 0.,  0.,  0.,  0.,  0.,  0.],\n",
       "       [ 1.,  4.,  1.,  1.,  4.,  1.],\n",
       "       [ 0.,  0.,  0.,  0.,  0.,  0.]], dtype=float32)>"
      ]
     },
     "execution_count": 55,
     "metadata": {},
     "output_type": "execute_result"
    }
   ],
   "source": [
    "mean**2"
   ]
  },
  {
   "cell_type": "code",
   "execution_count": 56,
   "metadata": {},
   "outputs": [
    {
     "ename": "InvalidArgumentError",
     "evalue": "Incompatible shapes: [3,6] vs. [5,6] [Op:Sub] name: sub/",
     "output_type": "error",
     "traceback": [
      "\u001b[0;31m---------------------------------------------------------------------------\u001b[0m",
      "\u001b[0;31mInvalidArgumentError\u001b[0m                      Traceback (most recent call last)",
      "\u001b[0;32m<ipython-input-56-abb459c4d199>\u001b[0m in \u001b[0;36m<module>\u001b[0;34m()\u001b[0m\n\u001b[0;32m----> 1\u001b[0;31m \u001b[0minner\u001b[0m \u001b[0;34m=\u001b[0m \u001b[0;36m1\u001b[0m \u001b[0;34m+\u001b[0m \u001b[0mtf\u001b[0m\u001b[0;34m.\u001b[0m\u001b[0mmath\u001b[0m\u001b[0;34m.\u001b[0m\u001b[0mlog\u001b[0m\u001b[0;34m(\u001b[0m\u001b[0mvar\u001b[0m\u001b[0;34m)\u001b[0m \u001b[0;34m-\u001b[0m \u001b[0mtf\u001b[0m\u001b[0;34m.\u001b[0m\u001b[0mmath\u001b[0m\u001b[0;34m.\u001b[0m\u001b[0msquare\u001b[0m\u001b[0;34m(\u001b[0m\u001b[0mmean\u001b[0m\u001b[0;34m)\u001b[0m \u001b[0;34m-\u001b[0m \u001b[0mtf\u001b[0m\u001b[0;34m.\u001b[0m\u001b[0mmath\u001b[0m\u001b[0;34m.\u001b[0m\u001b[0msquare\u001b[0m\u001b[0;34m(\u001b[0m\u001b[0mvar\u001b[0m\u001b[0;34m)\u001b[0m\u001b[0;34m\u001b[0m\u001b[0;34m\u001b[0m\u001b[0m\n\u001b[0m\u001b[1;32m      2\u001b[0m \u001b[0minner\u001b[0m\u001b[0;34m\u001b[0m\u001b[0;34m\u001b[0m\u001b[0m\n",
      "\u001b[0;32m/anaconda3/envs/cost-prediction-env/lib/python3.6/site-packages/tensorflow/python/ops/math_ops.py\u001b[0m in \u001b[0;36mbinary_op_wrapper\u001b[0;34m(x, y)\u001b[0m\n\u001b[1;32m    810\u001b[0m     \u001b[0;32mwith\u001b[0m \u001b[0mops\u001b[0m\u001b[0;34m.\u001b[0m\u001b[0mname_scope\u001b[0m\u001b[0;34m(\u001b[0m\u001b[0;32mNone\u001b[0m\u001b[0;34m,\u001b[0m \u001b[0mop_name\u001b[0m\u001b[0;34m,\u001b[0m \u001b[0;34m[\u001b[0m\u001b[0mx\u001b[0m\u001b[0;34m,\u001b[0m \u001b[0my\u001b[0m\u001b[0;34m]\u001b[0m\u001b[0;34m)\u001b[0m \u001b[0;32mas\u001b[0m \u001b[0mname\u001b[0m\u001b[0;34m:\u001b[0m\u001b[0;34m\u001b[0m\u001b[0;34m\u001b[0m\u001b[0m\n\u001b[1;32m    811\u001b[0m       \u001b[0;32mif\u001b[0m \u001b[0misinstance\u001b[0m\u001b[0;34m(\u001b[0m\u001b[0mx\u001b[0m\u001b[0;34m,\u001b[0m \u001b[0mops\u001b[0m\u001b[0;34m.\u001b[0m\u001b[0mTensor\u001b[0m\u001b[0;34m)\u001b[0m \u001b[0;32mand\u001b[0m \u001b[0misinstance\u001b[0m\u001b[0;34m(\u001b[0m\u001b[0my\u001b[0m\u001b[0;34m,\u001b[0m \u001b[0mops\u001b[0m\u001b[0;34m.\u001b[0m\u001b[0mTensor\u001b[0m\u001b[0;34m)\u001b[0m\u001b[0;34m:\u001b[0m\u001b[0;34m\u001b[0m\u001b[0;34m\u001b[0m\u001b[0m\n\u001b[0;32m--> 812\u001b[0;31m         \u001b[0;32mreturn\u001b[0m \u001b[0mfunc\u001b[0m\u001b[0;34m(\u001b[0m\u001b[0mx\u001b[0m\u001b[0;34m,\u001b[0m \u001b[0my\u001b[0m\u001b[0;34m,\u001b[0m \u001b[0mname\u001b[0m\u001b[0;34m=\u001b[0m\u001b[0mname\u001b[0m\u001b[0;34m)\u001b[0m\u001b[0;34m\u001b[0m\u001b[0;34m\u001b[0m\u001b[0m\n\u001b[0m\u001b[1;32m    813\u001b[0m       \u001b[0;32melif\u001b[0m \u001b[0;32mnot\u001b[0m \u001b[0misinstance\u001b[0m\u001b[0;34m(\u001b[0m\u001b[0my\u001b[0m\u001b[0;34m,\u001b[0m \u001b[0msparse_tensor\u001b[0m\u001b[0;34m.\u001b[0m\u001b[0mSparseTensor\u001b[0m\u001b[0;34m)\u001b[0m\u001b[0;34m:\u001b[0m\u001b[0;34m\u001b[0m\u001b[0;34m\u001b[0m\u001b[0m\n\u001b[1;32m    814\u001b[0m         \u001b[0;32mtry\u001b[0m\u001b[0;34m:\u001b[0m\u001b[0;34m\u001b[0m\u001b[0;34m\u001b[0m\u001b[0m\n",
      "\u001b[0;32m/anaconda3/envs/cost-prediction-env/lib/python3.6/site-packages/tensorflow/python/ops/gen_math_ops.py\u001b[0m in \u001b[0;36msub\u001b[0;34m(x, y, name)\u001b[0m\n\u001b[1;32m   9531\u001b[0m       \u001b[0;32melse\u001b[0m\u001b[0;34m:\u001b[0m\u001b[0;34m\u001b[0m\u001b[0;34m\u001b[0m\u001b[0m\n\u001b[1;32m   9532\u001b[0m         \u001b[0mmessage\u001b[0m \u001b[0;34m=\u001b[0m \u001b[0me\u001b[0m\u001b[0;34m.\u001b[0m\u001b[0mmessage\u001b[0m\u001b[0;34m\u001b[0m\u001b[0;34m\u001b[0m\u001b[0m\n\u001b[0;32m-> 9533\u001b[0;31m       \u001b[0m_six\u001b[0m\u001b[0;34m.\u001b[0m\u001b[0mraise_from\u001b[0m\u001b[0;34m(\u001b[0m\u001b[0m_core\u001b[0m\u001b[0;34m.\u001b[0m\u001b[0m_status_to_exception\u001b[0m\u001b[0;34m(\u001b[0m\u001b[0me\u001b[0m\u001b[0;34m.\u001b[0m\u001b[0mcode\u001b[0m\u001b[0;34m,\u001b[0m \u001b[0mmessage\u001b[0m\u001b[0;34m)\u001b[0m\u001b[0;34m,\u001b[0m \u001b[0;32mNone\u001b[0m\u001b[0;34m)\u001b[0m\u001b[0;34m\u001b[0m\u001b[0;34m\u001b[0m\u001b[0m\n\u001b[0m\u001b[1;32m   9534\u001b[0m   \u001b[0;31m# Add nodes to the TensorFlow graph.\u001b[0m\u001b[0;34m\u001b[0m\u001b[0;34m\u001b[0m\u001b[0;34m\u001b[0m\u001b[0m\n\u001b[1;32m   9535\u001b[0m   _, _, _op = _op_def_lib._apply_op_helper(\n",
      "\u001b[0;32m/anaconda3/envs/cost-prediction-env/lib/python3.6/site-packages/six.py\u001b[0m in \u001b[0;36mraise_from\u001b[0;34m(value, from_value)\u001b[0m\n",
      "\u001b[0;31mInvalidArgumentError\u001b[0m: Incompatible shapes: [3,6] vs. [5,6] [Op:Sub] name: sub/"
     ]
    }
   ],
   "source": [
    "inner = 1 + tf.math.log(var) - tf.math.square(mean) - tf.math.square(var)\n",
    "inner"
   ]
  },
  {
   "cell_type": "code",
   "execution_count": null,
   "metadata": {},
   "outputs": [],
   "source": [
    "inner = 1 + tf.math.log(var) - mean**2 - var**2\n",
    "inner"
   ]
  },
  {
   "cell_type": "code",
   "execution_count": 57,
   "metadata": {},
   "outputs": [
    {
     "ename": "NameError",
     "evalue": "name 'inner' is not defined",
     "output_type": "error",
     "traceback": [
      "\u001b[0;31m---------------------------------------------------------------------------\u001b[0m",
      "\u001b[0;31mNameError\u001b[0m                                 Traceback (most recent call last)",
      "\u001b[0;32m<ipython-input-57-3df0ab4f98e4>\u001b[0m in \u001b[0;36m<module>\u001b[0;34m()\u001b[0m\n\u001b[0;32m----> 1\u001b[0;31m \u001b[0mkls\u001b[0m \u001b[0;34m=\u001b[0m \u001b[0mtf\u001b[0m\u001b[0;34m.\u001b[0m\u001b[0mmath\u001b[0m\u001b[0;34m.\u001b[0m\u001b[0mreduce_sum\u001b[0m\u001b[0;34m(\u001b[0m\u001b[0minner\u001b[0m\u001b[0;34m,\u001b[0m \u001b[0maxis\u001b[0m\u001b[0;34m=\u001b[0m\u001b[0;36m1\u001b[0m\u001b[0;34m)\u001b[0m\u001b[0;34m\u001b[0m\u001b[0;34m\u001b[0m\u001b[0m\n\u001b[0m\u001b[1;32m      2\u001b[0m \u001b[0mkls\u001b[0m\u001b[0;34m\u001b[0m\u001b[0;34m\u001b[0m\u001b[0m\n",
      "\u001b[0;31mNameError\u001b[0m: name 'inner' is not defined"
     ]
    }
   ],
   "source": [
    "kls = tf.math.reduce_sum(inner, axis=1)\n",
    "kls"
   ]
  },
  {
   "cell_type": "code",
   "execution_count": 58,
   "metadata": {},
   "outputs": [
    {
     "ename": "NameError",
     "evalue": "name 'kls' is not defined",
     "output_type": "error",
     "traceback": [
      "\u001b[0;31m---------------------------------------------------------------------------\u001b[0m",
      "\u001b[0;31mNameError\u001b[0m                                 Traceback (most recent call last)",
      "\u001b[0;32m<ipython-input-58-e58d84723be4>\u001b[0m in \u001b[0;36m<module>\u001b[0;34m()\u001b[0m\n\u001b[0;32m----> 1\u001b[0;31m \u001b[0mtf\u001b[0m\u001b[0;34m.\u001b[0m\u001b[0mmath\u001b[0m\u001b[0;34m.\u001b[0m\u001b[0mreduce_mean\u001b[0m\u001b[0;34m(\u001b[0m\u001b[0mkls\u001b[0m\u001b[0;34m)\u001b[0m\u001b[0;34m\u001b[0m\u001b[0;34m\u001b[0m\u001b[0m\n\u001b[0m",
      "\u001b[0;31mNameError\u001b[0m: name 'kls' is not defined"
     ]
    }
   ],
   "source": [
    "tf.math.reduce_mean(kls)"
   ]
  },
  {
   "cell_type": "code",
   "execution_count": 59,
   "metadata": {},
   "outputs": [],
   "source": [
    "def calculateKL(mean,std):\n",
    "\tinner = 1 + tf.math.log(std) - mean**2 - std**2\n",
    "\tkls = tf.math.reduce_sum(inner, axis=1)\n",
    "\treturn tf.math.reduce_mean(kls)"
   ]
  },
  {
   "cell_type": "code",
   "execution_count": 60,
   "metadata": {},
   "outputs": [
    {
     "ename": "InvalidArgumentError",
     "evalue": "Incompatible shapes: [3,6] vs. [5,6] [Op:Sub] name: sub/",
     "output_type": "error",
     "traceback": [
      "\u001b[0;31m---------------------------------------------------------------------------\u001b[0m",
      "\u001b[0;31mInvalidArgumentError\u001b[0m                      Traceback (most recent call last)",
      "\u001b[0;32m<ipython-input-60-368e621c4f2b>\u001b[0m in \u001b[0;36m<module>\u001b[0;34m()\u001b[0m\n\u001b[0;32m----> 1\u001b[0;31m \u001b[0mcalculateKL\u001b[0m\u001b[0;34m(\u001b[0m\u001b[0mmean\u001b[0m\u001b[0;34m,\u001b[0m \u001b[0mstd\u001b[0m\u001b[0;34m)\u001b[0m\u001b[0;34m\u001b[0m\u001b[0;34m\u001b[0m\u001b[0m\n\u001b[0m",
      "\u001b[0;32m<ipython-input-59-32e6fe0331c1>\u001b[0m in \u001b[0;36mcalculateKL\u001b[0;34m(mean, std)\u001b[0m\n\u001b[1;32m      1\u001b[0m \u001b[0;32mdef\u001b[0m \u001b[0mcalculateKL\u001b[0m\u001b[0;34m(\u001b[0m\u001b[0mmean\u001b[0m\u001b[0;34m,\u001b[0m\u001b[0mstd\u001b[0m\u001b[0;34m)\u001b[0m\u001b[0;34m:\u001b[0m\u001b[0;34m\u001b[0m\u001b[0;34m\u001b[0m\u001b[0m\n\u001b[0;32m----> 2\u001b[0;31m         \u001b[0minner\u001b[0m \u001b[0;34m=\u001b[0m \u001b[0;36m1\u001b[0m \u001b[0;34m+\u001b[0m \u001b[0mtf\u001b[0m\u001b[0;34m.\u001b[0m\u001b[0mmath\u001b[0m\u001b[0;34m.\u001b[0m\u001b[0mlog\u001b[0m\u001b[0;34m(\u001b[0m\u001b[0mstd\u001b[0m\u001b[0;34m)\u001b[0m \u001b[0;34m-\u001b[0m \u001b[0mmean\u001b[0m\u001b[0;34m**\u001b[0m\u001b[0;36m2\u001b[0m \u001b[0;34m-\u001b[0m \u001b[0mstd\u001b[0m\u001b[0;34m**\u001b[0m\u001b[0;36m2\u001b[0m\u001b[0;34m\u001b[0m\u001b[0;34m\u001b[0m\u001b[0m\n\u001b[0m\u001b[1;32m      3\u001b[0m         \u001b[0mkls\u001b[0m \u001b[0;34m=\u001b[0m \u001b[0mtf\u001b[0m\u001b[0;34m.\u001b[0m\u001b[0mmath\u001b[0m\u001b[0;34m.\u001b[0m\u001b[0mreduce_sum\u001b[0m\u001b[0;34m(\u001b[0m\u001b[0minner\u001b[0m\u001b[0;34m,\u001b[0m \u001b[0maxis\u001b[0m\u001b[0;34m=\u001b[0m\u001b[0;36m1\u001b[0m\u001b[0;34m)\u001b[0m\u001b[0;34m\u001b[0m\u001b[0;34m\u001b[0m\u001b[0m\n\u001b[1;32m      4\u001b[0m         \u001b[0;32mreturn\u001b[0m \u001b[0mtf\u001b[0m\u001b[0;34m.\u001b[0m\u001b[0mmath\u001b[0m\u001b[0;34m.\u001b[0m\u001b[0mreduce_mean\u001b[0m\u001b[0;34m(\u001b[0m\u001b[0mkls\u001b[0m\u001b[0;34m)\u001b[0m\u001b[0;34m\u001b[0m\u001b[0;34m\u001b[0m\u001b[0m\n",
      "\u001b[0;32m/anaconda3/envs/cost-prediction-env/lib/python3.6/site-packages/tensorflow/python/ops/math_ops.py\u001b[0m in \u001b[0;36mbinary_op_wrapper\u001b[0;34m(x, y)\u001b[0m\n\u001b[1;32m    810\u001b[0m     \u001b[0;32mwith\u001b[0m \u001b[0mops\u001b[0m\u001b[0;34m.\u001b[0m\u001b[0mname_scope\u001b[0m\u001b[0;34m(\u001b[0m\u001b[0;32mNone\u001b[0m\u001b[0;34m,\u001b[0m \u001b[0mop_name\u001b[0m\u001b[0;34m,\u001b[0m \u001b[0;34m[\u001b[0m\u001b[0mx\u001b[0m\u001b[0;34m,\u001b[0m \u001b[0my\u001b[0m\u001b[0;34m]\u001b[0m\u001b[0;34m)\u001b[0m \u001b[0;32mas\u001b[0m \u001b[0mname\u001b[0m\u001b[0;34m:\u001b[0m\u001b[0;34m\u001b[0m\u001b[0;34m\u001b[0m\u001b[0m\n\u001b[1;32m    811\u001b[0m       \u001b[0;32mif\u001b[0m \u001b[0misinstance\u001b[0m\u001b[0;34m(\u001b[0m\u001b[0mx\u001b[0m\u001b[0;34m,\u001b[0m \u001b[0mops\u001b[0m\u001b[0;34m.\u001b[0m\u001b[0mTensor\u001b[0m\u001b[0;34m)\u001b[0m \u001b[0;32mand\u001b[0m \u001b[0misinstance\u001b[0m\u001b[0;34m(\u001b[0m\u001b[0my\u001b[0m\u001b[0;34m,\u001b[0m \u001b[0mops\u001b[0m\u001b[0;34m.\u001b[0m\u001b[0mTensor\u001b[0m\u001b[0;34m)\u001b[0m\u001b[0;34m:\u001b[0m\u001b[0;34m\u001b[0m\u001b[0;34m\u001b[0m\u001b[0m\n\u001b[0;32m--> 812\u001b[0;31m         \u001b[0;32mreturn\u001b[0m \u001b[0mfunc\u001b[0m\u001b[0;34m(\u001b[0m\u001b[0mx\u001b[0m\u001b[0;34m,\u001b[0m \u001b[0my\u001b[0m\u001b[0;34m,\u001b[0m \u001b[0mname\u001b[0m\u001b[0;34m=\u001b[0m\u001b[0mname\u001b[0m\u001b[0;34m)\u001b[0m\u001b[0;34m\u001b[0m\u001b[0;34m\u001b[0m\u001b[0m\n\u001b[0m\u001b[1;32m    813\u001b[0m       \u001b[0;32melif\u001b[0m \u001b[0;32mnot\u001b[0m \u001b[0misinstance\u001b[0m\u001b[0;34m(\u001b[0m\u001b[0my\u001b[0m\u001b[0;34m,\u001b[0m \u001b[0msparse_tensor\u001b[0m\u001b[0;34m.\u001b[0m\u001b[0mSparseTensor\u001b[0m\u001b[0;34m)\u001b[0m\u001b[0;34m:\u001b[0m\u001b[0;34m\u001b[0m\u001b[0;34m\u001b[0m\u001b[0m\n\u001b[1;32m    814\u001b[0m         \u001b[0;32mtry\u001b[0m\u001b[0;34m:\u001b[0m\u001b[0;34m\u001b[0m\u001b[0;34m\u001b[0m\u001b[0m\n",
      "\u001b[0;32m/anaconda3/envs/cost-prediction-env/lib/python3.6/site-packages/tensorflow/python/ops/gen_math_ops.py\u001b[0m in \u001b[0;36msub\u001b[0;34m(x, y, name)\u001b[0m\n\u001b[1;32m   9531\u001b[0m       \u001b[0;32melse\u001b[0m\u001b[0;34m:\u001b[0m\u001b[0;34m\u001b[0m\u001b[0;34m\u001b[0m\u001b[0m\n\u001b[1;32m   9532\u001b[0m         \u001b[0mmessage\u001b[0m \u001b[0;34m=\u001b[0m \u001b[0me\u001b[0m\u001b[0;34m.\u001b[0m\u001b[0mmessage\u001b[0m\u001b[0;34m\u001b[0m\u001b[0;34m\u001b[0m\u001b[0m\n\u001b[0;32m-> 9533\u001b[0;31m       \u001b[0m_six\u001b[0m\u001b[0;34m.\u001b[0m\u001b[0mraise_from\u001b[0m\u001b[0;34m(\u001b[0m\u001b[0m_core\u001b[0m\u001b[0;34m.\u001b[0m\u001b[0m_status_to_exception\u001b[0m\u001b[0;34m(\u001b[0m\u001b[0me\u001b[0m\u001b[0;34m.\u001b[0m\u001b[0mcode\u001b[0m\u001b[0;34m,\u001b[0m \u001b[0mmessage\u001b[0m\u001b[0;34m)\u001b[0m\u001b[0;34m,\u001b[0m \u001b[0;32mNone\u001b[0m\u001b[0;34m)\u001b[0m\u001b[0;34m\u001b[0m\u001b[0;34m\u001b[0m\u001b[0m\n\u001b[0m\u001b[1;32m   9534\u001b[0m   \u001b[0;31m# Add nodes to the TensorFlow graph.\u001b[0m\u001b[0;34m\u001b[0m\u001b[0;34m\u001b[0m\u001b[0;34m\u001b[0m\u001b[0m\n\u001b[1;32m   9535\u001b[0m   _, _, _op = _op_def_lib._apply_op_helper(\n",
      "\u001b[0;32m/anaconda3/envs/cost-prediction-env/lib/python3.6/site-packages/six.py\u001b[0m in \u001b[0;36mraise_from\u001b[0;34m(value, from_value)\u001b[0m\n",
      "\u001b[0;31mInvalidArgumentError\u001b[0m: Incompatible shapes: [3,6] vs. [5,6] [Op:Sub] name: sub/"
     ]
    }
   ],
   "source": [
    "calculateKL(mean, std)"
   ]
  },
  {
   "cell_type": "code",
   "execution_count": 61,
   "metadata": {},
   "outputs": [],
   "source": [
    "probs = tf.constant([[0.1,0.2,0.7],\n",
    "                      [0.3,0.2,0.5],\n",
    "                      [0.1,0.5,0.4],\n",
    "                      [0.1,0.8,0.1]])"
   ]
  },
  {
   "cell_type": "code",
   "execution_count": 62,
   "metadata": {},
   "outputs": [],
   "source": [
    "def logit(p):\n",
    "    return tf.log(p/(1-p))"
   ]
  },
  {
   "cell_type": "code",
   "execution_count": 63,
   "metadata": {},
   "outputs": [
    {
     "data": {
      "text/plain": [
       "<tf.Tensor: id=144, shape=(4, 3), dtype=float32, numpy=\n",
       "array([[-2.1972246 , -1.3862944 ,  0.84729785],\n",
       "       [-0.8472978 , -1.3862944 ,  0.        ],\n",
       "       [-2.1972246 ,  0.        , -0.40546516],\n",
       "       [-2.1972246 ,  1.3862945 , -2.1972246 ]], dtype=float32)>"
      ]
     },
     "execution_count": 63,
     "metadata": {},
     "output_type": "execute_result"
    }
   ],
   "source": [
    "logits = logit(probs)\n",
    "logits"
   ]
  },
  {
   "cell_type": "code",
   "execution_count": 64,
   "metadata": {},
   "outputs": [
    {
     "data": {
      "text/plain": [
       "<tf.Tensor: id=150, shape=(4, 3), dtype=float32, numpy=\n",
       "array([[0.09999996, 0.19999999, 0.7       ],\n",
       "       [0.3       , 0.19999999, 0.5       ],\n",
       "       [0.09999996, 0.5       , 0.4       ],\n",
       "       [0.1       , 0.8       , 0.1       ]], dtype=float32)>"
      ]
     },
     "execution_count": 64,
     "metadata": {},
     "output_type": "execute_result"
    }
   ],
   "source": [
    "tf.sigmoid(logit(probs))"
   ]
  },
  {
   "cell_type": "code",
   "execution_count": 65,
   "metadata": {},
   "outputs": [],
   "source": [
    "y_pred = tf.constant([[0.1,0.2,0.7],\n",
    "                      [0.3,0.2,0.5],\n",
    "                      [0.1,0.5,0.4],\n",
    "                      [0.1,0.8,0.1]])"
   ]
  },
  {
   "cell_type": "code",
   "execution_count": 66,
   "metadata": {},
   "outputs": [
    {
     "name": "stdout",
     "output_type": "stream",
     "text": [
      "WARNING:tensorflow:From <ipython-input-66-13997de5978d>:1: Bernoulli.__init__ (from tensorflow.python.ops.distributions.bernoulli) is deprecated and will be removed after 2019-01-01.\n",
      "Instructions for updating:\n",
      "The TensorFlow Distributions library has moved to TensorFlow Probability (https://github.com/tensorflow/probability). You should update all references to use `tfp.distributions` instead of `tf.distributions`.\n",
      "WARNING:tensorflow:From /anaconda3/envs/cost-prediction-env/lib/python3.6/site-packages/tensorflow/python/ops/distributions/bernoulli.py:97: Distribution.__init__ (from tensorflow.python.ops.distributions.distribution) is deprecated and will be removed after 2019-01-01.\n",
      "Instructions for updating:\n",
      "The TensorFlow Distributions library has moved to TensorFlow Probability (https://github.com/tensorflow/probability). You should update all references to use `tfp.distributions` instead of `tf.distributions`.\n"
     ]
    }
   ],
   "source": [
    "ber_dist = tf.distributions.Bernoulli(probs=y_pred)"
   ]
  },
  {
   "cell_type": "code",
   "execution_count": 67,
   "metadata": {},
   "outputs": [],
   "source": [
    "y_true = tf.constant([[1.,0.,0.],\n",
    "                      [0.,1.,0.],\n",
    "                      [1.,0.,0.],\n",
    "                      [0.,1.,0.]])"
   ]
  },
  {
   "cell_type": "code",
   "execution_count": 68,
   "metadata": {},
   "outputs": [
    {
     "data": {
      "text/plain": [
       "<tf.Tensor: id=168, shape=(4, 3), dtype=float32, numpy=\n",
       "array([[2.3025851 , 0.22314355, 1.2039728 ],\n",
       "       [0.35667497, 1.609438  , 0.6931472 ],\n",
       "       [2.3025851 , 0.6931472 , 0.5108256 ],\n",
       "       [0.10536051, 0.22314353, 0.10536051]], dtype=float32)>"
      ]
     },
     "execution_count": 68,
     "metadata": {},
     "output_type": "execute_result"
    }
   ],
   "source": [
    "tf.nn.sigmoid_cross_entropy_with_logits(labels=y_true, logits=logits)"
   ]
  },
  {
   "cell_type": "code",
   "execution_count": 69,
   "metadata": {},
   "outputs": [
    {
     "data": {
      "text/plain": [
       "<tf.Tensor: id=201, shape=(4,), dtype=float32, numpy=array([3.1884167 , 1.9042375 , 2.7725887 , 0.05406725], dtype=float32)>"
      ]
     },
     "execution_count": 69,
     "metadata": {},
     "output_type": "execute_result"
    }
   ],
   "source": [
    "tf.nn.softmax_cross_entropy_with_logits_v2(labels=y_true, logits=logits)"
   ]
  },
  {
   "cell_type": "code",
   "execution_count": 126,
   "metadata": {},
   "outputs": [
    {
     "data": {
      "text/plain": [
       "<tf.Tensor: id=443, shape=(4, 3), dtype=float32, numpy=\n",
       "array([[0.14583333, 0.04545455, 0.5675676 ],\n",
       "       [0.56250006, 0.04545455, 0.24324325],\n",
       "       [0.14583333, 0.18181817, 0.16216215],\n",
       "       [0.14583333, 0.72727275, 0.02702703]], dtype=float32)>"
      ]
     },
     "execution_count": 126,
     "metadata": {},
     "output_type": "execute_result"
    }
   ],
   "source": [
    "logits\n",
    "tf.nn.softmax(logits=logits, axis=0)"
   ]
  },
  {
   "cell_type": "code",
   "execution_count": 70,
   "metadata": {},
   "outputs": [
    {
     "data": {
      "text/plain": [
       "<tf.Tensor: id=215, shape=(4,), dtype=float32, numpy=array([-3.7297015 , -2.65926   , -3.506558  , -0.43386453], dtype=float32)>"
      ]
     },
     "execution_count": 70,
     "metadata": {},
     "output_type": "execute_result"
    }
   ],
   "source": [
    "-tf.reduce_sum(tf.nn.sigmoid_cross_entropy_with_logits(labels=y_true, logits=logits), axis=1)"
   ]
  },
  {
   "cell_type": "code",
   "execution_count": 71,
   "metadata": {},
   "outputs": [
    {
     "data": {
      "text/plain": [
       "<tf.Tensor: id=227, shape=(4, 3), dtype=float32, numpy=\n",
       "array([[-2.3025851 , -0.22314355, -1.2039728 ],\n",
       "       [-0.35667494, -1.609438  , -0.6931472 ],\n",
       "       [-2.3025851 , -0.6931472 , -0.51082563],\n",
       "       [-0.10536051, -0.22314355, -0.10536051]], dtype=float32)>"
      ]
     },
     "execution_count": 71,
     "metadata": {},
     "output_type": "execute_result"
    }
   ],
   "source": [
    "ber_dist.log_prob(y_true)"
   ]
  },
  {
   "cell_type": "code",
   "execution_count": 72,
   "metadata": {},
   "outputs": [
    {
     "data": {
      "text/plain": [
       "<tf.Tensor: id=244, shape=(), dtype=float32, numpy=3.2659205e-05>"
      ]
     },
     "execution_count": 72,
     "metadata": {},
     "output_type": "execute_result"
    }
   ],
   "source": [
    "tf.exp(tf.reduce_sum(ber_dist.log_prob(1e-10 + y_true)))"
   ]
  },
  {
   "cell_type": "code",
   "execution_count": 73,
   "metadata": {},
   "outputs": [
    {
     "data": {
      "text/plain": [
       "<tf.Tensor: id=247, shape=(4, 3), dtype=float32, numpy=\n",
       "array([[0., 1., 1.],\n",
       "       [1., 0., 1.],\n",
       "       [0., 1., 1.],\n",
       "       [1., 0., 1.]], dtype=float32)>"
      ]
     },
     "execution_count": 73,
     "metadata": {},
     "output_type": "execute_result"
    }
   ],
   "source": [
    "1-y_true"
   ]
  },
  {
   "cell_type": "code",
   "execution_count": 74,
   "metadata": {},
   "outputs": [
    {
     "data": {
      "text/plain": [
       "<tf.Tensor: id=257, shape=(4, 3), dtype=float32, numpy=\n",
       "array([[-2.3025851 , -0.22314353, -1.2039728 ],\n",
       "       [-0.35667497, -1.609438  , -0.6931472 ],\n",
       "       [-2.3025851 , -0.6931472 , -0.5108256 ],\n",
       "       [-0.10536055, -0.22314353, -0.10536055]], dtype=float32)>"
      ]
     },
     "execution_count": 74,
     "metadata": {},
     "output_type": "execute_result"
    }
   ],
   "source": [
    "y_true*tf.log(y_pred) + (1-y_true)*tf.log(1-y_pred)"
   ]
  },
  {
   "cell_type": "code",
   "execution_count": 75,
   "metadata": {},
   "outputs": [
    {
     "data": {
      "text/plain": [
       "<tf.Tensor: id=270, shape=(), dtype=float32, numpy=3.2659205e-05>"
      ]
     },
     "execution_count": 75,
     "metadata": {},
     "output_type": "execute_result"
    }
   ],
   "source": [
    "tf.exp(tf.reduce_sum(y_true*tf.log(y_pred) + (1-y_true)*tf.log(1-y_pred)))"
   ]
  },
  {
   "cell_type": "code",
   "execution_count": null,
   "metadata": {},
   "outputs": [],
   "source": []
  },
  {
   "cell_type": "code",
   "execution_count": 76,
   "metadata": {},
   "outputs": [
    {
     "data": {
      "text/plain": [
       "0.504"
      ]
     },
     "execution_count": 76,
     "metadata": {},
     "output_type": "execute_result"
    }
   ],
   "source": [
    "0.9*0.8*0.7"
   ]
  },
  {
   "cell_type": "code",
   "execution_count": null,
   "metadata": {},
   "outputs": [],
   "source": []
  },
  {
   "cell_type": "code",
   "execution_count": null,
   "metadata": {},
   "outputs": [],
   "source": []
  },
  {
   "cell_type": "code",
   "execution_count": 77,
   "metadata": {},
   "outputs": [],
   "source": [
    "np_a = np.array([[1,2,3,4,5],\n",
    "                 [2,3,4,5,6],\n",
    "                 [3,4,5,6,7]\n",
    "                ])"
   ]
  },
  {
   "cell_type": "code",
   "execution_count": 78,
   "metadata": {},
   "outputs": [],
   "source": [
    "np_y = np.array([1,2,3])"
   ]
  },
  {
   "cell_type": "code",
   "execution_count": 79,
   "metadata": {},
   "outputs": [
    {
     "data": {
      "text/plain": [
       "array([[1, 2, 3, 4, 5],\n",
       "       [2, 3, 4, 5, 6],\n",
       "       [3, 4, 5, 6, 7]])"
      ]
     },
     "execution_count": 79,
     "metadata": {},
     "output_type": "execute_result"
    }
   ],
   "source": [
    "np_a"
   ]
  },
  {
   "cell_type": "code",
   "execution_count": 80,
   "metadata": {},
   "outputs": [
    {
     "data": {
      "text/plain": [
       "array([[2, 3, 4, 5, 6],\n",
       "       [3, 4, 5, 6, 7]])"
      ]
     },
     "execution_count": 80,
     "metadata": {},
     "output_type": "execute_result"
    }
   ],
   "source": [
    "np_a[1:3]"
   ]
  },
  {
   "cell_type": "code",
   "execution_count": 81,
   "metadata": {},
   "outputs": [
    {
     "data": {
      "text/plain": [
       "array([2, 3])"
      ]
     },
     "execution_count": 81,
     "metadata": {},
     "output_type": "execute_result"
    }
   ],
   "source": [
    "np_y[1:3]"
   ]
  },
  {
   "cell_type": "code",
   "execution_count": 82,
   "metadata": {},
   "outputs": [
    {
     "data": {
      "text/plain": [
       "<tf.Tensor: id=277, shape=(1, 5), dtype=float32, numpy=\n",
       "array([[6.4223166, 4.45996  , 5.601477 , 4.2868333, 5.8136244]],\n",
       "      dtype=float32)>"
      ]
     },
     "execution_count": 82,
     "metadata": {},
     "output_type": "execute_result"
    }
   ],
   "source": [
    "tf.random.normal(\n",
    "    shape=(1,5),\n",
    "    mean=5.0,\n",
    "    stddev=2.0\n",
    ")"
   ]
  },
  {
   "cell_type": "code",
   "execution_count": 117,
   "metadata": {},
   "outputs": [
    {
     "data": {
      "text/plain": [
       "TensorShape([Dimension(3), Dimension(8)])"
      ]
     },
     "execution_count": 117,
     "metadata": {},
     "output_type": "execute_result"
    }
   ],
   "source": [
    "current_value = tf.constant([\n",
    "    [3.,4.,5.,6.,7.,8.,9.,10.],\n",
    "    [3.,4.,5.,6.,7.,8.,9.,10.],\n",
    "    [3.,4.,5.,6.,7.,8.,9.,10.]\n",
    "], dtype=tf.float32)\n",
    "norm_params.shape"
   ]
  },
  {
   "cell_type": "code",
   "execution_count": 118,
   "metadata": {},
   "outputs": [],
   "source": [
    "middle_layer_dim=2"
   ]
  },
  {
   "cell_type": "code",
   "execution_count": 119,
   "metadata": {},
   "outputs": [],
   "source": [
    "means1 = current_value[:, :middle_layer_dim]"
   ]
  },
  {
   "cell_type": "code",
   "execution_count": 120,
   "metadata": {},
   "outputs": [],
   "source": [
    "stdevs1 = tf.nn.softplus(current_value[:, middle_layer_dim:(middle_layer_dim*2)]) + 1e-6"
   ]
  },
  {
   "cell_type": "code",
   "execution_count": 121,
   "metadata": {},
   "outputs": [],
   "source": [
    "means2 = current_value[:, (middle_layer_dim*2):(middle_layer_dim*3)]"
   ]
  },
  {
   "cell_type": "code",
   "execution_count": 122,
   "metadata": {},
   "outputs": [],
   "source": [
    "stdevs2 = tf.nn.softplus(current_value[:, (middle_layer_dim*3):(middle_layer_dim*4)]) + 1e-6"
   ]
  },
  {
   "cell_type": "code",
   "execution_count": null,
   "metadata": {},
   "outputs": [],
   "source": []
  },
  {
   "cell_type": "code",
   "execution_count": null,
   "metadata": {},
   "outputs": [],
   "source": []
  },
  {
   "cell_type": "code",
   "execution_count": null,
   "metadata": {},
   "outputs": [],
   "source": []
  },
  {
   "cell_type": "code",
   "execution_count": 85,
   "metadata": {},
   "outputs": [
    {
     "data": {
      "text/plain": [
       "<tf.Tensor: id=279, shape=(3, 4), dtype=float32, numpy=\n",
       "array([[3., 4., 5., 6.],\n",
       "       [3., 4., 5., 6.],\n",
       "       [3., 4., 5., 6.]], dtype=float32)>"
      ]
     },
     "execution_count": 85,
     "metadata": {},
     "output_type": "execute_result"
    }
   ],
   "source": [
    "norm_params"
   ]
  },
  {
   "cell_type": "code",
   "execution_count": 84,
   "metadata": {},
   "outputs": [
    {
     "data": {
      "text/plain": [
       "<tf.Tensor: id=283, shape=(3, 2), dtype=float32, numpy=\n",
       "array([[3., 4.],\n",
       "       [3., 4.],\n",
       "       [3., 4.]], dtype=float32)>"
      ]
     },
     "execution_count": 84,
     "metadata": {},
     "output_type": "execute_result"
    }
   ],
   "source": [
    "norm_params[:,:2]"
   ]
  },
  {
   "cell_type": "code",
   "execution_count": 86,
   "metadata": {},
   "outputs": [
    {
     "data": {
      "text/plain": [
       "<tf.Tensor: id=289, shape=(3, 2), dtype=float32, numpy=\n",
       "array([[5., 6.],\n",
       "       [5., 6.],\n",
       "       [5., 6.]], dtype=float32)>"
      ]
     },
     "execution_count": 86,
     "metadata": {},
     "output_type": "execute_result"
    }
   ],
   "source": [
    "norm_params[:,2:]"
   ]
  },
  {
   "cell_type": "code",
   "execution_count": 96,
   "metadata": {},
   "outputs": [
    {
     "ename": "TypeError",
     "evalue": "Only integers, slices (`:`), ellipsis (`...`), tf.newaxis (`None`) and scalar tf.int32/tf.int64 tensors are valid indices, got <tf.Tensor: id=324, shape=(2,), dtype=int32, numpy=array([1, 2], dtype=int32)>",
     "output_type": "error",
     "traceback": [
      "\u001b[0;31m---------------------------------------------------------------------------\u001b[0m",
      "\u001b[0;31mTypeError\u001b[0m                                 Traceback (most recent call last)",
      "\u001b[0;32m<ipython-input-96-1326faa002ec>\u001b[0m in \u001b[0;36m<module>\u001b[0;34m()\u001b[0m\n\u001b[1;32m      1\u001b[0m \u001b[0mindexes\u001b[0m \u001b[0;34m=\u001b[0m \u001b[0mtf\u001b[0m\u001b[0;34m.\u001b[0m\u001b[0mconstant\u001b[0m\u001b[0;34m(\u001b[0m\u001b[0;34m[\u001b[0m\u001b[0;36m1\u001b[0m\u001b[0;34m,\u001b[0m \u001b[0;36m2\u001b[0m\u001b[0;34m]\u001b[0m\u001b[0;34m)\u001b[0m\u001b[0;34m\u001b[0m\u001b[0;34m\u001b[0m\u001b[0m\n\u001b[0;32m----> 2\u001b[0;31m \u001b[0mnorm_params\u001b[0m\u001b[0;34m[\u001b[0m\u001b[0;34m:\u001b[0m\u001b[0;34m,\u001b[0m\u001b[0mindexes\u001b[0m\u001b[0;34m]\u001b[0m\u001b[0;34m\u001b[0m\u001b[0;34m\u001b[0m\u001b[0m\n\u001b[0m",
      "\u001b[0;32m/anaconda3/envs/cost-prediction-env/lib/python3.6/site-packages/tensorflow/python/ops/array_ops.py\u001b[0m in \u001b[0;36m_slice_helper\u001b[0;34m(tensor, slice_spec, var)\u001b[0m\n\u001b[1;32m    616\u001b[0m       \u001b[0mnew_axis_mask\u001b[0m \u001b[0;34m|=\u001b[0m \u001b[0;34m(\u001b[0m\u001b[0;36m1\u001b[0m \u001b[0;34m<<\u001b[0m \u001b[0mindex\u001b[0m\u001b[0;34m)\u001b[0m\u001b[0;34m\u001b[0m\u001b[0;34m\u001b[0m\u001b[0m\n\u001b[1;32m    617\u001b[0m     \u001b[0;32melse\u001b[0m\u001b[0;34m:\u001b[0m\u001b[0;34m\u001b[0m\u001b[0;34m\u001b[0m\u001b[0m\n\u001b[0;32m--> 618\u001b[0;31m       \u001b[0m_check_index\u001b[0m\u001b[0;34m(\u001b[0m\u001b[0ms\u001b[0m\u001b[0;34m)\u001b[0m\u001b[0;34m\u001b[0m\u001b[0;34m\u001b[0m\u001b[0m\n\u001b[0m\u001b[1;32m    619\u001b[0m       \u001b[0mbegin\u001b[0m\u001b[0;34m.\u001b[0m\u001b[0mappend\u001b[0m\u001b[0;34m(\u001b[0m\u001b[0ms\u001b[0m\u001b[0;34m)\u001b[0m\u001b[0;34m\u001b[0m\u001b[0;34m\u001b[0m\u001b[0m\n\u001b[1;32m    620\u001b[0m       \u001b[0mend\u001b[0m\u001b[0;34m.\u001b[0m\u001b[0mappend\u001b[0m\u001b[0;34m(\u001b[0m\u001b[0ms\u001b[0m \u001b[0;34m+\u001b[0m \u001b[0;36m1\u001b[0m\u001b[0;34m)\u001b[0m\u001b[0;34m\u001b[0m\u001b[0;34m\u001b[0m\u001b[0m\n",
      "\u001b[0;32m/anaconda3/envs/cost-prediction-env/lib/python3.6/site-packages/tensorflow/python/ops/array_ops.py\u001b[0m in \u001b[0;36m_check_index\u001b[0;34m(idx)\u001b[0m\n\u001b[1;32m    514\u001b[0m     \u001b[0;31m# TODO(slebedev): IndexError seems more appropriate here, but it\u001b[0m\u001b[0;34m\u001b[0m\u001b[0;34m\u001b[0m\u001b[0;34m\u001b[0m\u001b[0m\n\u001b[1;32m    515\u001b[0m     \u001b[0;31m# will break `_slice_helper` contract.\u001b[0m\u001b[0;34m\u001b[0m\u001b[0;34m\u001b[0m\u001b[0;34m\u001b[0m\u001b[0m\n\u001b[0;32m--> 516\u001b[0;31m     \u001b[0;32mraise\u001b[0m \u001b[0mTypeError\u001b[0m\u001b[0;34m(\u001b[0m\u001b[0m_SLICE_TYPE_ERROR\u001b[0m \u001b[0;34m+\u001b[0m \u001b[0;34m\", got {!r}\"\u001b[0m\u001b[0;34m.\u001b[0m\u001b[0mformat\u001b[0m\u001b[0;34m(\u001b[0m\u001b[0midx\u001b[0m\u001b[0;34m)\u001b[0m\u001b[0;34m)\u001b[0m\u001b[0;34m\u001b[0m\u001b[0;34m\u001b[0m\u001b[0m\n\u001b[0m\u001b[1;32m    517\u001b[0m \u001b[0;34m\u001b[0m\u001b[0m\n\u001b[1;32m    518\u001b[0m \u001b[0;34m\u001b[0m\u001b[0m\n",
      "\u001b[0;31mTypeError\u001b[0m: Only integers, slices (`:`), ellipsis (`...`), tf.newaxis (`None`) and scalar tf.int32/tf.int64 tensors are valid indices, got <tf.Tensor: id=324, shape=(2,), dtype=int32, numpy=array([1, 2], dtype=int32)>"
     ]
    }
   ],
   "source": [
    "indexes = tf.constant([1, 2])\n",
    "norm_params[:,indexes]"
   ]
  },
  {
   "cell_type": "code",
   "execution_count": 129,
   "metadata": {},
   "outputs": [],
   "source": [
    "eps1 = tf.random_normal(shape=(10,2), mean=0, stddev=1, \n",
    "                               dtype=tf.float32)\n",
    "eps2 = tf.random_normal(shape=(10,2), mean=0, stddev=1, \n",
    "                               dtype=tf.float32)"
   ]
  },
  {
   "cell_type": "code",
   "execution_count": 130,
   "metadata": {},
   "outputs": [
    {
     "data": {
      "text/plain": [
       "<tf.Tensor: id=465, shape=(10, 2), dtype=float32, numpy=\n",
       "array([[-0.98303866,  0.17387082],\n",
       "       [-1.7655772 ,  0.70335376],\n",
       "       [ 1.5072902 ,  0.6649761 ],\n",
       "       [ 1.2220899 ,  0.39191774],\n",
       "       [-0.6027583 , -1.3779223 ],\n",
       "       [-0.84137094, -0.7731898 ],\n",
       "       [ 0.68443716, -1.40442   ],\n",
       "       [-0.41767552,  0.78373134],\n",
       "       [ 0.38205168, -1.7449099 ],\n",
       "       [ 0.16932958,  0.84655076]], dtype=float32)>"
      ]
     },
     "execution_count": 130,
     "metadata": {},
     "output_type": "execute_result"
    }
   ],
   "source": [
    "eps1"
   ]
  },
  {
   "cell_type": "code",
   "execution_count": 144,
   "metadata": {},
   "outputs": [],
   "source": [
    "means1, stdevs1 = tf.constant([0.,3.]), tf.constant([2.,3.])"
   ]
  },
  {
   "cell_type": "code",
   "execution_count": 145,
   "metadata": {},
   "outputs": [
    {
     "data": {
      "text/plain": [
       "<tf.Tensor: id=492, shape=(10, 2), dtype=float32, numpy=\n",
       "array([[-1.9660773 ,  3.5216124 ],\n",
       "       [-3.5311544 ,  5.110061  ],\n",
       "       [ 3.0145805 ,  4.9949284 ],\n",
       "       [ 2.4441798 ,  4.175753  ],\n",
       "       [-1.2055166 , -1.1337671 ],\n",
       "       [-1.6827419 ,  0.68043065],\n",
       "       [ 1.3688743 , -1.2132602 ],\n",
       "       [-0.83535105,  5.351194  ],\n",
       "       [ 0.76410335, -2.2347298 ],\n",
       "       [ 0.33865917,  5.5396523 ]], dtype=float32)>"
      ]
     },
     "execution_count": 145,
     "metadata": {},
     "output_type": "execute_result"
    }
   ],
   "source": [
    "tf.add(means1,  stdevs1* eps1)"
   ]
  },
  {
   "cell_type": "code",
   "execution_count": 146,
   "metadata": {},
   "outputs": [],
   "source": [
    "means1, stdevs1 = tf.constant([0.,3.]), tf.constant([2.,3.])\n",
    "means2, stdevs2 = tf.constant([1.,5.]), tf.constant([1.5,3.1])"
   ]
  },
  {
   "cell_type": "code",
   "execution_count": 148,
   "metadata": {},
   "outputs": [
    {
     "data": {
      "text/plain": [
       "<tf.Tensor: id=516, shape=(10, 2), dtype=float32, numpy=\n",
       "array([[-1.2203176 ,  4.530306  ],\n",
       "       [-2.58976   ,  6.145229  ],\n",
       "       [ 3.1377578 ,  6.0281773 ],\n",
       "       [ 2.6386573 ,  5.1953487 ],\n",
       "       [-0.554827  , -0.20266294],\n",
       "       [-0.9723991 ,  1.6417712 ],\n",
       "       [ 1.697765  , -0.28348112],\n",
       "       [-0.23093218,  6.390381  ],\n",
       "       [ 1.1685904 , -1.3219752 ],\n",
       "       [ 0.79632676,  6.5819798 ]], dtype=float32)>"
      ]
     },
     "execution_count": 148,
     "metadata": {},
     "output_type": "execute_result"
    }
   ],
   "source": [
    "0.5*tf.add(means1,  stdevs1* eps1) + 0.5*tf.add(means2,  stdevs2* eps2)"
   ]
  },
  {
   "cell_type": "code",
   "execution_count": 151,
   "metadata": {},
   "outputs": [
    {
     "name": "stdout",
     "output_type": "stream",
     "text": [
      "WARNING:tensorflow:From <ipython-input-151-f5a002de605c>:1: Normal.__init__ (from tensorflow.python.ops.distributions.normal) is deprecated and will be removed after 2019-01-01.\n",
      "Instructions for updating:\n",
      "The TensorFlow Distributions library has moved to TensorFlow Probability (https://github.com/tensorflow/probability). You should update all references to use `tfp.distributions` instead of `tf.distributions`.\n"
     ]
    }
   ],
   "source": [
    "dist = tf.distributions.Normal(loc=0., scale=3.)"
   ]
  },
  {
   "cell_type": "code",
   "execution_count": 160,
   "metadata": {},
   "outputs": [
    {
     "data": {
      "text/plain": [
       "<tf.Tensor: id=567, shape=(), dtype=float32, numpy=0.13298075>"
      ]
     },
     "execution_count": 160,
     "metadata": {},
     "output_type": "execute_result"
    }
   ],
   "source": [
    "dist.prob(0)"
   ]
  },
  {
   "cell_type": "code",
   "execution_count": 159,
   "metadata": {},
   "outputs": [
    {
     "data": {
      "text/plain": [
       "0.1329807601338109"
      ]
     },
     "execution_count": 159,
     "metadata": {},
     "output_type": "execute_result"
    }
   ],
   "source": [
    "scipy.stats.norm.pdf(0, loc=0.0, scale=3.0)"
   ]
  },
  {
   "cell_type": "code",
   "execution_count": null,
   "metadata": {},
   "outputs": [],
   "source": [
    "def norm_const(z, beta1, means1, stdevs1, beta2, means2, stdevs2):\n",
    "    norm = beta1*mult_dist_1.prob(z) + beta2 * mult_dist_2.prob(z)\n",
    "    return norm"
   ]
  },
  {
   "cell_type": "code",
   "execution_count": null,
   "metadata": {},
   "outputs": [],
   "source": [
    "def responsibilities(z, beta1, means1, stdevs1, beta2, means2, stdevs2):\n",
    "    mult_dist_1 = tf.contrib.distributions.MultivariateNormalDiag(loc=means1, scale_diag=stdevs1)\n",
    "    mult_dist_2 = tf.contrib.distributions.MultivariateNormalDiag(loc=means2, scale_diag=stdevs2)\n",
    "    nom1 = beta1 * mult_dist_1.prob(z)\n",
    "    nom2 = beta2 * mult_dist_2.prob(z)\n",
    "    denom = nom1 + nom2\n",
    "    return nom1/denom, nom2/denom"
   ]
  },
  {
   "cell_type": "code",
   "execution_count": 204,
   "metadata": {},
   "outputs": [],
   "source": [
    "def penalty_term(z):\n",
    "    means1, stdevs1 = tf.constant([2.,0.]), tf.constant([1.,1.])\n",
    "    means2, stdevs2 = tf.constant([-2.,0.]), tf.constant([1.,1.])\n",
    "    beta1 = 0.5\n",
    "    beta2 = 0.5\n",
    "        \n",
    "    mult_dist_1 = tf.contrib.distributions.MultivariateNormalDiag(loc=means1, scale_diag=stdevs1)\n",
    "    mult_dist_2 = tf.contrib.distributions.MultivariateNormalDiag(loc=means2, scale_diag=stdevs2)\n",
    "    mix_dist = beta1 * mult_dist_1.prob(z) + beta2 * mult_dist_2.prob(z) + 1e-6\n",
    "    return tf.reduce_sum(tf.log(mix_dist))"
   ]
  },
  {
   "cell_type": "code",
   "execution_count": 205,
   "metadata": {},
   "outputs": [
    {
     "data": {
      "text/plain": [
       "<tf.Tensor: id=6063, shape=(), dtype=float32, numpy=-8.333707>"
      ]
     },
     "execution_count": 205,
     "metadata": {},
     "output_type": "execute_result"
    }
   ],
   "source": [
    "z=[0.,3.]\n",
    "penalty_term(z)"
   ]
  },
  {
   "cell_type": "code",
   "execution_count": 178,
   "metadata": {},
   "outputs": [],
   "source": [
    "means1, stdevs1 = tf.constant([2.,0.]), tf.constant([0.07,0.007])\n",
    "means2, stdevs2 = tf.constant([-2.,0.]), tf.constant([0.07,0.007])\n",
    "beta1 = 0.5\n",
    "beta2 = 0.5"
   ]
  },
  {
   "cell_type": "code",
   "execution_count": 180,
   "metadata": {},
   "outputs": [],
   "source": [
    "mult_dist_1 = tf.contrib.distributions.MultivariateNormalDiag(loc=means1, scale_diag=stdevs1)"
   ]
  },
  {
   "cell_type": "code",
   "execution_count": 181,
   "metadata": {},
   "outputs": [],
   "source": [
    "mult_dist_2 = tf.contrib.distributions.MultivariateNormalDiag(loc=means2, scale_diag=stdevs2)"
   ]
  },
  {
   "cell_type": "code",
   "execution_count": 185,
   "metadata": {},
   "outputs": [
    {
     "data": {
      "text/plain": [
       "<tf.Tensor: id=2823, shape=(), dtype=float32, numpy=0.0>"
      ]
     },
     "execution_count": 185,
     "metadata": {},
     "output_type": "execute_result"
    }
   ],
   "source": [
    "mix_dist = beta1 * mult_dist_1.prob(z) + beta2 * mult_dist_2.prob(z)\n",
    "mix_dist"
   ]
  },
  {
   "cell_type": "code",
   "execution_count": 187,
   "metadata": {},
   "outputs": [
    {
     "data": {
      "text/plain": [
       "<tf.Tensor: id=3006, shape=(), dtype=float32, numpy=0.0>"
      ]
     },
     "execution_count": 187,
     "metadata": {},
     "output_type": "execute_result"
    }
   ],
   "source": [
    "mult_dist_1.prob([0.,3.])"
   ]
  },
  {
   "cell_type": "code",
   "execution_count": null,
   "metadata": {},
   "outputs": [],
   "source": []
  },
  {
   "cell_type": "code",
   "execution_count": null,
   "metadata": {},
   "outputs": [],
   "source": []
  },
  {
   "cell_type": "code",
   "execution_count": 175,
   "metadata": {},
   "outputs": [
    {
     "data": {
      "text/plain": [
       "<tf.Tensor: id=1369, shape=(), dtype=float32, numpy=-12.027799>"
      ]
     },
     "execution_count": 175,
     "metadata": {},
     "output_type": "execute_result"
    }
   ],
   "source": [
    "tf.reduce_sum(tf.log(, [4.,0.], [0.,1.]])))"
   ]
  },
  {
   "cell_type": "code",
   "execution_count": 195,
   "metadata": {},
   "outputs": [
    {
     "data": {
      "text/plain": [
       "<tf.Tensor: id=4071, shape=(), dtype=float32, numpy=0.0>"
      ]
     },
     "execution_count": 195,
     "metadata": {},
     "output_type": "execute_result"
    }
   ],
   "source": [
    "tf.contrib.distributions.MultivariateNormalDiag(loc=[3.,2.], scale_diag=[0.1,2.0]).prob([1.,0.])"
   ]
  },
  {
   "cell_type": "code",
   "execution_count": 206,
   "metadata": {},
   "outputs": [],
   "source": [
    "d = [2.,4.]"
   ]
  },
  {
   "cell_type": "code",
   "execution_count": 207,
   "metadata": {},
   "outputs": [
    {
     "data": {
      "text/plain": [
       "[2.0, 4.0]"
      ]
     },
     "execution_count": 207,
     "metadata": {},
     "output_type": "execute_result"
    }
   ],
   "source": [
    "d"
   ]
  },
  {
   "cell_type": "code",
   "execution_count": 208,
   "metadata": {},
   "outputs": [
    {
     "data": {
      "text/plain": [
       "<tf.Tensor: id=6066, shape=(2, 2), dtype=float32, numpy=\n",
       "array([[2., 0.],\n",
       "       [0., 4.]], dtype=float32)>"
      ]
     },
     "execution_count": 208,
     "metadata": {},
     "output_type": "execute_result"
    }
   ],
   "source": [
    "tf.diag(d)"
   ]
  },
  {
   "cell_type": "code",
   "execution_count": 212,
   "metadata": {},
   "outputs": [
    {
     "data": {
      "text/plain": [
       "<tf.Tensor: id=6072, shape=(2,), dtype=float32, numpy=array([0.5 , 0.25], dtype=float32)>"
      ]
     },
     "execution_count": 212,
     "metadata": {},
     "output_type": "execute_result"
    }
   ],
   "source": [
    "tf.ones(2)/d"
   ]
  },
  {
   "cell_type": "code",
   "execution_count": 213,
   "metadata": {},
   "outputs": [
    {
     "data": {
      "text/plain": [
       "<tf.Tensor: id=6079, shape=(2, 2), dtype=float32, numpy=\n",
       "array([[0.5 , 0.  ],\n",
       "       [0.  , 0.25]], dtype=float32)>"
      ]
     },
     "execution_count": 213,
     "metadata": {},
     "output_type": "execute_result"
    }
   ],
   "source": [
    "tf.diag(tf.ones(2)/d)"
   ]
  },
  {
   "cell_type": "code",
   "execution_count": 222,
   "metadata": {},
   "outputs": [],
   "source": []
  },
  {
   "cell_type": "code",
   "execution_count": 223,
   "metadata": {},
   "outputs": [
    {
     "data": {
      "text/plain": [
       "<tf.Tensor: id=6100, shape=(3,), dtype=float32, numpy=array([1., 4., 3.], dtype=float32)>"
      ]
     },
     "execution_count": 223,
     "metadata": {},
     "output_type": "execute_result"
    }
   ],
   "source": [
    "xx = tf.constant([1.,4.,3.])\n",
    "xx"
   ]
  },
  {
   "cell_type": "code",
   "execution_count": 284,
   "metadata": {},
   "outputs": [],
   "source": [
    "@tf.custom_gradient\n",
    "def log1pexp(x):\n",
    "    e = tf.log(1 + tf.exp(x))\n",
    "    def grad(dy):\n",
    "        print(\"grad={}\".format(dy))\n",
    "        return (1 - 1 / (1 +  tf.exp(x)))\n",
    "    return e, grad"
   ]
  },
  {
   "cell_type": "code",
   "execution_count": 289,
   "metadata": {},
   "outputs": [],
   "source": [
    "@tf.custom_gradient\n",
    "def log1pexp2(x):\n",
    "    e = tf.log(1 + tf.exp(x))\n",
    "    def grad(dy):\n",
    "        print(\"grad={}\".format(dy))\n",
    "        return (1 - 1 / (1 +  tf.exp(x)))\n",
    "    return e, grad"
   ]
  },
  {
   "cell_type": "code",
   "execution_count": 290,
   "metadata": {},
   "outputs": [],
   "source": [
    "grad_log1pexp = tfe.gradients_function(log1pexp)\n",
    "grad_log1pexp2 = tfe.gradients_function(log1pexp2)"
   ]
  },
  {
   "cell_type": "code",
   "execution_count": 286,
   "metadata": {},
   "outputs": [
    {
     "data": {
      "text/plain": [
       "<function tensorflow.python.eager.backprop.gradients_function.<locals>.decorated(*args, **kwds)>"
      ]
     },
     "execution_count": 286,
     "metadata": {},
     "output_type": "execute_result"
    }
   ],
   "source": [
    "grad_log1pexp"
   ]
  },
  {
   "cell_type": "code",
   "execution_count": 287,
   "metadata": {},
   "outputs": [
    {
     "data": {
      "text/plain": [
       "<tf.Tensor: id=6387, shape=(3,), dtype=float32, numpy=array([ 1., 16.,  9.], dtype=float32)>"
      ]
     },
     "execution_count": 287,
     "metadata": {},
     "output_type": "execute_result"
    }
   ],
   "source": [
    "xx_square = tf.square(xx)"
   ]
  },
  {
   "cell_type": "code",
   "execution_count": 291,
   "metadata": {},
   "outputs": [
    {
     "name": "stdout",
     "output_type": "stream",
     "text": [
      "grad=[1. 1. 1.]\n"
     ]
    },
    {
     "data": {
      "text/plain": [
       "array([0.7310586 , 0.98201376, 0.95257413], dtype=float32)"
      ]
     },
     "execution_count": 291,
     "metadata": {},
     "output_type": "execute_result"
    }
   ],
   "source": [
    "grad_log1pexp(xx)[0].numpy()"
   ]
  },
  {
   "cell_type": "code",
   "execution_count": 307,
   "metadata": {},
   "outputs": [
    {
     "name": "stdout",
     "output_type": "stream",
     "text": [
      "grad=[1. 1. 1.]\n"
     ]
    },
    {
     "data": {
      "text/plain": [
       "array([0.5 , 0.8 , 0.75], dtype=float32)"
      ]
     },
     "execution_count": 307,
     "metadata": {},
     "output_type": "execute_result"
    }
   ],
   "source": [
    "grad_log1pexp2(tf.log(xx))[0].numpy()"
   ]
  },
  {
   "cell_type": "code",
   "execution_count": 296,
   "metadata": {},
   "outputs": [],
   "source": [
    "def f1(A,x):\n",
    "    y=tf.matmul(A,x,name='y')\n",
    "    return y"
   ]
  },
  {
   "cell_type": "code",
   "execution_count": 233,
   "metadata": {},
   "outputs": [
    {
     "ename": "RuntimeError",
     "evalue": "tf.gradients is not supported when eager execution is enabled. Use tf.GradientTape instead.",
     "output_type": "error",
     "traceback": [
      "\u001b[0;31m---------------------------------------------------------------------------\u001b[0m",
      "\u001b[0;31mRuntimeError\u001b[0m                              Traceback (most recent call last)",
      "\u001b[0;32m<ipython-input-233-496b2ee67c49>\u001b[0m in \u001b[0;36m<module>\u001b[0;34m()\u001b[0m\n\u001b[1;32m      1\u001b[0m \u001b[0mx\u001b[0m \u001b[0;34m=\u001b[0m \u001b[0mtf\u001b[0m\u001b[0;34m.\u001b[0m\u001b[0mconstant\u001b[0m\u001b[0;34m(\u001b[0m\u001b[0;36m100.\u001b[0m\u001b[0;34m)\u001b[0m\u001b[0;34m\u001b[0m\u001b[0;34m\u001b[0m\u001b[0m\n\u001b[1;32m      2\u001b[0m \u001b[0my\u001b[0m \u001b[0;34m=\u001b[0m \u001b[0mlog1pexp\u001b[0m\u001b[0;34m(\u001b[0m\u001b[0mx\u001b[0m\u001b[0;34m)\u001b[0m\u001b[0;34m\u001b[0m\u001b[0;34m\u001b[0m\u001b[0m\n\u001b[0;32m----> 3\u001b[0;31m \u001b[0mdy\u001b[0m \u001b[0;34m=\u001b[0m \u001b[0mtf\u001b[0m\u001b[0;34m.\u001b[0m\u001b[0mgradients\u001b[0m\u001b[0;34m(\u001b[0m\u001b[0my\u001b[0m\u001b[0;34m,\u001b[0m \u001b[0mx\u001b[0m\u001b[0;34m)\u001b[0m\u001b[0;34m\u001b[0m\u001b[0;34m\u001b[0m\u001b[0m\n\u001b[0m",
      "\u001b[0;32m/anaconda3/envs/cost-prediction-env/lib/python3.6/site-packages/tensorflow/python/ops/gradients_impl.py\u001b[0m in \u001b[0;36mgradients\u001b[0;34m(ys, xs, grad_ys, name, colocate_gradients_with_ops, gate_gradients, aggregation_method, stop_gradients, unconnected_gradients)\u001b[0m\n\u001b[1;32m    662\u001b[0m     return _GradientsHelper(ys, xs, grad_ys, name, colocate_gradients_with_ops,\n\u001b[1;32m    663\u001b[0m                             \u001b[0mgate_gradients\u001b[0m\u001b[0;34m,\u001b[0m \u001b[0maggregation_method\u001b[0m\u001b[0;34m,\u001b[0m \u001b[0mstop_gradients\u001b[0m\u001b[0;34m,\u001b[0m\u001b[0;34m\u001b[0m\u001b[0;34m\u001b[0m\u001b[0m\n\u001b[0;32m--> 664\u001b[0;31m                             unconnected_gradients)\n\u001b[0m\u001b[1;32m    665\u001b[0m \u001b[0;34m\u001b[0m\u001b[0m\n\u001b[1;32m    666\u001b[0m \u001b[0;34m\u001b[0m\u001b[0m\n",
      "\u001b[0;32m/anaconda3/envs/cost-prediction-env/lib/python3.6/site-packages/tensorflow/python/ops/gradients_impl.py\u001b[0m in \u001b[0;36m_GradientsHelper\u001b[0;34m(ys, xs, grad_ys, name, colocate_gradients_with_ops, gate_gradients, aggregation_method, stop_gradients, unconnected_gradients, src_graph)\u001b[0m\n\u001b[1;32m    790\u001b[0m   \u001b[0;34m\"\"\"Implementation of gradients().\"\"\"\u001b[0m\u001b[0;34m\u001b[0m\u001b[0;34m\u001b[0m\u001b[0m\n\u001b[1;32m    791\u001b[0m   \u001b[0;32mif\u001b[0m \u001b[0mcontext\u001b[0m\u001b[0;34m.\u001b[0m\u001b[0mexecuting_eagerly\u001b[0m\u001b[0;34m(\u001b[0m\u001b[0;34m)\u001b[0m\u001b[0;34m:\u001b[0m\u001b[0;34m\u001b[0m\u001b[0;34m\u001b[0m\u001b[0m\n\u001b[0;32m--> 792\u001b[0;31m     raise RuntimeError(\"tf.gradients is not supported when eager execution \"\n\u001b[0m\u001b[1;32m    793\u001b[0m                        \"is enabled. Use tf.GradientTape instead.\")\n\u001b[1;32m    794\u001b[0m   \u001b[0;32mif\u001b[0m \u001b[0msrc_graph\u001b[0m \u001b[0;32mis\u001b[0m \u001b[0;32mNone\u001b[0m\u001b[0;34m:\u001b[0m\u001b[0;34m\u001b[0m\u001b[0;34m\u001b[0m\u001b[0m\n",
      "\u001b[0;31mRuntimeError\u001b[0m: tf.gradients is not supported when eager execution is enabled. Use tf.GradientTape instead."
     ]
    }
   ],
   "source": [
    "x = tf.constant(100.)\n",
    "y = log1pexp(x)\n",
    "dy = tf.gradients(y, x)"
   ]
  },
  {
   "cell_type": "code",
   "execution_count": 315,
   "metadata": {},
   "outputs": [],
   "source": [
    "@tf.custom_gradient\n",
    "def f2(A,x):\n",
    "    y=f1(A,x)\n",
    "    def grad(dzByDy): # dz/dy = 2y reaches here correctly.\n",
    "        print(\"dzByDy={}\".format(dzByDy))\n",
    "        dzByDx=tf.matmul(A,dzByDy,transpose_a=True) \n",
    "        return None,dzByDx\n",
    "    return y,grad"
   ]
  },
  {
   "cell_type": "code",
   "execution_count": 316,
   "metadata": {},
   "outputs": [],
   "source": [
    "x= tf.constant([[1.],[0.]],name='x')\n",
    "A= tf.constant([ [1., 2.], [3., 4.]],name='A')"
   ]
  },
  {
   "cell_type": "code",
   "execution_count": 317,
   "metadata": {},
   "outputs": [],
   "source": [
    "#y=f1(A,x) # This works as desired\n",
    "y=f2(A,x) #This line gives Erro"
   ]
  },
  {
   "cell_type": "code",
   "execution_count": 318,
   "metadata": {},
   "outputs": [],
   "source": [
    "z=tf.reduce_sum(y*y,name='z')"
   ]
  },
  {
   "cell_type": "code",
   "execution_count": 325,
   "metadata": {},
   "outputs": [],
   "source": [
    "grad_f1 = tfe.gradients_function(f2)"
   ]
  },
  {
   "cell_type": "code",
   "execution_count": 326,
   "metadata": {},
   "outputs": [
    {
     "name": "stdout",
     "output_type": "stream",
     "text": [
      "dzByDy=[[1.]\n",
      " [1.]]\n"
     ]
    },
    {
     "data": {
      "text/plain": [
       "[None, <tf.Tensor: id=6520, shape=(2, 1), dtype=float32, numpy=\n",
       " array([[4.],\n",
       "        [6.]], dtype=float32)>]"
      ]
     },
     "execution_count": 326,
     "metadata": {},
     "output_type": "execute_result"
    }
   ],
   "source": [
    "grad_f1(A, x)"
   ]
  },
  {
   "cell_type": "code",
   "execution_count": 327,
   "metadata": {},
   "outputs": [],
   "source": []
  },
  {
   "cell_type": "code",
   "execution_count": 580,
   "metadata": {},
   "outputs": [],
   "source": [
    "@tf.custom_gradient\n",
    "def penalty_term_with_gd(z):\n",
    "    mean = 20.0\n",
    "    means1, stdevs1 = tf.constant([0.,mean]), tf.constant([0.7,7.])\n",
    "    means2, stdevs2 = tf.constant([mean,0.]), tf.constant([7.,0.7])\n",
    "    means3, stdevs3 = tf.constant([0.,-mean]), tf.constant([0.7,7.])\n",
    "    means4, stdevs4 = tf.constant([-mean,0.]), tf.constant([7.,0.7])\n",
    "    beta1 = 0.5\n",
    "    beta2 = 0.5\n",
    "    beta3 = 0.5\n",
    "    beta4 = 0.5\n",
    "    mult_dist_1 = tf.contrib.distributions.MultivariateNormalDiag(loc=means1, scale_diag=stdevs1)\n",
    "    mult_dist_2 = tf.contrib.distributions.MultivariateNormalDiag(loc=means2, scale_diag=stdevs2)\n",
    "    mult_dist_3 = tf.contrib.distributions.MultivariateNormalDiag(loc=means3, scale_diag=stdevs3)\n",
    "    mult_dist_4 = tf.contrib.distributions.MultivariateNormalDiag(loc=means4, scale_diag=stdevs4)\n",
    "    stdevs1_inv = tf.diag(tf.ones(2)/stdevs1)\n",
    "    stdevs2_inv = tf.diag(tf.ones(2)/stdevs2)\n",
    "    stdevs3_inv = tf.diag(tf.ones(2)/stdevs3)\n",
    "    stdevs4_inv = tf.diag(tf.ones(2)/stdevs4)\n",
    "\n",
    "    denom = beta1 * mult_dist_1.prob(z) + beta2 * mult_dist_2.prob(z) + beta3 * mult_dist_3.prob(z) + beta4 * mult_dist_4.prob(z) + 1e-6\n",
    "    denom = tf.reshape(denom, (-1, 1))\n",
    "    y=-tf.reduce_sum(tf.log(mix_dist))\n",
    "        \n",
    "    def grad(dz): \n",
    "        c1 = beta1 * tf.reshape(mult_dist_1.prob(z), (-1, 1)) * tf.matmul((z - means1), stdevs1_inv)\n",
    "        c2 = beta2 * tf.reshape(mult_dist_2.prob(z), (-1, 1)) * tf.matmul((z - means2), stdevs2_inv)\n",
    "            \n",
    "        c3 = beta3 * tf.reshape(mult_dist_3.prob(z), (-1, 1)) * tf.matmul((z - means3), stdevs3_inv)\n",
    "        c4 = beta4 * tf.reshape(mult_dist_4.prob(z), (-1, 1)) * tf.matmul((z - means4), stdevs4_inv)\n",
    "        num = c1 + c2 + c3 + c4     \n",
    "        \n",
    "        gradient = num/denom\n",
    "        return dz * gradient\n",
    "    return y,grad"
   ]
  },
  {
   "cell_type": "code",
   "execution_count": 665,
   "metadata": {},
   "outputs": [
    {
     "data": {
      "text/plain": [
       "<tf.Tensor: id=35811, shape=(5, 2), dtype=float32, numpy=\n",
       "array([[1. , 4. ],\n",
       "       [3. , 1. ],\n",
       "       [2. , 3. ],\n",
       "       [0.5, 0.5],\n",
       "       [0.2, 2.1]], dtype=float32)>"
      ]
     },
     "execution_count": 665,
     "metadata": {},
     "output_type": "execute_result"
    }
   ],
   "source": [
    "z = tf.constant([[1., 4.],\n",
    "                 [3.,1.],\n",
    "                 [2.,3.],\n",
    "                 [0.5,0.5],\n",
    "                 [0.2,2.1]\n",
    "                ],name='z')\n",
    "#z = tf.constant([[1., 4.]],name='z')\n",
    "z"
   ]
  },
  {
   "cell_type": "code",
   "execution_count": 358,
   "metadata": {},
   "outputs": [
    {
     "data": {
      "text/plain": [
       "<tf.Tensor: id=8051, shape=(5, 1), dtype=float32, numpy=\n",
       "array([[8.5897953e-04],\n",
       "       [8.3831317e-08],\n",
       "       [2.8725528e-05],\n",
       "       [5.1967008e-04],\n",
       "       [1.1857044e-03]], dtype=float32)>"
      ]
     },
     "execution_count": 358,
     "metadata": {},
     "output_type": "execute_result"
    }
   ],
   "source": [
    "tf.reshape(mult_dist_1.prob(z), (-1, 1))"
   ]
  },
  {
   "cell_type": "code",
   "execution_count": 529,
   "metadata": {},
   "outputs": [
    {
     "data": {
      "text/plain": [
       "<tf.Tensor: id=24063, shape=(1, 2), dtype=float32, numpy=array([[ 0.00061356, -0.00098169]], dtype=float32)>"
      ]
     },
     "execution_count": 529,
     "metadata": {},
     "output_type": "execute_result"
    }
   ],
   "source": [
    "beta1 * tf.reshape(mult_dist_1.prob(z), (-1, 1)) * tf.matmul((z - means1), stdevs1_inv)"
   ]
  },
  {
   "cell_type": "code",
   "execution_count": 525,
   "metadata": {},
   "outputs": [
    {
     "data": {
      "text/plain": [
       "<tf.Tensor: id=23937, shape=(1, 2), dtype=float32, numpy=array([[ 0.00061356, -0.00098169]], dtype=float32)>"
      ]
     },
     "execution_count": 525,
     "metadata": {},
     "output_type": "execute_result"
    }
   ],
   "source": [
    "c1 = beta1 * tf.reshape(mult_dist_1.prob(z), (-1, 1)) * tf.matmul((z - means1), stdevs1_inv)\n",
    "c2 = beta2 * tf.reshape(mult_dist_2.prob(z), (-1, 1)) * tf.matmul((z - means2), stdevs2_inv)\n",
    "c3 = beta3 * tf.reshape(mult_dist_3.prob(z), (-1, 1)) * tf.matmul((z - means3), stdevs3_inv)\n",
    "c4 = beta4 * tf.reshape(mult_dist_4.prob(z), (-1, 1)) * tf.matmul((z - means4), stdevs4_inv)\n",
    "num = c1 + c2 + c3 + c4\n",
    "num"
   ]
  },
  {
   "cell_type": "code",
   "execution_count": 531,
   "metadata": {},
   "outputs": [
    {
     "data": {
      "text/plain": [
       "<tf.Tensor: id=23837, shape=(1, 2), dtype=float32, numpy=array([[-8.9934987e-10,  1.8933681e-11]], dtype=float32)>"
      ]
     },
     "execution_count": 531,
     "metadata": {},
     "output_type": "execute_result"
    }
   ],
   "source": [
    "c3"
   ]
  },
  {
   "cell_type": "code",
   "execution_count": 508,
   "metadata": {},
   "outputs": [
    {
     "data": {
      "text/plain": [
       "<tf.Tensor: id=6850, shape=(2, 2), dtype=float32, numpy=\n",
       "array([[1.4285715 , 0.        ],\n",
       "       [0.        , 0.14285715]], dtype=float32)>"
      ]
     },
     "execution_count": 508,
     "metadata": {},
     "output_type": "execute_result"
    }
   ],
   "source": [
    "stdevs1_inv"
   ]
  },
  {
   "cell_type": "code",
   "execution_count": 343,
   "metadata": {},
   "outputs": [
    {
     "data": {
      "text/plain": [
       "<tf.Tensor: id=7650, shape=(5, 2), dtype=float32, numpy=\n",
       "array([[  1. , -16. ],\n",
       "       [  3. , -19. ],\n",
       "       [  2. , -17. ],\n",
       "       [  0.5, -19.5],\n",
       "       [  0.2, -17.9]], dtype=float32)>"
      ]
     },
     "execution_count": 343,
     "metadata": {},
     "output_type": "execute_result"
    }
   ],
   "source": [
    "(z - means1)"
   ]
  },
  {
   "cell_type": "code",
   "execution_count": 347,
   "metadata": {},
   "outputs": [
    {
     "data": {
      "text/plain": [
       "-2.24"
      ]
     },
     "execution_count": 347,
     "metadata": {},
     "output_type": "execute_result"
    }
   ],
   "source": [
    "-16*0.14"
   ]
  },
  {
   "cell_type": "code",
   "execution_count": 341,
   "metadata": {},
   "outputs": [
    {
     "data": {
      "text/plain": [
       "<tf.Tensor: id=7647, shape=(5,), dtype=float32, numpy=\n",
       "array([4.2948977e-04, 4.1915658e-08, 1.4362764e-05, 2.5983504e-04,\n",
       "       5.9285219e-04], dtype=float32)>"
      ]
     },
     "execution_count": 341,
     "metadata": {},
     "output_type": "execute_result"
    }
   ],
   "source": [
    "beta1*mult_dist_1.prob(z)"
   ]
  },
  {
   "cell_type": "code",
   "execution_count": 364,
   "metadata": {},
   "outputs": [
    {
     "data": {
      "text/plain": [
       "<tf.Tensor: id=8371, shape=(5, 1), dtype=float32, numpy=\n",
       "array([[4.4688999e-04],\n",
       "       [3.3425156e-04],\n",
       "       [1.6676533e-05],\n",
       "       [8.6618331e-04],\n",
       "       [7.0672878e-04]], dtype=float32)>"
      ]
     },
     "execution_count": 364,
     "metadata": {},
     "output_type": "execute_result"
    }
   ],
   "source": [
    "denom = beta1 * mult_dist_1.prob(z) + beta2 * mult_dist_2.prob(z) + beta3 * mult_dist_3.prob(z) + beta4 * mult_dist_4.prob(z) + 1e-6\n",
    "denom = tf.reshape(denom, (-1, 1))\n",
    "denom"
   ]
  },
  {
   "cell_type": "code",
   "execution_count": 365,
   "metadata": {},
   "outputs": [
    {
     "data": {
      "text/plain": [
       "<tf.Tensor: id=8373, shape=(5, 2), dtype=float32, numpy=\n",
       "array([[ 1.4253745 , -2.0708935 ],\n",
       "       [-1.9671723 ,  1.4238652 ],\n",
       "       [ 2.6661174 , -1.828392  ],\n",
       "       [ 0.10517165,  0.10517165],\n",
       "       [ 0.28107592, -1.6422143 ]], dtype=float32)>"
      ]
     },
     "execution_count": 365,
     "metadata": {},
     "output_type": "execute_result"
    }
   ],
   "source": [
    "num/denom"
   ]
  },
  {
   "cell_type": "code",
   "execution_count": 378,
   "metadata": {},
   "outputs": [],
   "source": [
    "grad_penalty = tfe.gradients_function(penalty_term_with_gd)"
   ]
  },
  {
   "cell_type": "code",
   "execution_count": 379,
   "metadata": {},
   "outputs": [
    {
     "data": {
      "text/plain": [
       "[<tf.Tensor: id=10760, shape=(5, 2), dtype=float32, numpy=\n",
       " array([[ 1.4253745 , -2.0708935 ],\n",
       "        [-1.9671723 ,  1.4238652 ],\n",
       "        [ 2.6661174 , -1.828392  ],\n",
       "        [ 0.10517165,  0.10517165],\n",
       "        [ 0.28107592, -1.6422143 ]], dtype=float32)>]"
      ]
     },
     "execution_count": 379,
     "metadata": {},
     "output_type": "execute_result"
    }
   ],
   "source": [
    "grad_penalty(z)"
   ]
  },
  {
   "cell_type": "code",
   "execution_count": 503,
   "metadata": {},
   "outputs": [
    {
     "ename": "TypeError",
     "evalue": "penalty_term_with_gd() missing 1 required positional argument: 'dists'",
     "output_type": "error",
     "traceback": [
      "\u001b[0;31m---------------------------------------------------------------------------\u001b[0m",
      "\u001b[0;31mTypeError\u001b[0m                                 Traceback (most recent call last)",
      "\u001b[0;32m<ipython-input-503-45c2851e95c9>\u001b[0m in \u001b[0;36m<module>\u001b[0;34m()\u001b[0m\n\u001b[0;32m----> 1\u001b[0;31m \u001b[0mpenalty_term_with_gd\u001b[0m\u001b[0;34m(\u001b[0m\u001b[0mz\u001b[0m\u001b[0;34m)\u001b[0m\u001b[0;34m\u001b[0m\u001b[0;34m\u001b[0m\u001b[0m\n\u001b[0m",
      "\u001b[0;31mTypeError\u001b[0m: penalty_term_with_gd() missing 1 required positional argument: 'dists'"
     ]
    }
   ],
   "source": [
    "penalty_term_with_gd(z)"
   ]
  },
  {
   "cell_type": "code",
   "execution_count": 3,
   "metadata": {},
   "outputs": [],
   "source": [
    "mean=20.0\n",
    "mean_of_oblique=np.sqrt((mean*mean) / 2)\n",
    "\n",
    "# var=0.05\n",
    "# var_of_oblique=var/np.sqrt(2)\n",
    "\n",
    "mean1, cov1 = [0,mean], [0.7,7.0]\n",
    "\n",
    "mean2, cov2 = [mean_of_oblique,mean_of_oblique], np.array([\n",
    "    [5.0,4.0],\n",
    "    [4.0,5.0]\n",
    "])\n",
    "\n",
    "mean3, cov3 = [mean,0], [7.0,0.7]\n",
    "\n",
    "mean4, cov4 = [mean_of_oblique,-mean_of_oblique], np.array([\n",
    "    [5.0,-4.0],\n",
    "    [-4.0,5.0]\n",
    "])\n",
    "\n",
    "mean5, cov5 = [0,-mean], [0.7,7.0]\n",
    "\n",
    "mean6, cov6 = [-mean_of_oblique,-mean_of_oblique], np.array([\n",
    "    [5.0,4.0],\n",
    "    [4.0,5.0]\n",
    "])\n",
    "\n",
    "mean7, cov7 = [-mean,0], [7.0,0.7]\n",
    "\n",
    "mean8, cov8 = [-mean_of_oblique,mean_of_oblique], np.array([\n",
    "    [5.0,-4.0],\n",
    "    [-4.0,5.0]\n",
    "])"
   ]
  },
  {
   "cell_type": "code",
   "execution_count": 599,
   "metadata": {},
   "outputs": [
    {
     "data": {
      "text/plain": [
       "2"
      ]
     },
     "execution_count": 599,
     "metadata": {},
     "output_type": "execute_result"
    }
   ],
   "source": [
    "len(mean8)"
   ]
  },
  {
   "cell_type": "code",
   "execution_count": 600,
   "metadata": {},
   "outputs": [],
   "source": [
    "class NormDistDiag():\n",
    "    \n",
    "    def __init__(self, mean, stdev, beta):\n",
    "        self.mean = mean\n",
    "        self.stdev = stdev\n",
    "        self.beta = beta\n",
    "        self.tf_mean, self.tf_stdev = tf.constant(self.mean), tf.constant(self.stdev)\n",
    "        self.tf_dist = tf.contrib.distributions.MultivariateNormalDiag(loc=self.tf_mean, scale_diag=self.tf_stdev)\n",
    "        self.dim = len(mean)\n",
    "        \n",
    "    def tf_dist(self):\n",
    "        return self.tf_dist\n",
    "\n",
    "    def prob(self, z):\n",
    "        return self.tf_dist.prob(z)\n",
    "        \n",
    "    def stdev_inv(self):\n",
    "        return tf.diag(tf.ones(self.dim)/self.stdev)\n",
    "        \n",
    "    def grad_component(self, z):\n",
    "        return self.beta * tf.reshape(self.prob(z), (-1, 1)) * tf.matmul((z - self.tf_mean), self.stdev_inv())\n",
    "    "
   ]
  },
  {
   "cell_type": "code",
   "execution_count": 629,
   "metadata": {},
   "outputs": [],
   "source": [
    "dist1 = NormDistDiag(mean1, cov1, 0.5)\n",
    "dist3 = NormDistDiag(mean3, cov3, 0.5)\n",
    "dist5 = NormDistDiag(mean5, cov5, 0.5)\n",
    "dist7 = NormDistDiag(mean7, cov7, 0.5)"
   ]
  },
  {
   "cell_type": "code",
   "execution_count": 630,
   "metadata": {},
   "outputs": [],
   "source": [
    "dists = [dist1, dist3, dist5, dist7]"
   ]
  },
  {
   "cell_type": "code",
   "execution_count": 611,
   "metadata": {},
   "outputs": [],
   "source": [
    "#@tf.custom_gradient\n",
    "def penalty_term_with_gd(z, dists):\n",
    "    probs = tf.stack([dist.prob(z) for dist in dists])\n",
    "    betas = tf.constant([dist.beta for dist in dists], shape=(len(dists),1))\n",
    "    denom = tf.reduce_sum(betas * probs, axis=0)\n",
    "    denom = tf.reshape(denom, (-1, 1))\n",
    "    y=-tf.reduce_sum(tf.log(denom))\n",
    "        \n",
    "    def grad(dz): \n",
    "        grad_components = tf.stack([dist.grad_component(z) for dist in dists])\n",
    "        num = tf.reduce_sum(grad_components, axis=2)\n",
    "        \n",
    "        gradient = num/denom\n",
    "        return dz * gradient\n",
    "    return y,grad"
   ]
  },
  {
   "cell_type": "code",
   "execution_count": 613,
   "metadata": {},
   "outputs": [
    {
     "data": {
      "text/plain": [
       "(<tf.Tensor: id=31384, shape=(), dtype=float32, numpy=41.094246>,\n",
       " <function __main__.penalty_term_with_gd.<locals>.grad(dz)>)"
      ]
     },
     "execution_count": 613,
     "metadata": {},
     "output_type": "execute_result"
    }
   ],
   "source": [
    "penalty_term_with_gd(z, dists)"
   ]
  },
  {
   "cell_type": "code",
   "execution_count": 639,
   "metadata": {},
   "outputs": [],
   "source": [
    "mean = 20.0\n",
    "means1, stdevs1 = tf.constant(mean1), tf.constant([0.7,7.])\n",
    "means3, stdevs3 = tf.constant(mean3), tf.constant([7.,0.7])\n",
    "means5, stdevs5 = tf.constant(mean5), tf.constant([0.7,7.])\n",
    "means7, stdevs7 = tf.constant(mean7), tf.constant([7.,0.7])\n",
    "    \n",
    "#betas = [0.5,0.5,0.5,0.5,0.5,0.5,0.5,0.5]\n",
    "betas = tf.constant([0.5,0.5,0.5,0.5], shape=(4,1))\n",
    "\n",
    "mult_dist_1 = tf.contrib.distributions.MultivariateNormalDiag(loc=means1, scale_diag=stdevs1)\n",
    "mult_dist_3 = tf.contrib.distributions.MultivariateNormalDiag(loc=means3, scale_diag=stdevs3)\n",
    "mult_dist_5 = tf.contrib.distributions.MultivariateNormalDiag(loc=means5, scale_diag=stdevs5)\n",
    "mult_dist_7 = tf.contrib.distributions.MultivariateNormalDiag(loc=means7, scale_diag=stdevs7)\n",
    "    \n",
    "stdevs1_inv = tf.diag(tf.ones(2)/stdevs1)\n",
    "stdevs3_inv = tf.diag(tf.ones(2)/stdevs3)\n",
    "stdevs5_inv = tf.diag(tf.ones(2)/stdevs5)\n",
    "stdevs7_inv = tf.diag(tf.ones(2)/stdevs7)"
   ]
  },
  {
   "cell_type": "code",
   "execution_count": null,
   "metadata": {},
   "outputs": [],
   "source": []
  },
  {
   "cell_type": "code",
   "execution_count": null,
   "metadata": {},
   "outputs": [],
   "source": []
  },
  {
   "cell_type": "code",
   "execution_count": null,
   "metadata": {},
   "outputs": [],
   "source": []
  },
  {
   "cell_type": "code",
   "execution_count": 631,
   "metadata": {},
   "outputs": [],
   "source": [
    "betas = tf.constant([dist.beta for dist in dists], shape=(len(dists),1))"
   ]
  },
  {
   "cell_type": "code",
   "execution_count": 642,
   "metadata": {},
   "outputs": [
    {
     "data": {
      "text/plain": [
       "<tf.Tensor: id=34761, shape=(5, 1), dtype=float32, numpy=\n",
       "array([[4.4588998e-04],\n",
       "       [3.3325155e-04],\n",
       "       [1.5676533e-05],\n",
       "       [8.6518330e-04],\n",
       "       [7.0572877e-04]], dtype=float32)>"
      ]
     },
     "execution_count": 642,
     "metadata": {},
     "output_type": "execute_result"
    }
   ],
   "source": [
    "denom = tf.reduce_sum(betas * probs, axis=0)\n",
    "denom = tf.reshape(denom, (-1, 1))\n",
    "denom"
   ]
  },
  {
   "cell_type": "code",
   "execution_count": 643,
   "metadata": {},
   "outputs": [
    {
     "data": {
      "text/plain": [
       "<tf.Tensor: id=34861, shape=(5, 2), dtype=float32, numpy=\n",
       "array([[ 6.3698558e-04, -9.2546153e-04],\n",
       "       [-6.5753039e-04,  4.7592915e-04],\n",
       "       [ 4.4461594e-05, -3.0491239e-05],\n",
       "       [ 9.1097929e-05,  9.1097929e-05],\n",
       "       [ 1.9864445e-04, -1.1606001e-03]], dtype=float32)>"
      ]
     },
     "execution_count": 643,
     "metadata": {},
     "output_type": "execute_result"
    }
   ],
   "source": [
    "c1 = beta1 * tf.reshape(mult_dist_1.prob(z), (-1, 1)) * tf.matmul((z - means1), stdevs1_inv)\n",
    "c2 = beta2 * tf.reshape(mult_dist_3.prob(z), (-1, 1)) * tf.matmul((z - means3), stdevs3_inv)\n",
    "c3 = beta3 * tf.reshape(mult_dist_5.prob(z), (-1, 1)) * tf.matmul((z - means5), stdevs5_inv)\n",
    "c4 = beta4 * tf.reshape(mult_dist_7.prob(z), (-1, 1)) * tf.matmul((z - means7), stdevs7_inv)\n",
    "num = c1 + c2 + c3 + c4\n",
    "num"
   ]
  },
  {
   "cell_type": "code",
   "execution_count": 644,
   "metadata": {},
   "outputs": [
    {
     "data": {
      "text/plain": [
       "<tf.Tensor: id=34863, shape=(5, 2), dtype=float32, numpy=\n",
       "array([[ 1.4285712 , -2.075538  ],\n",
       "       [-1.9730753 ,  1.4281379 ],\n",
       "       [ 2.836188  , -1.9450245 ],\n",
       "       [ 0.10529321,  0.10529321],\n",
       "       [ 0.28147423, -1.6445413 ]], dtype=float32)>"
      ]
     },
     "execution_count": 644,
     "metadata": {},
     "output_type": "execute_result"
    }
   ],
   "source": [
    "num/denom"
   ]
  },
  {
   "cell_type": "code",
   "execution_count": 706,
   "metadata": {},
   "outputs": [],
   "source": [
    "class NormDist():\n",
    "    \n",
    "    def __init__(self, mean, stdev, beta):\n",
    "        self.mean = mean\n",
    "        self.stdev = stdev\n",
    "        self.beta = beta\n",
    "        self.tf_mean, self.tf_stdev = tf.constant(self.mean), tf.constant(self.stdev)\n",
    "        self.tf_dist = tf.contrib.distributions.MultivariateNormalFullCovariance(loc=self.tf_mean, covariance_matrix=self.tf_stdev)\n",
    "        self.dim = len(mean)\n",
    "        \n",
    "    def tf_dist(self):\n",
    "        return self.tf_dist\n",
    "\n",
    "    def prob(self, z):\n",
    "        return tf.cast(self.tf_dist.prob(tf.cast(z, tf.float64)), tf.float32)\n",
    "        \n",
    "    def stdev_inv(self):\n",
    "        return tf.diag(tf.ones(self.dim)/self.stdev)\n",
    "        \n",
    "    def grad_component(self, z):\n",
    "        return self.beta * tf.reshape(self.prob(z), (-1, 1)) * tf.matmul((z - self.tf_mean), self.stdev_inv())"
   ]
  },
  {
   "cell_type": "code",
   "execution_count": 707,
   "metadata": {},
   "outputs": [],
   "source": [
    "dist2 = NormDist(mean2, cov2, 0.5)\n",
    "dist4 = NormDist(mean4, cov4, 0.5)\n",
    "dist6 = NormDist(mean6, cov6, 0.5)\n",
    "dist8 = NormDist(mean8, cov8, 0.5)"
   ]
  },
  {
   "cell_type": "code",
   "execution_count": 704,
   "metadata": {},
   "outputs": [],
   "source": [
    "#dists = [dist2, dist4, dist6, dist8]\n",
    "dists = [dist1, dist2, dist3, dist4, dist5, dist6, dist7, dist8]\n",
    "#dists = [dist1, dist3, dist5, dist7]"
   ]
  },
  {
   "cell_type": "code",
   "execution_count": 705,
   "metadata": {},
   "outputs": [
    {
     "data": {
      "text/plain": [
       "(<tf.Tensor: id=40554, shape=(), dtype=float32, numpy=41.093864>,\n",
       " <function __main__.penalty_term_with_gd.<locals>.grad(dz)>)"
      ]
     },
     "execution_count": 705,
     "metadata": {},
     "output_type": "execute_result"
    }
   ],
   "source": [
    "penalty_term_with_gd(z, dists)"
   ]
  },
  {
   "cell_type": "code",
   "execution_count": 711,
   "metadata": {},
   "outputs": [],
   "source": [
    "def sample_gumbel(shape, eps=1e-20): \n",
    "    \"\"\"Sample from Gumbel(0, 1)\"\"\"\n",
    "    U = tf.random_uniform(shape,minval=0,maxval=1)\n",
    "    return -tf.log(-tf.log(U + eps) + eps)\n",
    "\n",
    "def gumbel_softmax_sample(logits, temperature): \n",
    "    \"\"\" Draw a sample from the Gumbel-Softmax distribution\"\"\"\n",
    "    y = logits + sample_gumbel(tf.shape(logits))\n",
    "    return tf.nn.softmax( y / temperature)\n",
    "\n",
    "def gumbel_softmax(logits, temperature, hard=False):\n",
    "    \"\"\"Sample from the Gumbel-Softmax distribution and optionally discretize.\n",
    "    Args:\n",
    "    logits: [batch_size, n_class] unnormalized log-probs\n",
    "    temperature: non-negative scalar\n",
    "    hard: if True, take argmax, but differentiate w.r.t. soft sample y\n",
    "    Returns:\n",
    "    [batch_size, n_class] sample from the Gumbel-Softmax distribution.\n",
    "    If hard=True, then the returned sample will be one-hot, otherwise it will\n",
    "    be a probabilitiy distribution that sums to 1 across classes\n",
    "    \"\"\"\n",
    "    y = gumbel_softmax_sample(logits, temperature)\n",
    "    if hard:\n",
    "        k = tf.shape(logits)[-1]\n",
    "        #y_hard = tf.cast(tf.one_hot(tf.argmax(y,1),k), y.dtype)\n",
    "        y_hard = tf.cast(tf.equal(y,tf.reduce_max(y,1,keep_dims=True)),y.dtype)\n",
    "        y = tf.stop_gradient(y_hard - y) + y\n",
    "    return y"
   ]
  },
  {
   "cell_type": "code",
   "execution_count": 712,
   "metadata": {},
   "outputs": [
    {
     "data": {
      "text/plain": [
       "<tf.Tensor: id=35811, shape=(5, 2), dtype=float32, numpy=\n",
       "array([[1. , 4. ],\n",
       "       [3. , 1. ],\n",
       "       [2. , 3. ],\n",
       "       [0.5, 0.5],\n",
       "       [0.2, 2.1]], dtype=float32)>"
      ]
     },
     "execution_count": 712,
     "metadata": {},
     "output_type": "execute_result"
    }
   ],
   "source": [
    "z"
   ]
  },
  {
   "cell_type": "code",
   "execution_count": 729,
   "metadata": {},
   "outputs": [
    {
     "data": {
      "text/plain": [
       "<tf.Tensor: id=41144, shape=(5, 2), dtype=float32, numpy=\n",
       "array([[0.0275559 , 0.97244406],\n",
       "       [0.9876161 , 0.01238383],\n",
       "       [0.00849802, 0.9915019 ],\n",
       "       [0.05261284, 0.9473871 ],\n",
       "       [0.17510776, 0.8248922 ]], dtype=float32)>"
      ]
     },
     "execution_count": 729,
     "metadata": {},
     "output_type": "execute_result"
    }
   ],
   "source": [
    "aaa = gumbel_softmax(z,0.5)\n",
    "aaa"
   ]
  },
  {
   "cell_type": "code",
   "execution_count": 720,
   "metadata": {},
   "outputs": [],
   "source": [
    "q_z = tf.nn.softmax(z)\n",
    "log_q_z = tf.log(q_z+1e-20)"
   ]
  },
  {
   "cell_type": "code",
   "execution_count": 721,
   "metadata": {},
   "outputs": [],
   "source": [
    "K=10"
   ]
  },
  {
   "cell_type": "code",
   "execution_count": 724,
   "metadata": {},
   "outputs": [
    {
     "data": {
      "text/plain": [
       "<tf.Tensor: id=41064, shape=(), dtype=float32, numpy=1.8589567>"
      ]
     },
     "execution_count": 724,
     "metadata": {},
     "output_type": "execute_result"
    }
   ],
   "source": [
    "tf.reduce_mean(tf.reduce_sum(q_z*(log_q_z-tf.log(1.0/K)), axis=1))"
   ]
  },
  {
   "cell_type": "code",
   "execution_count": 725,
   "metadata": {},
   "outputs": [
    {
     "ename": "NameError",
     "evalue": "name 'q_y' is not defined",
     "output_type": "error",
     "traceback": [
      "\u001b[0;31m---------------------------------------------------------------------------\u001b[0m",
      "\u001b[0;31mNameError\u001b[0m                                 Traceback (most recent call last)",
      "\u001b[0;32m<ipython-input-725-ec1b50eb44e2>\u001b[0m in \u001b[0;36m<module>\u001b[0;34m()\u001b[0m\n\u001b[0;32m----> 1\u001b[0;31m \u001b[0mkl_tmp\u001b[0m \u001b[0;34m=\u001b[0m \u001b[0mtf\u001b[0m\u001b[0;34m.\u001b[0m\u001b[0mreshape\u001b[0m\u001b[0;34m(\u001b[0m\u001b[0mq_y\u001b[0m\u001b[0;34m*\u001b[0m\u001b[0;34m(\u001b[0m\u001b[0mlog_q_y\u001b[0m\u001b[0;34m-\u001b[0m\u001b[0mtf\u001b[0m\u001b[0;34m.\u001b[0m\u001b[0mlog\u001b[0m\u001b[0;34m(\u001b[0m\u001b[0;36m1.0\u001b[0m\u001b[0;34m/\u001b[0m\u001b[0mK\u001b[0m\u001b[0;34m)\u001b[0m\u001b[0;34m)\u001b[0m\u001b[0;34m,\u001b[0m\u001b[0;34m[\u001b[0m\u001b[0;34m-\u001b[0m\u001b[0;36m1\u001b[0m\u001b[0;34m,\u001b[0m\u001b[0mN\u001b[0m\u001b[0;34m,\u001b[0m\u001b[0mK\u001b[0m\u001b[0;34m]\u001b[0m\u001b[0;34m)\u001b[0m\u001b[0;34m\u001b[0m\u001b[0;34m\u001b[0m\u001b[0m\n\u001b[0m\u001b[1;32m      2\u001b[0m \u001b[0mKL\u001b[0m \u001b[0;34m=\u001b[0m \u001b[0mtf\u001b[0m\u001b[0;34m.\u001b[0m\u001b[0mreduce_sum\u001b[0m\u001b[0;34m(\u001b[0m\u001b[0mkl_tmp\u001b[0m\u001b[0;34m,\u001b[0m\u001b[0;34m[\u001b[0m\u001b[0;36m1\u001b[0m\u001b[0;34m,\u001b[0m\u001b[0;36m2\u001b[0m\u001b[0;34m]\u001b[0m\u001b[0;34m)\u001b[0m\u001b[0;34m\u001b[0m\u001b[0;34m\u001b[0m\u001b[0m\n\u001b[1;32m      3\u001b[0m \u001b[0melbo\u001b[0m\u001b[0;34m=\u001b[0m\u001b[0mtf\u001b[0m\u001b[0;34m.\u001b[0m\u001b[0mreduce_sum\u001b[0m\u001b[0;34m(\u001b[0m\u001b[0mp_x\u001b[0m\u001b[0;34m.\u001b[0m\u001b[0mlog_prob\u001b[0m\u001b[0;34m(\u001b[0m\u001b[0mx\u001b[0m\u001b[0;34m)\u001b[0m\u001b[0;34m,\u001b[0m\u001b[0;36m1\u001b[0m\u001b[0;34m)\u001b[0m \u001b[0;34m-\u001b[0m \u001b[0mKL\u001b[0m\u001b[0;34m\u001b[0m\u001b[0;34m\u001b[0m\u001b[0m\n",
      "\u001b[0;31mNameError\u001b[0m: name 'q_y' is not defined"
     ]
    }
   ],
   "source": [
    "kl_tmp = tf.reshape(q_y*(log_q_y-tf.log(1.0/K)),[-1,N,K])\n",
    "KL = tf.reduce_sum(kl_tmp,[1,2])\n",
    "elbo=tf.reduce_sum(p_x.log_prob(x),1) - KL"
   ]
  },
  {
   "cell_type": "code",
   "execution_count": 119,
   "metadata": {},
   "outputs": [],
   "source": [
    "class GmmMixtureForDiscreteVae:\n",
    "\n",
    "    def __init__(self, init_cov, r, batch_size):\n",
    "        self.init_cov = init_cov\n",
    "        self.r = r\n",
    "        self.cx, self.cy = 0, 0\n",
    "        self.betas = tf.convert_to_tensor((np.ones(10) / 10).reshape((10, 1)), dtype=tf.float32)\n",
    "        self.tf_dists = self.init_dists()\n",
    "\n",
    "    def dist_from_angle(self, theta):\n",
    "        mean_1 = self.cx + self.r * tf.math.cos(theta)\n",
    "        mean_2 = self.cx + self.r * tf.math.sin(theta)\n",
    "        tf_mean = tf.convert_to_tensor([mean_1, mean_2], dtype=tf.float64)\n",
    "        u = tf.convert_to_tensor([\n",
    "            [tf.math.cos(theta), -tf.math.sin(theta)],\n",
    "            [tf.math.sin(theta), tf.math.cos(theta)]\n",
    "        ], dtype=tf.float64)\n",
    "\n",
    "        tf_stdev = tf.matmul(tf.matmul(u, self.init_cov), tf.transpose(u))\n",
    "        bathed_mean=tf.tile([tf_mean], multiples=[batch_size,1])\n",
    "        bathed_cov=tf.tile([tf_covs[0]], multiples=[batch_size,1,1])\n",
    "        tf_dist = tf.contrib.distributions.MultivariateNormalFullCovariance(loc=bathed_mean, covariance_matrix=bathed_cov)\n",
    "        return tf_dist\n",
    "\n",
    "    def init_dists(self):\n",
    "        init_angles = [(2 * i * np.pi) / 10 for i in range(10)]\n",
    "        thetas = tf.convert_to_tensor(init_angles, dtype=tf.float32)\n",
    "        dists = np.array([self.dist_from_angle(theta) for theta in thetas])\n",
    "        return dists\n",
    "\n",
    "    def generate_samples(self, betas):\n",
    "        dist_index = tf.math.argmax(betas, axis=1)\n",
    "        chosen_dists = [self.tf_dists[ind] for ind in tf.unstack(dist_index)]\n",
    "        sample = tf.stack([dist.sample() for dist in chosen_dists])\n",
    "        return sample\n",
    "\n"
   ]
  },
  {
   "cell_type": "code",
   "execution_count": 53,
   "metadata": {},
   "outputs": [],
   "source": [
    "init_cov = np.array([\n",
    "    [7.0, 0.0],\n",
    "    [0.0, 0.7]\n",
    "], dtype=\"float64\")\n",
    "\n",
    "gmm = GmmMixtureForDiscreteVae(init_cov, r=10)"
   ]
  },
  {
   "cell_type": "code",
   "execution_count": 863,
   "metadata": {},
   "outputs": [],
   "source": [
    "betas=[\n",
    "    [0,0,0,0,0,0,1,0,0,0],\n",
    "    [0,1,0,0,0,0,0,0,0,0],\n",
    "    [0,0,0,0,0,0,1,0,0,0],\n",
    "    [0,1,0,0,0,0,0,0,0,0]\n",
    "]"
   ]
  },
  {
   "cell_type": "code",
   "execution_count": 864,
   "metadata": {},
   "outputs": [
    {
     "data": {
      "text/plain": [
       "TensorShape([Dimension(4), Dimension(10)])"
      ]
     },
     "execution_count": 864,
     "metadata": {},
     "output_type": "execute_result"
    }
   ],
   "source": [
    "tf_betas = tf.convert_to_tensor(betas, dtype=tf.float32)\n",
    "tf_betas.shape"
   ]
  },
  {
   "cell_type": "code",
   "execution_count": 868,
   "metadata": {},
   "outputs": [
    {
     "data": {
      "text/plain": [
       "[<tf.Tensor: id=59487, shape=(), dtype=int64, numpy=6>,\n",
       " <tf.Tensor: id=59488, shape=(), dtype=int64, numpy=1>,\n",
       " <tf.Tensor: id=59489, shape=(), dtype=int64, numpy=6>,\n",
       " <tf.Tensor: id=59490, shape=(), dtype=int64, numpy=1>]"
      ]
     },
     "execution_count": 868,
     "metadata": {},
     "output_type": "execute_result"
    }
   ],
   "source": [
    "dist_index = tf.math.argmax(tf_betas, axis=1)\n",
    "tf.unstack(dist_index)"
   ]
  },
  {
   "cell_type": "code",
   "execution_count": 865,
   "metadata": {},
   "outputs": [
    {
     "data": {
      "text/plain": [
       "<tf.Tensor: id=59478, shape=(4, 2), dtype=float64, numpy=\n",
       "array([[-10.54426249,  -7.69064375],\n",
       "       [  6.37952882,   4.57065668],\n",
       "       [ -9.04130601,  -6.14921969],\n",
       "       [  6.03570687,   4.923204  ]])>"
      ]
     },
     "execution_count": 865,
     "metadata": {},
     "output_type": "execute_result"
    }
   ],
   "source": [
    "gmm.generate_samples(tf_betas)"
   ]
  },
  {
   "cell_type": "code",
   "execution_count": 850,
   "metadata": {},
   "outputs": [],
   "source": [
    "inds = tf.unstack(tf.math.argmax(tf_betas, axis=1))"
   ]
  },
  {
   "cell_type": "code",
   "execution_count": 852,
   "metadata": {},
   "outputs": [],
   "source": [
    "chosen_dists = [dists[ind] for ind in inds]"
   ]
  },
  {
   "cell_type": "code",
   "execution_count": 853,
   "metadata": {},
   "outputs": [
    {
     "data": {
      "text/plain": [
       "[<tfp.distributions.MultivariateNormalFullCovariance 'MultivariateNormalFullCovariance/' batch_shape=() event_shape=(2,) dtype=float64>,\n",
       " <tfp.distributions.MultivariateNormalFullCovariance 'MultivariateNormalFullCovariance/' batch_shape=() event_shape=(2,) dtype=float64>,\n",
       " <tfp.distributions.MultivariateNormalFullCovariance 'MultivariateNormalFullCovariance/' batch_shape=() event_shape=(2,) dtype=float64>,\n",
       " <tfp.distributions.MultivariateNormalFullCovariance 'MultivariateNormalFullCovariance/' batch_shape=() event_shape=(2,) dtype=float64>]"
      ]
     },
     "execution_count": 853,
     "metadata": {},
     "output_type": "execute_result"
    }
   ],
   "source": [
    "chosen_dists"
   ]
  },
  {
   "cell_type": "code",
   "execution_count": 854,
   "metadata": {},
   "outputs": [],
   "source": [
    "sample = tf.stack([dist.sample() for dist in chosen_dists])"
   ]
  },
  {
   "cell_type": "code",
   "execution_count": 855,
   "metadata": {},
   "outputs": [
    {
     "data": {
      "text/plain": [
       "<tf.Tensor: id=56176, shape=(4, 2), dtype=float64, numpy=\n",
       "array([[-6.02515193, -3.56222755],\n",
       "       [11.93730025,  8.39783487],\n",
       "       [-7.53178961, -5.02399464],\n",
       "       [ 5.98292733,  4.34283031]])>"
      ]
     },
     "execution_count": 855,
     "metadata": {},
     "output_type": "execute_result"
    }
   ],
   "source": [
    "sample"
   ]
  },
  {
   "cell_type": "code",
   "execution_count": 843,
   "metadata": {},
   "outputs": [],
   "source": [
    "dist_index = np.argmax(betas, axis=1)"
   ]
  },
  {
   "cell_type": "code",
   "execution_count": 845,
   "metadata": {},
   "outputs": [
    {
     "data": {
      "text/plain": [
       "array([<tfp.distributions.MultivariateNormalFullCovariance 'MultivariateNormalFullCovariance/' batch_shape=() event_shape=(2,) dtype=float64>,\n",
       "       <tfp.distributions.MultivariateNormalFullCovariance 'MultivariateNormalFullCovariance/' batch_shape=() event_shape=(2,) dtype=float64>,\n",
       "       <tfp.distributions.MultivariateNormalFullCovariance 'MultivariateNormalFullCovariance/' batch_shape=() event_shape=(2,) dtype=float64>,\n",
       "       <tfp.distributions.MultivariateNormalFullCovariance 'MultivariateNormalFullCovariance/' batch_shape=() event_shape=(2,) dtype=float64>],\n",
       "      dtype=object)"
      ]
     },
     "execution_count": 845,
     "metadata": {},
     "output_type": "execute_result"
    }
   ],
   "source": [
    "dists[dist_index]"
   ]
  },
  {
   "cell_type": "code",
   "execution_count": 848,
   "metadata": {},
   "outputs": [
    {
     "data": {
      "text/plain": [
       "<tf.Tensor: id=55695, shape=(4, 2), dtype=float64, numpy=\n",
       "array([[-4.47558079, -3.21248561],\n",
       "       [10.47908552,  7.69363437],\n",
       "       [-9.53271795, -5.8100573 ],\n",
       "       [ 7.72553963,  6.97318503]])>"
      ]
     },
     "execution_count": 848,
     "metadata": {},
     "output_type": "execute_result"
    }
   ],
   "source": [
    "sample = tf.stack([dist.sample() for dist in dists[dist_index]])\n",
    "sample"
   ]
  },
  {
   "cell_type": "code",
   "execution_count": 21,
   "metadata": {},
   "outputs": [],
   "source": [
    "tf_init_cov = tf.convert_to_tensor(init_cov, dtype=tf.float64)"
   ]
  },
  {
   "cell_type": "code",
   "execution_count": 22,
   "metadata": {},
   "outputs": [],
   "source": [
    "n=10\n",
    "means = []\n",
    "tf_covs = []\n",
    "cx,cy,r=0,0,10\n",
    "for i in range(10):\n",
    "    # angle = ((360/n) * i) * (np.pi/180)\n",
    "    theta = (2 * i * np.pi) / n\n",
    "    mean_1 = cx + r * np.cos(theta)\n",
    "    mean_2 = cy + r * np.sin(theta)\n",
    "    means.append(tf.convert_to_tensor([mean_1,mean_2], dtype=tf.float64))\n",
    "    \n",
    "    u = tf.convert_to_tensor([\n",
    "        [tf.math.cos(theta), -tf.math.sin(theta)],\n",
    "        [tf.math.sin(theta), tf.math.cos(theta)]\n",
    "    ], dtype=tf.float64)\n",
    "\n",
    "    tf_stdev = tf.matmul(tf.matmul(u, tf_init_cov), tf.transpose(u))\n",
    "    tf_covs.append(tf_stdev)\n",
    "    "
   ]
  },
  {
   "cell_type": "code",
   "execution_count": 23,
   "metadata": {},
   "outputs": [
    {
     "data": {
      "text/plain": [
       "<tf.Tensor: id=4742, shape=(2, 2), dtype=float64, numpy=\n",
       "array([[0.07 , 0.   ],\n",
       "       [0.   , 0.007]])>"
      ]
     },
     "execution_count": 23,
     "metadata": {},
     "output_type": "execute_result"
    }
   ],
   "source": [
    "tf_covs[0]"
   ]
  },
  {
   "cell_type": "code",
   "execution_count": null,
   "metadata": {},
   "outputs": [],
   "source": [
    "tf_mean = "
   ]
  },
  {
   "cell_type": "code",
   "execution_count": 11,
   "metadata": {},
   "outputs": [],
   "source": [
    "tf_dist = tf.contrib.distributions.MultivariateNormalFullCovariance(loc=means[0], covariance_matrix=tf_covs[0])\n"
   ]
  },
  {
   "cell_type": "code",
   "execution_count": 27,
   "metadata": {},
   "outputs": [],
   "source": [
    "d = tf.contrib.distributions.MultivariateNormalFullCovariance(loc=means[0], covariance_matrix=tf_covs[0])"
   ]
  },
  {
   "cell_type": "code",
   "execution_count": 30,
   "metadata": {},
   "outputs": [],
   "source": [
    "point = tf.convert_to_tensor(np.array([0.,4.], dtype=\"float64\"))"
   ]
  },
  {
   "cell_type": "code",
   "execution_count": 32,
   "metadata": {},
   "outputs": [
    {
     "data": {
      "text/plain": [
       "<tf.Tensor: id=3041, shape=(), dtype=float64, numpy=6.183767351530818e-10>"
      ]
     },
     "execution_count": 32,
     "metadata": {},
     "output_type": "execute_result"
    }
   ],
   "source": [
    "d.prob(point)"
   ]
  },
  {
   "cell_type": "code",
   "execution_count": 34,
   "metadata": {
    "scrolled": false
   },
   "outputs": [],
   "source": [
    "# import tensorflow_probability as tfp\n",
    "# tfd = tfp.distributions\n",
    "from tensorflow.contrib.distributions import Mixture\n",
    "from tensorflow.contrib.distributions import Categorical\n",
    "from tensorflow.contrib.distributions import Normal\n",
    "\n",
    "mix = tf.convert_to_tensor(0.3, dtype=tf.float64)\n",
    "bimix_gauss = Mixture(\n",
    "  cat=Categorical(probs=[mix, 1.-mix]),\n",
    "  components=[\n",
    "    tf.contrib.distributions.MultivariateNormalFullCovariance(loc=means[0], covariance_matrix=tf_covs[0]),\n",
    "    tf.contrib.distributions.MultivariateNormalFullCovariance(loc=means[4], covariance_matrix=tf_covs[4])\n",
    "])\n",
    "\n"
   ]
  },
  {
   "cell_type": "code",
   "execution_count": 35,
   "metadata": {},
   "outputs": [
    {
     "data": {
      "text/plain": [
       "<tf.Tensor: id=3632, shape=(), dtype=float64, numpy=4.3506577980528574e-07>"
      ]
     },
     "execution_count": 35,
     "metadata": {},
     "output_type": "execute_result"
    }
   ],
   "source": [
    "bimix_gauss.prob(point)"
   ]
  },
  {
   "cell_type": "code",
   "execution_count": 41,
   "metadata": {},
   "outputs": [],
   "source": [
    "# Plot the PDF.\n",
    "import matplotlib.pyplot as plt\n",
    "x = tf.linspace(-2., 3., int(1e4))\n",
    "y = tf.linspace(-2., 3., int(1e4))\n",
    "xy = np.column_stack((x,y))"
   ]
  },
  {
   "cell_type": "code",
   "execution_count": 50,
   "metadata": {},
   "outputs": [
    {
     "data": {
      "text/plain": [
       "<tf.Tensor: id=5047, shape=(2,), dtype=float64, numpy=array([-8.18717119,  6.54086589])>"
      ]
     },
     "execution_count": 50,
     "metadata": {},
     "output_type": "execute_result"
    }
   ],
   "source": [
    "bimix_gauss.sample()"
   ]
  },
  {
   "cell_type": "code",
   "execution_count": 83,
   "metadata": {},
   "outputs": [],
   "source": [
    "betas=[\n",
    "    [0,0,0,0,0,0,1,0,0,0],\n",
    "    [0,1,0,0,0,0,0,0,0,0]\n",
    "]"
   ]
  },
  {
   "cell_type": "code",
   "execution_count": 116,
   "metadata": {},
   "outputs": [],
   "source": [
    "# from tensorflow.contrib.distributions import Mixture\n",
    "# from tensorflow.contrib.distributions import Categorical\n",
    "# from tensorflow.contrib.distributions import Normal\n",
    "\n",
    "# #mix = tf.convert_to_tensor(0.3, dtype=tf.float64)\n",
    "# tf_betas = tf.convert_to_tensor(betas, dtype=tf.float32)\n",
    "# bimix_gauss = Mixture(\n",
    "#   cat=Categorical(probs=tf_betas),\n",
    "#   components=gmm.tf_dists.tolist()\n",
    "# )"
   ]
  },
  {
   "cell_type": "code",
   "execution_count": 117,
   "metadata": {},
   "outputs": [],
   "source": [
    "# bimix_gauss.sample(10)"
   ]
  },
  {
   "cell_type": "code",
   "execution_count": 82,
   "metadata": {},
   "outputs": [
    {
     "data": {
      "text/plain": [
       "<tf.Tensor: id=13377, shape=(4,), dtype=int32, numpy=array([6, 1, 6, 1], dtype=int32)>"
      ]
     },
     "execution_count": 82,
     "metadata": {},
     "output_type": "execute_result"
    }
   ],
   "source": [
    "Categorical(probs=tf_betas).sample()"
   ]
  },
  {
   "cell_type": "code",
   "execution_count": 80,
   "metadata": {},
   "outputs": [
    {
     "data": {
      "text/plain": [
       "<tf.Tensor: id=13350, shape=(4,), dtype=int32, numpy=array([6, 1, 6, 1], dtype=int32)>"
      ]
     },
     "execution_count": 80,
     "metadata": {},
     "output_type": "execute_result"
    }
   ],
   "source": [
    "cat.sample()"
   ]
  },
  {
   "cell_type": "code",
   "execution_count": 81,
   "metadata": {},
   "outputs": [
    {
     "data": {
      "text/plain": [
       "<tf.Tensor: id=13245, shape=(4, 10), dtype=float32, numpy=\n",
       "array([[0., 0., 0., 0., 0., 0., 1., 0., 0., 0.],\n",
       "       [0., 1., 0., 0., 0., 0., 0., 0., 0., 0.],\n",
       "       [0., 0., 0., 0., 0., 0., 1., 0., 0., 0.],\n",
       "       [0., 1., 0., 0., 0., 0., 0., 0., 0., 0.]], dtype=float32)>"
      ]
     },
     "execution_count": 81,
     "metadata": {},
     "output_type": "execute_result"
    }
   ],
   "source": [
    "tf_betas"
   ]
  },
  {
   "cell_type": "code",
   "execution_count": 93,
   "metadata": {},
   "outputs": [
    {
     "data": {
      "text/plain": [
       "<tf.Tensor: id=13611, shape=(2, 2), dtype=float32, numpy=\n",
       "array([[0.1, 0.9],\n",
       "       [0.4, 0.6]], dtype=float32)>"
      ]
     },
     "execution_count": 93,
     "metadata": {},
     "output_type": "execute_result"
    }
   ],
   "source": [
    "betas_batched = [\n",
    "    [0.1,0.9],\n",
    "    [0.4,0.6]\n",
    "]\n",
    "tf_betas_batched = tf.convert_to_tensor(betas_batched, dtype=tf.float32)\n",
    "tf_betas_batched"
   ]
  },
  {
   "cell_type": "code",
   "execution_count": 94,
   "metadata": {},
   "outputs": [],
   "source": [
    "K=64\n",
    "\n",
    "mix = tf.convert_to_tensor(0.3, dtype=tf.float64)\n",
    "bimix_gauss = Mixture(\n",
    "  cat=Categorical(probs=tf_betas_batched),\n",
    "  components=[\n",
    "    tf.contrib.distributions.MultivariateNormalFullCovariance(\n",
    "        loc=tf.tile(means[0], [K, 1]), covariance_matrix=tf.stack([tf_covs[0],tf_covs[0]])),\n",
    "      \n",
    "    tf.contrib.distributions.MultivariateNormalFullCovariance(\n",
    "        loc=tf.stack([means[4],means[4]]), covariance_matrix=tf.stack([tf_covs[4],tf_covs[4]]))\n",
    "])\n"
   ]
  },
  {
   "cell_type": "code",
   "execution_count": 118,
   "metadata": {},
   "outputs": [
    {
     "data": {
      "text/plain": [
       "<tf.Tensor: id=14490, shape=(2, 2), dtype=float64, numpy=\n",
       "array([[ 5.70877347,  0.32970775],\n",
       "       [-7.37319499,  4.74981769]])>"
      ]
     },
     "execution_count": 118,
     "metadata": {},
     "output_type": "execute_result"
    }
   ],
   "source": [
    "bimix_gauss.sample()"
   ]
  },
  {
   "cell_type": "code",
   "execution_count": 110,
   "metadata": {},
   "outputs": [],
   "source": [
    "#tf.tile([means[0]], multiples=[64,1])"
   ]
  },
  {
   "cell_type": "code",
   "execution_count": 112,
   "metadata": {},
   "outputs": [
    {
     "data": {
      "text/plain": [
       "<tf.Tensor: id=14163, shape=(2, 2, 2), dtype=float64, numpy=\n",
       "array([[[7. , 0. ],\n",
       "        [0. , 0.7]],\n",
       "\n",
       "       [[7. , 0. ],\n",
       "        [0. , 0.7]]])>"
      ]
     },
     "execution_count": 112,
     "metadata": {},
     "output_type": "execute_result"
    }
   ],
   "source": [
    "tf.stack([tf_covs[0],tf_covs[0]])"
   ]
  },
  {
   "cell_type": "code",
   "execution_count": 106,
   "metadata": {},
   "outputs": [
    {
     "ename": "NameError",
     "evalue": "name 'batch_size' is not defined",
     "output_type": "error",
     "traceback": [
      "\u001b[0;31m---------------------------------------------------------------------------\u001b[0m",
      "\u001b[0;31mNameError\u001b[0m                                 Traceback (most recent call last)",
      "\u001b[0;32m<ipython-input-106-7a53598f4554>\u001b[0m in \u001b[0;36m<module>\u001b[0;34m()\u001b[0m\n\u001b[0;32m----> 1\u001b[0;31m \u001b[0mtf\u001b[0m\u001b[0;34m.\u001b[0m\u001b[0mreshape\u001b[0m\u001b[0;34m(\u001b[0m\u001b[0mtf\u001b[0m\u001b[0;34m.\u001b[0m\u001b[0mtile\u001b[0m\u001b[0;34m(\u001b[0m\u001b[0mtf_covs\u001b[0m\u001b[0;34m[\u001b[0m\u001b[0;36m0\u001b[0m\u001b[0;34m]\u001b[0m\u001b[0;34m,\u001b[0m \u001b[0mmultiples\u001b[0m\u001b[0;34m=\u001b[0m\u001b[0;34m[\u001b[0m\u001b[0mbatch_size\u001b[0m\u001b[0;34m]\u001b[0m\u001b[0;34m)\u001b[0m\u001b[0;34m,\u001b[0m \u001b[0mshape\u001b[0m\u001b[0;34m=\u001b[0m\u001b[0;34m(\u001b[0m\u001b[0mbatch_size\u001b[0m\u001b[0;34m,\u001b[0m\u001b[0;34m-\u001b[0m\u001b[0;36m1\u001b[0m\u001b[0;34m)\u001b[0m\u001b[0;34m)\u001b[0m\u001b[0;34m\u001b[0m\u001b[0;34m\u001b[0m\u001b[0m\n\u001b[0m",
      "\u001b[0;31mNameError\u001b[0m: name 'batch_size' is not defined"
     ]
    }
   ],
   "source": [
    "tf.reshape(tf.tile(tf_covs[0], multiples=[64]), shape=(64,-1))"
   ]
  },
  {
   "cell_type": "code",
   "execution_count": 115,
   "metadata": {},
   "outputs": [
    {
     "data": {
      "text/plain": [
       "<tf.Tensor: id=14172, shape=(2, 2, 2), dtype=float64, numpy=\n",
       "array([[[7. , 0. ],\n",
       "        [0. , 0.7]],\n",
       "\n",
       "       [[7. , 0. ],\n",
       "        [0. , 0.7]]])>"
      ]
     },
     "execution_count": 115,
     "metadata": {},
     "output_type": "execute_result"
    }
   ],
   "source": [
    "tf.tile([tf_covs[0]], multiples=[2,1,1])"
   ]
  },
  {
   "cell_type": "code",
   "execution_count": 85,
   "metadata": {},
   "outputs": [],
   "source": [
    "class GmmMixtureForDiscreteVae:\n",
    "\n",
    "    def __init__(self, init_cov, r, batch_size, batched_betas):\n",
    "        self.init_cov = init_cov\n",
    "        self.r = r\n",
    "        self.batch_size = batch_size\n",
    "        self.cx, self.cy = 0, 0\n",
    "        #self.betas = tf.convert_to_tensor((np.ones(10) / 10).reshape((10, 1)), dtype=tf.float32)\n",
    "        #self.batched_betas = tf.tile([np.ones(10) / 10], multiples=[self.batch_size,1])\n",
    "        self.batched_betas = batched_betas\n",
    "        self.tf_dists = self.init_dists()\n",
    "        self.bimix_gauss = Mixture(\n",
    "            cat=Categorical(probs=self.batched_betas),\n",
    "            components=self.tf_dists.tolist()\n",
    "        )\n",
    "        \n",
    "    def dist_from_angle(self, theta):\n",
    "        mean_1 = self.cx + self.r * tf.math.cos(theta)\n",
    "        mean_2 = self.cx + self.r * tf.math.sin(theta)\n",
    "        tf_mean = tf.convert_to_tensor([mean_1, mean_2], dtype=tf.float64)\n",
    "        u = tf.convert_to_tensor([\n",
    "            [tf.math.cos(theta), -tf.math.sin(theta)],\n",
    "            [tf.math.sin(theta), tf.math.cos(theta)]\n",
    "        ], dtype=tf.float64)\n",
    "\n",
    "        tf_stdev = tf.matmul(tf.matmul(u, self.init_cov), tf.transpose(u))\n",
    "        bathed_mean=tf.tile([tf_mean], multiples=[self.batch_size,1])\n",
    "        bathed_cov=tf.tile([tf_covs[0]], multiples=[self.batch_size,1,1])\n",
    "        tf_dist = tf.contrib.distributions.MultivariateNormalFullCovariance(loc=bathed_mean, covariance_matrix=bathed_cov)\n",
    "        return tf_dist\n",
    "\n",
    "    def init_dists(self):\n",
    "        init_angles = [(2 * i * np.pi) / 10 for i in range(10)]\n",
    "        thetas = tf.convert_to_tensor(init_angles, dtype=tf.float32)\n",
    "        dists = np.array([self.dist_from_angle(theta) for theta in thetas])\n",
    "        return dists\n",
    "\n",
    "    def sample(self):\n",
    "        return self.bimix_gauss.sample()\n",
    "    \n",
    "    def responsibilieties(self, z):\n",
    "        probs = tf.transpose(tf.stack([dist.prob(z) for dist in self.tf_dists]))\n",
    "        probs_mult_betas = self.batched_betas*probs\n",
    "        denom = tf.reduce_sum(probs_mult_betas, axis=1)\n",
    "        denom = tf.reshape(denom, (-1, 1))\n",
    "        return probs_mult_betas/denom\n",
    "\n"
   ]
  },
  {
   "cell_type": "code",
   "execution_count": 158,
   "metadata": {},
   "outputs": [
    {
     "name": "stdout",
     "output_type": "stream",
     "text": [
      "[10.0, 0.0]\n",
      "[[7.  0. ]\n",
      " [0.  0.7]]\n",
      "[8.090169943749475, 5.877852522924732]\n",
      "[[4.82340353 2.99582803]\n",
      " [2.99582803 2.87659647]]\n",
      "[3.0901699437494745, 9.510565162951535]\n",
      "[[1.30159647 1.85152354]\n",
      " [1.85152354 6.39840353]]\n",
      "[-3.0901699437494736, 9.510565162951536]\n",
      "[[ 1.30159647 -1.85152354]\n",
      " [-1.85152354  6.39840353]]\n",
      "[-8.090169943749473, 5.877852522924733]\n",
      "[[ 4.82340353 -2.99582803]\n",
      " [-2.99582803  2.87659647]]\n",
      "[-10.0, 1.2246467991473533e-15]\n",
      "[[ 7.00000000e+00 -7.71527483e-16]\n",
      " [-7.71527483e-16  7.00000000e-01]]\n",
      "[-8.090169943749475, -5.87785252292473]\n",
      "[[4.82340353 2.99582803]\n",
      " [2.99582803 2.87659647]]\n",
      "[-3.0901699437494754, -9.510565162951535]\n",
      "[[1.30159647 1.85152354]\n",
      " [1.85152354 6.39840353]]\n",
      "[3.0901699437494723, -9.510565162951536]\n",
      "[[ 1.30159647 -1.85152354]\n",
      " [-1.85152354  6.39840353]]\n",
      "[8.090169943749473, -5.877852522924733]\n",
      "[[ 4.82340353 -2.99582803]\n",
      " [-2.99582803  2.87659647]]\n"
     ]
    }
   ],
   "source": [
    "init_angles = [(2 * i * np.pi) / 10 for i in range(10)]\n",
    "for theta in init_angles:\n",
    "    mean_1 = 10 * np.cos(theta)\n",
    "    mean_2 = 10 * np.sin(theta)\n",
    "    print([mean_1, mean_2])\n",
    "    \n",
    "    u = [\n",
    "        [np.cos(theta), -np.sin(theta)],\n",
    "        [np.sin(theta), np.cos(theta)]\n",
    "    ]\n",
    "\n",
    "    stdev = np.matmul(np.matmul(u, init_cov), np.transpose(u))\n",
    "    print(stdev)"
   ]
  },
  {
   "cell_type": "code",
   "execution_count": 86,
   "metadata": {},
   "outputs": [],
   "source": [
    "#batched_betas = tf.tile([np.ones(10) / 10], multiples=[64,1])\n",
    "# betas=[\n",
    "#     [0,0,0,0,0,0,1,0,0,0],\n",
    "#     [0,1,0,0,0,0,0,0,0,0]\n",
    "# ]\n",
    "betas=np.tile([np.ones(10)/10], [3,1])\n",
    "batched_betas = tf.convert_to_tensor(betas, dtype=tf.float64)\n",
    "gmm = GmmMixtureForDiscreteVae(init_cov=init_cov, r=10, batch_size=3, batched_betas=batched_betas)"
   ]
  },
  {
   "cell_type": "code",
   "execution_count": 87,
   "metadata": {},
   "outputs": [
    {
     "data": {
      "text/plain": [
       "<tf.Tensor: id=36936, shape=(3, 2), dtype=float64, numpy=\n",
       "array([[ 8.45935931,  5.89266943],\n",
       "       [-2.90481363, -9.4851566 ],\n",
       "       [-2.90733078,  9.39522593]])>"
      ]
     },
     "execution_count": 87,
     "metadata": {},
     "output_type": "execute_result"
    }
   ],
   "source": [
    "gmm.sample()"
   ]
  },
  {
   "cell_type": "code",
   "execution_count": 88,
   "metadata": {},
   "outputs": [
    {
     "data": {
      "text/plain": [
       "<tf.Tensor: id=38043, shape=(3, 10), dtype=float64, numpy=\n",
       "array([[1., 0., 0., 0., 0., 0., 0., 0., 0., 0.],\n",
       "       [1., 0., 0., 0., 0., 0., 0., 0., 0., 0.],\n",
       "       [0., 0., 0., 0., 0., 1., 0., 0., 0., 0.]])>"
      ]
     },
     "execution_count": 88,
     "metadata": {},
     "output_type": "execute_result"
    }
   ],
   "source": [
    "z = [[10.0, 0.0], [3.0, 1.0],[-10.0, 0.0]]\n",
    "gmm.responsibilieties(z)"
   ]
  },
  {
   "cell_type": "code",
   "execution_count": 89,
   "metadata": {},
   "outputs": [
    {
     "data": {
      "text/plain": [
       "array([[0.07 , 0.   ],\n",
       "       [0.   , 0.007]])"
      ]
     },
     "execution_count": 89,
     "metadata": {},
     "output_type": "execute_result"
    }
   ],
   "source": [
    "init_cov"
   ]
  },
  {
   "cell_type": "code",
   "execution_count": 83,
   "metadata": {},
   "outputs": [],
   "source": [
    "\n",
    "def responsibilieties(z):\n",
    "    probs = tf.transpose(tf.stack([dist.prob(z) for dist in gmm.tf_dists]))\n",
    "    probs_mult_betas = batched_betas*probs\n",
    "    denom = tf.reduce_sum(probs_mult_betas, axis=1)\n",
    "    denom = tf.reshape(denom, (-1, 1))\n",
    "    return probs_mult_betas/denom\n"
   ]
  },
  {
   "cell_type": "code",
   "execution_count": 84,
   "metadata": {},
   "outputs": [
    {
     "data": {
      "text/plain": [
       "<tf.Tensor: id=34115, shape=(3, 10), dtype=float64, numpy=\n",
       "array([[1., 0., 0., 0., 0., 0., 0., 0., 0., 0.],\n",
       "       [1., 0., 0., 0., 0., 0., 0., 0., 0., 0.],\n",
       "       [0., 0., 0., 0., 0., 1., 0., 0., 0., 0.]])>"
      ]
     },
     "execution_count": 84,
     "metadata": {},
     "output_type": "execute_result"
    }
   ],
   "source": [
    "responsibilieties(z)"
   ]
  },
  {
   "cell_type": "code",
   "execution_count": 80,
   "metadata": {},
   "outputs": [
    {
     "data": {
      "text/plain": [
       "<tf.Tensor: id=32342, shape=(3, 10), dtype=float64, numpy=\n",
       "array([[10.,  0.,  0.,  0.,  0.,  0.,  0.,  0.,  0.,  0.],\n",
       "       [10.,  0.,  0.,  0.,  0.,  0.,  0.,  0.,  0.,  0.],\n",
       "       [ 0.,  0.,  0.,  0.,  0., 10.,  0.,  0.,  0.,  0.]])>"
      ]
     },
     "execution_count": 80,
     "metadata": {},
     "output_type": "execute_result"
    }
   ],
   "source": [
    "tf.div(probs,denom)"
   ]
  },
  {
   "cell_type": "code",
   "execution_count": 54,
   "metadata": {},
   "outputs": [
    {
     "ename": "AttributeError",
     "evalue": "'GmmMixtureForDiscreteVae' object has no attribute 'betas'",
     "output_type": "error",
     "traceback": [
      "\u001b[0;31m---------------------------------------------------------------------------\u001b[0m",
      "\u001b[0;31mAttributeError\u001b[0m                            Traceback (most recent call last)",
      "\u001b[0;32m<ipython-input-54-be2636891bf7>\u001b[0m in \u001b[0;36m<module>\u001b[0;34m()\u001b[0m\n\u001b[0;32m----> 1\u001b[0;31m \u001b[0mgmm\u001b[0m\u001b[0;34m.\u001b[0m\u001b[0mresponsibilities\u001b[0m\u001b[0;34m(\u001b[0m\u001b[0mz\u001b[0m\u001b[0;34m)\u001b[0m\u001b[0;34m\u001b[0m\u001b[0m\n\u001b[0m",
      "\u001b[0;32m<ipython-input-17-65332c85ec8d>\u001b[0m in \u001b[0;36mresponsibilities\u001b[0;34m(self, z)\u001b[0m\n\u001b[1;32m     42\u001b[0m         \u001b[0mprobs\u001b[0m \u001b[0;34m=\u001b[0m \u001b[0mtf\u001b[0m\u001b[0;34m.\u001b[0m\u001b[0mstack\u001b[0m\u001b[0;34m(\u001b[0m\u001b[0;34m[\u001b[0m\u001b[0mdist\u001b[0m\u001b[0;34m.\u001b[0m\u001b[0mprob\u001b[0m\u001b[0;34m(\u001b[0m\u001b[0mz\u001b[0m\u001b[0;34m)\u001b[0m \u001b[0;32mfor\u001b[0m \u001b[0mdist\u001b[0m \u001b[0;32min\u001b[0m \u001b[0mself\u001b[0m\u001b[0;34m.\u001b[0m\u001b[0mtf_dists\u001b[0m\u001b[0;34m]\u001b[0m\u001b[0;34m)\u001b[0m\u001b[0;34m\u001b[0m\u001b[0m\n\u001b[1;32m     43\u001b[0m \u001b[0;34m\u001b[0m\u001b[0m\n\u001b[0;32m---> 44\u001b[0;31m         \u001b[0mdenom\u001b[0m \u001b[0;34m=\u001b[0m \u001b[0mtf\u001b[0m\u001b[0;34m.\u001b[0m\u001b[0mreduce_sum\u001b[0m\u001b[0;34m(\u001b[0m\u001b[0mself\u001b[0m\u001b[0;34m.\u001b[0m\u001b[0mbetas\u001b[0m \u001b[0;34m*\u001b[0m \u001b[0mprobs\u001b[0m\u001b[0;34m,\u001b[0m \u001b[0maxis\u001b[0m\u001b[0;34m=\u001b[0m\u001b[0;36m0\u001b[0m\u001b[0;34m)\u001b[0m\u001b[0;34m\u001b[0m\u001b[0m\n\u001b[0m\u001b[1;32m     45\u001b[0m         \u001b[0;31m# denom = tf.reshape(denom, (-1, 1))\u001b[0m\u001b[0;34m\u001b[0m\u001b[0;34m\u001b[0m\u001b[0m\n\u001b[1;32m     46\u001b[0m         \u001b[0;32mreturn\u001b[0m \u001b[0;34m(\u001b[0m\u001b[0mprobs\u001b[0m \u001b[0;34m/\u001b[0m \u001b[0mdenom\u001b[0m\u001b[0;34m)\u001b[0m \u001b[0;34m*\u001b[0m \u001b[0mself\u001b[0m\u001b[0;34m.\u001b[0m\u001b[0mbetas\u001b[0m\u001b[0;34m\u001b[0m\u001b[0m\n",
      "\u001b[0;31mAttributeError\u001b[0m: 'GmmMixtureForDiscreteVae' object has no attribute 'betas'"
     ]
    }
   ],
   "source": [
    "gmm.responsibilities(z)"
   ]
  },
  {
   "cell_type": "code",
   "execution_count": 154,
   "metadata": {},
   "outputs": [
    {
     "data": {
      "text/plain": [
       "2"
      ]
     },
     "execution_count": 154,
     "metadata": {},
     "output_type": "execute_result"
    }
   ],
   "source": [
    "np.broadcast([0.,0.], [1.,1.]).size "
   ]
  },
  {
   "cell_type": "code",
   "execution_count": 165,
   "metadata": {},
   "outputs": [],
   "source": [
    "#batched_betas = tf.tile([np.ones(10) / 10], multiples=[64,1])\n",
    "betas=[\n",
    "    [0,0,0,0,0,0,1,0,0,0]\n",
    "]\n",
    "batched_betas = tf.convert_to_tensor(betas, dtype=tf.float64)\n",
    "gmm = GmmMixtureForDiscreteVae(init_cov=init_cov, r=10, batch_size=1, batched_betas=batched_betas)\n",
    "        "
   ]
  },
  {
   "cell_type": "code",
   "execution_count": 7,
   "metadata": {},
   "outputs": [],
   "source": [
    "z = [[1., 4.],\n",
    "                 [3.,1.],\n",
    "                 [2.,3.],\n",
    "                 [0.5,0.5],\n",
    "                 [0.2,2.1]\n",
    "                ]\n",
    "# z = [1., 4.]"
   ]
  },
  {
   "cell_type": "code",
   "execution_count": 172,
   "metadata": {},
   "outputs": [
    {
     "data": {
      "text/plain": [
       "[<tf.Tensor: id=38387, shape=(1,), dtype=float64, numpy=array([2.40244136e-09])>,\n",
       " <tf.Tensor: id=38496, shape=(1,), dtype=float64, numpy=array([0.00015973])>,\n",
       " <tf.Tensor: id=38605, shape=(1,), dtype=float64, numpy=array([2.00099446e-11])>,\n",
       " <tf.Tensor: id=38714, shape=(1,), dtype=float64, numpy=array([8.27576074e-12])>,\n",
       " <tf.Tensor: id=38823, shape=(1,), dtype=float64, numpy=array([1.5831176e-05])>,\n",
       " <tf.Tensor: id=38932, shape=(1,), dtype=float64, numpy=array([1.37977811e-10])>,\n",
       " <tf.Tensor: id=39041, shape=(1,), dtype=float64, numpy=array([1.0606626e-34])>,\n",
       " <tf.Tensor: id=39150, shape=(1,), dtype=float64, numpy=array([5.1689044e-59])>,\n",
       " <tf.Tensor: id=39259, shape=(1,), dtype=float64, numpy=array([1.24979742e-58])>,\n",
       " <tf.Tensor: id=39368, shape=(1,), dtype=float64, numpy=array([1.0701433e-33])>]"
      ]
     },
     "execution_count": 172,
     "metadata": {},
     "output_type": "execute_result"
    }
   ],
   "source": [
    "probs = [dist.prob(z) for dist in gmm.tf_dists]\n",
    "denom = tf.reduce_sum(self.betas * probs, axis=0)"
   ]
  },
  {
   "cell_type": "code",
   "execution_count": 176,
   "metadata": {},
   "outputs": [
    {
     "data": {
      "text/plain": [
       "50176"
      ]
     },
     "execution_count": 176,
     "metadata": {},
     "output_type": "execute_result"
    }
   ],
   "source": [
    "64*784"
   ]
  },
  {
   "cell_type": "code",
   "execution_count": 179,
   "metadata": {},
   "outputs": [
    {
     "data": {
      "text/plain": [
       "[[1.0, 4.0], [3.0, 1.0], [2.0, 3.0], [0.5, 0.5], [0.2, 2.1]]"
      ]
     },
     "execution_count": 179,
     "metadata": {},
     "output_type": "execute_result"
    }
   ],
   "source": [
    "z"
   ]
  },
  {
   "cell_type": "code",
   "execution_count": 193,
   "metadata": {},
   "outputs": [
    {
     "data": {
      "text/plain": [
       "<tf.Tensor: id=39432, shape=(5, 2), dtype=float32, numpy=\n",
       "array([[0.35434368, 0.6456563 ],\n",
       "       [0.59868765, 0.40131232],\n",
       "       [0.450166  , 0.549834  ],\n",
       "       [0.5       , 0.5       ],\n",
       "       [0.4061269 , 0.5938731 ]], dtype=float32)>"
      ]
     },
     "execution_count": 193,
     "metadata": {},
     "output_type": "execute_result"
    }
   ],
   "source": [
    "tf.math.softmax(tf.div(z,5.0), axis=1)"
   ]
  },
  {
   "cell_type": "code",
   "execution_count": 194,
   "metadata": {},
   "outputs": [
    {
     "data": {
      "text/plain": [
       "<Reparameteriation Type: NOT_REPARAMETERIZED>"
      ]
     },
     "execution_count": 194,
     "metadata": {},
     "output_type": "execute_result"
    }
   ],
   "source": [
    "gmm.bimix_gauss.reparameterization_type\n"
   ]
  },
  {
   "cell_type": "code",
   "execution_count": 196,
   "metadata": {},
   "outputs": [
    {
     "ename": "NameError",
     "evalue": "name 'MultivariateNormalFullCovariance' is not defined",
     "output_type": "error",
     "traceback": [
      "\u001b[0;31m---------------------------------------------------------------------------\u001b[0m",
      "\u001b[0;31mNameError\u001b[0m                                 Traceback (most recent call last)",
      "\u001b[0;32m<ipython-input-196-cc3ce3b345ba>\u001b[0m in \u001b[0;36m<module>\u001b[0;34m()\u001b[0m\n\u001b[0;32m----> 1\u001b[0;31m \u001b[0mMultivariateNormalFullCovariance\u001b[0m\u001b[0;34m(\u001b[0m\u001b[0;34m)\u001b[0m\u001b[0;34m\u001b[0m\u001b[0;34m\u001b[0m\u001b[0m\n\u001b[0m",
      "\u001b[0;31mNameError\u001b[0m: name 'MultivariateNormalFullCovariance' is not defined"
     ]
    }
   ],
   "source": [
    "MultivariateNormalFullCovariance()"
   ]
  },
  {
   "cell_type": "code",
   "execution_count": 198,
   "metadata": {},
   "outputs": [
    {
     "data": {
      "text/plain": [
       "<Reparameteriation Type: FULLY_REPARAMETERIZED>"
      ]
     },
     "execution_count": 198,
     "metadata": {},
     "output_type": "execute_result"
    }
   ],
   "source": [
    "gmm.tf_dists[0].reparameterization_type"
   ]
  },
  {
   "cell_type": "code",
   "execution_count": 3,
   "metadata": {},
   "outputs": [
    {
     "data": {
      "text/plain": [
       "<tf.Tensor: id=3, shape=(5, 40), dtype=float32, numpy=\n",
       "array([[ 0.,  1.,  2.,  3.,  4.,  5.,  6.,  7.,  8.,  9., 10., 11., 12.,\n",
       "        13., 14., 15., 16., 17., 18., 19., 20., 21., 22., 23., 24., 25.,\n",
       "        26., 27., 28., 29., 30., 31., 32., 33., 34., 35., 36., 37., 38.,\n",
       "        39.],\n",
       "       [ 0.,  1.,  2.,  3.,  4.,  5.,  6.,  7.,  8.,  9., 10., 11., 12.,\n",
       "        13., 14., 15., 16., 17., 18., 19., 20., 21., 22., 23., 24., 25.,\n",
       "        26., 27., 28., 29., 30., 31., 32., 33., 34., 35., 36., 37., 38.,\n",
       "        39.],\n",
       "       [ 0.,  1.,  2.,  3.,  4.,  5.,  6.,  7.,  8.,  9., 10., 11., 12.,\n",
       "        13., 14., 15., 16., 17., 18., 19., 20., 21., 22., 23., 24., 25.,\n",
       "        26., 27., 28., 29., 30., 31., 32., 33., 34., 35., 36., 37., 38.,\n",
       "        39.],\n",
       "       [ 0.,  1.,  2.,  3.,  4.,  5.,  6.,  7.,  8.,  9., 10., 11., 12.,\n",
       "        13., 14., 15., 16., 17., 18., 19., 20., 21., 22., 23., 24., 25.,\n",
       "        26., 27., 28., 29., 30., 31., 32., 33., 34., 35., 36., 37., 38.,\n",
       "        39.],\n",
       "       [ 0.,  1.,  2.,  3.,  4.,  5.,  6.,  7.,  8.,  9., 10., 11., 12.,\n",
       "        13., 14., 15., 16., 17., 18., 19., 20., 21., 22., 23., 24., 25.,\n",
       "        26., 27., 28., 29., 30., 31., 32., 33., 34., 35., 36., 37., 38.,\n",
       "        39.]], dtype=float32)>"
      ]
     },
     "execution_count": 3,
     "metadata": {},
     "output_type": "execute_result"
    }
   ],
   "source": [
    "arr = tf.tile(tf.constant([range(0,40)], dtype=tf.float32), [5,1])\n",
    "arr"
   ]
  },
  {
   "cell_type": "code",
   "execution_count": 4,
   "metadata": {},
   "outputs": [],
   "source": [
    "means, tmp_stdevs = tf.split(arr, num_or_size_splits=2,axis=1)"
   ]
  },
  {
   "cell_type": "code",
   "execution_count": 5,
   "metadata": {},
   "outputs": [
    {
     "data": {
      "text/plain": [
       "<tf.Tensor: id=8, shape=(5, 20), dtype=float32, numpy=\n",
       "array([[20., 21., 22., 23., 24., 25., 26., 27., 28., 29., 30., 31., 32.,\n",
       "        33., 34., 35., 36., 37., 38., 39.],\n",
       "       [20., 21., 22., 23., 24., 25., 26., 27., 28., 29., 30., 31., 32.,\n",
       "        33., 34., 35., 36., 37., 38., 39.],\n",
       "       [20., 21., 22., 23., 24., 25., 26., 27., 28., 29., 30., 31., 32.,\n",
       "        33., 34., 35., 36., 37., 38., 39.],\n",
       "       [20., 21., 22., 23., 24., 25., 26., 27., 28., 29., 30., 31., 32.,\n",
       "        33., 34., 35., 36., 37., 38., 39.],\n",
       "       [20., 21., 22., 23., 24., 25., 26., 27., 28., 29., 30., 31., 32.,\n",
       "        33., 34., 35., 36., 37., 38., 39.]], dtype=float32)>"
      ]
     },
     "execution_count": 5,
     "metadata": {},
     "output_type": "execute_result"
    }
   ],
   "source": [
    "tmp_stdevs"
   ]
  },
  {
   "cell_type": "code",
   "execution_count": 225,
   "metadata": {},
   "outputs": [
    {
     "data": {
      "text/plain": [
       "<tf.Tensor: id=39520, shape=(5, 20), dtype=float32, numpy=\n",
       "array([[20.000002, 21.000002, 22.000002, 23.000002, 24.000002, 25.000002,\n",
       "        26.000002, 27.000002, 28.000002, 29.000002, 30.000002, 31.000002,\n",
       "        32.      , 33.      , 34.      , 35.      , 36.      , 37.      ,\n",
       "        38.      , 39.      ],\n",
       "       [20.000002, 21.000002, 22.000002, 23.000002, 24.000002, 25.000002,\n",
       "        26.000002, 27.000002, 28.000002, 29.000002, 30.000002, 31.000002,\n",
       "        32.      , 33.      , 34.      , 35.      , 36.      , 37.      ,\n",
       "        38.      , 39.      ],\n",
       "       [20.000002, 21.000002, 22.000002, 23.000002, 24.000002, 25.000002,\n",
       "        26.000002, 27.000002, 28.000002, 29.000002, 30.000002, 31.000002,\n",
       "        32.      , 33.      , 34.      , 35.      , 36.      , 37.      ,\n",
       "        38.      , 39.      ],\n",
       "       [20.000002, 21.000002, 22.000002, 23.000002, 24.000002, 25.000002,\n",
       "        26.000002, 27.000002, 28.000002, 29.000002, 30.000002, 31.000002,\n",
       "        32.      , 33.      , 34.      , 35.      , 36.      , 37.      ,\n",
       "        38.      , 39.      ],\n",
       "       [20.000002, 21.000002, 22.000002, 23.000002, 24.000002, 25.000002,\n",
       "        26.000002, 27.000002, 28.000002, 29.000002, 30.000002, 31.000002,\n",
       "        32.      , 33.      , 34.      , 35.      , 36.      , 37.      ,\n",
       "        38.      , 39.      ]], dtype=float32)>"
      ]
     },
     "execution_count": 225,
     "metadata": {},
     "output_type": "execute_result"
    }
   ],
   "source": [
    "tf.math.softplus(tmp_stdevs)+ 1e-6"
   ]
  },
  {
   "cell_type": "code",
   "execution_count": null,
   "metadata": {},
   "outputs": [],
   "source": []
  },
  {
   "cell_type": "code",
   "execution_count": 9,
   "metadata": {},
   "outputs": [],
   "source": [
    "splitted = tf.split(arr, num_or_size_splits=10,axis=1)"
   ]
  },
  {
   "cell_type": "code",
   "execution_count": null,
   "metadata": {},
   "outputs": [],
   "source": [
    "def create_dist(params, dim):\n",
    "    tf.contrib.distributions.MultivariateNormalFullCovariance"
   ]
  },
  {
   "cell_type": "code",
   "execution_count": 10,
   "metadata": {},
   "outputs": [],
   "source": [
    "params = [dist_params for dist_params in splitted]"
   ]
  },
  {
   "cell_type": "code",
   "execution_count": 11,
   "metadata": {},
   "outputs": [
    {
     "data": {
      "text/plain": [
       "[<tf.Tensor: id=76, shape=(5, 4), dtype=float32, numpy=\n",
       " array([[0., 1., 2., 3.],\n",
       "        [0., 1., 2., 3.],\n",
       "        [0., 1., 2., 3.],\n",
       "        [0., 1., 2., 3.],\n",
       "        [0., 1., 2., 3.]], dtype=float32)>,\n",
       " <tf.Tensor: id=77, shape=(5, 4), dtype=float32, numpy=\n",
       " array([[4., 5., 6., 7.],\n",
       "        [4., 5., 6., 7.],\n",
       "        [4., 5., 6., 7.],\n",
       "        [4., 5., 6., 7.],\n",
       "        [4., 5., 6., 7.]], dtype=float32)>,\n",
       " <tf.Tensor: id=78, shape=(5, 4), dtype=float32, numpy=\n",
       " array([[ 8.,  9., 10., 11.],\n",
       "        [ 8.,  9., 10., 11.],\n",
       "        [ 8.,  9., 10., 11.],\n",
       "        [ 8.,  9., 10., 11.],\n",
       "        [ 8.,  9., 10., 11.]], dtype=float32)>,\n",
       " <tf.Tensor: id=79, shape=(5, 4), dtype=float32, numpy=\n",
       " array([[12., 13., 14., 15.],\n",
       "        [12., 13., 14., 15.],\n",
       "        [12., 13., 14., 15.],\n",
       "        [12., 13., 14., 15.],\n",
       "        [12., 13., 14., 15.]], dtype=float32)>,\n",
       " <tf.Tensor: id=80, shape=(5, 4), dtype=float32, numpy=\n",
       " array([[16., 17., 18., 19.],\n",
       "        [16., 17., 18., 19.],\n",
       "        [16., 17., 18., 19.],\n",
       "        [16., 17., 18., 19.],\n",
       "        [16., 17., 18., 19.]], dtype=float32)>,\n",
       " <tf.Tensor: id=81, shape=(5, 4), dtype=float32, numpy=\n",
       " array([[20., 21., 22., 23.],\n",
       "        [20., 21., 22., 23.],\n",
       "        [20., 21., 22., 23.],\n",
       "        [20., 21., 22., 23.],\n",
       "        [20., 21., 22., 23.]], dtype=float32)>,\n",
       " <tf.Tensor: id=82, shape=(5, 4), dtype=float32, numpy=\n",
       " array([[24., 25., 26., 27.],\n",
       "        [24., 25., 26., 27.],\n",
       "        [24., 25., 26., 27.],\n",
       "        [24., 25., 26., 27.],\n",
       "        [24., 25., 26., 27.]], dtype=float32)>,\n",
       " <tf.Tensor: id=83, shape=(5, 4), dtype=float32, numpy=\n",
       " array([[28., 29., 30., 31.],\n",
       "        [28., 29., 30., 31.],\n",
       "        [28., 29., 30., 31.],\n",
       "        [28., 29., 30., 31.],\n",
       "        [28., 29., 30., 31.]], dtype=float32)>,\n",
       " <tf.Tensor: id=84, shape=(5, 4), dtype=float32, numpy=\n",
       " array([[32., 33., 34., 35.],\n",
       "        [32., 33., 34., 35.],\n",
       "        [32., 33., 34., 35.],\n",
       "        [32., 33., 34., 35.],\n",
       "        [32., 33., 34., 35.]], dtype=float32)>,\n",
       " <tf.Tensor: id=85, shape=(5, 4), dtype=float32, numpy=\n",
       " array([[36., 37., 38., 39.],\n",
       "        [36., 37., 38., 39.],\n",
       "        [36., 37., 38., 39.],\n",
       "        [36., 37., 38., 39.],\n",
       "        [36., 37., 38., 39.]], dtype=float32)>]"
      ]
     },
     "execution_count": 11,
     "metadata": {},
     "output_type": "execute_result"
    }
   ],
   "source": [
    "params"
   ]
  },
  {
   "cell_type": "code",
   "execution_count": 5,
   "metadata": {},
   "outputs": [],
   "source": [
    "init_cov = np.array([\n",
    "            [0.07,0.0],\n",
    "            [0.0,0.007]\n",
    "        ], dtype=\"float64\")\n",
    "mix = MixtureOfNormalsOnCircle(10, init_cov=init_cov, r=1)"
   ]
  },
  {
   "cell_type": "code",
   "execution_count": 10,
   "metadata": {},
   "outputs": [
    {
     "data": {
      "text/plain": [
       "<tf.Tensor: id=4631, shape=(10, 5), dtype=float32, numpy=\n",
       "array([[0.00000000e+00, 2.67648007e-43, 0.00000000e+00, 2.11805684e-08,\n",
       "        0.00000000e+00],\n",
       "       [0.00000000e+00, 1.02503581e-40, 0.00000000e+00, 1.56667733e+00,\n",
       "        0.00000000e+00],\n",
       "       [1.86368913e-32, 0.00000000e+00, 0.00000000e+00, 1.71908177e-03,\n",
       "        7.07835457e-10],\n",
       "       [0.00000000e+00, 0.00000000e+00, 0.00000000e+00, 1.29695001e-13,\n",
       "        1.98778039e-24],\n",
       "       [0.00000000e+00, 0.00000000e+00, 0.00000000e+00, 7.93286628e-19,\n",
       "        0.00000000e+00],\n",
       "       [0.00000000e+00, 0.00000000e+00, 0.00000000e+00, 1.32352074e-14,\n",
       "        0.00000000e+00],\n",
       "       [0.00000000e+00, 0.00000000e+00, 0.00000000e+00, 3.38009909e-09,\n",
       "        0.00000000e+00],\n",
       "       [0.00000000e+00, 0.00000000e+00, 0.00000000e+00, 2.61540997e-11,\n",
       "        1.99864403e-35],\n",
       "       [0.00000000e+00, 0.00000000e+00, 0.00000000e+00, 1.34765026e-17,\n",
       "        0.00000000e+00],\n",
       "       [0.00000000e+00, 0.00000000e+00, 0.00000000e+00, 1.87067193e-17,\n",
       "        0.00000000e+00]], dtype=float32)>"
      ]
     },
     "execution_count": 10,
     "metadata": {},
     "output_type": "execute_result"
    }
   ],
   "source": [
    "probs = tf.stack([dist.prob(z) for dist in mix.dists])\n",
    "probs"
   ]
  },
  {
   "cell_type": "code",
   "execution_count": 13,
   "metadata": {},
   "outputs": [
    {
     "data": {
      "text/plain": [
       "<tf.Tensor: id=4644, shape=(5, 1), dtype=float32, numpy=\n",
       "array([[9.3184457e-33],\n",
       "       [5.1385615e-41],\n",
       "       [0.0000000e+00],\n",
       "       [7.8419822e-01],\n",
       "       [3.5391773e-10]], dtype=float32)>"
      ]
     },
     "execution_count": 13,
     "metadata": {},
     "output_type": "execute_result"
    }
   ],
   "source": [
    "denom = tf.reduce_sum(mix.betas * probs, axis=0)\n",
    "denom = tf.reshape(denom, (-1, 1))\n",
    "denom"
   ]
  },
  {
   "cell_type": "code",
   "execution_count": 14,
   "metadata": {},
   "outputs": [
    {
     "data": {
      "text/plain": [
       "<tf.Tensor: id=4651, shape=(), dtype=float32, numpy=229.22844>"
      ]
     },
     "execution_count": 14,
     "metadata": {},
     "output_type": "execute_result"
    }
   ],
   "source": [
    "-tf.reduce_sum(tf.log(1e-30 + denom))"
   ]
  },
  {
   "cell_type": "code",
   "execution_count": 8,
   "metadata": {},
   "outputs": [
    {
     "data": {
      "text/plain": [
       "(<tf.Tensor: id=2848, shape=(), dtype=float32, numpy=229.22844>,\n",
       " <function vae_lib.utils.gmm_on_circle.MixtureOfNormalsOnCircle.penalty_term_with_gd.<locals>.grad(dz)>)"
      ]
     },
     "execution_count": 8,
     "metadata": {},
     "output_type": "execute_result"
    }
   ],
   "source": [
    "mix.penalty_term_with_gd(z)"
   ]
  },
  {
   "cell_type": "code",
   "execution_count": 15,
   "metadata": {},
   "outputs": [],
   "source": [
    "batched_betas = np.tile([np.ones(10)/10], [64,1])"
   ]
  },
  {
   "cell_type": "code",
   "execution_count": 16,
   "metadata": {},
   "outputs": [
    {
     "data": {
      "text/plain": [
       "array([[0.1, 0.1, 0.1, 0.1, 0.1, 0.1, 0.1, 0.1, 0.1, 0.1],\n",
       "       [0.1, 0.1, 0.1, 0.1, 0.1, 0.1, 0.1, 0.1, 0.1, 0.1],\n",
       "       [0.1, 0.1, 0.1, 0.1, 0.1, 0.1, 0.1, 0.1, 0.1, 0.1],\n",
       "       [0.1, 0.1, 0.1, 0.1, 0.1, 0.1, 0.1, 0.1, 0.1, 0.1],\n",
       "       [0.1, 0.1, 0.1, 0.1, 0.1, 0.1, 0.1, 0.1, 0.1, 0.1],\n",
       "       [0.1, 0.1, 0.1, 0.1, 0.1, 0.1, 0.1, 0.1, 0.1, 0.1],\n",
       "       [0.1, 0.1, 0.1, 0.1, 0.1, 0.1, 0.1, 0.1, 0.1, 0.1],\n",
       "       [0.1, 0.1, 0.1, 0.1, 0.1, 0.1, 0.1, 0.1, 0.1, 0.1],\n",
       "       [0.1, 0.1, 0.1, 0.1, 0.1, 0.1, 0.1, 0.1, 0.1, 0.1],\n",
       "       [0.1, 0.1, 0.1, 0.1, 0.1, 0.1, 0.1, 0.1, 0.1, 0.1],\n",
       "       [0.1, 0.1, 0.1, 0.1, 0.1, 0.1, 0.1, 0.1, 0.1, 0.1],\n",
       "       [0.1, 0.1, 0.1, 0.1, 0.1, 0.1, 0.1, 0.1, 0.1, 0.1],\n",
       "       [0.1, 0.1, 0.1, 0.1, 0.1, 0.1, 0.1, 0.1, 0.1, 0.1],\n",
       "       [0.1, 0.1, 0.1, 0.1, 0.1, 0.1, 0.1, 0.1, 0.1, 0.1],\n",
       "       [0.1, 0.1, 0.1, 0.1, 0.1, 0.1, 0.1, 0.1, 0.1, 0.1],\n",
       "       [0.1, 0.1, 0.1, 0.1, 0.1, 0.1, 0.1, 0.1, 0.1, 0.1],\n",
       "       [0.1, 0.1, 0.1, 0.1, 0.1, 0.1, 0.1, 0.1, 0.1, 0.1],\n",
       "       [0.1, 0.1, 0.1, 0.1, 0.1, 0.1, 0.1, 0.1, 0.1, 0.1],\n",
       "       [0.1, 0.1, 0.1, 0.1, 0.1, 0.1, 0.1, 0.1, 0.1, 0.1],\n",
       "       [0.1, 0.1, 0.1, 0.1, 0.1, 0.1, 0.1, 0.1, 0.1, 0.1],\n",
       "       [0.1, 0.1, 0.1, 0.1, 0.1, 0.1, 0.1, 0.1, 0.1, 0.1],\n",
       "       [0.1, 0.1, 0.1, 0.1, 0.1, 0.1, 0.1, 0.1, 0.1, 0.1],\n",
       "       [0.1, 0.1, 0.1, 0.1, 0.1, 0.1, 0.1, 0.1, 0.1, 0.1],\n",
       "       [0.1, 0.1, 0.1, 0.1, 0.1, 0.1, 0.1, 0.1, 0.1, 0.1],\n",
       "       [0.1, 0.1, 0.1, 0.1, 0.1, 0.1, 0.1, 0.1, 0.1, 0.1],\n",
       "       [0.1, 0.1, 0.1, 0.1, 0.1, 0.1, 0.1, 0.1, 0.1, 0.1],\n",
       "       [0.1, 0.1, 0.1, 0.1, 0.1, 0.1, 0.1, 0.1, 0.1, 0.1],\n",
       "       [0.1, 0.1, 0.1, 0.1, 0.1, 0.1, 0.1, 0.1, 0.1, 0.1],\n",
       "       [0.1, 0.1, 0.1, 0.1, 0.1, 0.1, 0.1, 0.1, 0.1, 0.1],\n",
       "       [0.1, 0.1, 0.1, 0.1, 0.1, 0.1, 0.1, 0.1, 0.1, 0.1],\n",
       "       [0.1, 0.1, 0.1, 0.1, 0.1, 0.1, 0.1, 0.1, 0.1, 0.1],\n",
       "       [0.1, 0.1, 0.1, 0.1, 0.1, 0.1, 0.1, 0.1, 0.1, 0.1],\n",
       "       [0.1, 0.1, 0.1, 0.1, 0.1, 0.1, 0.1, 0.1, 0.1, 0.1],\n",
       "       [0.1, 0.1, 0.1, 0.1, 0.1, 0.1, 0.1, 0.1, 0.1, 0.1],\n",
       "       [0.1, 0.1, 0.1, 0.1, 0.1, 0.1, 0.1, 0.1, 0.1, 0.1],\n",
       "       [0.1, 0.1, 0.1, 0.1, 0.1, 0.1, 0.1, 0.1, 0.1, 0.1],\n",
       "       [0.1, 0.1, 0.1, 0.1, 0.1, 0.1, 0.1, 0.1, 0.1, 0.1],\n",
       "       [0.1, 0.1, 0.1, 0.1, 0.1, 0.1, 0.1, 0.1, 0.1, 0.1],\n",
       "       [0.1, 0.1, 0.1, 0.1, 0.1, 0.1, 0.1, 0.1, 0.1, 0.1],\n",
       "       [0.1, 0.1, 0.1, 0.1, 0.1, 0.1, 0.1, 0.1, 0.1, 0.1],\n",
       "       [0.1, 0.1, 0.1, 0.1, 0.1, 0.1, 0.1, 0.1, 0.1, 0.1],\n",
       "       [0.1, 0.1, 0.1, 0.1, 0.1, 0.1, 0.1, 0.1, 0.1, 0.1],\n",
       "       [0.1, 0.1, 0.1, 0.1, 0.1, 0.1, 0.1, 0.1, 0.1, 0.1],\n",
       "       [0.1, 0.1, 0.1, 0.1, 0.1, 0.1, 0.1, 0.1, 0.1, 0.1],\n",
       "       [0.1, 0.1, 0.1, 0.1, 0.1, 0.1, 0.1, 0.1, 0.1, 0.1],\n",
       "       [0.1, 0.1, 0.1, 0.1, 0.1, 0.1, 0.1, 0.1, 0.1, 0.1],\n",
       "       [0.1, 0.1, 0.1, 0.1, 0.1, 0.1, 0.1, 0.1, 0.1, 0.1],\n",
       "       [0.1, 0.1, 0.1, 0.1, 0.1, 0.1, 0.1, 0.1, 0.1, 0.1],\n",
       "       [0.1, 0.1, 0.1, 0.1, 0.1, 0.1, 0.1, 0.1, 0.1, 0.1],\n",
       "       [0.1, 0.1, 0.1, 0.1, 0.1, 0.1, 0.1, 0.1, 0.1, 0.1],\n",
       "       [0.1, 0.1, 0.1, 0.1, 0.1, 0.1, 0.1, 0.1, 0.1, 0.1],\n",
       "       [0.1, 0.1, 0.1, 0.1, 0.1, 0.1, 0.1, 0.1, 0.1, 0.1],\n",
       "       [0.1, 0.1, 0.1, 0.1, 0.1, 0.1, 0.1, 0.1, 0.1, 0.1],\n",
       "       [0.1, 0.1, 0.1, 0.1, 0.1, 0.1, 0.1, 0.1, 0.1, 0.1],\n",
       "       [0.1, 0.1, 0.1, 0.1, 0.1, 0.1, 0.1, 0.1, 0.1, 0.1],\n",
       "       [0.1, 0.1, 0.1, 0.1, 0.1, 0.1, 0.1, 0.1, 0.1, 0.1],\n",
       "       [0.1, 0.1, 0.1, 0.1, 0.1, 0.1, 0.1, 0.1, 0.1, 0.1],\n",
       "       [0.1, 0.1, 0.1, 0.1, 0.1, 0.1, 0.1, 0.1, 0.1, 0.1],\n",
       "       [0.1, 0.1, 0.1, 0.1, 0.1, 0.1, 0.1, 0.1, 0.1, 0.1],\n",
       "       [0.1, 0.1, 0.1, 0.1, 0.1, 0.1, 0.1, 0.1, 0.1, 0.1],\n",
       "       [0.1, 0.1, 0.1, 0.1, 0.1, 0.1, 0.1, 0.1, 0.1, 0.1],\n",
       "       [0.1, 0.1, 0.1, 0.1, 0.1, 0.1, 0.1, 0.1, 0.1, 0.1],\n",
       "       [0.1, 0.1, 0.1, 0.1, 0.1, 0.1, 0.1, 0.1, 0.1, 0.1],\n",
       "       [0.1, 0.1, 0.1, 0.1, 0.1, 0.1, 0.1, 0.1, 0.1, 0.1]])"
      ]
     },
     "execution_count": 16,
     "metadata": {},
     "output_type": "execute_result"
    }
   ],
   "source": [
    "batched_betas"
   ]
  },
  {
   "cell_type": "code",
   "execution_count": 91,
   "metadata": {},
   "outputs": [
    {
     "data": {
      "text/plain": [
       "array([0.372, 1.644])"
      ]
     },
     "execution_count": 91,
     "metadata": {},
     "output_type": "execute_result"
    }
   ],
   "source": [
    "np.around([0.3723423432434, 1.6443243234], decimals=3)"
   ]
  },
  {
   "cell_type": "code",
   "execution_count": 96,
   "metadata": {},
   "outputs": [
    {
     "data": {
      "text/plain": [
       "array([[0.2, 0.5, 0.1],\n",
       "       [0.7, 0.1, 0.2]])"
      ]
     },
     "execution_count": 96,
     "metadata": {},
     "output_type": "execute_result"
    }
   ],
   "source": [
    "resp_soft = np.array([\n",
    "    [0.2,0.5,0.1],\n",
    "    [0.7,0.1,0.2]\n",
    "])\n",
    "resp_soft"
   ]
  },
  {
   "cell_type": "code",
   "execution_count": 97,
   "metadata": {},
   "outputs": [
    {
     "data": {
      "text/plain": [
       "<tf.Tensor: id=38056, shape=(2, 3), dtype=float64, numpy=\n",
       "array([[0., 1., 0.],\n",
       "       [1., 0., 0.]])>"
      ]
     },
     "execution_count": 97,
     "metadata": {},
     "output_type": "execute_result"
    }
   ],
   "source": [
    "resp = tf.cast(tf.equal(resp_soft,tf.reduce_max(resp_soft,1,keep_dims=True)),resp_soft.dtype)\n",
    "resp"
   ]
  },
  {
   "cell_type": "code",
   "execution_count": 99,
   "metadata": {},
   "outputs": [
    {
     "name": "stdout",
     "output_type": "stream",
     "text": [
      "0\n",
      "1\n",
      "2\n",
      "3\n",
      "4\n"
     ]
    }
   ],
   "source": [
    "for i in range(5):\n",
    "    print(i)"
   ]
  },
  {
   "cell_type": "code",
   "execution_count": 8,
   "metadata": {},
   "outputs": [],
   "source": [
    "p = tf.constant([\n",
    "    [0.1,0.2,0.5,0.2],\n",
    "    [0.3,0.3,0.2,0.2],\n",
    "    [0.1,0.1,0.8,0.0],\n",
    "    [0.0,0.0,1.0,0.0],\n",
    "    [0.25,0.25,0.25,0.25]\n",
    "])"
   ]
  },
  {
   "cell_type": "code",
   "execution_count": 120,
   "metadata": {},
   "outputs": [
    {
     "data": {
      "text/plain": [
       "<tf.Tensor: id=38116, shape=(), dtype=float32, numpy=0.9224185>"
      ]
     },
     "execution_count": 120,
     "metadata": {},
     "output_type": "execute_result"
    }
   ],
   "source": [
    "tf.reduce_mean(-tf.reduce_sum(p * tf.log(p+1e-20), axis=1))"
   ]
  },
  {
   "cell_type": "code",
   "execution_count": 123,
   "metadata": {},
   "outputs": [
    {
     "data": {
      "text/plain": [
       "2.302585092994046"
      ]
     },
     "execution_count": 123,
     "metadata": {},
     "output_type": "execute_result"
    }
   ],
   "source": [
    "np.log(10)"
   ]
  },
  {
   "cell_type": "code",
   "execution_count": 122,
   "metadata": {},
   "outputs": [
    {
     "data": {
      "text/plain": [
       "<tf.Tensor: id=38126, shape=(), dtype=float32, numpy=0.9224185>"
      ]
     },
     "execution_count": 122,
     "metadata": {},
     "output_type": "execute_result"
    }
   ],
   "source": [
    "entropy(p)"
   ]
  },
  {
   "cell_type": "code",
   "execution_count": 3,
   "metadata": {},
   "outputs": [],
   "source": [
    "values = tf.constant([0.1,0.05,0.02,0.8,0.3], dtype=tf.float32)"
   ]
  },
  {
   "cell_type": "code",
   "execution_count": 10,
   "metadata": {},
   "outputs": [
    {
     "data": {
      "text/plain": [
       "<tf.Tensor: id=10, shape=(5,), dtype=float32, numpy=array([0.5 , 0.3 , 0.8 , 1.  , 0.25], dtype=float32)>"
      ]
     },
     "execution_count": 10,
     "metadata": {},
     "output_type": "execute_result"
    }
   ],
   "source": [
    "tf.reduce_max(p, axis=1)"
   ]
  },
  {
   "cell_type": "code",
   "execution_count": null,
   "metadata": {},
   "outputs": [],
   "source": []
  }
 ],
 "metadata": {
  "kernelspec": {
   "display_name": "Python 3",
   "language": "python",
   "name": "python3"
  },
  "language_info": {
   "codemirror_mode": {
    "name": "ipython",
    "version": 3
   },
   "file_extension": ".py",
   "mimetype": "text/x-python",
   "name": "python",
   "nbconvert_exporter": "python",
   "pygments_lexer": "ipython3",
   "version": "3.6.6"
  }
 },
 "nbformat": 4,
 "nbformat_minor": 2
}
