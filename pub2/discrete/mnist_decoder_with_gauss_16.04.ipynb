{
 "cells": [
  {
   "cell_type": "markdown",
   "metadata": {},
   "source": [
    "## In this study, we propose discrete VAE. Generative model is as follows:\n"
   ]
  },
  {
   "cell_type": "code",
   "execution_count": 101,
   "metadata": {},
   "outputs": [],
   "source": [
    "from __future__ import division, print_function\n",
    "\n",
    "import numpy as np\n",
    "import tensorflow as tf\n",
    "from sklearn.preprocessing import OneHotEncoder\n",
    "from sklearn.model_selection import train_test_split\n",
    "import datetime\n",
    "import matplotlib.pyplot as plt\n",
    "import pandas as pd\n",
    "from sklearn import svm\n",
    "from vae_lib.utils.dynamic_gmm_on_circle import DynamicGmmOnCircle\n",
    "from vae_lib.utils.gmm_mixture_for_discrete_vae import GmmMixtureForDiscreteVae\n",
    "from scipy.stats import multivariate_normal"
   ]
  },
  {
   "cell_type": "code",
   "execution_count": 2,
   "metadata": {},
   "outputs": [],
   "source": [
    "Normal = tf.distributions.Normal\n",
    "Bernoulli = tf.distributions.Bernoulli"
   ]
  },
  {
   "cell_type": "markdown",
   "metadata": {},
   "source": [
    "### Utility functions"
   ]
  },
  {
   "cell_type": "code",
   "execution_count": 3,
   "metadata": {},
   "outputs": [],
   "source": [
    "def permute(X, y=None):\n",
    "    n_all_cases = X.shape[0]\n",
    "    perm = np.arange(n_all_cases)\n",
    "    np.random.shuffle(perm)\n",
    "    if y is not None:\n",
    "        return X[perm], y[perm]\n",
    "    else:\n",
    "        return X[perm], None"
   ]
  },
  {
   "cell_type": "code",
   "execution_count": 4,
   "metadata": {},
   "outputs": [],
   "source": [
    "def plot_latent_space(model, onehot_encoder, X, y):\n",
    "    m, sd = model.encode2(X)\n",
    "    m_flat = m.reshape(-1)\n",
    "    sd_flat = sd.reshape(-1)\n",
    "    y_decoded = onehot_encoder.inverse_transform(y).reshape(-1)\n",
    "    plt.figure(figsize=(10, 10))\n",
    "    plt.scatter(m_flat, sd_flat, c=y_decoded, cmap='brg')\n",
    "    plt.colorbar()\n",
    "    plt.show()"
   ]
  },
  {
   "cell_type": "code",
   "execution_count": 5,
   "metadata": {},
   "outputs": [],
   "source": [
    "def plot_2d_latent_space(model, onehot_encoder, X, y):\n",
    "    m, sd = model_supervised.encode2(X_test)\n",
    "    y_decoded = onehot_encoder.inverse_transform(y_test).reshape(-1)\n",
    "    fig = plt.figure(figsize=(20, 20))\n",
    "\n",
    "\n",
    "    plt.subplot(2, 2, 1)\n",
    "    plt.scatter(m[:,0], m[:,1], c=y_decoded, cmap='brg')\n",
    "    plt.colorbar()\n",
    "\n",
    "    plt.subplot(2, 2, 2)\n",
    "    plt.scatter(sd[:,0], sd[:,1], c=y_decoded, cmap='brg')\n",
    "    plt.colorbar()\n",
    "\n",
    "    plt.subplot(2, 2, 3)\n",
    "    plt.scatter(m[:,0], sd[:,0], c=y_decoded, cmap='brg')\n",
    "    plt.colorbar()\n",
    "\n",
    "    Z = np.random.normal(m,sd)\n",
    "    plt.subplot(2, 2, 4)\n",
    "    plt.scatter(Z[:,0], Z[:,1], c=y_decoded, cmap='brg')\n",
    "    plt.colorbar()\n",
    "\n",
    "    plt.show()"
   ]
  },
  {
   "cell_type": "markdown",
   "metadata": {
    "collapsed": true
   },
   "source": [
    "### Import MNIST"
   ]
  },
  {
   "cell_type": "code",
   "execution_count": 6,
   "metadata": {},
   "outputs": [],
   "source": [
    "mnist = tf.keras.datasets.mnist"
   ]
  },
  {
   "cell_type": "markdown",
   "metadata": {},
   "source": [
    "### Load data"
   ]
  },
  {
   "cell_type": "code",
   "execution_count": 7,
   "metadata": {},
   "outputs": [],
   "source": [
    "(X_train, y_train), (X_test, y_test) = mnist.load_data()"
   ]
  },
  {
   "cell_type": "code",
   "execution_count": 8,
   "metadata": {},
   "outputs": [],
   "source": [
    "X = np.concatenate((X_train, X_test), axis=0)"
   ]
  },
  {
   "cell_type": "code",
   "execution_count": 9,
   "metadata": {},
   "outputs": [],
   "source": [
    "n_all_cases = X.shape[0]\n",
    "input_dim = X.shape[1]"
   ]
  },
  {
   "cell_type": "code",
   "execution_count": 10,
   "metadata": {},
   "outputs": [],
   "source": [
    "X = np.reshape(X, (n_all_cases, -1))\n",
    "y = np.concatenate((y_train, y_test)).astype('float32')"
   ]
  },
  {
   "cell_type": "code",
   "execution_count": 11,
   "metadata": {},
   "outputs": [],
   "source": [
    "label_reshaped = y.reshape(len(y), 1)\n",
    "onehot_encoder = OneHotEncoder(sparse=False, categories='auto')\n",
    "onehot_encoded = onehot_encoder.fit_transform(label_reshaped)"
   ]
  },
  {
   "cell_type": "code",
   "execution_count": 12,
   "metadata": {},
   "outputs": [],
   "source": [
    "n_classes = onehot_encoded.shape[1]"
   ]
  },
  {
   "cell_type": "code",
   "execution_count": 13,
   "metadata": {},
   "outputs": [],
   "source": [
    "X = (X > 0.5).astype(np.float32)"
   ]
  },
  {
   "cell_type": "code",
   "execution_count": 14,
   "metadata": {},
   "outputs": [],
   "source": [
    "X_perm, onehot_encoded_perm = permute(X,onehot_encoded)"
   ]
  },
  {
   "cell_type": "code",
   "execution_count": 15,
   "metadata": {},
   "outputs": [],
   "source": [
    "X_train, X_test, y_train, y_test = train_test_split(X_perm, onehot_encoded_perm, test_size=0.1, random_state=40)"
   ]
  },
  {
   "cell_type": "markdown",
   "metadata": {},
   "source": [
    "### Utility functions"
   ]
  },
  {
   "cell_type": "code",
   "execution_count": 16,
   "metadata": {},
   "outputs": [],
   "source": [
    "def get_log_folder():\n",
    "    now = datetime.datetime.now()\n",
    "    day_of_the_year=now.strftime(\"%d_%m_%Y\")\n",
    "    suff = now.strftime(\"%Y%m%d%H%M%S\")\n",
    "    #print(now.strftime(\"%Y%m%d%H%M%S\"))\n",
    "    log_folder = \"/tmp/class_vae/deep/{}/{}\".format(day_of_the_year,suff)\n",
    "    return log_folder"
   ]
  },
  {
   "cell_type": "code",
   "execution_count": 17,
   "metadata": {},
   "outputs": [],
   "source": [
    "def calculate_accuracy_np(y_pred, y_true):\n",
    "    predicted_class = np.argmax(y_pred, axis=1)\n",
    "    true_class = np.argmax(y_true, axis=1)\n",
    "    cond_correct = predicted_class == true_class\n",
    "    return np.mean(cond_correct.astype(int))"
   ]
  },
  {
   "cell_type": "code",
   "execution_count": 18,
   "metadata": {},
   "outputs": [],
   "source": [
    "def accuracy_for_score(y_pred, y_true, score, threshold):\n",
    "    cond = score > threshold\n",
    "    accuracy = calculate_accuracy_np(y_pred[cond], y_true[cond])\n",
    "    return accuracy"
   ]
  },
  {
   "cell_type": "code",
   "execution_count": 19,
   "metadata": {},
   "outputs": [],
   "source": [
    "def classification_ratio(score, threshold):\n",
    "    cond = score > threshold\n",
    "    above_threshold = np.mean((score > threshold).astype(int))\n",
    "    return above_threshold"
   ]
  },
  {
   "cell_type": "code",
   "execution_count": 33,
   "metadata": {},
   "outputs": [],
   "source": [
    "def plot_many_images(images, labels):\n",
    "\n",
    "    ROW = 4\n",
    "    COLUMN = 3\n",
    "    for i in range(ROW * COLUMN):\n",
    "        # train[i][0] is i-th image data with size 28x28\n",
    "        image = images[i].reshape(28, 28)   # not necessary to reshape if ndim is set to 2\n",
    "        plt.subplot(ROW, COLUMN, i+1)          # subplot with size (width 3, height 5)\n",
    "        plt.imshow(image, cmap='gray')  # cmap='gray' is for black and white picture.\n",
    "        # train[i][1] is i-th digit label\n",
    "        plt.title('label = {}'.format(labels[i]))\n",
    "        plt.axis('off')  # do not show axis value\n",
    "    plt.tight_layout()   # automatic padding between subplots\n",
    "    #plt.savefig('images/mnist_plot.png')\n",
    "    plt.show()"
   ]
  },
  {
   "cell_type": "markdown",
   "metadata": {},
   "source": [
    "### Build neural network"
   ]
  },
  {
   "cell_type": "code",
   "execution_count": 20,
   "metadata": {},
   "outputs": [],
   "source": [
    "class DenseLayer:\n",
    "\n",
    "    def __init__(self, in_dim, out_dim, f=tf.nn.relu, name=\"dense\"):\n",
    "        self.name = name\n",
    "        with tf.name_scope(self.name):\n",
    "            self.f = f\n",
    "            initializer = tf.contrib.layers.xavier_initializer()\n",
    "            self.W = tf.Variable(initializer((in_dim, out_dim)), name=\"W\")\n",
    "            self.b = tf.Variable(tf.constant(0.1, shape=[out_dim]), name=\"bias\")\n",
    "            tf.summary.histogram(\"weights\", self.W)\n",
    "            tf.summary.histogram(\"bias\", self.b)\n",
    "\n",
    "    def forward(self, X):\n",
    "        with tf.name_scope(self.name):\n",
    "            act = self.f(tf.matmul(X, self.W) + self.b)\n",
    "            tf.summary.histogram(\"activation\", act)\n",
    "            return act"
   ]
  },
  {
   "cell_type": "code",
   "execution_count": 50,
   "metadata": {},
   "outputs": [],
   "source": [
    "class VClassifier:\n",
    "    \n",
    "    def decode(self, Z_gauss, output_dim, hidden_dims):\n",
    "        decoder_layers = []\n",
    "\n",
    "        in_dim = hidden_dims[-1]\n",
    "        for hidden_dim in reversed(hidden_dims[:-1]):\n",
    "            h = DenseLayer(in_dim, hidden_dim)\n",
    "            decoder_layers.append(h)\n",
    "            in_dim = hidden_dim\n",
    "\n",
    "        decoder_layers.append(DenseLayer(in_dim, output_dim, f=lambda x: x))\n",
    "\n",
    "        current_value = Z_gauss #tf.concat(Z, Z_gauss, axis=1)\n",
    "        for decoder_layer in decoder_layers:\n",
    "            current_value = decoder_layer.forward(current_value)\n",
    "\n",
    "        return current_value\n",
    "    \n",
    "    def calculateKL(self, mean, std):\n",
    "        inner = 1 + tf.math.log(1e-8 + std ** 2) - mean ** 2 - std ** 2\n",
    "        kls = 0.5 * tf.math.reduce_sum(inner, axis=1)\n",
    "        return tf.math.reduce_mean(kls)\n",
    "    \n",
    "    def create_accuracy_node(self, y_true, y_pred):\n",
    "        correct_mask_node = tf.equal(tf.argmax(y_pred, 1), tf.argmax(y_true, 1))\n",
    "        accuracy_node = tf.reduce_mean(tf.cast(correct_mask_node, tf.float32))\n",
    "        return accuracy_node\n",
    "    \n",
    "    def sample_eps(self, shape):\n",
    "        return  tf.random_normal(shape=shape, mean=0, stddev=1, \n",
    "                               dtype=tf.float32)\n",
    "\n",
    "    def __init__(self, x_dim, z_dim, hidden_dims, log_folder, batch_sz=64):\n",
    "        self.encoder_layers = []\n",
    "        self.x_dim = x_dim\n",
    "        self.z_dim = z_dim\n",
    "        self.layer = 1\n",
    "        self.cum_thetas = []\n",
    "        self.batch_sz = batch_sz\n",
    "        \n",
    "        tf.reset_default_graph()\n",
    "        self.X = tf.placeholder(tf.float32, shape=(None, x_dim), name=\"x\")\n",
    "        self.Z = tf.placeholder(tf.float32, shape=(None, z_dim), name=\"y\")\n",
    "        \n",
    "        init_cov = np.array([\n",
    "            [7.0, 0.0],\n",
    "            [0.0, 0.7]\n",
    "        ], dtype=\"float64\")\n",
    "\n",
    "        print(\"Z shape = {}\".format(tf.shape(self.Z)))\n",
    "        gmm = GmmMixtureForDiscreteVae(init_cov, r=10, batch_size=batch_sz, batched_betas=self.Z)\n",
    "        self.samples = tf.cast(gmm.sample(), dtype=tf.float32)\n",
    "        #decoder\n",
    "        self.logits = self.decode(self.samples, (x_dim), hidden_dims)\n",
    "\n",
    "        self.XY_hat_distribution = Bernoulli(logits=self.logits)\n",
    "\n",
    "        self.posterior_predictive_probs = tf.nn.sigmoid(self.logits)\n",
    "\n",
    "        with tf.name_scope('COST'):\n",
    "\n",
    "#             xy = self.X\n",
    "\n",
    "            expected_log_likelihood_2 = -tf.reduce_sum(\n",
    "                tf.nn.sigmoid_cross_entropy_with_logits(labels=self.X, logits=self.logits), \n",
    "                axis=1\n",
    "            )\n",
    "            \n",
    "            exp_loglik_2 = tf.reduce_mean(expected_log_likelihood_2)\n",
    "            tf.summary.scalar(\"loglik_2\", exp_loglik_2)\n",
    "            \n",
    "        \n",
    "        self.train_op = tf.train.AdamOptimizer(learning_rate=1e-3).minimize(-exp_loglik_2)\n",
    "\n",
    "        self.init_op = tf.global_variables_initializer()\n",
    "            \n",
    "        #InteractiveSession.close()\n",
    "        self.sess = tf.InteractiveSession()\n",
    "        self.sess.run(self.init_op)\n",
    "\n",
    "        self.merged_summary = tf.summary.merge_all()\n",
    "\n",
    "        self.writer_train = tf.summary.FileWriter(log_folder)\n",
    "        self.writer_train.add_graph(self.sess.graph)\n",
    "\n",
    "    def fit(self, X_train, y_train, epochs=30):\n",
    "        #costs=[]\n",
    "        n_batches = len(X_train) // self.batch_sz\n",
    "        print(\"n_batches:\", n_batches)\n",
    "\n",
    "        iteration = 1\n",
    "        for i in range(epochs):\n",
    "            print(\"epoch: %d\" % i)\n",
    "            #np.random.shuffle(X_train)\n",
    "            X_train, y_train = permute(X_train, y_train)\n",
    "            for j in range(n_batches):\n",
    "                batch_x = X_train[j * self.batch_sz:(j + 1) * self.batch_sz]\n",
    "                batch_z = y_train[j * self.batch_sz:(j + 1) * self.batch_sz]\n",
    "                #print(\"batch_z.shape = {}\".format(batch_z.shape))\n",
    "                self.sess.run(self.train_op, feed_dict={self.X: batch_x, self.Z: batch_z})\n",
    "                if j % 100 == 0:\n",
    "                    s = self.sess.run(self.merged_summary, feed_dict={self.X: batch_x, self.Z: batch_z})\n",
    "                    self.writer_train.add_summary(s, iteration)\n",
    "\n",
    "                iteration += 1\n",
    "\n",
    "    def predict(self, z):\n",
    "        y_pred, samples = self.sess.run([self.posterior_predictive_probs, self.samples], feed_dict={self.Z: z})\n",
    "        return y_pred, samples\n",
    "    \n",
    "    def predict_from_gaussian(self, samples_from_gauss):\n",
    "        y_pred = self.sess.run([self.posterior_predictive_probs], feed_dict={self.samples: samples_from_gauss})\n",
    "        return y_pred\n",
    "    \n",
    "    \n"
   ]
  },
  {
   "cell_type": "markdown",
   "metadata": {},
   "source": [
    "### Supervised VAE"
   ]
  },
  {
   "cell_type": "code",
   "execution_count": 51,
   "metadata": {
    "scrolled": false
   },
   "outputs": [
    {
     "name": "stdout",
     "output_type": "stream",
     "text": [
      "Starting autoencoder. Log folder=/tmp/class_vae/deep/17_04_2019/20190417185502\n",
      "Z shape = Tensor(\"Shape:0\", shape=(2,), dtype=int32)\n"
     ]
    },
    {
     "name": "stderr",
     "output_type": "stream",
     "text": [
      "/anaconda3/envs/vae_tests/lib/python3.6/site-packages/tensorflow/python/client/session.py:1702: UserWarning: An interactive session is already active. This can cause out-of-memory errors in some cases. You must explicitly call `InteractiveSession.close()` to release resources held by the other session(s).\n",
      "  warnings.warn('An interactive session is already active. This can '\n"
     ]
    },
    {
     "name": "stdout",
     "output_type": "stream",
     "text": [
      "n_batches: 984\n",
      "epoch: 0\n"
     ]
    }
   ],
   "source": [
    "log_folder = get_log_folder()\n",
    "print('Starting autoencoder. Log folder={}'.format(log_folder))\n",
    "X_train, X_test, y_train, y_test\n",
    "model_supervised = VClassifier(\n",
    "    x_dim=X_train.shape[1], \n",
    "    z_dim=y_train.shape[1], \n",
    "    hidden_dims=[512, 256, 128, 2], \n",
    "    log_folder=log_folder\n",
    ")\n",
    "model_supervised.fit(X_train, y_train, epochs=1)\n"
   ]
  },
  {
   "cell_type": "code",
   "execution_count": 106,
   "metadata": {},
   "outputs": [
    {
     "data": {
      "text/plain": [
       "(64, 2)"
      ]
     },
     "execution_count": 106,
     "metadata": {},
     "output_type": "execute_result"
    }
   ],
   "source": [
    "test_batch = np.random.normal(loc=[0.,0.], scale=[7.0, 7.0], size=[64,2])\n",
    "test_batch.shape"
   ]
  },
  {
   "cell_type": "code",
   "execution_count": 124,
   "metadata": {},
   "outputs": [],
   "source": [
    "uni_dist = multivariate_normal([0.,0.], np.array([\n",
    "    [10.0,0.0],\n",
    "    [0.0,10.0]\n",
    "]))\n",
    "test_batch = uni_dist.rvs(64)"
   ]
  },
  {
   "cell_type": "code",
   "execution_count": 113,
   "metadata": {},
   "outputs": [
    {
     "data": {
      "text/plain": [
       "(64, 2)"
      ]
     },
     "execution_count": 113,
     "metadata": {},
     "output_type": "execute_result"
    }
   ],
   "source": [
    "uni_dist = multivariate_normal([8.090169943749475, 5.877852522924732], np.array([\n",
    "    [4.82340353, 2.99582803],\n",
    "    [2.99582803, 2.87659647]\n",
    "]))\n",
    "test_batch = uni_dist.rvs(64)\n",
    "test_batch.shape"
   ]
  },
  {
   "cell_type": "code",
   "execution_count": 125,
   "metadata": {},
   "outputs": [],
   "source": [
    "images_from_standard_normal_flat = model_supervised.predict_from_gaussian(samples_from_gauss=test_batch)[0]"
   ]
  },
  {
   "cell_type": "code",
   "execution_count": 126,
   "metadata": {},
   "outputs": [
    {
     "data": {
      "text/plain": [
       "(64, 784)"
      ]
     },
     "execution_count": 126,
     "metadata": {},
     "output_type": "execute_result"
    }
   ],
   "source": [
    "images_from_standard_normal_flat.shape"
   ]
  },
  {
   "cell_type": "code",
   "execution_count": 127,
   "metadata": {},
   "outputs": [],
   "source": [
    "images_from_standard_normal = images_from_standard_normal_flat.reshape((64,28,28)).shape"
   ]
  },
  {
   "cell_type": "code",
   "execution_count": 128,
   "metadata": {},
   "outputs": [
    {
     "data": {
      "image/png": "[encoded data removed]",
      "text/plain": [
       "<Figure size 720x720 with 12 Axes>"
      ]
     },
     "metadata": {
      "needs_background": "light"
     },
     "output_type": "display_data"
    }
   ],
   "source": [
    "plt.figure(figsize=(10,10))\n",
    "plot_many_images(images_from_standard_normal_flat, y_train)"
   ]
  },
  {
   "cell_type": "code",
   "execution_count": 90,
   "metadata": {},
   "outputs": [
    {
     "data": {
      "text/plain": [
       "(64, 784)"
      ]
     },
     "execution_count": 90,
     "metadata": {},
     "output_type": "execute_result"
    }
   ],
   "source": [
    "x_img.shape"
   ]
  },
  {
   "cell_type": "code",
   "execution_count": 41,
   "metadata": {
    "scrolled": false
   },
   "outputs": [],
   "source": [
    "x_img,samples = model_supervised.predict(y_train[0:64,:])"
   ]
  },
  {
   "cell_type": "code",
   "execution_count": 42,
   "metadata": {},
   "outputs": [
    {
     "data": {
      "text/plain": [
       "(64, 2)"
      ]
     },
     "execution_count": 42,
     "metadata": {},
     "output_type": "execute_result"
    }
   ],
   "source": [
    "samples.shape"
   ]
  },
  {
   "cell_type": "code",
   "execution_count": 43,
   "metadata": {},
   "outputs": [],
   "source": [
    "y_decoded = onehot_encoder.inverse_transform(y_train).reshape(-1)"
   ]
  },
  {
   "cell_type": "code",
   "execution_count": 44,
   "metadata": {},
   "outputs": [
    {
     "data": {
      "image/png": "[encoded data removed]",
      "text/plain": [
       "<Figure size 720x720 with 12 Axes>"
      ]
     },
     "metadata": {
      "needs_background": "light"
     },
     "output_type": "display_data"
    }
   ],
   "source": [
    "plt.figure(figsize=(10,10))\n",
    "plot_many_images(x_img, y_train)"
   ]
  },
  {
   "cell_type": "code",
   "execution_count": 45,
   "metadata": {},
   "outputs": [
    {
     "data": {
      "image/png": "[encoded data removed]",
      "text/plain": [
       "<Figure size 720x720 with 12 Axes>"
      ]
     },
     "metadata": {
      "needs_background": "light"
     },
     "output_type": "display_data"
    }
   ],
   "source": [
    "plt.figure(figsize=(10,10))\n",
    "x_img_bin = (x_img > 0.55).astype(np.float32)\n",
    "plot_many_images(x_img_bin, y_train)"
   ]
  },
  {
   "cell_type": "code",
   "execution_count": null,
   "metadata": {},
   "outputs": [],
   "source": []
  },
  {
   "cell_type": "code",
   "execution_count": null,
   "metadata": {},
   "outputs": [],
   "source": []
  }
 ],
 "metadata": {
  "kernelspec": {
   "display_name": "Python 3",
   "language": "python",
   "name": "python3"
  },
  "language_info": {
   "codemirror_mode": {
    "name": "ipython",
    "version": 3
   },
   "file_extension": ".py",
   "mimetype": "text/x-python",
   "name": "python",
   "nbconvert_exporter": "python",
   "pygments_lexer": "ipython3",
   "version": "3.6.6"
  }
 },
 "nbformat": 4,
 "nbformat_minor": 1
}
