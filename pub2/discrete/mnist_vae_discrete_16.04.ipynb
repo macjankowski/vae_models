{
 "cells": [
  {
   "cell_type": "markdown",
   "metadata": {},
   "source": [
    "## In this study, we propose discrete VAE. Generative model is as follows:\n"
   ]
  },
  {
   "cell_type": "code",
   "execution_count": 1,
   "metadata": {},
   "outputs": [],
   "source": [
    "from __future__ import division, print_function\n",
    "\n",
    "import numpy as np\n",
    "import tensorflow as tf\n",
    "from sklearn.preprocessing import OneHotEncoder\n",
    "from sklearn.model_selection import train_test_split\n",
    "import datetime\n",
    "import matplotlib.pyplot as plt\n",
    "import pandas as pd\n",
    "from sklearn import svm\n",
    "from vae_lib.utils.dynamic_gmm_on_circle import DynamicGmmOnCircle"
   ]
  },
  {
   "cell_type": "code",
   "execution_count": 2,
   "metadata": {},
   "outputs": [],
   "source": [
    "Normal = tf.distributions.Normal\n",
    "Bernoulli = tf.distributions.Bernoulli"
   ]
  },
  {
   "cell_type": "markdown",
   "metadata": {},
   "source": [
    "### Utility functions"
   ]
  },
  {
   "cell_type": "code",
   "execution_count": 3,
   "metadata": {},
   "outputs": [],
   "source": [
    "def permute(X, y=None):\n",
    "    n_all_cases = X.shape[0]\n",
    "    perm = np.arange(n_all_cases)\n",
    "    np.random.shuffle(perm)\n",
    "    if y is not None:\n",
    "        return X[perm], y[perm]\n",
    "    else:\n",
    "        return X[perm], None"
   ]
  },
  {
   "cell_type": "code",
   "execution_count": 4,
   "metadata": {},
   "outputs": [],
   "source": [
    "def plot_latent_space(model, onehot_encoder, X, y):\n",
    "    m, sd = model.encode2(X)\n",
    "    m_flat = m.reshape(-1)\n",
    "    sd_flat = sd.reshape(-1)\n",
    "    y_decoded = onehot_encoder.inverse_transform(y).reshape(-1)\n",
    "    plt.figure(figsize=(10, 10))\n",
    "    plt.scatter(m_flat, sd_flat, c=y_decoded, cmap='brg')\n",
    "    plt.colorbar()\n",
    "    plt.show()"
   ]
  },
  {
   "cell_type": "code",
   "execution_count": 8,
   "metadata": {},
   "outputs": [],
   "source": [
    "def plot_2d_latent_space(model, onehot_encoder, X, y):\n",
    "    m, sd = model_supervised.encode2(X_test)\n",
    "    y_decoded = onehot_encoder.inverse_transform(y_test).reshape(-1)\n",
    "    fig = plt.figure(figsize=(20, 20))\n",
    "\n",
    "\n",
    "    plt.subplot(2, 2, 1)\n",
    "    plt.scatter(m[:,0], m[:,1], c=y_decoded, cmap='brg')\n",
    "    plt.colorbar()\n",
    "\n",
    "    plt.subplot(2, 2, 2)\n",
    "    plt.scatter(sd[:,0], sd[:,1], c=y_decoded, cmap='brg')\n",
    "    plt.colorbar()\n",
    "\n",
    "    plt.subplot(2, 2, 3)\n",
    "    plt.scatter(m[:,0], sd[:,0], c=y_decoded, cmap='brg')\n",
    "    plt.colorbar()\n",
    "\n",
    "    Z = np.random.normal(m,sd)\n",
    "    plt.subplot(2, 2, 4)\n",
    "    plt.scatter(Z[:,0], Z[:,1], c=y_decoded, cmap='brg')\n",
    "    plt.colorbar()\n",
    "\n",
    "    plt.show()"
   ]
  },
  {
   "cell_type": "code",
   "execution_count": null,
   "metadata": {},
   "outputs": [],
   "source": [
    "def plot_single_img(img, label):\n",
    "    pixels = img.reshape((28, 28))\n",
    "\n",
    "    # Plot\n",
    "    plt.title('Label is {label}'.format(label=label))\n",
    "    plt.imshow(pixels, cmap='gray')\n",
    "    plt.show()"
   ]
  },
  {
   "cell_type": "markdown",
   "metadata": {
    "collapsed": true
   },
   "source": [
    "### Import MNIST"
   ]
  },
  {
   "cell_type": "code",
   "execution_count": 9,
   "metadata": {},
   "outputs": [],
   "source": [
    "mnist = tf.keras.datasets.mnist"
   ]
  },
  {
   "cell_type": "markdown",
   "metadata": {},
   "source": [
    "### Load data"
   ]
  },
  {
   "cell_type": "code",
   "execution_count": 10,
   "metadata": {},
   "outputs": [],
   "source": [
    "(X_train, y_train), (X_test, y_test) = mnist.load_data()"
   ]
  },
  {
   "cell_type": "code",
   "execution_count": 11,
   "metadata": {},
   "outputs": [],
   "source": [
    "X = np.concatenate((X_train, X_test), axis=0)"
   ]
  },
  {
   "cell_type": "code",
   "execution_count": 12,
   "metadata": {},
   "outputs": [],
   "source": [
    "n_all_cases = X.shape[0]\n",
    "input_dim = X.shape[1]"
   ]
  },
  {
   "cell_type": "code",
   "execution_count": 13,
   "metadata": {},
   "outputs": [],
   "source": [
    "X = np.reshape(X, (n_all_cases, -1))\n",
    "y = np.concatenate((y_train, y_test)).astype('float32')"
   ]
  },
  {
   "cell_type": "code",
   "execution_count": 14,
   "metadata": {},
   "outputs": [],
   "source": [
    "label_reshaped = y.reshape(len(y), 1)\n",
    "onehot_encoder = OneHotEncoder(sparse=False, categories='auto')\n",
    "onehot_encoded = onehot_encoder.fit_transform(label_reshaped)"
   ]
  },
  {
   "cell_type": "code",
   "execution_count": 15,
   "metadata": {},
   "outputs": [],
   "source": [
    "n_classes = onehot_encoded.shape[1]"
   ]
  },
  {
   "cell_type": "code",
   "execution_count": 16,
   "metadata": {},
   "outputs": [],
   "source": [
    "X = (X > 0.5).astype(np.float32)"
   ]
  },
  {
   "cell_type": "code",
   "execution_count": 17,
   "metadata": {},
   "outputs": [],
   "source": [
    "X_perm, onehot_encoded_perm = permute(X,onehot_encoded)"
   ]
  },
  {
   "cell_type": "code",
   "execution_count": 18,
   "metadata": {},
   "outputs": [],
   "source": [
    "X_train, X_test, y_train, y_test = train_test_split(X_perm, onehot_encoded_perm, test_size=0.1, random_state=40)"
   ]
  },
  {
   "cell_type": "markdown",
   "metadata": {},
   "source": [
    "### Utility functions"
   ]
  },
  {
   "cell_type": "code",
   "execution_count": 19,
   "metadata": {},
   "outputs": [],
   "source": [
    "def get_log_folder():\n",
    "    now = datetime.datetime.now()\n",
    "    day_of_the_year=now.strftime(\"%d_%m_%Y\")\n",
    "    suff = now.strftime(\"%Y%m%d%H%M%S\")\n",
    "    #print(now.strftime(\"%Y%m%d%H%M%S\"))\n",
    "    log_folder = \"/tmp/class_vae/deep/{}/{}\".format(day_of_the_year,suff)\n",
    "    return log_folder"
   ]
  },
  {
   "cell_type": "code",
   "execution_count": 20,
   "metadata": {},
   "outputs": [],
   "source": [
    "def calculate_accuracy_np(y_pred, y_true):\n",
    "    predicted_class = np.argmax(y_pred, axis=1)\n",
    "    true_class = np.argmax(y_true, axis=1)\n",
    "    cond_correct = predicted_class == true_class\n",
    "    return np.mean(cond_correct.astype(int))"
   ]
  },
  {
   "cell_type": "code",
   "execution_count": 21,
   "metadata": {},
   "outputs": [],
   "source": [
    "def accuracy_for_score(y_pred, y_true, score, threshold):\n",
    "    cond = score > threshold\n",
    "    accuracy = calculate_accuracy_np(y_pred[cond], y_true[cond])\n",
    "    return accuracy"
   ]
  },
  {
   "cell_type": "code",
   "execution_count": 22,
   "metadata": {},
   "outputs": [],
   "source": [
    "def classification_ratio(score, threshold):\n",
    "    cond = score > threshold\n",
    "    above_threshold = np.mean((score > threshold).astype(int))\n",
    "    return above_threshold"
   ]
  },
  {
   "cell_type": "markdown",
   "metadata": {},
   "source": [
    "### Build neural network"
   ]
  },
  {
   "cell_type": "code",
   "execution_count": 23,
   "metadata": {},
   "outputs": [],
   "source": [
    "class DenseLayer:\n",
    "\n",
    "    def __init__(self, in_dim, out_dim, f=tf.nn.relu, name=\"dense\"):\n",
    "        self.name = name\n",
    "        with tf.name_scope(self.name):\n",
    "            self.f = f\n",
    "            initializer = tf.contrib.layers.xavier_initializer()\n",
    "            self.W = tf.Variable(initializer((in_dim, out_dim)), name=\"W\")\n",
    "            self.b = tf.Variable(tf.constant(0.1, shape=[out_dim]), name=\"bias\")\n",
    "            tf.summary.histogram(\"weights\", self.W)\n",
    "            tf.summary.histogram(\"bias\", self.b)\n",
    "\n",
    "    def forward(self, X):\n",
    "        with tf.name_scope(self.name):\n",
    "            act = self.f(tf.matmul(X, self.W) + self.b)\n",
    "            tf.summary.histogram(\"activation\", act)\n",
    "            return act"
   ]
  },
  {
   "cell_type": "code",
   "execution_count": 117,
   "metadata": {},
   "outputs": [],
   "source": [
    "class VClassifier:\n",
    "    \n",
    "    def sample_gumbel(self, shape, eps=1e-20): \n",
    "        \"\"\"Sample from Gumbel(0, 1)\"\"\"\n",
    "        U = tf.random_uniform(shape,minval=0,maxval=1)\n",
    "        return -tf.log(-tf.log(U + eps) + eps)\n",
    "\n",
    "    def gumbel_softmax_sample(self, logits, temperature): \n",
    "        \"\"\" Draw a sample from the Gumbel-Softmax distribution\"\"\"\n",
    "        y = logits + self.sample_gumbel(tf.shape(logits))\n",
    "        return tf.nn.softmax( y / temperature)\n",
    "\n",
    "    def gumbel_softmax(self, logits, temperature, hard=False):\n",
    "        \"\"\"Sample from the Gumbel-Softmax distribution and optionally discretize.\n",
    "        Args:\n",
    "        logits: [batch_size, n_class] unnormalized log-probs\n",
    "        temperature: non-negative scalar\n",
    "        hard: if True, take argmax, but differentiate w.r.t. soft sample y\n",
    "        Returns:\n",
    "        [batch_size, n_class] sample from the Gumbel-Softmax distribution.\n",
    "        If hard=True, then the returned sample will be one-hot, otherwise it will\n",
    "        be a probabilitiy distribution that sums to 1 across classes\n",
    "        \"\"\"\n",
    "        y = self.gumbel_softmax_sample(logits, temperature)\n",
    "        if hard:\n",
    "            k = tf.shape(logits)[-1]\n",
    "            #y_hard = tf.cast(tf.one_hot(tf.argmax(y,1),k), y.dtype)\n",
    "            y_hard = tf.cast(tf.equal(y,tf.reduce_max(y,1,keep_dims=True)),y.dtype)\n",
    "            y = tf.stop_gradient(y_hard - y) + y\n",
    "        return y\n",
    "    \n",
    "    def encode(self, X, input_dim, hidden_dims):\n",
    "        \n",
    "        in_dim = input_dim\n",
    "        for h_dim in hidden_dims[:-1]:\n",
    "            h = DenseLayer(in_dim, h_dim)\n",
    "            self.encoder_layers.append(h)\n",
    "            in_dim = h_dim\n",
    "\n",
    "        middle_layer_dim = hidden_dims[-1]\n",
    "        self.encoder_layers.append(DenseLayer(in_dim, middle_layer_dim, f=lambda x: x))\n",
    "        \n",
    "        current_value = X\n",
    "        for layer in self.encoder_layers:\n",
    "            current_value = layer.forward(current_value)\n",
    "            \n",
    "        logits = current_value\n",
    "\n",
    "        return logits\n",
    "    \n",
    "    def decode(self, Z, output_dim, hidden_dims):\n",
    "        decoder_layers = []\n",
    "\n",
    "        in_dim = hidden_dims[-1]\n",
    "        for hidden_dim in reversed(hidden_dims[:-1]):\n",
    "            h = DenseLayer(in_dim, hidden_dim)\n",
    "            decoder_layers.append(h)\n",
    "            in_dim = hidden_dim\n",
    "\n",
    "        decoder_layers.append(DenseLayer(in_dim, output_dim, f=lambda x: x))\n",
    "\n",
    "        current_value = Z\n",
    "        for decoder_layer in decoder_layers:\n",
    "            current_value = decoder_layer.forward(current_value)\n",
    "\n",
    "        return current_value\n",
    "    \n",
    "    def calculateKL(self, mean, std):\n",
    "        inner = 1 + tf.math.log(1e-8 + std ** 2) - mean ** 2 - std ** 2\n",
    "        kls = 0.5 * tf.math.reduce_sum(inner, axis=1)\n",
    "        return tf.math.reduce_mean(kls)\n",
    "    \n",
    "    def calculateKLBernoulli(self, q_z, K):\n",
    "        log_q_z = tf.log(q_z+1e-20)\n",
    "        kl_tmp = q_z * log_q_z - tf.log(1.0/K)\n",
    "        return tf.reduce_mean(tf.reduce_sum(kl_tmp, axis=1))\n",
    "    \n",
    "    def create_accuracy_node(self, y_true, y_pred):\n",
    "        correct_mask_node = tf.equal(tf.argmax(y_pred, 1), tf.argmax(y_true, 1))\n",
    "        accuracy_node = tf.reduce_mean(tf.cast(correct_mask_node, tf.float32))\n",
    "        return accuracy_node\n",
    "    \n",
    "    def sample_eps(self, shape):\n",
    "        return  tf.random_normal(shape=shape, mean=0, stddev=1, \n",
    "                               dtype=tf.float32)\n",
    "\n",
    "    def __init__(self, x_dim, hidden_dims, log_folder):\n",
    "        self.encoder_layers = []\n",
    "        self.x_dim = x_dim\n",
    "        self.layer = 1\n",
    "        self.cum_thetas = []\n",
    "        K = hidden_dims[-1]\n",
    "        \n",
    "        tf.reset_default_graph()\n",
    "        self.X = tf.placeholder(tf.float32, shape=(None, x_dim), name=\"x\")\n",
    "        \n",
    "        middle_logits = self.encode(self.X, x_dim, hidden_dims)\n",
    "        \n",
    "        q_z = tf.nn.softmax(middle_logits)\n",
    "        self.Z = self.gumbel_softmax(middle_logits,0.5,True)\n",
    "        \n",
    "        #decoder\n",
    "        self.logits = self.decode(self.Z, x_dim, hidden_dims)\n",
    "\n",
    "        self.XY_hat_distribution = Bernoulli(logits=self.logits)\n",
    "\n",
    "        self.posterior_predictive_probs = tf.nn.sigmoid(self.logits)\n",
    "\n",
    "        with tf.name_scope('COST'):\n",
    "\n",
    "            expected_log_likelihood_2 = -tf.reduce_sum(\n",
    "                tf.nn.sigmoid_cross_entropy_with_logits(labels=self.X, logits=self.logits), \n",
    "                axis=1\n",
    "            )\n",
    "            \n",
    "            exp_loglik_2 = tf.reduce_mean(expected_log_likelihood_2)\n",
    "            tf.summary.scalar(\"loglik_2\", exp_loglik_2)\n",
    "            \n",
    "            KL = self.calculateKLBernoulli(q_z, K)\n",
    "            tf.summary.scalar(\"KL\", KL)\n",
    "            \n",
    "            elbo = exp_loglik_2 - KL\n",
    "            tf.summary.scalar(\"elbo\", elbo)\n",
    "            \n",
    "        \n",
    "        self.train_op = tf.train.AdamOptimizer(learning_rate=1e-3).minimize(-elbo)\n",
    "\n",
    "        self.init_op = tf.global_variables_initializer()\n",
    "            \n",
    "        #InteractiveSession.close()\n",
    "        self.sess = tf.InteractiveSession()\n",
    "        self.sess.run(self.init_op)\n",
    "\n",
    "        self.merged_summary = tf.summary.merge_all()\n",
    "\n",
    "        self.writer_train = tf.summary.FileWriter(log_folder)\n",
    "        self.writer_train.add_graph(self.sess.graph)\n",
    "\n",
    "    def fit(self, X_train, epochs=30, batch_sz=64):\n",
    "        #costs=[]\n",
    "        n_batches = len(X_train) // batch_sz\n",
    "        print(\"n_batches:\", n_batches)\n",
    "\n",
    "        iteration = 1\n",
    "        for i in range(epochs):\n",
    "            print(\"epoch: %d\" % i)\n",
    "            #np.random.shuffle(X_train)\n",
    "            X_train, _ = permute(X_train)\n",
    "            for j in range(n_batches):\n",
    "                batch_x = X_train[j * batch_sz:(j + 1) * batch_sz]\n",
    "                self.sess.run(self.train_op, feed_dict={self.X: batch_x})\n",
    "                if j % 100 == 0:\n",
    "                    s = self.sess.run(self.merged_summary, feed_dict={self.X: batch_x})\n",
    "                    self.writer_train.add_summary(s, iteration)\n",
    "\n",
    "                iteration += 1\n",
    "\n",
    "    def predict(self, x):\n",
    "        z = self.sess.run(self.Z, feed_dict={self.X: x})\n",
    "        print(\"z.shape={}\".format(z.shape))\n",
    "        y_pred = self.sess.run(self.posterior_predictive_probs, feed_dict={self.Z: z})\n",
    "        return y_pred, z\n",
    "    \n",
    "#     def encode_image(self, x):\n",
    "#         z = self.sess.run([self.Z], feed_dict={self.X: x})\n",
    "#         return z\n"
   ]
  },
  {
   "cell_type": "markdown",
   "metadata": {},
   "source": [
    "### Supervised VAE"
   ]
  },
  {
   "cell_type": "code",
   "execution_count": 118,
   "metadata": {
    "scrolled": false
   },
   "outputs": [
    {
     "name": "stdout",
     "output_type": "stream",
     "text": [
      "Starting autoencoder. Log folder=/tmp/class_vae/deep/16_04_2019/20190416182121\n",
      "WARNING:tensorflow:From <ipython-input-117-6c0806ee9f75>:28: calling reduce_max (from tensorflow.python.ops.math_ops) with keep_dims is deprecated and will be removed in a future version.\n",
      "Instructions for updating:\n",
      "keep_dims is deprecated, use keepdims instead\n"
     ]
    },
    {
     "name": "stderr",
     "output_type": "stream",
     "text": [
      "/anaconda3/envs/vae_tests/lib/python3.6/site-packages/tensorflow/python/client/session.py:1702: UserWarning: An interactive session is already active. This can cause out-of-memory errors in some cases. You must explicitly call `InteractiveSession.close()` to release resources held by the other session(s).\n",
      "  warnings.warn('An interactive session is already active. This can '\n"
     ]
    },
    {
     "name": "stdout",
     "output_type": "stream",
     "text": [
      "n_batches: 984\n",
      "epoch: 0\n",
      "epoch: 1\n",
      "epoch: 2\n",
      "epoch: 3\n",
      "epoch: 4\n",
      "epoch: 5\n",
      "epoch: 6\n",
      "epoch: 7\n",
      "epoch: 8\n",
      "epoch: 9\n"
     ]
    }
   ],
   "source": [
    "log_folder = get_log_folder()\n",
    "print('Starting autoencoder. Log folder={}'.format(log_folder))\n",
    "X_train, X_test, y_train, y_test\n",
    "model_supervised = VClassifier(\n",
    "    x_dim=X_train.shape[1], \n",
    "    hidden_dims=[512, 10], \n",
    "    log_folder=log_folder\n",
    ")\n",
    "model_supervised.fit(X_train, epochs=10)\n"
   ]
  },
  {
   "cell_type": "code",
   "execution_count": 120,
   "metadata": {
    "scrolled": false
   },
   "outputs": [
    {
     "name": "stdout",
     "output_type": "stream",
     "text": [
      "z.shape=(63000, 10)\n"
     ]
    }
   ],
   "source": [
    "x_img, latent_var = model_supervised.predict(X_train)\n",
    "true_labels = np.argmax(y_train, axis=1)"
   ]
  },
  {
   "cell_type": "code",
   "execution_count": 121,
   "metadata": {},
   "outputs": [],
   "source": [
    "def plot_many_images(images, labels):\n",
    "\n",
    "    ROW = 10\n",
    "    COLUMN = 3\n",
    "    for i in range(ROW * COLUMN):\n",
    "        # train[i][0] is i-th image data with size 28x28\n",
    "        image = images[i].reshape(28, 28)   # not necessary to reshape if ndim is set to 2\n",
    "        plt.subplot(ROW, COLUMN, i+1)          # subplot with size (width 3, height 5)\n",
    "        plt.imshow(image, cmap='gray')  # cmap='gray' is for black and white picture.\n",
    "        # train[i][1] is i-th digit label\n",
    "        plt.title('label = {}'.format(labels[i]))\n",
    "        plt.axis('off')  # do not show axis value\n",
    "    plt.tight_layout()   # automatic padding between subplots\n",
    "    #plt.savefig('images/mnist_plot.png')\n",
    "    plt.show()"
   ]
  },
  {
   "cell_type": "code",
   "execution_count": 127,
   "metadata": {
    "scrolled": false
   },
   "outputs": [
    {
     "data": {
      "image/png": "[encoded data removed]",
      "text/plain": [
       "<Figure size 720x2160 with 30 Axes>"
      ]
     },
     "metadata": {
      "needs_background": "light"
     },
     "output_type": "display_data"
    }
   ],
   "source": [
    "plt.figure(figsize=(10,30))\n",
    "#x_img_bin = (x_img > 0.5).astype(np.float32)\n",
    "#plot_many_images(x_img_bin, true_labels)\n",
    "predicted_labels = np.argmax(latent_var, axis=1)\n",
    "plot_many_images(x_img, predicted_labels)"
   ]
  },
  {
   "cell_type": "code",
   "execution_count": 107,
   "metadata": {},
   "outputs": [],
   "source": [
    "# plt.figure(figsize=(20,20))\n",
    "# plot_many_images(X_test, y_test)"
   ]
  },
  {
   "cell_type": "code",
   "execution_count": 116,
   "metadata": {},
   "outputs": [
    {
     "data": {
      "text/plain": [
       "array([[1.05182535e-05, 2.58763338e-17, 2.48207515e-13, ...,\n",
       "        1.75472655e-04, 1.10878820e-04, 9.99702632e-01],\n",
       "       [2.37676591e-01, 6.85763268e-09, 2.94513831e-19, ...,\n",
       "        6.11574352e-01, 1.35656720e-16, 2.15377863e-02],\n",
       "       [8.13267422e-12, 1.32064906e-05, 4.63547332e-13, ...,\n",
       "        5.01232356e-13, 1.29092079e-08, 7.44386844e-12],\n",
       "       ...,\n",
       "       [5.98712613e-05, 9.46849266e-10, 9.06842798e-02, ...,\n",
       "        1.21862164e-14, 8.50530688e-11, 1.07274267e-09],\n",
       "       [1.60240699e-04, 3.63532837e-12, 3.81880131e-18, ...,\n",
       "        9.47788179e-01, 9.29455624e-10, 4.95847836e-02],\n",
       "       [2.98173785e-01, 4.94428276e-09, 1.13426468e-15, ...,\n",
       "        1.86276615e-01, 8.65128366e-15, 9.49949845e-06]], dtype=float32)"
      ]
     },
     "execution_count": 116,
     "metadata": {},
     "output_type": "execute_result"
    }
   ],
   "source": [
    "latent_var"
   ]
  },
  {
   "cell_type": "code",
   "execution_count": 3,
   "metadata": {},
   "outputs": [],
   "source": [
    "from vae_lib.utils.gmm_mixture_for_discrete_vae import GmmMixtureForDiscreteVae\n",
    "\n"
   ]
  },
  {
   "cell_type": "code",
   "execution_count": 4,
   "metadata": {},
   "outputs": [
    {
     "ename": "TypeError",
     "evalue": "list indices must be integers or slices, not Tensor",
     "output_type": "error",
     "traceback": [
      "\u001b[0;31m---------------------------------------------------------------------------\u001b[0m",
      "\u001b[0;31mTypeError\u001b[0m                                 Traceback (most recent call last)",
      "\u001b[0;32m<ipython-input-4-c56703710713>\u001b[0m in \u001b[0;36m<module>\u001b[0;34m()\u001b[0m\n\u001b[0;32m----> 1\u001b[0;31m \u001b[0mgmm\u001b[0m\u001b[0;34m.\u001b[0m\u001b[0mgenerate_samples\u001b[0m\u001b[0;34m(\u001b[0m\u001b[0mbetas\u001b[0m\u001b[0;34m=\u001b[0m\u001b[0;34m[\u001b[0m\u001b[0;36m0\u001b[0m\u001b[0;34m,\u001b[0m\u001b[0;36m1\u001b[0m\u001b[0;34m,\u001b[0m\u001b[0;36m0\u001b[0m\u001b[0;34m,\u001b[0m\u001b[0;36m0\u001b[0m\u001b[0;34m,\u001b[0m\u001b[0;36m0\u001b[0m\u001b[0;34m,\u001b[0m\u001b[0;36m0\u001b[0m\u001b[0;34m,\u001b[0m\u001b[0;36m0\u001b[0m\u001b[0;34m,\u001b[0m\u001b[0;36m0\u001b[0m\u001b[0;34m,\u001b[0m\u001b[0;36m0\u001b[0m\u001b[0;34m,\u001b[0m\u001b[0;36m0\u001b[0m\u001b[0;34m]\u001b[0m\u001b[0;34m,\u001b[0m \u001b[0mn\u001b[0m\u001b[0;34m=\u001b[0m\u001b[0;36m10\u001b[0m\u001b[0;34m)\u001b[0m\u001b[0;34m\u001b[0m\u001b[0m\n\u001b[0m",
      "\u001b[0;32m/anaconda3/envs/vae_tests/lib/python3.6/site-packages/vae_lib-0.0.1-py3.6.egg/vae_lib/utils/gmm_mixture_for_discrete_vae.py\u001b[0m in \u001b[0;36mgenerate_samples\u001b[0;34m(self, n, betas)\u001b[0m\n\u001b[1;32m     33\u001b[0m     \u001b[0;32mdef\u001b[0m \u001b[0mgenerate_samples\u001b[0m\u001b[0;34m(\u001b[0m\u001b[0mself\u001b[0m\u001b[0;34m,\u001b[0m \u001b[0mn\u001b[0m\u001b[0;34m,\u001b[0m \u001b[0mbetas\u001b[0m\u001b[0;34m)\u001b[0m\u001b[0;34m:\u001b[0m\u001b[0;34m\u001b[0m\u001b[0m\n\u001b[1;32m     34\u001b[0m         \u001b[0mdist_index\u001b[0m \u001b[0;34m=\u001b[0m \u001b[0mtf\u001b[0m\u001b[0;34m.\u001b[0m\u001b[0mmath\u001b[0m\u001b[0;34m.\u001b[0m\u001b[0margmax\u001b[0m\u001b[0;34m(\u001b[0m\u001b[0mbetas\u001b[0m\u001b[0;34m)\u001b[0m\u001b[0;34m\u001b[0m\u001b[0m\n\u001b[0;32m---> 35\u001b[0;31m         \u001b[0mdist\u001b[0m \u001b[0;34m=\u001b[0m \u001b[0mself\u001b[0m\u001b[0;34m.\u001b[0m\u001b[0mtf_dists\u001b[0m\u001b[0;34m[\u001b[0m\u001b[0mdist_index\u001b[0m\u001b[0;34m]\u001b[0m\u001b[0;34m\u001b[0m\u001b[0m\n\u001b[0m\u001b[1;32m     36\u001b[0m         \u001b[0;32mreturn\u001b[0m \u001b[0mdist\u001b[0m\u001b[0;34m.\u001b[0m\u001b[0msample\u001b[0m\u001b[0;34m(\u001b[0m\u001b[0;34m)\u001b[0m\u001b[0;34m\u001b[0m\u001b[0m\n\u001b[1;32m     37\u001b[0m \u001b[0;34m\u001b[0m\u001b[0m\n",
      "\u001b[0;31mTypeError\u001b[0m: list indices must be integers or slices, not Tensor"
     ]
    }
   ],
   "source": [
    "gmm.generate_samples(betas=[0,1,0,0,0,0,0,0,0,0], n=10)"
   ]
  },
  {
   "cell_type": "code",
   "execution_count": null,
   "metadata": {},
   "outputs": [],
   "source": []
  }
 ],
 "metadata": {
  "kernelspec": {
   "display_name": "Python 3",
   "language": "python",
   "name": "python3"
  },
  "language_info": {
   "codemirror_mode": {
    "name": "ipython",
    "version": 3
   },
   "file_extension": ".py",
   "mimetype": "text/x-python",
   "name": "python",
   "nbconvert_exporter": "python",
   "pygments_lexer": "ipython3",
   "version": "3.6.6"
  }
 },
 "nbformat": 4,
 "nbformat_minor": 1
}
