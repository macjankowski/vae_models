{
 "cells": [
  {
   "cell_type": "markdown",
   "metadata": {},
   "source": [
    "## In this study, we propose discrete VAE. Generative model is as follows:\n"
   ]
  },
  {
   "cell_type": "code",
   "execution_count": 1,
   "metadata": {},
   "outputs": [],
   "source": [
    "from __future__ import division, print_function\n",
    "\n",
    "import numpy as np\n",
    "import tensorflow as tf\n",
    "from sklearn.preprocessing import OneHotEncoder\n",
    "from sklearn.model_selection import train_test_split\n",
    "import datetime\n",
    "import matplotlib.pyplot as plt\n",
    "import pandas as pd\n",
    "from sklearn import svm\n",
    "from vae_lib.utils.dynamic_gmm_on_circle import DynamicGmmOnCircle"
   ]
  },
  {
   "cell_type": "code",
   "execution_count": 2,
   "metadata": {},
   "outputs": [],
   "source": [
    "Normal = tf.distributions.Normal\n",
    "Bernoulli = tf.distributions.Bernoulli"
   ]
  },
  {
   "cell_type": "markdown",
   "metadata": {},
   "source": [
    "### Utility functions"
   ]
  },
  {
   "cell_type": "code",
   "execution_count": 3,
   "metadata": {},
   "outputs": [],
   "source": [
    "def permute(X, y=None):\n",
    "    n_all_cases = X.shape[0]\n",
    "    perm = np.arange(n_all_cases)\n",
    "    np.random.shuffle(perm)\n",
    "    if y is not None:\n",
    "        return X[perm], y[perm]\n",
    "    else:\n",
    "        return X[perm], None"
   ]
  },
  {
   "cell_type": "code",
   "execution_count": 4,
   "metadata": {},
   "outputs": [],
   "source": [
    "def plot_latent_space(model, onehot_encoder, X, y):\n",
    "    m, sd = model.encode2(X)\n",
    "    m_flat = m.reshape(-1)\n",
    "    sd_flat = sd.reshape(-1)\n",
    "    y_decoded = onehot_encoder.inverse_transform(y).reshape(-1)\n",
    "    plt.figure(figsize=(10, 10))\n",
    "    plt.scatter(m_flat, sd_flat, c=y_decoded, cmap='brg')\n",
    "    plt.colorbar()\n",
    "    plt.show()"
   ]
  },
  {
   "cell_type": "code",
   "execution_count": 5,
   "metadata": {},
   "outputs": [],
   "source": [
    "def plot_2d_latent_space(model, onehot_encoder, X, y):\n",
    "    m, sd = model_supervised.encode2(X_test)\n",
    "    y_decoded = onehot_encoder.inverse_transform(y_test).reshape(-1)\n",
    "    fig = plt.figure(figsize=(20, 20))\n",
    "\n",
    "\n",
    "    plt.subplot(2, 2, 1)\n",
    "    plt.scatter(m[:,0], m[:,1], c=y_decoded, cmap='brg')\n",
    "    plt.colorbar()\n",
    "\n",
    "    plt.subplot(2, 2, 2)\n",
    "    plt.scatter(sd[:,0], sd[:,1], c=y_decoded, cmap='brg')\n",
    "    plt.colorbar()\n",
    "\n",
    "    plt.subplot(2, 2, 3)\n",
    "    plt.scatter(m[:,0], sd[:,0], c=y_decoded, cmap='brg')\n",
    "    plt.colorbar()\n",
    "\n",
    "    Z = np.random.normal(m,sd)\n",
    "    plt.subplot(2, 2, 4)\n",
    "    plt.scatter(Z[:,0], Z[:,1], c=y_decoded, cmap='brg')\n",
    "    plt.colorbar()\n",
    "\n",
    "    plt.show()"
   ]
  },
  {
   "cell_type": "code",
   "execution_count": 36,
   "metadata": {},
   "outputs": [],
   "source": [
    "def plot_many_images(images, labels):\n",
    "\n",
    "    ROW = 4\n",
    "    COLUMN = 3\n",
    "    for i in range(ROW * COLUMN):\n",
    "        # train[i][0] is i-th image data with size 28x28\n",
    "        image = images[i].reshape(28, 28)   # not necessary to reshape if ndim is set to 2\n",
    "        plt.subplot(ROW, COLUMN, i+1)          # subplot with size (width 3, height 5)\n",
    "        plt.imshow(image, cmap='gray')  # cmap='gray' is for black and white picture.\n",
    "        # train[i][1] is i-th digit label\n",
    "        plt.title('label = {}'.format(labels[i]))\n",
    "        plt.axis('off')  # do not show axis value\n",
    "    plt.tight_layout()   # automatic padding between subplots\n",
    "    #plt.savefig('images/mnist_plot.png')\n",
    "    plt.show()"
   ]
  },
  {
   "cell_type": "markdown",
   "metadata": {
    "collapsed": true
   },
   "source": [
    "### Import MNIST"
   ]
  },
  {
   "cell_type": "code",
   "execution_count": 6,
   "metadata": {},
   "outputs": [],
   "source": [
    "mnist = tf.keras.datasets.mnist"
   ]
  },
  {
   "cell_type": "markdown",
   "metadata": {},
   "source": [
    "### Load data"
   ]
  },
  {
   "cell_type": "code",
   "execution_count": 7,
   "metadata": {},
   "outputs": [],
   "source": [
    "(X_train, y_train), (X_test, y_test) = mnist.load_data()"
   ]
  },
  {
   "cell_type": "code",
   "execution_count": 8,
   "metadata": {},
   "outputs": [],
   "source": [
    "X = np.concatenate((X_train, X_test), axis=0)"
   ]
  },
  {
   "cell_type": "code",
   "execution_count": 9,
   "metadata": {},
   "outputs": [],
   "source": [
    "n_all_cases = X.shape[0]\n",
    "input_dim = X.shape[1]"
   ]
  },
  {
   "cell_type": "code",
   "execution_count": 10,
   "metadata": {},
   "outputs": [],
   "source": [
    "X = np.reshape(X, (n_all_cases, -1))\n",
    "y = np.concatenate((y_train, y_test)).astype('float32')"
   ]
  },
  {
   "cell_type": "code",
   "execution_count": 11,
   "metadata": {},
   "outputs": [],
   "source": [
    "label_reshaped = y.reshape(len(y), 1)\n",
    "onehot_encoder = OneHotEncoder(sparse=False, categories='auto')\n",
    "onehot_encoded = onehot_encoder.fit_transform(label_reshaped)"
   ]
  },
  {
   "cell_type": "code",
   "execution_count": 12,
   "metadata": {},
   "outputs": [],
   "source": [
    "n_classes = onehot_encoded.shape[1]"
   ]
  },
  {
   "cell_type": "code",
   "execution_count": 13,
   "metadata": {},
   "outputs": [],
   "source": [
    "X = (X > 0.5).astype(np.float32)"
   ]
  },
  {
   "cell_type": "code",
   "execution_count": 14,
   "metadata": {},
   "outputs": [],
   "source": [
    "X_perm, onehot_encoded_perm = permute(X,onehot_encoded)"
   ]
  },
  {
   "cell_type": "code",
   "execution_count": 15,
   "metadata": {},
   "outputs": [],
   "source": [
    "X_train, X_test, y_train, y_test = train_test_split(X_perm, onehot_encoded_perm, test_size=0.1, random_state=40)"
   ]
  },
  {
   "cell_type": "markdown",
   "metadata": {},
   "source": [
    "### Utility functions"
   ]
  },
  {
   "cell_type": "code",
   "execution_count": 16,
   "metadata": {},
   "outputs": [],
   "source": [
    "def get_log_folder():\n",
    "    now = datetime.datetime.now()\n",
    "    day_of_the_year=now.strftime(\"%d_%m_%Y\")\n",
    "    suff = now.strftime(\"%Y%m%d%H%M%S\")\n",
    "    #print(now.strftime(\"%Y%m%d%H%M%S\"))\n",
    "    log_folder = \"/tmp/class_vae/deep/{}/{}\".format(day_of_the_year,suff)\n",
    "    return log_folder"
   ]
  },
  {
   "cell_type": "code",
   "execution_count": 17,
   "metadata": {},
   "outputs": [],
   "source": [
    "def calculate_accuracy_np(y_pred, y_true):\n",
    "    predicted_class = np.argmax(y_pred, axis=1)\n",
    "    true_class = np.argmax(y_true, axis=1)\n",
    "    cond_correct = predicted_class == true_class\n",
    "    return np.mean(cond_correct.astype(int))"
   ]
  },
  {
   "cell_type": "code",
   "execution_count": 18,
   "metadata": {},
   "outputs": [],
   "source": [
    "def accuracy_for_score(y_pred, y_true, score, threshold):\n",
    "    cond = score > threshold\n",
    "    accuracy = calculate_accuracy_np(y_pred[cond], y_true[cond])\n",
    "    return accuracy"
   ]
  },
  {
   "cell_type": "code",
   "execution_count": 19,
   "metadata": {},
   "outputs": [],
   "source": [
    "def classification_ratio(score, threshold):\n",
    "    cond = score > threshold\n",
    "    above_threshold = np.mean((score > threshold).astype(int))\n",
    "    return above_threshold"
   ]
  },
  {
   "cell_type": "markdown",
   "metadata": {},
   "source": [
    "### Build neural network"
   ]
  },
  {
   "cell_type": "code",
   "execution_count": 20,
   "metadata": {},
   "outputs": [],
   "source": [
    "class DenseLayer:\n",
    "\n",
    "    def __init__(self, in_dim, out_dim, f=tf.nn.relu, name=\"dense\"):\n",
    "        self.name = name\n",
    "        with tf.name_scope(self.name):\n",
    "            self.f = f\n",
    "            initializer = tf.contrib.layers.xavier_initializer()\n",
    "            self.W = tf.Variable(initializer((in_dim, out_dim)), name=\"W\")\n",
    "            self.b = tf.Variable(tf.constant(0.1, shape=[out_dim]), name=\"bias\")\n",
    "            tf.summary.histogram(\"weights\", self.W)\n",
    "            tf.summary.histogram(\"bias\", self.b)\n",
    "\n",
    "    def forward(self, X):\n",
    "        with tf.name_scope(self.name):\n",
    "            act = self.f(tf.matmul(X, self.W) + self.b)\n",
    "            tf.summary.histogram(\"activation\", act)\n",
    "            return act"
   ]
  },
  {
   "cell_type": "code",
   "execution_count": 57,
   "metadata": {},
   "outputs": [],
   "source": [
    "class VClassifier:\n",
    "    \n",
    "    def encode(self, X, input_dim, hidden_dims):\n",
    "        \n",
    "        in_dim = input_dim\n",
    "        for h_dim in hidden_dims[:-1]:\n",
    "            h = DenseLayer(in_dim, h_dim)\n",
    "            self.encoder_layers.append(h)\n",
    "            in_dim = h_dim\n",
    "\n",
    "        middle_layer_dim = hidden_dims[-1]\n",
    "        self.encoder_layers.append(DenseLayer(in_dim, middle_layer_dim, f=lambda x: x))\n",
    "        \n",
    "        current_value = X\n",
    "        for layer in self.encoder_layers:\n",
    "            current_value = layer.forward(current_value)\n",
    "            \n",
    "        logits = current_value\n",
    "\n",
    "        return tf.math.softmax(tf.div(logits,100.0), axis=1)\n",
    "    \n",
    "    def decode(self, Z, output_dim, hidden_dims):\n",
    "        decoder_layers = []\n",
    "\n",
    "        in_dim = hidden_dims[-1]\n",
    "        for hidden_dim in reversed(hidden_dims[:-1]):\n",
    "            h = DenseLayer(in_dim, hidden_dim)\n",
    "            decoder_layers.append(h)\n",
    "            in_dim = hidden_dim\n",
    "\n",
    "        decoder_layers.append(DenseLayer(in_dim, output_dim, f=lambda x: x))\n",
    "\n",
    "        current_value = Z\n",
    "        for decoder_layer in decoder_layers:\n",
    "            current_value = decoder_layer.forward(current_value)\n",
    "\n",
    "        return current_value\n",
    "    \n",
    "    def calculateKL(self, mean, std):\n",
    "        inner = 1 + tf.math.log(1e-8 + std ** 2) - mean ** 2 - std ** 2\n",
    "        kls = 0.5 * tf.math.reduce_sum(inner, axis=1)\n",
    "        return tf.math.reduce_mean(kls)\n",
    "    \n",
    "    def create_accuracy_node(self, y_true, y_pred):\n",
    "        correct_mask_node = tf.equal(tf.argmax(y_pred, 1), tf.argmax(y_true, 1))\n",
    "        accuracy_node = tf.reduce_mean(tf.cast(correct_mask_node, tf.float32))\n",
    "        return accuracy_node\n",
    "    \n",
    "    def sample_eps(self, shape):\n",
    "        return  tf.random_normal(shape=shape, mean=0, stddev=1, \n",
    "                               dtype=tf.float32)\n",
    "\n",
    "    def __init__(self, x_dim, hidden_dims, log_folder):\n",
    "        self.encoder_layers = []\n",
    "        self.x_dim = x_dim\n",
    "        self.layer = 1\n",
    "        self.cum_thetas = []\n",
    "        \n",
    "        tf.reset_default_graph()\n",
    "        self.X = tf.placeholder(tf.float32, shape=(None, x_dim), name=\"x\")\n",
    "        \n",
    "        self.Z = self.encode(self.X, x_dim, hidden_dims)\n",
    "        \n",
    "        #decoder\n",
    "        self.logits = self.decode(self.Z, x_dim, hidden_dims)\n",
    "\n",
    "        self.XY_hat_distribution = Bernoulli(logits=self.logits)\n",
    "\n",
    "        self.posterior_predictive_probs = tf.nn.sigmoid(self.logits)\n",
    "\n",
    "        with tf.name_scope('COST'):\n",
    "            expected_log_likelihood_2 = -tf.reduce_sum(\n",
    "                tf.nn.sigmoid_cross_entropy_with_logits(labels=self.X, logits=self.logits), \n",
    "                axis=1\n",
    "            )\n",
    "            \n",
    "            exp_loglik_2 = tf.reduce_mean(expected_log_likelihood_2)\n",
    "            tf.summary.scalar(\"loglik_2\", exp_loglik_2)\n",
    "            \n",
    "        self.train_op = tf.train.AdamOptimizer(learning_rate=1e-3).minimize(-exp_loglik_2)\n",
    "\n",
    "        self.init_op = tf.global_variables_initializer()\n",
    "            \n",
    "        #InteractiveSession.close()\n",
    "        self.sess = tf.InteractiveSession()\n",
    "        self.sess.run(self.init_op)\n",
    "\n",
    "        self.merged_summary = tf.summary.merge_all()\n",
    "\n",
    "        self.writer_train = tf.summary.FileWriter(log_folder)\n",
    "        self.writer_train.add_graph(self.sess.graph)\n",
    "\n",
    "    def fit(self, X_train, epochs=30, batch_sz=64):\n",
    "        #costs=[]\n",
    "        n_batches = len(X_train) // batch_sz\n",
    "        print(\"n_batches:\", n_batches)\n",
    "\n",
    "        iteration = 1\n",
    "        for i in range(epochs):\n",
    "            print(\"epoch: %d\" % i)\n",
    "            #np.random.shuffle(X_train)\n",
    "            X_train, _ = permute(X_train)\n",
    "            for j in range(n_batches):\n",
    "                batch_x = X_train[j * batch_sz:(j + 1) * batch_sz]\n",
    "#                 batch_z = y_train[j * batch_sz:(j + 1) * batch_sz]\n",
    "                self.sess.run(self.train_op, feed_dict={self.X: batch_x})\n",
    "                if j % 100 == 0:\n",
    "                    s = self.sess.run(self.merged_summary, feed_dict={self.X: batch_x})\n",
    "                    self.writer_train.add_summary(s, iteration)\n",
    "\n",
    "                iteration += 1\n",
    "\n",
    "    def predict(self, x):\n",
    "        z = self.sess.run(self.Z, feed_dict={self.X: x})\n",
    "        print(\"z.shape={}\".format(z.shape))\n",
    "        y_pred = self.sess.run(self.posterior_predictive_probs, feed_dict={self.Z: z})\n",
    "        return y_pred, z\n",
    "    \n",
    "#     def encode_image(self, x):\n",
    "#         z = self.sess.run([self.Z], feed_dict={self.X: x})\n",
    "#         return z\n"
   ]
  },
  {
   "cell_type": "markdown",
   "metadata": {},
   "source": [
    "### Supervised VAE"
   ]
  },
  {
   "cell_type": "code",
   "execution_count": 64,
   "metadata": {
    "scrolled": false
   },
   "outputs": [
    {
     "name": "stdout",
     "output_type": "stream",
     "text": [
      "Starting autoencoder. Log folder=/tmp/class_vae/deep/18_04_2019/20190418112441\n"
     ]
    },
    {
     "name": "stderr",
     "output_type": "stream",
     "text": [
      "/anaconda3/envs/vae_tests/lib/python3.6/site-packages/tensorflow/python/client/session.py:1702: UserWarning: An interactive session is already active. This can cause out-of-memory errors in some cases. You must explicitly call `InteractiveSession.close()` to release resources held by the other session(s).\n",
      "  warnings.warn('An interactive session is already active. This can '\n"
     ]
    },
    {
     "name": "stdout",
     "output_type": "stream",
     "text": [
      "n_batches: 984\n",
      "epoch: 0\n",
      "epoch: 1\n",
      "epoch: 2\n"
     ]
    }
   ],
   "source": [
    "log_folder = get_log_folder()\n",
    "print('Starting autoencoder. Log folder={}'.format(log_folder))\n",
    "X_train, X_test, y_train, y_test\n",
    "model_supervised = VClassifier(\n",
    "    x_dim=X_train.shape[1], \n",
    "    hidden_dims=[256, 128, 10], \n",
    "    log_folder=log_folder\n",
    ")\n",
    "model_supervised.fit(X_train, epochs=3)\n"
   ]
  },
  {
   "cell_type": "code",
   "execution_count": 65,
   "metadata": {
    "scrolled": false
   },
   "outputs": [
    {
     "name": "stdout",
     "output_type": "stream",
     "text": [
      "z.shape=(63000, 10)\n"
     ]
    }
   ],
   "source": [
    "x_img, latent_var = model_supervised.predict(X_train)"
   ]
  },
  {
   "cell_type": "code",
   "execution_count": 66,
   "metadata": {},
   "outputs": [
    {
     "data": {
      "image/png": "[encoded data removed]",
      "text/plain": [
       "<Figure size 1440x1440 with 12 Axes>"
      ]
     },
     "metadata": {
      "needs_background": "light"
     },
     "output_type": "display_data"
    }
   ],
   "source": [
    "plt.figure(figsize=(20,20))\n",
    "plot_many_images(x_img, latent_var)"
   ]
  },
  {
   "cell_type": "code",
   "execution_count": null,
   "metadata": {},
   "outputs": [],
   "source": []
  },
  {
   "cell_type": "code",
   "execution_count": null,
   "metadata": {},
   "outputs": [],
   "source": []
  },
  {
   "cell_type": "code",
   "execution_count": null,
   "metadata": {},
   "outputs": [],
   "source": []
  },
  {
   "cell_type": "code",
   "execution_count": 48,
   "metadata": {},
   "outputs": [],
   "source": [
    "def plot_single_img(img, label):\n",
    "    pixels = img.reshape((28, 28))\n",
    "\n",
    "    # Plot\n",
    "    plt.title('Label is {label}'.format(label=label))\n",
    "    plt.imshow(pixels, cmap='gray')\n",
    "    plt.show()"
   ]
  },
  {
   "cell_type": "code",
   "execution_count": 66,
   "metadata": {},
   "outputs": [
    {
     "data": {
      "text/plain": [
       "9.0"
      ]
     },
     "execution_count": 66,
     "metadata": {},
     "output_type": "execute_result"
    }
   ],
   "source": [
    "y[4]"
   ]
  },
  {
   "cell_type": "code",
   "execution_count": 68,
   "metadata": {},
   "outputs": [
    {
     "data": {
      "image/png": "[encoded data removed]",
      "text/plain": [
       "<Figure size 432x288 with 1 Axes>"
      ]
     },
     "metadata": {
      "needs_background": "light"
     },
     "output_type": "display_data"
    }
   ],
   "source": [
    "ind = 5\n",
    "plot_single_img(x_img[ind], y[ind])"
   ]
  },
  {
   "cell_type": "code",
   "execution_count": 35,
   "metadata": {},
   "outputs": [
    {
     "data": {
      "text/plain": [
       "Text(0.5,1.05,'Z Samples')"
      ]
     },
     "execution_count": 35,
     "metadata": {},
     "output_type": "execute_result"
    },
    {
     "data": {
      "image/png": "[encoded data removed]",
      "text/plain": [
       "<Figure size 1080x1080 with 2 Axes>"
      ]
     },
     "metadata": {
      "needs_background": "light"
     },
     "output_type": "display_data"
    }
   ],
   "source": [
    "f,axarr=plt.subplots(1,2,figsize=(15,15))\n",
    "# samples\n",
    "axarr[0].matshow(y_train,cmap=plt.cm.gray)\n",
    "axarr[0].set_title('Z Samples')\n",
    "# reconstruction\n",
    "axarr[1].imshow(x_img,cmap=plt.cm.gray,interpolation='none')\n",
    "axarr[1].set_title('Generated Images')"
   ]
  },
  {
   "cell_type": "code",
   "execution_count": null,
   "metadata": {},
   "outputs": [],
   "source": []
  },
  {
   "cell_type": "code",
   "execution_count": null,
   "metadata": {},
   "outputs": [],
   "source": []
  },
  {
   "cell_type": "code",
   "execution_count": null,
   "metadata": {},
   "outputs": [],
   "source": []
  },
  {
   "cell_type": "code",
   "execution_count": null,
   "metadata": {},
   "outputs": [],
   "source": []
  },
  {
   "cell_type": "code",
   "execution_count": 460,
   "metadata": {},
   "outputs": [
    {
     "data": {
      "text/plain": [
       "(63000, 2)"
      ]
     },
     "execution_count": 460,
     "metadata": {},
     "output_type": "execute_result"
    }
   ],
   "source": [
    "latent_train.shape"
   ]
  },
  {
   "cell_type": "code",
   "execution_count": 461,
   "metadata": {},
   "outputs": [],
   "source": [
    "class SimpleNN:\n",
    "    \n",
    "    def __init__(self, dims):\n",
    "        self.dims = dims\n",
    "        self.batch_size = 64\n",
    "        \n",
    "        self.x = tf.placeholder(tf.float32, [None, dims[0]])\n",
    "        self.y_true = tf.placeholder(tf.float32, [None, 10])\n",
    "\n",
    "#         l1 = DenseLayer(dims[0], dims[1])\n",
    "#         l2 = DenseLayer(dims[1], 10, f=lambda x: x)\n",
    "#         tmp = l1.forward(self.x)\n",
    "#         y_pred = l2.forward(tmp)\n",
    "        \n",
    "        layers = []\n",
    "\n",
    "        in_dim = dims.pop(0)\n",
    "        for h_dim in dims:\n",
    "            h = DenseLayer(in_dim, h_dim)\n",
    "            layers.append(h)\n",
    "            in_dim = h_dim\n",
    "\n",
    "        current_value = self.x\n",
    "        for layer in layers:\n",
    "            current_value = layer.forward(current_value)\n",
    "        \n",
    "        y_pred = current_value\n",
    "\n",
    "        cross_entropy = tf.reduce_mean(tf.nn.softmax_cross_entropy_with_logits_v2(logits=y_pred, labels=self.y_true))\n",
    "#         self.gd_step = tf.train.GradientDescentOptimizer(0.05).minimize(cross_entropy)\n",
    "        self.gd_step = tf.train.AdamOptimizer(learning_rate=1e-3).minimize(cross_entropy)\n",
    "        \n",
    "        correct_mask = tf.equal(tf.argmax(y_pred, 1), tf.argmax(self.y_true, 1))\n",
    "        self.accuracy = tf.reduce_mean(tf.cast(correct_mask, tf.float32))\n",
    "    \n",
    "    def fit(self, train_input, train_output, test_input, test_output, epochs=10):\n",
    "        \n",
    "        n_batches = len(train_input) // self.batch_size\n",
    "        with tf.Session() as sess:\n",
    "            sess.run(tf.global_variables_initializer())\n",
    "\n",
    "            for i in range(epochs):\n",
    "                for j in range(n_batches):\n",
    "                    batch_x = train_input[j * self.batch_size:(j + 1) * self.batch_size]\n",
    "                    batch_y = train_output[j * self.batch_size:(j + 1) * self.batch_size]\n",
    "                    sess.run(self.gd_step, feed_dict={self.x: batch_x, self.y_true: batch_y})\n",
    "\n",
    "            train_accuracy = sess.run(self.accuracy, feed_dict={self.x: train_input, self.y_true: train_output})\n",
    "            test_accuracy = sess.run(self.accuracy, feed_dict={self.x: test_input, self.y_true: test_output})\n",
    "            print(\"Train accuracy: {:.4}%\".format(train_accuracy*100))\n",
    "            print(\"Test accuracy: {:.4}%\".format(test_accuracy*100))"
   ]
  },
  {
   "cell_type": "code",
   "execution_count": 462,
   "metadata": {},
   "outputs": [],
   "source": [
    "# simple_nn = SimpleNN([784,512,10])\n",
    "# simple_nn.fit(X_train, y_train, X_test, y_test)"
   ]
  },
  {
   "cell_type": "code",
   "execution_count": 468,
   "metadata": {},
   "outputs": [
    {
     "name": "stdout",
     "output_type": "stream",
     "text": [
      "Train accuracy: 86.57%\n",
      "Test accuracy: 85.49%\n"
     ]
    }
   ],
   "source": [
    "simple_nn = SimpleNN([10,512, 256, 128, 10])\n",
    "simple_nn.fit(resp_train, y_train, resp_test, y_test, epochs=10)"
   ]
  },
  {
   "cell_type": "code",
   "execution_count": 466,
   "metadata": {},
   "outputs": [
    {
     "name": "stdout",
     "output_type": "stream",
     "text": [
      "Train accuracy: 66.89%\n",
      "Test accuracy: 66.24%\n"
     ]
    }
   ],
   "source": [
    "simple_nn = SimpleNN([2,512, 256, 128, 10])\n",
    "simple_nn.fit(latent_train, y_train, latent_test, y_test, epochs=10)"
   ]
  },
  {
   "cell_type": "code",
   "execution_count": null,
   "metadata": {},
   "outputs": [],
   "source": []
  },
  {
   "cell_type": "code",
   "execution_count": null,
   "metadata": {},
   "outputs": [],
   "source": []
  },
  {
   "cell_type": "code",
   "execution_count": 405,
   "metadata": {},
   "outputs": [
    {
     "data": {
      "text/plain": [
       "(63000, 10)"
      ]
     },
     "execution_count": 405,
     "metadata": {},
     "output_type": "execute_result"
    }
   ],
   "source": [
    "resp_train.shape"
   ]
  },
  {
   "cell_type": "code",
   "execution_count": 403,
   "metadata": {},
   "outputs": [
    {
     "data": {
      "text/plain": [
       "array([0, 0, 0, ..., 0, 0, 0])"
      ]
     },
     "execution_count": 403,
     "metadata": {},
     "output_type": "execute_result"
    }
   ],
   "source": [
    "np.isnan(resp_train).sum(axis=1)"
   ]
  },
  {
   "cell_type": "code",
   "execution_count": 410,
   "metadata": {},
   "outputs": [
    {
     "data": {
      "text/plain": [
       "array([], shape=(0, 2), dtype=int64)"
      ]
     },
     "execution_count": 410,
     "metadata": {},
     "output_type": "execute_result"
    }
   ],
   "source": [
    "np.argwhere(np.isnan(resp_train))"
   ]
  },
  {
   "cell_type": "code",
   "execution_count": 409,
   "metadata": {},
   "outputs": [],
   "source": [
    "resp_train[34097,:] = np.zeros(10)\n",
    "resp_train[40214,:] = np.zeros(10)"
   ]
  },
  {
   "cell_type": "code",
   "execution_count": 414,
   "metadata": {},
   "outputs": [
    {
     "data": {
      "text/plain": [
       "RandomForestClassifier(bootstrap=True, class_weight=None, criterion='gini',\n",
       "            max_depth=5, max_features='auto', max_leaf_nodes=None,\n",
       "            min_impurity_decrease=0.0, min_impurity_split=None,\n",
       "            min_samples_leaf=1, min_samples_split=2,\n",
       "            min_weight_fraction_leaf=0.0, n_estimators=100, n_jobs=None,\n",
       "            oob_score=False, random_state=0, verbose=0, warm_start=False)"
      ]
     },
     "execution_count": 414,
     "metadata": {},
     "output_type": "execute_result"
    }
   ],
   "source": [
    "from sklearn.ensemble import RandomForestClassifier\n",
    "clf = RandomForestClassifier(n_estimators=100, max_depth=5, random_state=0)\n",
    "clf.fit(resp_train, y_train)"
   ]
  },
  {
   "cell_type": "code",
   "execution_count": 417,
   "metadata": {},
   "outputs": [],
   "source": [
    "rf_predict = clf.predict(resp_test)"
   ]
  },
  {
   "cell_type": "code",
   "execution_count": 418,
   "metadata": {},
   "outputs": [
    {
     "data": {
      "text/plain": [
       "0.6604285714285715"
      ]
     },
     "execution_count": 418,
     "metadata": {},
     "output_type": "execute_result"
    }
   ],
   "source": [
    "calculate_accuracy_np(y_pred=rf_predict, y_true=y_test)"
   ]
  },
  {
   "cell_type": "code",
   "execution_count": null,
   "metadata": {},
   "outputs": [],
   "source": []
  },
  {
   "cell_type": "code",
   "execution_count": null,
   "metadata": {},
   "outputs": [],
   "source": [
    "np.argmax(resp_train, axis=1)"
   ]
  },
  {
   "cell_type": "code",
   "execution_count": 352,
   "metadata": {},
   "outputs": [
    {
     "data": {
      "text/plain": [
       "array([9, 1, 3, ..., 3, 1, 2])"
      ]
     },
     "execution_count": 352,
     "metadata": {},
     "output_type": "execute_result"
    }
   ],
   "source": [
    "np.argmax(y_train, axis=1)"
   ]
  },
  {
   "cell_type": "code",
   "execution_count": 354,
   "metadata": {},
   "outputs": [],
   "source": [
    "reduced_data = pd.DataFrame({\n",
    "    'in': np.argmax(resp_train, axis=1),\n",
    "    'out': np.argmax(y_train, axis=1)\n",
    "})"
   ]
  },
  {
   "cell_type": "code",
   "execution_count": 368,
   "metadata": {},
   "outputs": [],
   "source": [
    "aaa = reduced_data[reduced_data['in']==6]"
   ]
  },
  {
   "cell_type": "code",
   "execution_count": 369,
   "metadata": {},
   "outputs": [
    {
     "data": {
      "text/html": [
       "<div>\n",
       "<style scoped>\n",
       "    .dataframe tbody tr th:only-of-type {\n",
       "        vertical-align: middle;\n",
       "    }\n",
       "\n",
       "    .dataframe tbody tr th {\n",
       "        vertical-align: top;\n",
       "    }\n",
       "\n",
       "    .dataframe thead th {\n",
       "        text-align: right;\n",
       "    }\n",
       "</style>\n",
       "<table border=\"1\" class=\"dataframe\">\n",
       "  <thead>\n",
       "    <tr style=\"text-align: right;\">\n",
       "      <th></th>\n",
       "      <th>in</th>\n",
       "    </tr>\n",
       "    <tr>\n",
       "      <th>out</th>\n",
       "      <th></th>\n",
       "    </tr>\n",
       "  </thead>\n",
       "  <tbody>\n",
       "    <tr>\n",
       "      <th>1</th>\n",
       "      <td>1</td>\n",
       "    </tr>\n",
       "    <tr>\n",
       "      <th>2</th>\n",
       "      <td>3</td>\n",
       "    </tr>\n",
       "    <tr>\n",
       "      <th>3</th>\n",
       "      <td>13</td>\n",
       "    </tr>\n",
       "    <tr>\n",
       "      <th>4</th>\n",
       "      <td>468</td>\n",
       "    </tr>\n",
       "    <tr>\n",
       "      <th>5</th>\n",
       "      <td>12</td>\n",
       "    </tr>\n",
       "    <tr>\n",
       "      <th>6</th>\n",
       "      <td>6</td>\n",
       "    </tr>\n",
       "    <tr>\n",
       "      <th>7</th>\n",
       "      <td>50</td>\n",
       "    </tr>\n",
       "    <tr>\n",
       "      <th>8</th>\n",
       "      <td>22</td>\n",
       "    </tr>\n",
       "    <tr>\n",
       "      <th>9</th>\n",
       "      <td>5912</td>\n",
       "    </tr>\n",
       "  </tbody>\n",
       "</table>\n",
       "</div>"
      ],
      "text/plain": [
       "       in\n",
       "out      \n",
       "1       1\n",
       "2       3\n",
       "3      13\n",
       "4     468\n",
       "5      12\n",
       "6       6\n",
       "7      50\n",
       "8      22\n",
       "9    5912"
      ]
     },
     "execution_count": 369,
     "metadata": {},
     "output_type": "execute_result"
    }
   ],
   "source": [
    "aaa.groupby(['out']).count()"
   ]
  },
  {
   "cell_type": "code",
   "execution_count": 419,
   "metadata": {},
   "outputs": [],
   "source": [
    "a = np.array([1,2,3,4])"
   ]
  },
  {
   "cell_type": "code",
   "execution_count": 420,
   "metadata": {},
   "outputs": [
    {
     "data": {
      "text/plain": [
       "4"
      ]
     },
     "execution_count": 420,
     "metadata": {},
     "output_type": "execute_result"
    }
   ],
   "source": [
    "a[]"
   ]
  },
  {
   "cell_type": "code",
   "execution_count": null,
   "metadata": {},
   "outputs": [],
   "source": []
  },
  {
   "cell_type": "code",
   "execution_count": null,
   "metadata": {},
   "outputs": [],
   "source": []
  }
 ],
 "metadata": {
  "kernelspec": {
   "display_name": "Python 3",
   "language": "python",
   "name": "python3"
  },
  "language_info": {
   "codemirror_mode": {
    "name": "ipython",
    "version": 3
   },
   "file_extension": ".py",
   "mimetype": "text/x-python",
   "name": "python",
   "nbconvert_exporter": "python",
   "pygments_lexer": "ipython3",
   "version": "3.6.6"
  }
 },
 "nbformat": 4,
 "nbformat_minor": 1
}
