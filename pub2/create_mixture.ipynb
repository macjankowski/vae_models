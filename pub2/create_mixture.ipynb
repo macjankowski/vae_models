{
 "cells": [
  {
   "cell_type": "code",
   "execution_count": 69,
   "metadata": {},
   "outputs": [],
   "source": [
    "import numpy as np\n",
    "import matplotlib.pyplot as plt\n",
    "from scipy.stats import multivariate_normal\n",
    "import tensorflow as tf"
   ]
  },
  {
   "cell_type": "code",
   "execution_count": 70,
   "metadata": {},
   "outputs": [
    {
     "name": "stdout",
     "output_type": "stream",
     "text": [
      "Setting Eager mode...\n",
      "\n",
      "WARNING: The TensorFlow contrib module will not be included in TensorFlow 2.0.\n",
      "For more information, please see:\n",
      "  * https://github.com/tensorflow/community/blob/master/rfcs/20180907-contrib-sunset.md\n",
      "  * https://github.com/tensorflow/addons\n",
      "If you depend on functionality not listed there, please file an issue.\n",
      "\n"
     ]
    }
   ],
   "source": [
    "# Set Eager API\n",
    "print(\"Setting Eager mode...\")\n",
    "tf.enable_eager_execution()\n",
    "tfe = tf.contrib.eager"
   ]
  },
  {
   "cell_type": "code",
   "execution_count": 61,
   "metadata": {},
   "outputs": [],
   "source": [
    "mean=20\n",
    "mean_of_oblique=np.sqrt((mean*mean) / 2)\n",
    "\n",
    "# var=0.05\n",
    "# var_of_oblique=var/np.sqrt(2)\n",
    "\n",
    "mean1, cov1 = [0,mean], np.array([\n",
    "    [0.7,0.0],\n",
    "    [0.0,7.0]\n",
    "])\n",
    "\n",
    "mean2, cov2 = [mean_of_oblique,mean_of_oblique], np.array([\n",
    "    [5.0,4.0],\n",
    "    [4.0,5.0]\n",
    "])\n",
    "\n",
    "mean3, cov3 = [mean,0], np.array([\n",
    "    [7.0,0.0],\n",
    "    [0.0,0.7]\n",
    "])\n",
    "\n",
    "mean4, cov4 = [mean_of_oblique,-mean_of_oblique], np.array([\n",
    "    [5.0,-4.0],\n",
    "    [-4.0,5.0]\n",
    "])\n",
    "\n",
    "mean5, cov5 = [0,-mean], np.array([\n",
    "    [0.7,0.0],\n",
    "    [0.0,7.0]\n",
    "])\n",
    "\n",
    "mean6, cov6 = [-mean_of_oblique,-mean_of_oblique], np.array([\n",
    "    [5.0,4.0],\n",
    "    [4.0,5.0]\n",
    "])\n",
    "\n",
    "mean7, cov7 = [-mean,0], np.array([\n",
    "    [7.0,0.0],\n",
    "    [0.0,0.7]\n",
    "])\n",
    "\n",
    "mean8, cov8 = [-mean_of_oblique,mean_of_oblique], np.array([\n",
    "    [5.0,-4.0],\n",
    "    [-4.0,5.0]\n",
    "])\n",
    "norm_params = []\n",
    "norm_params.append(multivariate_normal(mean1, cov1))\n",
    "norm_params.append(multivariate_normal(mean2, cov2))\n",
    "norm_params.append(multivariate_normal(mean3, cov3))\n",
    "norm_params.append(multivariate_normal(mean4, cov4))\n",
    "norm_params.append(multivariate_normal(mean5, cov5))\n",
    "norm_params.append(multivariate_normal(mean6, cov6))\n",
    "norm_params.append(multivariate_normal(mean7, cov7))\n",
    "norm_params.append(multivariate_normal(mean8, cov8))\n",
    "\n"
   ]
  },
  {
   "cell_type": "code",
   "execution_count": 62,
   "metadata": {},
   "outputs": [],
   "source": [
    "def plot_normal(mean, cov):\n",
    "    x, y = np.random.multivariate_normal(mean, cov, 5000).T\n",
    "    plt.plot(x, y, 'x')\n",
    "    plt.axis('equal')\n",
    "    plt.tight_layout()\n",
    "    #plt.axis('off')\n",
    "    #plt.axes().set_aspect('equal', 'datalim')\n",
    "    plt.show()"
   ]
  },
  {
   "cell_type": "code",
   "execution_count": 63,
   "metadata": {},
   "outputs": [],
   "source": [
    "def get_sample(params):\n",
    "    s = np.random.multivariate_normal(params.mean, params.cov, 1)[0].T\n",
    "    return s"
   ]
  },
  {
   "cell_type": "code",
   "execution_count": 64,
   "metadata": {},
   "outputs": [],
   "source": [
    "def generate_samples_from_gmm(norm_params, weights, N):\n",
    "    mixture_idx = np.random.choice(len(weights), size=N, replace=True, p=weights)\n",
    "    samples = [norm_params[i].rvs(size=1) for i in mixture_idx]\n",
    "    return np.array(samples)"
   ]
  },
  {
   "cell_type": "code",
   "execution_count": 65,
   "metadata": {},
   "outputs": [],
   "source": [
    "class NormParams():\n",
    "    \n",
    "    def __init__(self, mean, cov):\n",
    "        self.mean = mean\n",
    "        self.cov = cov"
   ]
  },
  {
   "cell_type": "code",
   "execution_count": 66,
   "metadata": {},
   "outputs": [
    {
     "data": {
      "image/png": "[encoded data removed]",
      "text/plain": [
       "<Figure size 432x288 with 1 Axes>"
      ]
     },
     "metadata": {
      "needs_background": "light"
     },
     "output_type": "display_data"
    }
   ],
   "source": [
    "n = 40000\n",
    "weights = np.ones(8, dtype=np.float64) / 8.0\n",
    "samples = generate_samples_from_gmm(norm_params, weights, n)\n",
    "plt.plot(samples[:,0], samples[:,1], 'ro')\n",
    "plt.axis('equal')\n",
    "plt.show()"
   ]
  },
  {
   "cell_type": "code",
   "execution_count": 60,
   "metadata": {},
   "outputs": [],
   "source": [
    "my_params = []\n",
    "my_params.append(NormParams(mean1, cov1))\n",
    "my_params.append(NormParams(mean2, cov2))\n",
    "my_params.append(NormParams(mean3, cov3))\n",
    "my_params.append(NormParams(mean4, cov4))\n",
    "my_params.append(NormParams(mean5, cov5))\n",
    "my_params.append(NormParams(mean6, cov6))\n",
    "my_params.append(NormParams(mean7, cov7))\n",
    "my_params.append(NormParams(mean8, cov8))"
   ]
  },
  {
   "cell_type": "code",
   "execution_count": 51,
   "metadata": {},
   "outputs": [],
   "source": [
    "def generate_samples_from_gmm_2(norm_params, weights, N):\n",
    "    mixture_idx = np.random.choice(len(weights), size=N, replace=True, p=weights)\n",
    "    samples = [get_sample(norm_params[i]) for i in mixture_idx]\n",
    "    return np.array(samples)"
   ]
  },
  {
   "cell_type": "code",
   "execution_count": 52,
   "metadata": {},
   "outputs": [],
   "source": [
    "n = 40000\n",
    "weights = np.ones(8, dtype=np.float64) / 8.0\n",
    "samples = generate_samples_from_gmm_2(my_params, weights, n)"
   ]
  },
  {
   "cell_type": "code",
   "execution_count": 53,
   "metadata": {},
   "outputs": [
    {
     "data": {
      "image/png": "[encoded data removed]",
      "text/plain": [
       "<Figure size 432x288 with 1 Axes>"
      ]
     },
     "metadata": {
      "needs_background": "light"
     },
     "output_type": "display_data"
    }
   ],
   "source": [
    "plt.plot(samples[:,0], samples[:,1], 'ro')\n",
    "plt.axis('equal')\n",
    "plt.show()"
   ]
  },
  {
   "cell_type": "code",
   "execution_count": 466,
   "metadata": {},
   "outputs": [],
   "source": [
    "mean=10.0\n",
    "mean_of_oblique=np.sqrt((mean*mean) / 2)\n",
    "\n",
    "# var=0.05\n",
    "# var_of_oblique=var/np.sqrt(2)\n",
    "\n",
    "mean1, cov1 = [0,mean], [0.7,7.0]\n",
    "\n",
    "mean2, cov2 = [mean_of_oblique,mean_of_oblique], np.array([\n",
    "    [5.0,4.0],\n",
    "    [4.0,5.0]\n",
    "])\n",
    "\n",
    "mean3, cov3 = [mean,0], [7.0,0.7]\n",
    "\n",
    "mean4, cov4 = [mean_of_oblique,-mean_of_oblique], np.array([\n",
    "    [5.0,-4.0],\n",
    "    [-4.0,5.0]\n",
    "])\n",
    "\n",
    "mean5, cov5 = [0,-mean], [0.7,7.0]\n",
    "\n",
    "mean6, cov6 = [-mean_of_oblique,-mean_of_oblique], np.array([\n",
    "    [5.0,4.0],\n",
    "    [4.0,5.0]\n",
    "])\n",
    "\n",
    "mean7, cov7 = [-mean,0], [7.0,0.7]\n",
    "\n",
    "mean8, cov8 = [-mean_of_oblique,mean_of_oblique], np.array([\n",
    "    [5.0,-4.0],\n",
    "    [-4.0,5.0]\n",
    "])"
   ]
  },
  {
   "cell_type": "code",
   "execution_count": 467,
   "metadata": {},
   "outputs": [
    {
     "data": {
      "text/plain": [
       "array([7.071068, 7.071068], dtype=float32)"
      ]
     },
     "execution_count": 467,
     "metadata": {},
     "output_type": "execute_result"
    }
   ],
   "source": [
    "np.array([mean_of_oblique,mean_of_oblique], dtype=\"float32\")"
   ]
  },
  {
   "cell_type": "code",
   "execution_count": 468,
   "metadata": {},
   "outputs": [],
   "source": [
    "class NormDistDiag():\n",
    "    \n",
    "    def __init__(self, mean, stdev, beta):\n",
    "        self.mean = mean\n",
    "        self.stdev = stdev\n",
    "        self.beta = beta\n",
    "        self.tf_mean, self.tf_stdev = tf.constant(self.mean), tf.constant(self.stdev)\n",
    "        self.tf_dist = tf.contrib.distributions.MultivariateNormalDiag(loc=self.tf_mean, scale_diag=self.tf_stdev)\n",
    "        self.dim = len(mean)\n",
    "        \n",
    "    def tf_dist(self):\n",
    "        return self.tf_dist\n",
    "\n",
    "    def prob(self, z):\n",
    "        return self.tf_dist.prob(z)\n",
    "        \n",
    "    def stdev_inv(self):\n",
    "        return tf.diag(tf.ones(self.dim)/self.stdev)\n",
    "        \n",
    "    def grad_component(self, z):\n",
    "        return self.beta * tf.reshape(self.prob(z), (-1, 1)) * tf.matmul((z - self.tf_mean), self.stdev_inv())\n",
    "    "
   ]
  },
  {
   "cell_type": "code",
   "execution_count": 469,
   "metadata": {},
   "outputs": [],
   "source": [
    "class NormDist():\n",
    "    \n",
    "    def __init__(self, mean, stdev, beta):\n",
    "        self.mean = mean\n",
    "        self.stdev = stdev\n",
    "        self.beta = beta\n",
    "        self.tf_mean, self.tf_stdev = tf.constant(self.mean), tf.constant(self.stdev)\n",
    "        self.tf_dist = tf.contrib.distributions.MultivariateNormalFullCovariance(loc=self.tf_mean, covariance_matrix=self.tf_stdev)\n",
    "        self.dim = len(mean)\n",
    "        \n",
    "    def tf_dist(self):\n",
    "        return self.tf_dist\n",
    "\n",
    "    def prob(self, z):\n",
    "        return tf.cast(self.tf_dist.prob(tf.cast(z, tf.float64)), tf.float32)\n",
    "        \n",
    "    def stdev_inv(self):\n",
    "        return tf.diag(tf.ones(self.dim)/self.stdev)\n",
    "        \n",
    "    def grad_component(self, z):\n",
    "        return self.beta * tf.reshape(self.prob(z), (-1, 1)) * tf.matmul((z - self.tf_mean), self.stdev_inv())"
   ]
  },
  {
   "cell_type": "code",
   "execution_count": 465,
   "metadata": {},
   "outputs": [],
   "source": [
    "dist1 = NormDistDiag(mean1, cov1, 0.5)\n",
    "dist3 = NormDistDiag(mean3, cov3, 0.5)\n",
    "dist5 = NormDistDiag(mean5, cov5, 0.5)\n",
    "dist7 = NormDistDiag(mean7, cov7, 0.5)\n",
    "dist2 = NormDist(mean2, cov2, 0.5)\n",
    "dist4 = NormDist(mean4, cov4, 0.5)\n",
    "dist6 = NormDist(mean6, cov6, 0.5)\n",
    "dist8 = NormDist(mean8, cov8, 0.5)"
   ]
  },
  {
   "cell_type": "code",
   "execution_count": 454,
   "metadata": {},
   "outputs": [],
   "source": [
    "#@tf.custom_gradient\n",
    "def penalty_term_with_gd(z, dists):\n",
    "    probs = tf.stack([dist.prob(z) for dist in dists])\n",
    "    betas = tf.constant([dist.beta for dist in dists], shape=(len(dists),1))\n",
    "    denom = tf.reduce_sum(betas * probs, axis=0)\n",
    "    denom = tf.reshape(denom, (-1, 1))\n",
    "    y=-tf.reduce_sum(tf.log(1e-30 + denom))\n",
    "        \n",
    "    def grad(dz): \n",
    "        print(dz)\n",
    "        grad_components = tf.stack([dist.grad_component(z) for dist in dists])\n",
    "        num=tf.reduce_sum(grad_components, axis=[0])\n",
    "        \n",
    "        gradient = num/denom\n",
    "        return dz * gradient\n",
    "    return y,grad"
   ]
  },
  {
   "cell_type": "code",
   "execution_count": 455,
   "metadata": {},
   "outputs": [],
   "source": [
    "dists_odd = [dist1, dist3, dist5, dist7]\n",
    "dists_even = [dist2, dist4, dist6, dist8]\n",
    "dists = [dist1, dist2, dist3, dist4, dist5, dist6, dist7, dist8]"
   ]
  },
  {
   "cell_type": "code",
   "execution_count": 456,
   "metadata": {},
   "outputs": [
    {
     "data": {
      "text/plain": [
       "<tf.Tensor: id=55308, shape=(), dtype=float32, numpy=-69.07755>"
      ]
     },
     "execution_count": 456,
     "metadata": {},
     "output_type": "execute_result"
    }
   ],
   "source": [
    "tf.log(1e-30)"
   ]
  },
  {
   "cell_type": "code",
   "execution_count": 457,
   "metadata": {},
   "outputs": [],
   "source": [
    "# z = tf.constant([[1., 4.],\n",
    "#                  [3.,1.],\n",
    "#                  [2.,3.],\n",
    "#                  [0.5,0.5],\n",
    "#                  [0.2,2.1]\n",
    "#                 ],name='z')\n",
    "#z = tf.constant([[1., 4.]],name='z')\n",
    "z = tf.constant([mean1,\n",
    "                 mean2,\n",
    "                 mean3,\n",
    "                 mean4,\n",
    "                 mean5,\n",
    "                 mean6,\n",
    "                 mean7,\n",
    "                 mean8],name='z')"
   ]
  },
  {
   "cell_type": "code",
   "execution_count": 458,
   "metadata": {},
   "outputs": [
    {
     "data": {
      "text/plain": [
       "(<tf.Tensor: id=55773, shape=(), dtype=float32, numpy=234.33714>,\n",
       " <function __main__.penalty_term_with_gd.<locals>.grad(dz)>)"
      ]
     },
     "execution_count": 458,
     "metadata": {},
     "output_type": "execute_result"
    }
   ],
   "source": [
    "penalty_term_with_gd(z, dists_odd)"
   ]
  },
  {
   "cell_type": "code",
   "execution_count": 459,
   "metadata": {},
   "outputs": [
    {
     "data": {
      "text/plain": [
       "(<tf.Tensor: id=56229, shape=(), dtype=float32, numpy=128.17087>,\n",
       " <function __main__.penalty_term_with_gd.<locals>.grad(dz)>)"
      ]
     },
     "execution_count": 459,
     "metadata": {},
     "output_type": "execute_result"
    }
   ],
   "source": [
    "penalty_term_with_gd(z, dists_even)"
   ]
  },
  {
   "cell_type": "code",
   "execution_count": 460,
   "metadata": {},
   "outputs": [
    {
     "data": {
      "text/plain": [
       "(<tf.Tensor: id=56665, shape=(), dtype=float32, numpy=30.932629>,\n",
       " <function __main__.penalty_term_with_gd.<locals>.grad(dz)>)"
      ]
     },
     "execution_count": 460,
     "metadata": {},
     "output_type": "execute_result"
    }
   ],
   "source": [
    "penalty_term_with_gd(z, dists)"
   ]
  },
  {
   "cell_type": "code",
   "execution_count": 387,
   "metadata": {},
   "outputs": [],
   "source": [
    "probs = tf.stack([dist.prob(z) for dist in dists])\n",
    "probs_odd = tf.stack([dist.prob(z) for dist in dists_odd])\n",
    "probs_even = tf.stack([dist.prob(z) for dist in dists_even])"
   ]
  },
  {
   "cell_type": "code",
   "execution_count": 388,
   "metadata": {},
   "outputs": [],
   "source": [
    "betas = tf.constant([dist.beta for dist in dists], shape=(len(dists),1))\n",
    "betas_odd = tf.constant([dist.beta for dist in dists_odd], shape=(len(dists_odd),1))\n",
    "betas_even = tf.constant([dist.beta for dist in dists_even], shape=(len(dists_even),1))"
   ]
  },
  {
   "cell_type": "code",
   "execution_count": 389,
   "metadata": {},
   "outputs": [],
   "source": [
    "betas_probs = betas * probs\n",
    "betas_probs_odd = betas_odd * probs_odd\n",
    "betas_probs_even = betas_even * probs_even\n"
   ]
  },
  {
   "cell_type": "code",
   "execution_count": 390,
   "metadata": {},
   "outputs": [
    {
     "data": {
      "text/plain": [
       "<tf.Tensor: id=43150, shape=(8, 2), dtype=float32, numpy=\n",
       "array([[0.0000000e+00, 0.0000000e+00],\n",
       "       [2.6520591e-02, 2.6520591e-02],\n",
       "       [0.0000000e+00, 0.0000000e+00],\n",
       "       [0.0000000e+00, 0.0000000e+00],\n",
       "       [0.0000000e+00, 0.0000000e+00],\n",
       "       [8.6028515e-41, 8.6028515e-41],\n",
       "       [0.0000000e+00, 0.0000000e+00],\n",
       "       [0.0000000e+00, 0.0000000e+00]], dtype=float32)>"
      ]
     },
     "execution_count": 390,
     "metadata": {},
     "output_type": "execute_result"
    }
   ],
   "source": [
    "betas_probs"
   ]
  },
  {
   "cell_type": "code",
   "execution_count": 356,
   "metadata": {},
   "outputs": [
    {
     "data": {
      "text/plain": [
       "<tf.Tensor: id=38731, shape=(4, 2), dtype=float32, numpy=\n",
       "array([[0., 0.],\n",
       "       [0., 0.],\n",
       "       [0., 0.],\n",
       "       [0., 0.]], dtype=float32)>"
      ]
     },
     "execution_count": 356,
     "metadata": {},
     "output_type": "execute_result"
    }
   ],
   "source": [
    "betas_probs_odd"
   ]
  },
  {
   "cell_type": "code",
   "execution_count": 357,
   "metadata": {},
   "outputs": [
    {
     "data": {
      "text/plain": [
       "<tf.Tensor: id=38732, shape=(4, 2), dtype=float32, numpy=\n",
       "array([[2.6520591e-02, 2.6520591e-02],\n",
       "       [0.0000000e+00, 0.0000000e+00],\n",
       "       [8.6028515e-41, 8.6028515e-41],\n",
       "       [0.0000000e+00, 0.0000000e+00]], dtype=float32)>"
      ]
     },
     "execution_count": 357,
     "metadata": {},
     "output_type": "execute_result"
    }
   ],
   "source": [
    "betas_probs_even"
   ]
  },
  {
   "cell_type": "code",
   "execution_count": 358,
   "metadata": {},
   "outputs": [],
   "source": [
    "denom = tf.reduce_sum(betas_probs, axis=0)\n",
    "denom_odd = tf.reduce_sum(betas_probs_odd, axis=0)\n",
    "denom_even = tf.reduce_sum(betas_probs_even, axis=0)"
   ]
  },
  {
   "cell_type": "code",
   "execution_count": 359,
   "metadata": {},
   "outputs": [
    {
     "data": {
      "text/plain": [
       "<tf.Tensor: id=38737, shape=(2,), dtype=float32, numpy=array([0.02652059, 0.02652059], dtype=float32)>"
      ]
     },
     "execution_count": 359,
     "metadata": {},
     "output_type": "execute_result"
    }
   ],
   "source": [
    "denom"
   ]
  },
  {
   "cell_type": "code",
   "execution_count": 360,
   "metadata": {},
   "outputs": [
    {
     "data": {
      "text/plain": [
       "<tf.Tensor: id=38739, shape=(2,), dtype=float32, numpy=array([0., 0.], dtype=float32)>"
      ]
     },
     "execution_count": 360,
     "metadata": {},
     "output_type": "execute_result"
    }
   ],
   "source": [
    "denom_odd"
   ]
  },
  {
   "cell_type": "code",
   "execution_count": 361,
   "metadata": {},
   "outputs": [
    {
     "data": {
      "text/plain": [
       "<tf.Tensor: id=38741, shape=(2,), dtype=float32, numpy=array([0.02652059, 0.02652059], dtype=float32)>"
      ]
     },
     "execution_count": 361,
     "metadata": {},
     "output_type": "execute_result"
    }
   ],
   "source": [
    "denom_even"
   ]
  },
  {
   "cell_type": "code",
   "execution_count": 362,
   "metadata": {},
   "outputs": [
    {
     "data": {
      "text/plain": [
       "<tf.Tensor: id=38746, shape=(2, 1), dtype=float32, numpy=\n",
       "array([[0.02652059],\n",
       "       [0.02652059]], dtype=float32)>"
      ]
     },
     "execution_count": 362,
     "metadata": {},
     "output_type": "execute_result"
    }
   ],
   "source": [
    "denom = tf.reshape(denom, (-1, 1))\n",
    "denom"
   ]
  },
  {
   "cell_type": "code",
   "execution_count": 363,
   "metadata": {},
   "outputs": [
    {
     "data": {
      "text/plain": [
       "<tf.Tensor: id=38748, shape=(2, 1), dtype=float32, numpy=\n",
       "array([[-3.629834],\n",
       "       [-3.629834]], dtype=float32)>"
      ]
     },
     "execution_count": 363,
     "metadata": {},
     "output_type": "execute_result"
    }
   ],
   "source": [
    "tf.log(denom)"
   ]
  },
  {
   "cell_type": "code",
   "execution_count": 364,
   "metadata": {},
   "outputs": [
    {
     "data": {
      "text/plain": [
       "<tf.Tensor: id=38750, shape=(2,), dtype=float32, numpy=array([-inf, -inf], dtype=float32)>"
      ]
     },
     "execution_count": 364,
     "metadata": {},
     "output_type": "execute_result"
    }
   ],
   "source": [
    "tf.log(denom_odd)"
   ]
  },
  {
   "cell_type": "code",
   "execution_count": 338,
   "metadata": {},
   "outputs": [
    {
     "data": {
      "text/plain": [
       "<tf.Tensor: id=36693, shape=(2,), dtype=float32, numpy=array([-3.629834, -3.629834], dtype=float32)>"
      ]
     },
     "execution_count": 338,
     "metadata": {},
     "output_type": "execute_result"
    }
   ],
   "source": [
    "tf.log(denom_even)"
   ]
  },
  {
   "cell_type": "code",
   "execution_count": 335,
   "metadata": {},
   "outputs": [
    {
     "data": {
      "text/plain": [
       "<tf.Tensor: id=36686, shape=(), dtype=float32, numpy=7.259668>"
      ]
     },
     "execution_count": 335,
     "metadata": {},
     "output_type": "execute_result"
    }
   ],
   "source": [
    "-tf.reduce_sum(tf.log(denom))"
   ]
  },
  {
   "cell_type": "code",
   "execution_count": 475,
   "metadata": {},
   "outputs": [],
   "source": [
    "\n",
    "rho = 0.8\n",
    "sigma_x = np.sqrt(5.0)\n",
    "sigma_y = np.sqrt(5.0)\n",
    "mean_x = mean_of_oblique\n",
    "mean_y = mean_of_oblique"
   ]
  },
  {
   "cell_type": "code",
   "execution_count": 503,
   "metadata": {},
   "outputs": [],
   "source": [
    "x = np.linspace(start=-10,stop=10, num=100) #[0,0.1,0.2,0.3,0.4,0.5,0.6,0.7,0.8,0.9]"
   ]
  },
  {
   "cell_type": "code",
   "execution_count": 865,
   "metadata": {},
   "outputs": [],
   "source": []
  },
  {
   "cell_type": "code",
   "execution_count": 1045,
   "metadata": {},
   "outputs": [],
   "source": [
    "def dist_rotated(mean, theta):\n",
    "    print(mean)\n",
    "    init_cov = np.array([\n",
    "        [7.0,0.0],\n",
    "        [0.0,0.7]\n",
    "    ], dtype=\"float64\")\n",
    "    \n",
    "    u = np.array([\n",
    "        [np.cos(theta),-np.sin(theta)],\n",
    "        [np.sin(theta),np.cos(theta)]\n",
    "    ])\n",
    "    cov_rotated = np.matmul(np.matmul(u,init_cov),u.T)\n",
    "    dist = NormDist(mean, cov_rotated, 0.5)\n",
    "    return dist\n",
    "\n",
    "def generate_distributions(n, r=10, cx=0,cy=0):\n",
    "    distributions = []\n",
    "\n",
    "    for i in range(n):\n",
    "        #angle = ((360/n) * i) * (np.pi/180)\n",
    "        angle = (2*i*np.pi)/n\n",
    "        mean_1 = cx + r * np.cos(angle)\n",
    "        mean_2 = cx + r * np.sin(angle)\n",
    "        \n",
    "        dist = dist_rotated([mean_1, mean_2], angle)\n",
    "        distributions.append(dist)\n",
    "            \n",
    "    return distributions"
   ]
  },
  {
   "cell_type": "code",
   "execution_count": 1049,
   "metadata": {},
   "outputs": [],
   "source": [
    " "
   ]
  },
  {
   "cell_type": "code",
   "execution_count": 1057,
   "metadata": {},
   "outputs": [
    {
     "data": {
      "text/plain": [
       "[<tfp.distributions.MultivariateNormalFullCovariance 'MultivariateNormalFullCovariance/' batch_shape=() event_shape=(2,) dtype=float64>,\n",
       " <tfp.distributions.MultivariateNormalFullCovariance 'MultivariateNormalFullCovariance/' batch_shape=() event_shape=(2,) dtype=float64>]"
      ]
     },
     "execution_count": 1057,
     "metadata": {},
     "output_type": "execute_result"
    }
   ],
   "source": []
  },
  {
   "cell_type": "code",
   "execution_count": 1053,
   "metadata": {},
   "outputs": [
    {
     "data": {
      "text/plain": [
       "<tfp.distributions.MultivariateNormalFullCovariance 'MultivariateNormalFullCovariance/' batch_shape=() event_shape=(2,) dtype=float64>"
      ]
     },
     "execution_count": 1053,
     "metadata": {},
     "output_type": "execute_result"
    }
   ],
   "source": [
    "\n"
   ]
  },
  {
   "cell_type": "code",
   "execution_count": 868,
   "metadata": {},
   "outputs": [
    {
     "name": "stdout",
     "output_type": "stream",
     "text": [
      "[20.0, 0.0]\n",
      "[16.18033988749895, 11.755705045849464]\n",
      "[6.180339887498949, 19.02113032590307]\n",
      "[-6.180339887498947, 19.021130325903073]\n",
      "[-16.180339887498945, 11.755705045849465]\n",
      "[-20.0, 2.4492935982947065e-15]\n",
      "[-16.18033988749895, -11.75570504584946]\n",
      "[-6.180339887498951, -19.02113032590307]\n",
      "[6.180339887498945, -19.021130325903073]\n",
      "[16.180339887498945, -11.755705045849465]\n"
     ]
    }
   ],
   "source": [
    "dists = generate_distributions(10, r=20)"
   ]
  },
  {
   "cell_type": "code",
   "execution_count": null,
   "metadata": {},
   "outputs": [],
   "source": [
    "np.c_[np.random.multivariate_normal(mean1, cov2, 1000), np.ones(1000)]"
   ]
  },
  {
   "cell_type": "code",
   "execution_count": 995,
   "metadata": {},
   "outputs": [],
   "source": [
    "samples = [np.c_[np.random.multivariate_normal(dist.mean, dist.stdev, 1000), i*np.ones(1000)] for i, dist in enumerate(dists)]\n",
    "#samples"
   ]
  },
  {
   "cell_type": "code",
   "execution_count": 996,
   "metadata": {},
   "outputs": [],
   "source": [
    "samples = np.array(samples).reshape((-1,3))\n",
    "#samples"
   ]
  },
  {
   "cell_type": "code",
   "execution_count": 872,
   "metadata": {},
   "outputs": [
    {
     "data": {
      "image/png": "[encoded data removed]",
      "text/plain": [
       "<Figure size 432x288 with 1 Axes>"
      ]
     },
     "metadata": {
      "needs_background": "light"
     },
     "output_type": "display_data"
    }
   ],
   "source": [
    "\n",
    "#samples.shape\n",
    "plt.plot(samples[:,0], samples[:,1], 'ro')\n",
    "plt.axis('equal')\n",
    "plt.show()"
   ]
  },
  {
   "cell_type": "code",
   "execution_count": 888,
   "metadata": {},
   "outputs": [
    {
     "data": {
      "image/png": "[encoded data removed]",
      "text/plain": [
       "<Figure size 720x720 with 2 Axes>"
      ]
     },
     "metadata": {
      "needs_background": "light"
     },
     "output_type": "display_data"
    }
   ],
   "source": [
    "plt.figure(figsize=(10,10))\n",
    "plt.scatter(samples[:,0], samples[:,1], c=samples[:,2], cmap='brg')\n",
    "plt.colorbar()\n",
    "plt.axis('equal')\n",
    "\n",
    "plt.show()"
   ]
  },
  {
   "cell_type": "code",
   "execution_count": null,
   "metadata": {},
   "outputs": [],
   "source": [
    "def generate_samples(self, n):\n",
    "    \n",
    "    return np.array(samples).reshape((-1,2))\n",
    "    \n",
    "def generate_and_plot(self, n):\n",
    "    samples = self.generate_samples(n)\n",
    "    plt.plot(samples[:,0], samples[:,1], 'ro')\n",
    "    plt.axis('equal')\n",
    "    plt.show()"
   ]
  },
  {
   "cell_type": "code",
   "execution_count": null,
   "metadata": {},
   "outputs": [],
   "source": []
  },
  {
   "cell_type": "code",
   "execution_count": null,
   "metadata": {},
   "outputs": [],
   "source": []
  },
  {
   "cell_type": "code",
   "execution_count": null,
   "metadata": {},
   "outputs": [],
   "source": []
  },
  {
   "cell_type": "code",
   "execution_count": null,
   "metadata": {},
   "outputs": [],
   "source": []
  },
  {
   "cell_type": "code",
   "execution_count": 803,
   "metadata": {},
   "outputs": [
    {
     "data": {
      "text/plain": [
       "array([[ 1.00000000e+01,  0.00000000e+00,  1.00000000e+00,\n",
       "         0.00000000e+00],\n",
       "       [ 8.09016994e+00,  5.87785252e+00,  8.09016994e-01,\n",
       "         5.87785252e-01],\n",
       "       [ 3.09016994e+00,  9.51056516e+00,  3.09016994e-01,\n",
       "         9.51056516e-01],\n",
       "       [-3.09016994e+00,  9.51056516e+00, -3.09016994e-01,\n",
       "         9.51056516e-01],\n",
       "       [-8.09016994e+00,  5.87785252e+00, -8.09016994e-01,\n",
       "         5.87785252e-01],\n",
       "       [-1.00000000e+01,  1.22464680e-15, -1.00000000e+00,\n",
       "         1.22464680e-16],\n",
       "       [-8.09016994e+00, -5.87785252e+00, -8.09016994e-01,\n",
       "        -5.87785252e-01],\n",
       "       [-3.09016994e+00, -9.51056516e+00, -3.09016994e-01,\n",
       "        -9.51056516e-01],\n",
       "       [ 3.09016994e+00, -9.51056516e+00,  3.09016994e-01,\n",
       "        -9.51056516e-01],\n",
       "       [ 8.09016994e+00, -5.87785252e+00,  8.09016994e-01,\n",
       "        -5.87785252e-01]])"
      ]
     },
     "execution_count": 803,
     "metadata": {},
     "output_type": "execute_result"
    }
   ],
   "source": [
    "coordinates = generate_coordinates(n=10)\n",
    "coordinates"
   ]
  },
  {
   "cell_type": "code",
   "execution_count": 804,
   "metadata": {},
   "outputs": [
    {
     "data": {
      "text/plain": [
       "[<matplotlib.lines.Line2D at 0x1c3bbfdc50>]"
      ]
     },
     "execution_count": 804,
     "metadata": {},
     "output_type": "execute_result"
    },
    {
     "data": {
      "image/png": "[encoded data removed]",
      "text/plain": [
       "<Figure size 432x288 with 1 Axes>"
      ]
     },
     "metadata": {
      "needs_background": "light"
     },
     "output_type": "display_data"
    }
   ],
   "source": [
    "to_plot = coordinates.reshape((-1,2))\n",
    "plt.plot(to_plot[:,0], to_plot[:,1], 'ro')"
   ]
  },
  {
   "cell_type": "code",
   "execution_count": 805,
   "metadata": {},
   "outputs": [],
   "source": [
    "# def gen_params(x_a, y_a, x_b, y_b):\n",
    "#     f=10\n",
    "#     rho=0.9\n",
    "    \n",
    "#     mu_x = x_a\n",
    "#     mu_y = y_b\n",
    "#     sigma_x = x_a - x_b\n",
    "#     sigma_y = y_a - y_b\n",
    "\n",
    "#     mean, cov = np.array([mu_x,mu_y],dtype=\"float64\"), np.array([\n",
    "#         [np.square(sigma_x)/f, (rho*sigma_x*sigma_y)/f],\n",
    "#         [(rho*sigma_x*sigma_y)/f, np.square(sigma_y)/f]\n",
    "#     ], dtype=\"float64\")\n",
    "#     return mean, cov"
   ]
  },
  {
   "cell_type": "code",
   "execution_count": 790,
   "metadata": {},
   "outputs": [],
   "source": [
    "def gen_params(x,y):\n",
    "    f=10\n",
    "    a = x+0.1\n",
    "    b = y+0.1\n",
    "    mean, cov = np.array([x,y],dtype=\"float64\"), np.array([\n",
    "        [np.square(a)/f, (a*b * 0.8)/f],\n",
    "        [(a*b * 0.8)/f, np.square(b)/f]\n",
    "    ], dtype=\"float64\")\n",
    "    return mean, cov"
   ]
  },
  {
   "cell_type": "code",
   "execution_count": 811,
   "metadata": {},
   "outputs": [
    {
     "data": {
      "text/plain": [
       "array([[8.1, 0. ],\n",
       "       [0. , 0. ]])"
      ]
     },
     "execution_count": 811,
     "metadata": {},
     "output_type": "execute_result"
    }
   ],
   "source": [
    "m,c = gen_params(10,0,1,0)\n",
    "c\n",
    "#NormDist(m, c, 0.5)"
   ]
  },
  {
   "cell_type": "code",
   "execution_count": 809,
   "metadata": {},
   "outputs": [
    {
     "data": {
      "image/png": "[encoded data removed]",
      "text/plain": [
       "<Figure size 432x288 with 1 Axes>"
      ]
     },
     "metadata": {
      "needs_background": "light"
     },
     "output_type": "display_data"
    }
   ],
   "source": [
    "m,c = gen_params(10,0,1,0)\n",
    "plot_normal(m,c)"
   ]
  },
  {
   "cell_type": "code",
   "execution_count": 664,
   "metadata": {},
   "outputs": [
    {
     "data": {
      "image/png": "[encoded data removed]",
      "text/plain": [
       "<Figure size 432x288 with 1 Axes>"
      ]
     },
     "metadata": {
      "needs_background": "light"
     },
     "output_type": "display_data"
    }
   ],
   "source": [
    "m,c = gen_params(3.09016994,9.51056516)\n",
    "plot_normal(m,c)"
   ]
  },
  {
   "cell_type": "code",
   "execution_count": 683,
   "metadata": {},
   "outputs": [],
   "source": [
    "\n",
    "        \n",
    "    \n",
    "    "
   ]
  },
  {
   "cell_type": "code",
   "execution_count": 1183,
   "metadata": {},
   "outputs": [],
   "source": [
    "class MixtureOfNormalsOnCircle():\n",
    "    \n",
    "    def __init__(self, n, init_cov, r=10):\n",
    "        self.n = n\n",
    "        self.r = r\n",
    "        self.init_cov = init_cov\n",
    "        self.dists = self.__generate_distributions(n)\n",
    "        self.betas = tf.constant([dist.beta for dist in self.dists], shape=(len(self.dists),1))\n",
    "        \n",
    "    def __dist_rotated(self, mean, theta):\n",
    "        \n",
    "        u = np.array([\n",
    "            [np.cos(theta),-np.sin(theta)],\n",
    "            [np.sin(theta),np.cos(theta)]\n",
    "        ], dtype=\"float64\")\n",
    "        cov_rotated = np.matmul(np.matmul(u,self.init_cov),u.T)\n",
    "        dist = NormDist(mean, cov_rotated, 0.5)\n",
    "        return dist\n",
    "\n",
    "    def __generate_distributions(self, n, cx=0,cy=0):\n",
    "        distributions = []\n",
    "\n",
    "        for i in range(n):\n",
    "            #angle = ((360/n) * i) * (np.pi/180)\n",
    "            angle = (2*i*np.pi)/n\n",
    "            mean_1 = cx + self.r * np.cos(angle)\n",
    "            mean_2 = cx + self.r * np.sin(angle)\n",
    "\n",
    "            dist = self.__dist_rotated(np.array([mean_1, mean_2], dtype=\"float64\"), angle)\n",
    "            distributions.append(dist)\n",
    "\n",
    "        return distributions\n",
    "    \n",
    "    def generate_samples(self, n):\n",
    "        #samples = [np.random.multivariate_normal(dist.mean, dist.stdev, n) for dist in self.dists]\n",
    "        samples = [np.c_[np.random.multivariate_normal(dist.mean, dist.stdev, n), i*np.ones(n)] for i, dist in enumerate(self.dists)]\n",
    "\n",
    "        return np.array(samples).reshape((-1,3))\n",
    "    \n",
    "    def generate_and_plot(self, n):\n",
    "        samples = self.generate_samples(n)\n",
    "        plt.scatter(samples[:,0], samples[:,1], c=samples[:,2], cmap='brg')\n",
    "        plt.colorbar()\n",
    "        #plt.plot(samples[:,0], samples[:,1], 'ro')\n",
    "        plt.axis('equal')\n",
    "        plt.show()\n",
    "        \n",
    "    def penalty_term_with_gd(self, z):\n",
    "        probs = tf.stack([dist.prob(z) for dist in self.dists])\n",
    "        \n",
    "        denom = tf.reduce_sum(self.betas * probs, axis=0)\n",
    "        denom = tf.reshape(denom, (-1, 1))\n",
    "        y=-tf.reduce_sum(tf.log(1e-30 + denom))\n",
    "\n",
    "        def grad(dz): \n",
    "            grad_components = tf.stack([dist.grad_component(z) for dist in dists])\n",
    "            num=tf.reduce_sum(grad_components, axis=[0])\n",
    "\n",
    "            gradient = num/denom\n",
    "            return dz * gradient\n",
    "        return y,grad\n",
    "    \n",
    "    def get_tf_dists(self):\n",
    "        return [dist.tf_dist for dist in self.dists]\n",
    "    \n",
    "    def get_dists(self):\n",
    "        return self.dists\n",
    "    \n",
    "    def responsibilities(self, z):\n",
    "        probs = tf.stack([dist.prob(z) for dist in self.dists])\n",
    "        \n",
    "        denom = tf.reduce_sum(self.betas * probs, axis=0)\n",
    "        #denom = tf.reshape(denom, (-1, 1))\n",
    "        return (probs/denom)*self.betas\n",
    "        "
   ]
  },
  {
   "cell_type": "code",
   "execution_count": 1184,
   "metadata": {},
   "outputs": [],
   "source": [
    "init_cov = np.array([\n",
    "        [0.07,0.0],\n",
    "        [0.0,0.007]\n",
    "    ], dtype=\"float64\")\n",
    "\n",
    "mix = MixtureOfNormalsOnCircle(10, init_cov, r=1)"
   ]
  },
  {
   "cell_type": "code",
   "execution_count": 1185,
   "metadata": {},
   "outputs": [
    {
     "data": {
      "image/png": "[encoded data removed]",
      "text/plain": [
       "<Figure size 432x288 with 2 Axes>"
      ]
     },
     "metadata": {
      "needs_background": "light"
     },
     "output_type": "display_data"
    }
   ],
   "source": [
    "mix.generate_and_plot(1000)"
   ]
  },
  {
   "cell_type": "code",
   "execution_count": 1031,
   "metadata": {},
   "outputs": [],
   "source": [
    "dists = mix.get_dists()"
   ]
  },
  {
   "cell_type": "code",
   "execution_count": 1032,
   "metadata": {},
   "outputs": [
    {
     "data": {
      "text/plain": [
       "TensorShape([Dimension(8), Dimension(2)])"
      ]
     },
     "execution_count": 1032,
     "metadata": {},
     "output_type": "execute_result"
    }
   ],
   "source": [
    "# z = tf.constant([mean1],name='z')\n",
    "z = tf.constant([mean1,\n",
    "                 mean2,\n",
    "                 mean3,\n",
    "                 mean4,\n",
    "                 mean5,\n",
    "                 mean6,\n",
    "                 mean7,\n",
    "                 mean8],name='z')\n",
    "z.shape"
   ]
  },
  {
   "cell_type": "code",
   "execution_count": 1033,
   "metadata": {},
   "outputs": [
    {
     "data": {
      "text/plain": [
       "<tf.Tensor: id=120075, shape=(10, 8), dtype=float32, numpy=\n",
       "array([[0.0000000e+00, 0.0000000e+00, 1.3451047e-01, 0.0000000e+00,\n",
       "        0.0000000e+00, 0.0000000e+00, 5.2522131e-14, 0.0000000e+00],\n",
       "       [0.0000000e+00, 2.9600586e-04, 3.1940749e-39, 0.0000000e+00,\n",
       "        0.0000000e+00, 1.6430648e-16, 0.0000000e+00, 0.0000000e+00],\n",
       "       [5.6684843e-12, 5.1770299e-24, 0.0000000e+00, 0.0000000e+00,\n",
       "        8.9611585e-24, 4.5509602e-35, 0.0000000e+00, 0.0000000e+00],\n",
       "       [5.6684843e-12, 0.0000000e+00, 0.0000000e+00, 4.5509602e-35,\n",
       "        8.9611585e-24, 0.0000000e+00, 0.0000000e+00, 5.1770299e-24],\n",
       "       [0.0000000e+00, 0.0000000e+00, 0.0000000e+00, 1.6430648e-16,\n",
       "        0.0000000e+00, 0.0000000e+00, 3.1940749e-39, 2.9600586e-04],\n",
       "       [0.0000000e+00, 0.0000000e+00, 5.2522131e-14, 0.0000000e+00,\n",
       "        0.0000000e+00, 0.0000000e+00, 1.3451047e-01, 0.0000000e+00],\n",
       "       [0.0000000e+00, 1.6430648e-16, 0.0000000e+00, 0.0000000e+00,\n",
       "        0.0000000e+00, 2.9600586e-04, 3.1940749e-39, 0.0000000e+00],\n",
       "       [8.9611585e-24, 4.5509602e-35, 0.0000000e+00, 0.0000000e+00,\n",
       "        5.6684843e-12, 5.1770299e-24, 0.0000000e+00, 0.0000000e+00],\n",
       "       [8.9611585e-24, 0.0000000e+00, 0.0000000e+00, 5.1770299e-24,\n",
       "        5.6684843e-12, 0.0000000e+00, 0.0000000e+00, 4.5509602e-35],\n",
       "       [0.0000000e+00, 0.0000000e+00, 3.1940749e-39, 2.9600586e-04,\n",
       "        0.0000000e+00, 0.0000000e+00, 0.0000000e+00, 1.6430648e-16]],\n",
       "      dtype=float32)>"
      ]
     },
     "execution_count": 1033,
     "metadata": {},
     "output_type": "execute_result"
    }
   ],
   "source": [
    "probs = tf.stack([dist.prob(z) for dist in dists])\n",
    "probs     "
   ]
  },
  {
   "cell_type": "code",
   "execution_count": 1034,
   "metadata": {},
   "outputs": [
    {
     "data": {
      "text/plain": [
       "<tf.Tensor: id=120080, shape=(8,), dtype=float32, numpy=\n",
       "array([5.6684843e-12, 1.4800293e-04, 6.7255236e-02, 1.4800293e-04,\n",
       "       5.6684843e-12, 1.4800293e-04, 6.7255236e-02, 1.4800293e-04],\n",
       "      dtype=float32)>"
      ]
     },
     "execution_count": 1034,
     "metadata": {},
     "output_type": "execute_result"
    }
   ],
   "source": [
    "denom = tf.reduce_sum(betas * probs, axis=0)\n",
    "#denom = tf.reshape(denom, (-1, 1))\n",
    "denom"
   ]
  },
  {
   "cell_type": "code",
   "execution_count": 1035,
   "metadata": {},
   "outputs": [
    {
     "data": {
      "text/plain": [
       "<tf.Tensor: id=120086, shape=(8, 10), dtype=float32, numpy=\n",
       "array([[0.0000000e+00, 0.0000000e+00, 5.0000000e-01, 5.0000000e-01,\n",
       "        0.0000000e+00, 0.0000000e+00, 0.0000000e+00, 7.9043689e-13,\n",
       "        7.9043689e-13, 0.0000000e+00],\n",
       "       [0.0000000e+00, 1.0000000e+00, 1.7489619e-20, 0.0000000e+00,\n",
       "        0.0000000e+00, 0.0000000e+00, 5.5507850e-13, 1.5374561e-31,\n",
       "        0.0000000e+00, 0.0000000e+00],\n",
       "       [1.0000000e+00, 2.3745919e-38, 0.0000000e+00, 0.0000000e+00,\n",
       "        0.0000000e+00, 3.9046872e-13, 0.0000000e+00, 0.0000000e+00,\n",
       "        0.0000000e+00, 2.3745919e-38],\n",
       "       [0.0000000e+00, 0.0000000e+00, 0.0000000e+00, 1.5374561e-31,\n",
       "        5.5507850e-13, 0.0000000e+00, 0.0000000e+00, 0.0000000e+00,\n",
       "        1.7489619e-20, 1.0000000e+00],\n",
       "       [0.0000000e+00, 0.0000000e+00, 7.9043689e-13, 7.9043689e-13,\n",
       "        0.0000000e+00, 0.0000000e+00, 0.0000000e+00, 5.0000000e-01,\n",
       "        5.0000000e-01, 0.0000000e+00],\n",
       "       [0.0000000e+00, 5.5507850e-13, 1.5374561e-31, 0.0000000e+00,\n",
       "        0.0000000e+00, 0.0000000e+00, 1.0000000e+00, 1.7489619e-20,\n",
       "        0.0000000e+00, 0.0000000e+00],\n",
       "       [3.9046872e-13, 0.0000000e+00, 0.0000000e+00, 0.0000000e+00,\n",
       "        2.3745919e-38, 1.0000000e+00, 2.3745919e-38, 0.0000000e+00,\n",
       "        0.0000000e+00, 0.0000000e+00],\n",
       "       [0.0000000e+00, 0.0000000e+00, 0.0000000e+00, 1.7489619e-20,\n",
       "        1.0000000e+00, 0.0000000e+00, 0.0000000e+00, 0.0000000e+00,\n",
       "        1.5374561e-31, 5.5507850e-13]], dtype=float32)>"
      ]
     },
     "execution_count": 1035,
     "metadata": {},
     "output_type": "execute_result"
    }
   ],
   "source": [
    "resp = probs/denom*betas\n",
    "tf.transpose(resp)"
   ]
  },
  {
   "cell_type": "code",
   "execution_count": 1036,
   "metadata": {},
   "outputs": [
    {
     "data": {
      "text/plain": [
       "<tf.Tensor: id=120089, shape=(8,), dtype=float32, numpy=array([1., 1., 1., 1., 1., 1., 1., 1.], dtype=float32)>"
      ]
     },
     "execution_count": 1036,
     "metadata": {},
     "output_type": "execute_result"
    }
   ],
   "source": [
    "tf.reduce_sum(resp, axis=0)"
   ]
  },
  {
   "cell_type": "code",
   "execution_count": 1037,
   "metadata": {},
   "outputs": [
    {
     "data": {
      "text/plain": [
       "<tf.Tensor: id=120976, shape=(10, 8), dtype=float32, numpy=\n",
       "array([[0.0000000e+00, 0.0000000e+00, 1.0000000e+00, 0.0000000e+00,\n",
       "        0.0000000e+00, 0.0000000e+00, 3.9046872e-13, 0.0000000e+00],\n",
       "       [0.0000000e+00, 1.0000000e+00, 2.3745919e-38, 0.0000000e+00,\n",
       "        0.0000000e+00, 5.5507850e-13, 0.0000000e+00, 0.0000000e+00],\n",
       "       [5.0000000e-01, 1.7489619e-20, 0.0000000e+00, 0.0000000e+00,\n",
       "        7.9043689e-13, 1.5374561e-31, 0.0000000e+00, 0.0000000e+00],\n",
       "       [5.0000000e-01, 0.0000000e+00, 0.0000000e+00, 1.5374561e-31,\n",
       "        7.9043689e-13, 0.0000000e+00, 0.0000000e+00, 1.7489619e-20],\n",
       "       [0.0000000e+00, 0.0000000e+00, 0.0000000e+00, 5.5507850e-13,\n",
       "        0.0000000e+00, 0.0000000e+00, 2.3745919e-38, 1.0000000e+00],\n",
       "       [0.0000000e+00, 0.0000000e+00, 3.9046872e-13, 0.0000000e+00,\n",
       "        0.0000000e+00, 0.0000000e+00, 1.0000000e+00, 0.0000000e+00],\n",
       "       [0.0000000e+00, 5.5507850e-13, 0.0000000e+00, 0.0000000e+00,\n",
       "        0.0000000e+00, 1.0000000e+00, 2.3745919e-38, 0.0000000e+00],\n",
       "       [7.9043689e-13, 1.5374561e-31, 0.0000000e+00, 0.0000000e+00,\n",
       "        5.0000000e-01, 1.7489619e-20, 0.0000000e+00, 0.0000000e+00],\n",
       "       [7.9043689e-13, 0.0000000e+00, 0.0000000e+00, 1.7489619e-20,\n",
       "        5.0000000e-01, 0.0000000e+00, 0.0000000e+00, 1.5374561e-31],\n",
       "       [0.0000000e+00, 0.0000000e+00, 2.3745919e-38, 1.0000000e+00,\n",
       "        0.0000000e+00, 0.0000000e+00, 0.0000000e+00, 5.5507850e-13]],\n",
       "      dtype=float32)>"
      ]
     },
     "execution_count": 1037,
     "metadata": {},
     "output_type": "execute_result"
    }
   ],
   "source": [
    "mix.responsibilities(z)"
   ]
  },
  {
   "cell_type": "code",
   "execution_count": null,
   "metadata": {},
   "outputs": [],
   "source": []
  },
  {
   "cell_type": "code",
   "execution_count": 943,
   "metadata": {},
   "outputs": [],
   "source": [
    "tf_dists = mix.get_tf_dists()"
   ]
  },
  {
   "cell_type": "code",
   "execution_count": 947,
   "metadata": {},
   "outputs": [
    {
     "data": {
      "text/plain": [
       "<tf.Tensor: id=55310, shape=(8, 2), dtype=float32, numpy=\n",
       "array([[  0.      ,  10.      ],\n",
       "       [  7.071068,   7.071068],\n",
       "       [ 10.      ,   0.      ],\n",
       "       [  7.071068,  -7.071068],\n",
       "       [  0.      , -10.      ],\n",
       "       [ -7.071068,  -7.071068],\n",
       "       [-10.      ,   0.      ],\n",
       "       [ -7.071068,   7.071068]], dtype=float32)>"
      ]
     },
     "execution_count": 947,
     "metadata": {},
     "output_type": "execute_result"
    }
   ],
   "source": [
    "z"
   ]
  },
  {
   "cell_type": "code",
   "execution_count": 948,
   "metadata": {},
   "outputs": [],
   "source": [
    "probs = tf.stack([tf.cast(dist.prob(tf.cast(z, tf.float64)), tf.float32) for dist in tf_dists])"
   ]
  },
  {
   "cell_type": "code",
   "execution_count": 954,
   "metadata": {},
   "outputs": [
    {
     "data": {
      "text/plain": [
       "array([[0.5],\n",
       "       [0.5],\n",
       "       [0.5],\n",
       "       [0.5],\n",
       "       [0.5],\n",
       "       [0.5],\n",
       "       [0.5],\n",
       "       [0.5],\n",
       "       [0.5],\n",
       "       [0.5]])"
      ]
     },
     "execution_count": 954,
     "metadata": {},
     "output_type": "execute_result"
    }
   ],
   "source": [
    "betas = (0.5 * np.ones(10)).reshape((10,1))\n",
    "betas"
   ]
  },
  {
   "cell_type": "code",
   "execution_count": 960,
   "metadata": {},
   "outputs": [
    {
     "data": {
      "text/plain": [
       "(<tf.Tensor: id=90661, shape=(), dtype=float32, numpy=92.46384>,\n",
       " <function __main__.MixtureOfNormalsOnCircle.penalty_term_with_gd.<locals>.grad(dz)>)"
      ]
     },
     "execution_count": 960,
     "metadata": {},
     "output_type": "execute_result"
    }
   ],
   "source": [
    "mix.penalty_term_with_gd(z)"
   ]
  },
  {
   "cell_type": "code",
   "execution_count": null,
   "metadata": {},
   "outputs": [],
   "source": []
  },
  {
   "cell_type": "code",
   "execution_count": null,
   "metadata": {},
   "outputs": [],
   "source": []
  },
  {
   "cell_type": "code",
   "execution_count": 1146,
   "metadata": {},
   "outputs": [
    {
     "data": {
      "text/plain": [
       "[<tfp.distributions.MultivariateNormalFullCovariance 'MultivariateNormalFullCovariance/' batch_shape=() event_shape=(2,) dtype=float64>,\n",
       " <tfp.distributions.MultivariateNormalFullCovariance 'MultivariateNormalFullCovariance/' batch_shape=() event_shape=(2,) dtype=float64>]"
      ]
     },
     "execution_count": 1146,
     "metadata": {},
     "output_type": "execute_result"
    }
   ],
   "source": [
    "def dists_from_angles(thetas, init_cov):\n",
    "    \n",
    "    def dist_from_angle(theta, init_cov):\n",
    "        mean_1 = cx + r * tf.math.cos(theta)\n",
    "        mean_2 = cx + r * tf.math.sin(theta)\n",
    "        mean = np.array([mean_1, mean_2], dtype=\"float64\")\n",
    "        u = np.array([\n",
    "            [tf.math.cos(theta),-tf.math.sin(theta)],\n",
    "            [tf.math.sin(theta),tf.math.cos(theta)]\n",
    "        ], dtype=\"float64\") \n",
    "\n",
    "        cov_rotated = tf.matmul(tf.matmul(u,init_cov),tf.transpose(u))\n",
    "        tf_mean, tf_stdev = tf.constant(mean), tf.constant(cov_rotated)\n",
    "        tf_dist = tf.contrib.distributions.MultivariateNormalFullCovariance(loc=tf_mean, covariance_matrix=tf_stdev)\n",
    "        return tf_dist   \n",
    "\n",
    "    dists = [dist_from_angle(theta, init_cov) for theta in thetas]\n",
    "    return dists"
   ]
  },
  {
   "cell_type": "code",
   "execution_count": 1151,
   "metadata": {},
   "outputs": [],
   "source": [
    "def penalty_term_with_gd_only_tf(z, angles, init_cov):\n",
    "    tf_dists = dists_from_angles(angles, init_cov)\n",
    "    probs = tf.stack([tf.cast(dist.prob(tf.cast(z, tf.float64)), tf.float32) for dist in tf_dists])\n",
    "    denom = tf.reduce_sum(betas * probs, axis=0)\n",
    "    denom = tf.reshape(denom, (-1, 1))\n",
    "\n",
    "    y=-tf.reduce_sum(tf.log(1e-30 + denom))\n",
    "\n",
    "    return y"
   ]
  },
  {
   "cell_type": "code",
   "execution_count": null,
   "metadata": {},
   "outputs": [],
   "source": [
    "init_cov = np.array([\n",
    "    [7.0,0.0],\n",
    "    [0.0,0.7]\n",
    "], dtype=\"float64\")"
   ]
  },
  {
   "cell_type": "code",
   "execution_count": 1173,
   "metadata": {},
   "outputs": [
    {
     "data": {
      "text/plain": [
       "<tf.Tensor: id=141908, shape=(), dtype=float32, numpy=80.445816>"
      ]
     },
     "execution_count": 1173,
     "metadata": {},
     "output_type": "execute_result"
    }
   ],
   "source": [
    "thetas = tf.constant([(2*i*np.pi)/10 for i in range(10)])\n",
    "penalty_term_with_gd_only_tf(z,thetas,init_cov)"
   ]
  },
  {
   "cell_type": "code",
   "execution_count": null,
   "metadata": {},
   "outputs": [],
   "source": [
    "init_cov = np.array([\n",
    "    [7.0,0.0],\n",
    "    [0.0,0.7]\n",
    "], dtype=\"float64\")\n",
    "#dist_from_angle(2*np.pi, init_cov)\n",
    "dists_from_angles([np.pi, 2*np.pi], init_cov)"
   ]
  }
 ],
 "metadata": {
  "kernelspec": {
   "display_name": "Python 3",
   "language": "python",
   "name": "python3"
  },
  "language_info": {
   "codemirror_mode": {
    "name": "ipython",
    "version": 3
   },
   "file_extension": ".py",
   "mimetype": "text/x-python",
   "name": "python",
   "nbconvert_exporter": "python",
   "pygments_lexer": "ipython3",
   "version": "3.6.7"
  }
 },
 "nbformat": 4,
 "nbformat_minor": 2
}
